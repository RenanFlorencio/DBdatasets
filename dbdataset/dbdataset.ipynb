{
 "cells": [
  {
   "cell_type": "markdown",
   "metadata": {},
   "source": [
    "# Driver Behavior Dataset"
   ]
  },
  {
   "cell_type": "code",
   "execution_count": 142,
   "metadata": {},
   "outputs": [],
   "source": [
    "import pandas as pd\n",
    "import matplotlib.pyplot as plt\n",
    "import numpy as np\n",
    "import wandb\n",
    "import seaborn as sns\n",
    "from sklearn.model_selection import train_test_split\n",
    "from sklearn.preprocessing import StandardScaler"
   ]
  },
  {
   "cell_type": "code",
   "execution_count": 143,
   "metadata": {},
   "outputs": [],
   "source": [
    "def get_event(seconds_passed, groundTruth):\n",
    "    for _, row in groundTruth.iterrows():\n",
    "        if row[' inicio'] <= seconds_passed <= row[' fim']:\n",
    "            return row['evento']\n",
    "    return None"
   ]
  },
  {
   "cell_type": "code",
   "execution_count": 144,
   "metadata": {},
   "outputs": [],
   "source": [
    "def getGroundTruth(df, groundTruth_orig):\n",
    "    df['seconds_passed'] = (df['uptimeNanos'] - df['uptimeNanos'].iloc[0]) / 1e9 # Converting timestamp to seconds passed\n",
    "    df['evento'] = df['seconds_passed'].apply(lambda x: get_event(x, groundTruth_orig)) # Getting the event for each row based on seconds passed\n",
    "    return df\n"
   ]
  },
  {
   "cell_type": "code",
   "execution_count": 145,
   "metadata": {},
   "outputs": [],
   "source": [
    "def getData(driver):\n",
    "    accLinear_orig = pd.read_csv(f'data/{driver}/aceleracaoLinear_terra.csv')\n",
    "    acelerometro_orig = pd.read_csv(f'data/{driver}/acelerometro_terra.csv')\n",
    "    giroscopio_orig = pd.read_csv(f'data/{driver}/giroscopio_terra.csv')\n",
    "    groundTruth_orig = pd.read_csv(f'data/{driver}/groundTruth.csv')\n",
    "\n",
    "    # Renaming columns to avoid conflicts\n",
    "    accLinear = accLinear_orig.rename(columns={'x': 'x_accLinear', 'y': 'y_accLinear', 'z': 'z_accLinear'}, inplace=False) \n",
    "    acelerometro = acelerometro_orig.rename(columns={'x': 'x_acelerometro', 'y': 'y_acelerometro', 'z': 'z_acelerometro'}, inplace=False) \n",
    "    giroscopio = giroscopio_orig.rename(columns={'x': 'x_giroscopio', 'y': 'y_giroscopio', 'z': 'z_giroscopio'}, inplace=False)\n",
    "\n",
    "    # Merging all dataframes\n",
    "    df = pd.concat([accLinear, acelerometro, giroscopio], axis=1)\n",
    "    df = df.loc[:, ~df.columns.duplicated()]\n",
    "\n",
    "    # Converting timestamp to datetime\n",
    "    df['timestamp'] = pd.to_datetime(df['timestamp'], format='%d/%m/%Y %H:%M:%S')\n",
    "    # Getting the event for each row based on seconds passed\n",
    "    df = getGroundTruth(df, groundTruth_orig)\n",
    "\n",
    "    # Changing Nones to 'sem_evento'\n",
    "    df['evento'] = df['evento'].fillna('sem_evento')\n",
    "\n",
    "    return df"
   ]
  },
  {
   "cell_type": "code",
   "execution_count": 5,
   "metadata": {},
   "outputs": [],
   "source": [
    "df_16 = getData(16)\n",
    "df_17 = getData(17)\n",
    "df_20 = getData(20)\n",
    "df_21 = getData(21)"
   ]
  },
  {
   "cell_type": "code",
   "execution_count": 17,
   "metadata": {},
   "outputs": [],
   "source": [
    "data = [df_16, df_17, df_20, df_21]\n",
    "cols = ['timestamp', 'uptimeNanos']\n",
    "for i in range(len(data)):\n",
    "    data[i] = data[i].drop(cols, axis=1, inplace=False)"
   ]
  },
  {
   "cell_type": "markdown",
   "metadata": {},
   "source": [
    "Plotting different sensors to see the difference"
   ]
  },
  {
   "cell_type": "code",
   "execution_count": 18,
   "metadata": {},
   "outputs": [],
   "source": [
    "def plot_sensor_data(data, sensor=None, figsize=(10, 4), begin=None, end=None):\n",
    "    if begin is not None:\n",
    "        data = data[data['seconds_passed'] >= begin]\n",
    "        if end < begin:\n",
    "            raise ValueError('End must be greater than begin')\n",
    "\n",
    "    if end is not None:\n",
    "        data = data[data['seconds_passed'] <= end]\n",
    "\n",
    "    if sensor is None:\n",
    "        sensor = ['acelerometro', 'accLinear', 'giroscopio']\n",
    "    \n",
    "    plt.figure(figsize=figsize)\n",
    "    plt.plot(data['seconds_passed'], data[f'x_{sensor}'], label=f'x_{sensor}')\n",
    "    plt.plot(data['seconds_passed'], data[f'y_{sensor}'], label=f'y_{sensor}')\n",
    "    plt.plot(data['seconds_passed'], data[f'z_{sensor}'], label=f'z_{sensor}')\n",
    "    \n",
    "    # Highlight regions where 'evento' is not 'sem_evento'\n",
    "    highlight_color = 'lightgrey'  # Use the same color for all events\n",
    "\n",
    "    for i in range(len(data) - 1):\n",
    "        if data['evento'].iloc[i] != 'sem_evento':\n",
    "            plt.axvspan(data['seconds_passed'].iloc[i], data['seconds_passed'].iloc[i + 1], \n",
    "                        alpha=0.3, color=highlight_color, edgecolor='none')\n",
    "            if i == 0 or data['evento'].iloc[i] != data['evento'].iloc[i - 1]:\n",
    "                plt.text((data['seconds_passed'].iloc[i] + data['seconds_passed'].iloc[i + 1]) / 2, \n",
    "                         max(data[f'x_{sensor}'].max(), data[f'y_{sensor}'].max(), data[f'z_{sensor}'].max()), \n",
    "                         data['evento'].iloc[i], \n",
    "                         horizontalalignment='left', \n",
    "                         verticalalignment='top', \n",
    "                         fontsize=12, \n",
    "                         color='black', \n",
    "                         rotation=0)\n",
    "\n",
    "    plt.xlabel('Uptime (seconds)')\n",
    "    plt.ylabel(sensor.capitalize())\n",
    "    plt.legend()\n",
    "    plt.xticks(range(int(data['seconds_passed'].min()), int(data['seconds_passed'].max()) + 1))\n",
    "    plt.show()\n"
   ]
  },
  {
   "cell_type": "code",
   "execution_count": null,
   "metadata": {},
   "outputs": [],
   "source": [
    "plot_sensor_data(df_21, 'giroscopio', figsize=(25, 4), begin=0, end=50)"
   ]
  },
  {
   "cell_type": "markdown",
   "metadata": {},
   "source": [
    "### Sliding Windows"
   ]
  },
  {
   "cell_type": "code",
   "execution_count": 146,
   "metadata": {},
   "outputs": [],
   "source": [
    "def get_features(window):\n",
    "    # Features such as mean, max, min and std from the window\n",
    "    features = np.array([])\n",
    "    features = np.append(features, [window.mean(), window.max(), window.min(), window.std(), window.max() - window.min()])\n",
    "    return features"
   ]
  },
  {
   "cell_type": "code",
   "execution_count": 147,
   "metadata": {},
   "outputs": [],
   "source": [
    "def create_sliding_windows(data, window_size=7, step_size=1):\n",
    "    X = []\n",
    "    y = []\n",
    "    # splits = np.zeros(len(data))\n",
    "    cont = 0\n",
    "    for k in range(len(data)):\n",
    "        for i in range(0, len(data[k]) - window_size + 1, step_size):\n",
    "            end = i + window_size\n",
    "\n",
    "            if end > len(data[k]):\n",
    "                end = len(data[k])\n",
    "\n",
    "            if data[k]['evento'][i] == 'sem_evento':\n",
    "                continue\n",
    "            if data[k]['evento'][end - 1] == 'sem_evento':\n",
    "                continue\n",
    "            \n",
    "            window_label = data[k]['evento'][i] # Getting the most frequent event in the window\n",
    "            window = data[k][i:end].drop(['evento', 'seconds_passed'], axis=1, inplace=False) # Dropping 'evento' and 'seconds_passed' columns\n",
    "            features = get_features(window) # Getting features from the window\n",
    "\n",
    "            if len(window) < window_size:\n",
    "                padding = np.zeros((window_size - len(window), len(window.columns))) # Padding the window with zeros and the same amount of columns\n",
    "                window = np.vstack([window, padding]) # Stacking the window and padding keeping the same order\n",
    "\n",
    "            window = np.append(window.to_numpy().flatten(), features) # Flattening the window and appending the features\n",
    "            X.append(window)\n",
    "            y.append(window_label)\n",
    "\n",
    "        # splits[k] = cont\n",
    "\n",
    "    return np.array(X), np.array(y)"
   ]
  },
  {
   "cell_type": "code",
   "execution_count": 148,
   "metadata": {},
   "outputs": [],
   "source": [
    "def get_unique_counts(y):\n",
    "    unique, counts = np.unique(y, return_counts=True)\n",
    "    return dict(zip(unique, counts))"
   ]
  },
  {
   "cell_type": "code",
   "execution_count": 149,
   "metadata": {},
   "outputs": [],
   "source": [
    "def scale_data(X_train, X_test):\n",
    "    scaler = StandardScaler()\n",
    "    X_train = scaler.fit_transform(X_train)\n",
    "    X_test = scaler.transform(X_test)\n",
    "    return X_train, X_test  "
   ]
  },
  {
   "cell_type": "code",
   "execution_count": 150,
   "metadata": {},
   "outputs": [
    {
     "data": {
      "text/plain": [
       "((10663, 108), (10663,))"
      ]
     },
     "execution_count": 150,
     "metadata": {},
     "output_type": "execute_result"
    }
   ],
   "source": [
    "window_size = 7\n",
    "step_size = 1\n",
    "X, y = create_sliding_windows(data, window_size, step_size) # This will create the sliding windows with a 3D X and 1D y\n",
    "X.shape, y.shape"
   ]
  },
  {
   "cell_type": "code",
   "execution_count": 151,
   "metadata": {},
   "outputs": [],
   "source": [
    "X_train, X_test, y_train, y_test = train_test_split(X, y, test_size=0.2, random_state=42) # Since we already have windows with labels, we can split the data into train and test sets"
   ]
  },
  {
   "cell_type": "code",
   "execution_count": 152,
   "metadata": {},
   "outputs": [],
   "source": [
    "X_train_scaled, X_test_scaled = scale_data(X_train, X_test)"
   ]
  },
  {
   "cell_type": "code",
   "execution_count": 153,
   "metadata": {},
   "outputs": [
    {
     "data": {
      "text/plain": [
       "{'aceleracao_agressiva': 0,\n",
       " 'curva_direita_agressiva': 1,\n",
       " 'curva_esquerda_agressiva': 2,\n",
       " 'evento_nao_agressivo': 3,\n",
       " 'freada_agressiva': 4,\n",
       " 'troca_faixa_direita_agressiva': 5,\n",
       " 'troca_faixa_esquerda_agressiva': 6}"
      ]
     },
     "execution_count": 153,
     "metadata": {},
     "output_type": "execute_result"
    }
   ],
   "source": [
    "classes = np.unique(y_train)\n",
    "one_hot = {}\n",
    "for i in range(len(classes)):\n",
    "    one_hot[classes[i]] = i\n",
    "y_train_one_hot = np.array([one_hot[i] for i in y_train])\n",
    "y_test_one_hot = np.array([one_hot[i] for i in y_test])\n",
    "one_hot"
   ]
  },
  {
   "cell_type": "markdown",
   "metadata": {},
   "source": [
    "Veryfing the balance of the split"
   ]
  },
  {
   "cell_type": "code",
   "execution_count": 154,
   "metadata": {},
   "outputs": [
    {
     "name": "stdout",
     "output_type": "stream",
     "text": [
      "Train set: {'aceleracao_agressiva': 1716, 'curva_direita_agressiva': 1495, 'curva_esquerda_agressiva': 1515, 'evento_nao_agressivo': 1964, 'freada_agressiva': 1081, 'troca_faixa_direita_agressiva': 440, 'troca_faixa_esquerda_agressiva': 319}\n",
      "Test set: {'aceleracao_agressiva': 414, 'curva_direita_agressiva': 387, 'curva_esquerda_agressiva': 365, 'evento_nao_agressivo': 480, 'freada_agressiva': 309, 'troca_faixa_direita_agressiva': 94, 'troca_faixa_esquerda_agressiva': 84}\n"
     ]
    }
   ],
   "source": [
    "print('Train set:', get_unique_counts(y_train))\n",
    "print('Test set:', get_unique_counts(y_test))"
   ]
  },
  {
   "cell_type": "markdown",
   "metadata": {},
   "source": [
    "# Machine Learning"
   ]
  },
  {
   "cell_type": "markdown",
   "metadata": {},
   "source": [
    "First, let's try directly applying a RF algorithm using a single drive to see what happens"
   ]
  },
  {
   "cell_type": "code",
   "execution_count": 155,
   "metadata": {},
   "outputs": [],
   "source": [
    "from sklearn.metrics import confusion_matrix, classification_report, ConfusionMatrixDisplay, f1_score, accuracy_score, precision_score, recall_score\n",
    "from sklearn.ensemble import RandomForestClassifier\n",
    "from sklearn.model_selection import GridSearchCV"
   ]
  },
  {
   "cell_type": "code",
   "execution_count": 156,
   "metadata": {},
   "outputs": [],
   "source": [
    "reports = {}"
   ]
  },
  {
   "cell_type": "markdown",
   "metadata": {},
   "source": [
    "## Random Forest Classifier"
   ]
  },
  {
   "cell_type": "markdown",
   "metadata": {},
   "source": [
    "Creating and training the classifier"
   ]
  },
  {
   "cell_type": "code",
   "execution_count": 157,
   "metadata": {},
   "outputs": [],
   "source": [
    "def fit_RF(X_train, X_test, y_train, y_test, n_estimators=100, random_state=42):\n",
    "    clf = RandomForestClassifier(n_estimators=n_estimators, random_state=random_state)\n",
    "    clf.fit(X_train, y_train)\n",
    "    y_pred = clf.predict(X_test)\n",
    "    return clf, classification_report(y_test, y_pred), y_pred"
   ]
  },
  {
   "cell_type": "markdown",
   "metadata": {},
   "source": [
    "Model Fitting"
   ]
  },
  {
   "cell_type": "code",
   "execution_count": 88,
   "metadata": {},
   "outputs": [
    {
     "name": "stdout",
     "output_type": "stream",
     "text": [
      "Fitting 5 folds for each of 4 candidates, totalling 20 fits\n",
      "[CV 4/5] END ...................n_estimators=50;, score=0.933 total time=   3.8s\n",
      "[CV 5/5] END ...................n_estimators=50;, score=0.950 total time=   4.1s\n",
      "[CV 2/5] END ...................n_estimators=50;, score=0.949 total time=   4.7s\n",
      "[CV 3/5] END ...................n_estimators=50;, score=0.944 total time=   4.7s\n",
      "[CV 1/5] END ...................n_estimators=50;, score=0.934 total time=   4.6s\n",
      "[CV 4/5] END ..................n_estimators=100;, score=0.943 total time=   7.8s\n",
      "[CV 2/5] END ..................n_estimators=100;, score=0.953 total time=   9.1s\n",
      "[CV 5/5] END ..................n_estimators=100;, score=0.954 total time=  10.4s\n",
      "[CV 3/5] END ..................n_estimators=100;, score=0.949 total time=  11.5s\n",
      "[CV 1/5] END ..................n_estimators=100;, score=0.937 total time=  12.1s\n",
      "[CV 2/5] END ..................n_estimators=200;, score=0.953 total time=  26.4s\n",
      "[CV 1/5] END ..................n_estimators=200;, score=0.940 total time=  29.2s\n",
      "[CV 4/5] END ..................n_estimators=200;, score=0.944 total time=  27.2s\n",
      "[CV 3/5] END ..................n_estimators=200;, score=0.951 total time=  27.9s\n",
      "[CV 5/5] END ..................n_estimators=200;, score=0.958 total time=  28.1s\n",
      "[CV 1/5] END ..................n_estimators=300;, score=0.940 total time=  36.9s\n",
      "[CV 3/5] END ..................n_estimators=300;, score=0.951 total time=  35.8s\n",
      "[CV 5/5] END ..................n_estimators=300;, score=0.960 total time=  33.4s\n",
      "[CV 2/5] END ..................n_estimators=300;, score=0.955 total time=  39.9s\n",
      "[CV 4/5] END ..................n_estimators=300;, score=0.944 total time=  37.4s\n"
     ]
    }
   ],
   "source": [
    "param_grid = {\n",
    "    'n_estimators': [50, 100, 200, 300],\n",
    "}\n",
    "grid_search = GridSearchCV(RandomForestClassifier(random_state=42), param_grid, verbose=5, n_jobs=-1)\n",
    "best_params_rf = grid_search.fit(X_train_scaled, y_train).best_params_"
   ]
  },
  {
   "cell_type": "code",
   "execution_count": 158,
   "metadata": {},
   "outputs": [
    {
     "name": "stdout",
     "output_type": "stream",
     "text": [
      "{'n_estimators': 300}\n"
     ]
    }
   ],
   "source": [
    "# Non scaled data\n",
    "print(best_params_rf)\n",
    "clf, report, y_pred = fit_RF(X_train, X_test, y_train, y_test, **best_params_rf)\n",
    "reports['Random Forest'] = report"
   ]
  },
  {
   "cell_type": "code",
   "execution_count": 159,
   "metadata": {},
   "outputs": [
    {
     "name": "stdout",
     "output_type": "stream",
     "text": [
      "Classification report:\n",
      "                                precision    recall  f1-score   support\n",
      "\n",
      "          aceleracao_agressiva       0.94      0.98      0.96       414\n",
      "       curva_direita_agressiva       0.96      1.00      0.98       387\n",
      "      curva_esquerda_agressiva       0.98      0.99      0.99       365\n",
      "          evento_nao_agressivo       0.93      0.94      0.94       480\n",
      "              freada_agressiva       0.99      0.95      0.97       309\n",
      " troca_faixa_direita_agressiva       1.00      0.84      0.91        94\n",
      "troca_faixa_esquerda_agressiva       0.99      0.82      0.90        84\n",
      "\n",
      "                      accuracy                           0.96      2133\n",
      "                     macro avg       0.97      0.93      0.95      2133\n",
      "                  weighted avg       0.96      0.96      0.96      2133\n",
      "\n"
     ]
    }
   ],
   "source": [
    "print(f\"Classification report:\\n{report}\")"
   ]
  },
  {
   "cell_type": "code",
   "execution_count": 160,
   "metadata": {},
   "outputs": [],
   "source": [
    "def display_cm(y_test, y_pred):\n",
    "    cm = confusion_matrix(y_test, y_pred)\n",
    "    disp = ConfusionMatrixDisplay(confusion_matrix=cm)\n",
    "    disp.plot()\n",
    "    plt.show()"
   ]
  },
  {
   "cell_type": "code",
   "execution_count": 161,
   "metadata": {},
   "outputs": [
    {
     "data": {
      "image/png": "[encoded data removed]",
      "text/plain": [
       "<Figure size 640x480 with 2 Axes>"
      ]
     },
     "metadata": {},
     "output_type": "display_data"
    }
   ],
   "source": [
    "display_cm(y_test, y_pred)"
   ]
  },
  {
   "cell_type": "markdown",
   "metadata": {},
   "source": [
    "Clearly, scaling the data does not seem to help the Random Forest Classifier"
   ]
  },
  {
   "cell_type": "markdown",
   "metadata": {},
   "source": [
    "## SVC (Support Vector Classifier)"
   ]
  },
  {
   "cell_type": "code",
   "execution_count": 162,
   "metadata": {},
   "outputs": [],
   "source": [
    "from sklearn.svm import SVC"
   ]
  },
  {
   "cell_type": "code",
   "execution_count": 163,
   "metadata": {},
   "outputs": [],
   "source": [
    "def fit_SVC(X_train, X_test, y_train, y_test, C=100, gamma=0.1, kernel='rbf'):\n",
    "    clf = SVC(C=C, gamma=gamma, kernel=kernel)\n",
    "    clf.fit(X_train, y_train)\n",
    "    y_pred = clf.predict(X_test)\n",
    "\n",
    "    return clf, classification_report(y_test, y_pred), y_pred"
   ]
  },
  {
   "cell_type": "markdown",
   "metadata": {},
   "source": [
    "Hyperparameter search"
   ]
  },
  {
   "cell_type": "code",
   "execution_count": 97,
   "metadata": {},
   "outputs": [],
   "source": [
    "param_grid = {'C': [1, 10, 100], 'gamma': [0.1, 0.01], 'kernel': ['rbf']} # Defining the hyperparameters to be tested"
   ]
  },
  {
   "cell_type": "code",
   "execution_count": 98,
   "metadata": {},
   "outputs": [
    {
     "name": "stdout",
     "output_type": "stream",
     "text": [
      "Fitting 5 folds for each of 6 candidates, totalling 30 fits\n",
      "[CV 3/5] END .......C=1, gamma=0.01, kernel=rbf;, score=0.908 total time=   5.4s\n",
      "[CV 4/5] END .......C=1, gamma=0.01, kernel=rbf;, score=0.877 total time=   5.8s\n",
      "[CV 2/5] END .......C=1, gamma=0.01, kernel=rbf;, score=0.902 total time=   6.7s\n",
      "[CV 5/5] END .......C=1, gamma=0.01, kernel=rbf;, score=0.883 total time=   7.1s\n",
      "[CV 1/5] END .......C=1, gamma=0.01, kernel=rbf;, score=0.879 total time=   7.2s\n",
      "[CV 2/5] END ......C=10, gamma=0.01, kernel=rbf;, score=0.936 total time=   6.4s\n",
      "[CV 1/5] END .......C=10, gamma=0.1, kernel=rbf;, score=0.835 total time=  16.7s\n",
      "[CV 1/5] END ......C=10, gamma=0.01, kernel=rbf;, score=0.926 total time=  11.0s\n",
      "[CV 3/5] END ......C=10, gamma=0.01, kernel=rbf;, score=0.941 total time=   5.2s\n",
      "[CV 4/5] END ......C=10, gamma=0.01, kernel=rbf;, score=0.930 total time=   8.7s\n",
      "[CV 2/5] END ........C=1, gamma=0.1, kernel=rbf;, score=0.803 total time=  25.5s\n",
      "[CV 5/5] END ......C=10, gamma=0.01, kernel=rbf;, score=0.935 total time=   8.2s\n",
      "[CV 2/5] END .......C=10, gamma=0.1, kernel=rbf;, score=0.821 total time=  27.9s\n",
      "[CV 5/5] END .......C=10, gamma=0.1, kernel=rbf;, score=0.824 total time=  23.9s\n",
      "[CV 3/5] END ........C=1, gamma=0.1, kernel=rbf;, score=0.826 total time=  33.0s\n",
      "[CV 4/5] END .......C=10, gamma=0.1, kernel=rbf;, score=0.824 total time=  27.8s\n",
      "[CV 1/5] END .....C=100, gamma=0.01, kernel=rbf;, score=0.941 total time=   7.0s\n",
      "[CV 5/5] END ........C=1, gamma=0.1, kernel=rbf;, score=0.807 total time=  37.9s\n",
      "[CV 1/5] END ........C=1, gamma=0.1, kernel=rbf;, score=0.817 total time=  38.5s\n",
      "[CV 3/5] END .....C=100, gamma=0.01, kernel=rbf;, score=0.943 total time=   6.7s\n",
      "[CV 4/5] END .....C=100, gamma=0.01, kernel=rbf;, score=0.936 total time=   4.4s\n",
      "[CV 4/5] END ........C=1, gamma=0.1, kernel=rbf;, score=0.813 total time=  43.7s\n",
      "[CV 4/5] END ......C=100, gamma=0.1, kernel=rbf;, score=0.822 total time=  18.0s\n",
      "[CV 1/5] END ......C=100, gamma=0.1, kernel=rbf;, score=0.835 total time=  26.6s\n",
      "[CV 3/5] END .......C=10, gamma=0.1, kernel=rbf;, score=0.843 total time=  40.1s\n",
      "[CV 2/5] END .....C=100, gamma=0.01, kernel=rbf;, score=0.940 total time=  12.7s\n",
      "[CV 5/5] END .....C=100, gamma=0.01, kernel=rbf;, score=0.943 total time=   7.9s\n",
      "[CV 5/5] END ......C=100, gamma=0.1, kernel=rbf;, score=0.825 total time=  19.2s\n",
      "[CV 3/5] END ......C=100, gamma=0.1, kernel=rbf;, score=0.845 total time=  23.2s\n",
      "[CV 2/5] END ......C=100, gamma=0.1, kernel=rbf;, score=0.820 total time=  23.5s\n"
     ]
    }
   ],
   "source": [
    "grid_search = GridSearchCV(SVC(), param_grid, verbose=3, n_jobs=-1) # Creating the GridSearchCV object\n",
    "grid_search.fit(X_train_scaled, y_train) # Fitting the model\n",
    "best_params_svc = grid_search.best_params_"
   ]
  },
  {
   "cell_type": "code",
   "execution_count": 100,
   "metadata": {},
   "outputs": [
    {
     "name": "stdout",
     "output_type": "stream",
     "text": [
      "{'C': 100, 'gamma': 0.01, 'kernel': 'rbf'}\n"
     ]
    }
   ],
   "source": [
    "print(best_params_svc)"
   ]
  },
  {
   "cell_type": "markdown",
   "metadata": {},
   "source": [
    "Model training"
   ]
  },
  {
   "cell_type": "code",
   "execution_count": 164,
   "metadata": {},
   "outputs": [
    {
     "name": "stdout",
     "output_type": "stream",
     "text": [
      "Classification report (SVC scaled):\n",
      "                                precision    recall  f1-score   support\n",
      "\n",
      "          aceleracao_agressiva       0.94      0.94      0.94       414\n",
      "       curva_direita_agressiva       0.97      1.00      0.98       387\n",
      "      curva_esquerda_agressiva       0.99      0.98      0.99       365\n",
      "          evento_nao_agressivo       0.91      0.94      0.92       480\n",
      "              freada_agressiva       1.00      0.94      0.97       309\n",
      " troca_faixa_direita_agressiva       0.98      0.94      0.96        94\n",
      "troca_faixa_esquerda_agressiva       0.91      0.85      0.88        84\n",
      "\n",
      "                      accuracy                           0.96      2133\n",
      "                     macro avg       0.96      0.94      0.95      2133\n",
      "                  weighted avg       0.96      0.96      0.96      2133\n",
      "\n",
      "Classification report (SVC non-scaled):\n",
      "                                precision    recall  f1-score   support\n",
      "\n",
      "          aceleracao_agressiva       0.89      0.90      0.90       414\n",
      "       curva_direita_agressiva       0.92      0.98      0.95       387\n",
      "      curva_esquerda_agressiva       0.96      0.96      0.96       365\n",
      "          evento_nao_agressivo       0.88      0.89      0.88       480\n",
      "              freada_agressiva       0.96      0.93      0.95       309\n",
      " troca_faixa_direita_agressiva       0.85      0.73      0.79        94\n",
      "troca_faixa_esquerda_agressiva       0.81      0.74      0.77        84\n",
      "\n",
      "                      accuracy                           0.91      2133\n",
      "                     macro avg       0.90      0.88      0.89      2133\n",
      "                  weighted avg       0.91      0.91      0.91      2133\n",
      "\n"
     ]
    }
   ],
   "source": [
    "svc_model, svc_report, y_svc_pred = fit_SVC(X_train_scaled, X_test_scaled, y_train, y_test, **best_params_svc)\n",
    "print(f\"Classification report (SVC scaled):\\n{svc_report}\")\n",
    "reports['SVC'] = svc_report\n",
    "\n",
    "svc_model_scaled, svc_report_scaled, y_svc_pred_scaled = fit_SVC(X_train, X_test, y_train, y_test, **best_params_svc)\n",
    "print(f\"Classification report (SVC non-scaled):\\n{svc_report_scaled}\")"
   ]
  },
  {
   "cell_type": "markdown",
   "metadata": {},
   "source": [
    "SVC works better with scaled data"
   ]
  },
  {
   "cell_type": "code",
   "execution_count": 165,
   "metadata": {},
   "outputs": [
    {
     "data": {
      "image/png": "[encoded data removed]",
      "text/plain": [
       "<Figure size 640x480 with 2 Axes>"
      ]
     },
     "metadata": {},
     "output_type": "display_data"
    },
    {
     "data": {
      "image/png": "[encoded data removed]",
      "text/plain": [
       "<Figure size 640x480 with 2 Axes>"
      ]
     },
     "metadata": {},
     "output_type": "display_data"
    }
   ],
   "source": [
    "display_cm(y_test, y_svc_pred)\n",
    "display_cm(y_test, y_svc_pred_scaled)"
   ]
  },
  {
   "cell_type": "markdown",
   "metadata": {},
   "source": [
    "## XGBoost"
   ]
  },
  {
   "cell_type": "code",
   "execution_count": 166,
   "metadata": {},
   "outputs": [],
   "source": [
    "from xgboost import XGBClassifier"
   ]
  },
  {
   "cell_type": "code",
   "execution_count": 172,
   "metadata": {},
   "outputs": [],
   "source": [
    "def fit_XGB(X_train, X_test, y_train, y_test, n_estimators=100, max_depth=4):\n",
    "    model = XGBClassifier(n_estimators=n_estimators, max_depth=max_depth)\n",
    "    model.fit(X_train, y_train)\n",
    "    y_pred = model.predict(X_test)\n",
    "    return model, classification_report(y_test, y_pred, target_names=list(one_hot.keys())), y_pred"
   ]
  },
  {
   "cell_type": "code",
   "execution_count": 173,
   "metadata": {},
   "outputs": [
    {
     "name": "stdout",
     "output_type": "stream",
     "text": [
      "**Classification report (XGB):**\n",
      "                                precision    recall  f1-score   support\n",
      "\n",
      "          aceleracao_agressiva       0.97      0.99      0.98       414\n",
      "       curva_direita_agressiva       0.99      1.00      0.99       387\n",
      "      curva_esquerda_agressiva       0.99      0.99      0.99       365\n",
      "          evento_nao_agressivo       0.98      0.97      0.98       480\n",
      "              freada_agressiva       1.00      0.99      0.99       309\n",
      " troca_faixa_direita_agressiva       0.99      0.93      0.96        94\n",
      "troca_faixa_esquerda_agressiva       0.98      0.94      0.96        84\n",
      "\n",
      "                      accuracy                           0.98      2133\n",
      "                     macro avg       0.98      0.97      0.98      2133\n",
      "                  weighted avg       0.98      0.98      0.98      2133\n",
      "\n"
     ]
    }
   ],
   "source": [
    "xgb_model, xgb_report, y_pred_xgb = fit_XGB(X_train_scaled, X_test_scaled, y_train_one_hot, y_test_one_hot, n_estimators=300, max_depth=3)\n",
    "reports['XGB'] = xgb_report\n",
    "print(f\"**Classification report (XGB):**\\n{xgb_report}\")"
   ]
  },
  {
   "cell_type": "markdown",
   "metadata": {},
   "source": [
    "# MLP Scikit-Learn"
   ]
  },
  {
   "cell_type": "code",
   "execution_count": 174,
   "metadata": {},
   "outputs": [],
   "source": [
    "from sklearn.neural_network import MLPClassifier"
   ]
  },
  {
   "cell_type": "code",
   "execution_count": 175,
   "metadata": {},
   "outputs": [],
   "source": [
    "def fit_MLP(X_train, X_test, y_train, y_test, hidden_layer_sizes=(100, 50, 25), max_iter=1000, activation='relu', solver='adam'):\n",
    "    model = MLPClassifier(hidden_layer_sizes=hidden_layer_sizes, max_iter=max_iter, activation=activation, solver=solver)\n",
    "    model.fit(X_train, y_train)\n",
    "    y_pred = model.predict(X_test)\n",
    "    return model, classification_report(y_test, y_pred), y_pred"
   ]
  },
  {
   "cell_type": "code",
   "execution_count": 109,
   "metadata": {},
   "outputs": [
    {
     "name": "stdout",
     "output_type": "stream",
     "text": [
      "**Classification report (MLP):**\n",
      "                                precision    recall  f1-score   support\n",
      "\n",
      "          aceleracao_agressiva       0.96      0.99      0.98       414\n",
      "       curva_direita_agressiva       0.99      0.99      0.99       387\n",
      "      curva_esquerda_agressiva       0.99      1.00      0.99       365\n",
      "          evento_nao_agressivo       0.97      0.95      0.96       480\n",
      "              freada_agressiva       0.99      0.99      0.99       309\n",
      " troca_faixa_direita_agressiva       0.97      0.90      0.93        94\n",
      "troca_faixa_esquerda_agressiva       0.94      0.93      0.93        84\n",
      "\n",
      "                      accuracy                           0.98      2133\n",
      "                     macro avg       0.97      0.97      0.97      2133\n",
      "                  weighted avg       0.98      0.98      0.98      2133\n",
      "\n"
     ]
    }
   ],
   "source": [
    "mlp, mlp_scikit_report, y_pred_mlp = fit_MLP(X_train_scaled, X_test_scaled, y_train, y_test, hidden_layer_sizes=(500, 250, 100, 50), max_iter=2000, activation='relu', solver='adam')\n",
    "reports['MLP_Scikit'] = mlp_scikit_report\n",
    "print(f\"**Classification report (MLP):**\\n{mlp_scikit_report}\")"
   ]
  },
  {
   "cell_type": "markdown",
   "metadata": {},
   "source": [
    "# MLP TensorFlow"
   ]
  },
  {
   "cell_type": "code",
   "execution_count": 112,
   "metadata": {},
   "outputs": [],
   "source": [
    "from tensorflow.keras.models import Sequential\n",
    "from tensorflow.keras.layers import Dense, Dropout, LayerNormalization, Input"
   ]
  },
  {
   "cell_type": "code",
   "execution_count": 113,
   "metadata": {},
   "outputs": [],
   "source": [
    "def create_model(opmitizer='adam', loss='sparse_categorical_crossentropy', metrics=['accuracy']):\n",
    "    model =  Sequential([\n",
    "        Input(shape=(X_train_scaled.shape[1],)),\n",
    "        Dense(500, activation='relu'),\n",
    "        Dropout(0.2),\n",
    "        LayerNormalization(),\n",
    "        Dense(250, activation='relu'),\n",
    "        Dropout(0.2),\n",
    "        LayerNormalization(),\n",
    "        Dense(100, activation='relu'),\n",
    "        Dropout(0.2),\n",
    "        LayerNormalization(),\n",
    "        Dense(50, activation='relu'),\n",
    "        Dropout(0.2),\n",
    "        LayerNormalization(),\n",
    "        Dense(len(np.unique(y_train)), activation='softmax')\n",
    "    ])\n",
    "\n",
    "    model.compile(optimizer=opmitizer, loss=loss, metrics=metrics)\n",
    "    return model"
   ]
  },
  {
   "cell_type": "code",
   "execution_count": 114,
   "metadata": {},
   "outputs": [],
   "source": [
    "def resultados_modelo(historico):\n",
    "    fig, ax = plt.subplots(1, 2, figsize=(10, 3))\n",
    "    ax = ax.flatten()\n",
    "\n",
    "    ax[0].plot(historico.history['accuracy'], label='Accuracy', marker='o', color='red')\n",
    "    ax[0].plot(historico.history['val_accuracy'], label='Val_Accuracy', marker='o', color='blue')\n",
    "    ax[0].set_xlabel('Epoch')\n",
    "    ax[0].set_ylabel('Accuracy')\n",
    "\n",
    "    ax[1].plot(historico.history['loss'], label='Loss', marker='o', color='red')\n",
    "    ax[1].plot(historico.history['val_loss'], label='Val_Loss', marker='o', color='blue')\n",
    "    ax[1].set_xlabel('Epoch')\n",
    "    ax[1].set_ylabel('Loss')\n",
    "\n",
    "    for i in range(2):\n",
    "        ax[i].legend()\n",
    "        ax[i].grid()\n",
    "\n",
    "    acc_size =len(historico.history[\"accuracy\"]) - 1\n",
    "    print(f'Acurácia final: {round(100 * historico.history[\"accuracy\"][acc_size], 3)}%')\n",
    "    loss_size =len(historico.history[\"loss\"]) - 1\n",
    "    print(f'Loss final: {round(100 * historico.history[\"loss\"][loss_size], 3)}%')"
   ]
  },
  {
   "cell_type": "code",
   "execution_count": 115,
   "metadata": {},
   "outputs": [],
   "source": [
    "def train_mlp_wandb():\n",
    "    wandb.init(project='DriverBehavior')\n",
    "    epochs = wandb.config.epochs\n",
    "    batch_size = wandb.config.batch_size\n",
    "\n",
    "    model = create_model()\n",
    "    history = model.fit(X_train_scaled, y_train_one_hot, epochs=epochs, batch_size=batch_size, validation_data=(X_test_scaled, y_test_one_hot))\n",
    "\n",
    "    wandb.log({\n",
    "        'train_loss': history.history['loss'][-1],\n",
    "        'train_accuracy': history.history['accuracy'][-1],\n",
    "        'val_loss': history.history['val_loss'][-1],\n",
    "        'val_accuracy': history.history['val_accuracy'][-1],\n",
    "    })"
   ]
  },
  {
   "cell_type": "code",
   "execution_count": 66,
   "metadata": {},
   "outputs": [
    {
     "name": "stdout",
     "output_type": "stream",
     "text": [
      "Create sweep with ID: gut8lurp\n",
      "Sweep URL: https://wandb.ai/renan-florencio-unicamp/DriverBehavior/sweeps/gut8lurp\n"
     ]
    }
   ],
   "source": [
    "sweep_config = {\n",
    "    'method': 'grid',  # 'random' or 'bayes' for other strategies\n",
    "    'metric': {\n",
    "        'name': 'val_accuracy',  # The metric to optimize\n",
    "        'goal': 'maximize'  # Maximize or minimize the metric\n",
    "    },\n",
    "    'parameters': {\n",
    "        'epochs': {\n",
    "            'values': [10, 25, 50]  # Range of epochs to test\n",
    "        },\n",
    "        'batch_size': {\n",
    "            'values': [32, 64, 128]  # Range of batch sizes to test\n",
    "        }\n",
    "    }\n",
    "}\n",
    "sweep_id = wandb.sweep(sweep_config, project=\"DriverBehavior\")"
   ]
  },
  {
   "cell_type": "code",
   "execution_count": 67,
   "metadata": {},
   "outputs": [
    {
     "name": "stderr",
     "output_type": "stream",
     "text": [
      "\u001b[34m\u001b[1mwandb\u001b[0m: Agent Starting Run: wa0u51qj with config:\n",
      "\u001b[34m\u001b[1mwandb\u001b[0m: \tbatch_size: 32\n",
      "\u001b[34m\u001b[1mwandb\u001b[0m: \tepochs: 10\n"
     ]
    },
    {
     "data": {
      "text/html": [
       "Ignoring project 'DriverBehavior' when running a sweep."
      ],
      "text/plain": [
       "<IPython.core.display.HTML object>"
      ]
     },
     "metadata": {},
     "output_type": "display_data"
    },
    {
     "data": {
      "text/html": [
       "Tracking run with wandb version 0.19.4"
      ],
      "text/plain": [
       "<IPython.core.display.HTML object>"
      ]
     },
     "metadata": {},
     "output_type": "display_data"
    },
    {
     "data": {
      "text/html": [
       "Run data is saved locally in <code>/home/renan/Documents/datasets/dbdataset/wandb/run-20250127_170549-wa0u51qj</code>"
      ],
      "text/plain": [
       "<IPython.core.display.HTML object>"
      ]
     },
     "metadata": {},
     "output_type": "display_data"
    },
    {
     "data": {
      "text/html": [
       "Syncing run <strong><a href='https://wandb.ai/renan-florencio-unicamp/DriverBehavior/runs/wa0u51qj' target=\"_blank\">devoted-sweep-1</a></strong> to <a href='https://wandb.ai/renan-florencio-unicamp/DriverBehavior' target=\"_blank\">Weights & Biases</a> (<a href='https://wandb.me/developer-guide' target=\"_blank\">docs</a>)<br>Sweep page: <a href='https://wandb.ai/renan-florencio-unicamp/DriverBehavior/sweeps/gut8lurp' target=\"_blank\">https://wandb.ai/renan-florencio-unicamp/DriverBehavior/sweeps/gut8lurp</a>"
      ],
      "text/plain": [
       "<IPython.core.display.HTML object>"
      ]
     },
     "metadata": {},
     "output_type": "display_data"
    },
    {
     "data": {
      "text/html": [
       " View project at <a href='https://wandb.ai/renan-florencio-unicamp/DriverBehavior' target=\"_blank\">https://wandb.ai/renan-florencio-unicamp/DriverBehavior</a>"
      ],
      "text/plain": [
       "<IPython.core.display.HTML object>"
      ]
     },
     "metadata": {},
     "output_type": "display_data"
    },
    {
     "data": {
      "text/html": [
       " View sweep at <a href='https://wandb.ai/renan-florencio-unicamp/DriverBehavior/sweeps/gut8lurp' target=\"_blank\">https://wandb.ai/renan-florencio-unicamp/DriverBehavior/sweeps/gut8lurp</a>"
      ],
      "text/plain": [
       "<IPython.core.display.HTML object>"
      ]
     },
     "metadata": {},
     "output_type": "display_data"
    },
    {
     "data": {
      "text/html": [
       " View run at <a href='https://wandb.ai/renan-florencio-unicamp/DriverBehavior/runs/wa0u51qj' target=\"_blank\">https://wandb.ai/renan-florencio-unicamp/DriverBehavior/runs/wa0u51qj</a>"
      ],
      "text/plain": [
       "<IPython.core.display.HTML object>"
      ]
     },
     "metadata": {},
     "output_type": "display_data"
    },
    {
     "name": "stdout",
     "output_type": "stream",
     "text": [
      "Epoch 1/10\n",
      "\u001b[1m267/267\u001b[0m \u001b[32m━━━━━━━━━━━━━━━━━━━━\u001b[0m\u001b[37m\u001b[0m \u001b[1m4s\u001b[0m 9ms/step - accuracy: 0.5708 - loss: 1.2386 - val_accuracy: 0.8401 - val_loss: 0.5023\n",
      "Epoch 2/10\n",
      "\u001b[1m267/267\u001b[0m \u001b[32m━━━━━━━━━━━━━━━━━━━━\u001b[0m\u001b[37m\u001b[0m \u001b[1m2s\u001b[0m 7ms/step - accuracy: 0.8150 - loss: 0.5633 - val_accuracy: 0.8790 - val_loss: 0.3666\n",
      "Epoch 3/10\n",
      "\u001b[1m267/267\u001b[0m \u001b[32m━━━━━━━━━━━━━━━━━━━━\u001b[0m\u001b[37m\u001b[0m \u001b[1m2s\u001b[0m 9ms/step - accuracy: 0.8610 - loss: 0.4236 - val_accuracy: 0.8955 - val_loss: 0.3012\n",
      "Epoch 4/10\n",
      "\u001b[1m267/267\u001b[0m \u001b[32m━━━━━━━━━━━━━━━━━━━━\u001b[0m\u001b[37m\u001b[0m \u001b[1m2s\u001b[0m 8ms/step - accuracy: 0.8725 - loss: 0.3591 - val_accuracy: 0.9072 - val_loss: 0.2684\n",
      "Epoch 5/10\n",
      "\u001b[1m267/267\u001b[0m \u001b[32m━━━━━━━━━━━━━━━━━━━━\u001b[0m\u001b[37m\u001b[0m \u001b[1m2s\u001b[0m 8ms/step - accuracy: 0.9073 - loss: 0.2814 - val_accuracy: 0.9198 - val_loss: 0.2360\n",
      "Epoch 6/10\n",
      "\u001b[1m267/267\u001b[0m \u001b[32m━━━━━━━━━━━━━━━━━━━━\u001b[0m\u001b[37m\u001b[0m \u001b[1m2s\u001b[0m 8ms/step - accuracy: 0.9137 - loss: 0.2591 - val_accuracy: 0.9287 - val_loss: 0.2208\n",
      "Epoch 7/10\n",
      "\u001b[1m267/267\u001b[0m \u001b[32m━━━━━━━━━━━━━━━━━━━━\u001b[0m\u001b[37m\u001b[0m \u001b[1m2s\u001b[0m 7ms/step - accuracy: 0.9217 - loss: 0.2276 - val_accuracy: 0.9259 - val_loss: 0.2389\n",
      "Epoch 8/10\n",
      "\u001b[1m267/267\u001b[0m \u001b[32m━━━━━━━━━━━━━━━━━━━━\u001b[0m\u001b[37m\u001b[0m \u001b[1m2s\u001b[0m 7ms/step - accuracy: 0.9198 - loss: 0.2255 - val_accuracy: 0.9405 - val_loss: 0.1794\n",
      "Epoch 9/10\n",
      "\u001b[1m267/267\u001b[0m \u001b[32m━━━━━━━━━━━━━━━━━━━━\u001b[0m\u001b[37m\u001b[0m \u001b[1m2s\u001b[0m 8ms/step - accuracy: 0.9397 - loss: 0.1839 - val_accuracy: 0.9414 - val_loss: 0.1867\n",
      "Epoch 10/10\n",
      "\u001b[1m267/267\u001b[0m \u001b[32m━━━━━━━━━━━━━━━━━━━━\u001b[0m\u001b[37m\u001b[0m \u001b[1m2s\u001b[0m 8ms/step - accuracy: 0.9386 - loss: 0.1673 - val_accuracy: 0.9437 - val_loss: 0.1866\n"
     ]
    },
    {
     "data": {
      "text/html": [],
      "text/plain": [
       "<IPython.core.display.HTML object>"
      ]
     },
     "metadata": {},
     "output_type": "display_data"
    },
    {
     "data": {
      "text/html": [
       "<br>    <style><br>        .wandb-row {<br>            display: flex;<br>            flex-direction: row;<br>            flex-wrap: wrap;<br>            justify-content: flex-start;<br>            width: 100%;<br>        }<br>        .wandb-col {<br>            display: flex;<br>            flex-direction: column;<br>            flex-basis: 100%;<br>            flex: 1;<br>            padding: 10px;<br>        }<br>    </style><br><div class=\"wandb-row\"><div class=\"wandb-col\"><h3>Run history:</h3><br/><table class=\"wandb\"><tr><td>train_accuracy</td><td>▁</td></tr><tr><td>train_loss</td><td>▁</td></tr><tr><td>val_accuracy</td><td>▁</td></tr><tr><td>val_loss</td><td>▁</td></tr></table><br/></div><div class=\"wandb-col\"><h3>Run summary:</h3><br/><table class=\"wandb\"><tr><td>train_accuracy</td><td>0.93916</td></tr><tr><td>train_loss</td><td>0.16933</td></tr><tr><td>val_accuracy</td><td>0.94374</td></tr><tr><td>val_loss</td><td>0.18658</td></tr></table><br/></div></div>"
      ],
      "text/plain": [
       "<IPython.core.display.HTML object>"
      ]
     },
     "metadata": {},
     "output_type": "display_data"
    },
    {
     "data": {
      "text/html": [
       " View run <strong style=\"color:#cdcd00\">devoted-sweep-1</strong> at: <a href='https://wandb.ai/renan-florencio-unicamp/DriverBehavior/runs/wa0u51qj' target=\"_blank\">https://wandb.ai/renan-florencio-unicamp/DriverBehavior/runs/wa0u51qj</a><br> View project at: <a href='https://wandb.ai/renan-florencio-unicamp/DriverBehavior' target=\"_blank\">https://wandb.ai/renan-florencio-unicamp/DriverBehavior</a><br>Synced 5 W&B file(s), 0 media file(s), 0 artifact file(s) and 0 other file(s)"
      ],
      "text/plain": [
       "<IPython.core.display.HTML object>"
      ]
     },
     "metadata": {},
     "output_type": "display_data"
    },
    {
     "data": {
      "text/html": [
       "Find logs at: <code>./wandb/run-20250127_170549-wa0u51qj/logs</code>"
      ],
      "text/plain": [
       "<IPython.core.display.HTML object>"
      ]
     },
     "metadata": {},
     "output_type": "display_data"
    },
    {
     "name": "stderr",
     "output_type": "stream",
     "text": [
      "\u001b[34m\u001b[1mwandb\u001b[0m: Agent Starting Run: syfu5ppp with config:\n",
      "\u001b[34m\u001b[1mwandb\u001b[0m: \tbatch_size: 32\n",
      "\u001b[34m\u001b[1mwandb\u001b[0m: \tepochs: 25\n"
     ]
    },
    {
     "data": {
      "text/html": [
       "Ignoring project 'DriverBehavior' when running a sweep."
      ],
      "text/plain": [
       "<IPython.core.display.HTML object>"
      ]
     },
     "metadata": {},
     "output_type": "display_data"
    },
    {
     "data": {
      "text/html": [
       "Tracking run with wandb version 0.19.4"
      ],
      "text/plain": [
       "<IPython.core.display.HTML object>"
      ]
     },
     "metadata": {},
     "output_type": "display_data"
    },
    {
     "data": {
      "text/html": [
       "Run data is saved locally in <code>/home/renan/Documents/datasets/dbdataset/wandb/run-20250127_170621-syfu5ppp</code>"
      ],
      "text/plain": [
       "<IPython.core.display.HTML object>"
      ]
     },
     "metadata": {},
     "output_type": "display_data"
    },
    {
     "data": {
      "text/html": [
       "Syncing run <strong><a href='https://wandb.ai/renan-florencio-unicamp/DriverBehavior/runs/syfu5ppp' target=\"_blank\">splendid-sweep-2</a></strong> to <a href='https://wandb.ai/renan-florencio-unicamp/DriverBehavior' target=\"_blank\">Weights & Biases</a> (<a href='https://wandb.me/developer-guide' target=\"_blank\">docs</a>)<br>Sweep page: <a href='https://wandb.ai/renan-florencio-unicamp/DriverBehavior/sweeps/gut8lurp' target=\"_blank\">https://wandb.ai/renan-florencio-unicamp/DriverBehavior/sweeps/gut8lurp</a>"
      ],
      "text/plain": [
       "<IPython.core.display.HTML object>"
      ]
     },
     "metadata": {},
     "output_type": "display_data"
    },
    {
     "data": {
      "text/html": [
       " View project at <a href='https://wandb.ai/renan-florencio-unicamp/DriverBehavior' target=\"_blank\">https://wandb.ai/renan-florencio-unicamp/DriverBehavior</a>"
      ],
      "text/plain": [
       "<IPython.core.display.HTML object>"
      ]
     },
     "metadata": {},
     "output_type": "display_data"
    },
    {
     "data": {
      "text/html": [
       " View sweep at <a href='https://wandb.ai/renan-florencio-unicamp/DriverBehavior/sweeps/gut8lurp' target=\"_blank\">https://wandb.ai/renan-florencio-unicamp/DriverBehavior/sweeps/gut8lurp</a>"
      ],
      "text/plain": [
       "<IPython.core.display.HTML object>"
      ]
     },
     "metadata": {},
     "output_type": "display_data"
    },
    {
     "data": {
      "text/html": [
       " View run at <a href='https://wandb.ai/renan-florencio-unicamp/DriverBehavior/runs/syfu5ppp' target=\"_blank\">https://wandb.ai/renan-florencio-unicamp/DriverBehavior/runs/syfu5ppp</a>"
      ],
      "text/plain": [
       "<IPython.core.display.HTML object>"
      ]
     },
     "metadata": {},
     "output_type": "display_data"
    },
    {
     "name": "stdout",
     "output_type": "stream",
     "text": [
      "Epoch 1/25\n",
      "\u001b[1m267/267\u001b[0m \u001b[32m━━━━━━━━━━━━━━━━━━━━\u001b[0m\u001b[37m\u001b[0m \u001b[1m4s\u001b[0m 9ms/step - accuracy: 0.5613 - loss: 1.2509 - val_accuracy: 0.8242 - val_loss: 0.4856\n",
      "Epoch 2/25\n",
      "\u001b[1m267/267\u001b[0m \u001b[32m━━━━━━━━━━━━━━━━━━━━\u001b[0m\u001b[37m\u001b[0m \u001b[1m2s\u001b[0m 8ms/step - accuracy: 0.7947 - loss: 0.5854 - val_accuracy: 0.8837 - val_loss: 0.3256\n",
      "Epoch 3/25\n",
      "\u001b[1m267/267\u001b[0m \u001b[32m━━━━━━━━━━━━━━━━━━━━\u001b[0m\u001b[37m\u001b[0m \u001b[1m2s\u001b[0m 8ms/step - accuracy: 0.8523 - loss: 0.4223 - val_accuracy: 0.9058 - val_loss: 0.2773\n",
      "Epoch 4/25\n",
      "\u001b[1m267/267\u001b[0m \u001b[32m━━━━━━━━━━━━━━━━━━━━\u001b[0m\u001b[37m\u001b[0m \u001b[1m2s\u001b[0m 7ms/step - accuracy: 0.8811 - loss: 0.3343 - val_accuracy: 0.9147 - val_loss: 0.2575\n",
      "Epoch 5/25\n",
      "\u001b[1m267/267\u001b[0m \u001b[32m━━━━━━━━━━━━━━━━━━━━\u001b[0m\u001b[37m\u001b[0m \u001b[1m2s\u001b[0m 8ms/step - accuracy: 0.8941 - loss: 0.2991 - val_accuracy: 0.9287 - val_loss: 0.2127\n",
      "Epoch 6/25\n",
      "\u001b[1m267/267\u001b[0m \u001b[32m━━━━━━━━━━━━━━━━━━━━\u001b[0m\u001b[37m\u001b[0m \u001b[1m2s\u001b[0m 8ms/step - accuracy: 0.9177 - loss: 0.2408 - val_accuracy: 0.9203 - val_loss: 0.2294\n",
      "Epoch 7/25\n",
      "\u001b[1m267/267\u001b[0m \u001b[32m━━━━━━━━━━━━━━━━━━━━\u001b[0m\u001b[37m\u001b[0m \u001b[1m2s\u001b[0m 8ms/step - accuracy: 0.9186 - loss: 0.2467 - val_accuracy: 0.9405 - val_loss: 0.1954\n",
      "Epoch 8/25\n",
      "\u001b[1m267/267\u001b[0m \u001b[32m━━━━━━━━━━━━━━━━━━━━\u001b[0m\u001b[37m\u001b[0m \u001b[1m2s\u001b[0m 8ms/step - accuracy: 0.9275 - loss: 0.2100 - val_accuracy: 0.9344 - val_loss: 0.2103\n",
      "Epoch 9/25\n",
      "\u001b[1m267/267\u001b[0m \u001b[32m━━━━━━━━━━━━━━━━━━━━\u001b[0m\u001b[37m\u001b[0m \u001b[1m2s\u001b[0m 8ms/step - accuracy: 0.9370 - loss: 0.1936 - val_accuracy: 0.9391 - val_loss: 0.1945\n",
      "Epoch 10/25\n",
      "\u001b[1m267/267\u001b[0m \u001b[32m━━━━━━━━━━━━━━━━━━━━\u001b[0m\u001b[37m\u001b[0m \u001b[1m2s\u001b[0m 8ms/step - accuracy: 0.9363 - loss: 0.1937 - val_accuracy: 0.9508 - val_loss: 0.1585\n",
      "Epoch 11/25\n",
      "\u001b[1m267/267\u001b[0m \u001b[32m━━━━━━━━━━━━━━━━━━━━\u001b[0m\u001b[37m\u001b[0m \u001b[1m2s\u001b[0m 8ms/step - accuracy: 0.9440 - loss: 0.1590 - val_accuracy: 0.9475 - val_loss: 0.1800\n",
      "Epoch 12/25\n",
      "\u001b[1m267/267\u001b[0m \u001b[32m━━━━━━━━━━━━━━━━━━━━\u001b[0m\u001b[37m\u001b[0m \u001b[1m2s\u001b[0m 8ms/step - accuracy: 0.9485 - loss: 0.1509 - val_accuracy: 0.9442 - val_loss: 0.1744\n",
      "Epoch 13/25\n",
      "\u001b[1m267/267\u001b[0m \u001b[32m━━━━━━━━━━━━━━━━━━━━\u001b[0m\u001b[37m\u001b[0m \u001b[1m2s\u001b[0m 8ms/step - accuracy: 0.9480 - loss: 0.1419 - val_accuracy: 0.9555 - val_loss: 0.1629\n",
      "Epoch 14/25\n",
      "\u001b[1m267/267\u001b[0m \u001b[32m━━━━━━━━━━━━━━━━━━━━\u001b[0m\u001b[37m\u001b[0m \u001b[1m2s\u001b[0m 8ms/step - accuracy: 0.9533 - loss: 0.1375 - val_accuracy: 0.9541 - val_loss: 0.1455\n",
      "Epoch 15/25\n",
      "\u001b[1m267/267\u001b[0m \u001b[32m━━━━━━━━━━━━━━━━━━━━\u001b[0m\u001b[37m\u001b[0m \u001b[1m2s\u001b[0m 7ms/step - accuracy: 0.9600 - loss: 0.1154 - val_accuracy: 0.9503 - val_loss: 0.1766\n",
      "Epoch 16/25\n",
      "\u001b[1m267/267\u001b[0m \u001b[32m━━━━━━━━━━━━━━━━━━━━\u001b[0m\u001b[37m\u001b[0m \u001b[1m2s\u001b[0m 7ms/step - accuracy: 0.9617 - loss: 0.1152 - val_accuracy: 0.9531 - val_loss: 0.1646\n",
      "Epoch 17/25\n",
      "\u001b[1m267/267\u001b[0m \u001b[32m━━━━━━━━━━━━━━━━━━━━\u001b[0m\u001b[37m\u001b[0m \u001b[1m2s\u001b[0m 8ms/step - accuracy: 0.9593 - loss: 0.1129 - val_accuracy: 0.9602 - val_loss: 0.1281\n",
      "Epoch 18/25\n",
      "\u001b[1m267/267\u001b[0m \u001b[32m━━━━━━━━━━━━━━━━━━━━\u001b[0m\u001b[37m\u001b[0m \u001b[1m2s\u001b[0m 8ms/step - accuracy: 0.9689 - loss: 0.1027 - val_accuracy: 0.9569 - val_loss: 0.1547\n",
      "Epoch 19/25\n",
      "\u001b[1m267/267\u001b[0m \u001b[32m━━━━━━━━━━━━━━━━━━━━\u001b[0m\u001b[37m\u001b[0m \u001b[1m2s\u001b[0m 8ms/step - accuracy: 0.9670 - loss: 0.0952 - val_accuracy: 0.9536 - val_loss: 0.1464\n",
      "Epoch 20/25\n",
      "\u001b[1m267/267\u001b[0m \u001b[32m━━━━━━━━━━━━━━━━━━━━\u001b[0m\u001b[37m\u001b[0m \u001b[1m2s\u001b[0m 8ms/step - accuracy: 0.9710 - loss: 0.0861 - val_accuracy: 0.9545 - val_loss: 0.1505\n",
      "Epoch 21/25\n",
      "\u001b[1m267/267\u001b[0m \u001b[32m━━━━━━━━━━━━━━━━━━━━\u001b[0m\u001b[37m\u001b[0m \u001b[1m2s\u001b[0m 7ms/step - accuracy: 0.9694 - loss: 0.0896 - val_accuracy: 0.9602 - val_loss: 0.1464\n",
      "Epoch 22/25\n",
      "\u001b[1m267/267\u001b[0m \u001b[32m━━━━━━━━━━━━━━━━━━━━\u001b[0m\u001b[37m\u001b[0m \u001b[1m2s\u001b[0m 8ms/step - accuracy: 0.9731 - loss: 0.0746 - val_accuracy: 0.9587 - val_loss: 0.1547\n",
      "Epoch 23/25\n",
      "\u001b[1m267/267\u001b[0m \u001b[32m━━━━━━━━━━━━━━━━━━━━\u001b[0m\u001b[37m\u001b[0m \u001b[1m2s\u001b[0m 8ms/step - accuracy: 0.9708 - loss: 0.0905 - val_accuracy: 0.9677 - val_loss: 0.1400\n",
      "Epoch 24/25\n",
      "\u001b[1m267/267\u001b[0m \u001b[32m━━━━━━━━━━━━━━━━━━━━\u001b[0m\u001b[37m\u001b[0m \u001b[1m2s\u001b[0m 9ms/step - accuracy: 0.9751 - loss: 0.0816 - val_accuracy: 0.9536 - val_loss: 0.1629\n",
      "Epoch 25/25\n",
      "\u001b[1m267/267\u001b[0m \u001b[32m━━━━━━━━━━━━━━━━━━━━\u001b[0m\u001b[37m\u001b[0m \u001b[1m2s\u001b[0m 8ms/step - accuracy: 0.9759 - loss: 0.0734 - val_accuracy: 0.9564 - val_loss: 0.1555\n"
     ]
    },
    {
     "data": {
      "text/html": [],
      "text/plain": [
       "<IPython.core.display.HTML object>"
      ]
     },
     "metadata": {},
     "output_type": "display_data"
    },
    {
     "data": {
      "text/html": [
       "<br>    <style><br>        .wandb-row {<br>            display: flex;<br>            flex-direction: row;<br>            flex-wrap: wrap;<br>            justify-content: flex-start;<br>            width: 100%;<br>        }<br>        .wandb-col {<br>            display: flex;<br>            flex-direction: column;<br>            flex-basis: 100%;<br>            flex: 1;<br>            padding: 10px;<br>        }<br>    </style><br><div class=\"wandb-row\"><div class=\"wandb-col\"><h3>Run history:</h3><br/><table class=\"wandb\"><tr><td>train_accuracy</td><td>▁</td></tr><tr><td>train_loss</td><td>▁</td></tr><tr><td>val_accuracy</td><td>▁</td></tr><tr><td>val_loss</td><td>▁</td></tr></table><br/></div><div class=\"wandb-col\"><h3>Run summary:</h3><br/><table class=\"wandb\"><tr><td>train_accuracy</td><td>0.97257</td></tr><tr><td>train_loss</td><td>0.08191</td></tr><tr><td>val_accuracy</td><td>0.9564</td></tr><tr><td>val_loss</td><td>0.15545</td></tr></table><br/></div></div>"
      ],
      "text/plain": [
       "<IPython.core.display.HTML object>"
      ]
     },
     "metadata": {},
     "output_type": "display_data"
    },
    {
     "data": {
      "text/html": [
       " View run <strong style=\"color:#cdcd00\">splendid-sweep-2</strong> at: <a href='https://wandb.ai/renan-florencio-unicamp/DriverBehavior/runs/syfu5ppp' target=\"_blank\">https://wandb.ai/renan-florencio-unicamp/DriverBehavior/runs/syfu5ppp</a><br> View project at: <a href='https://wandb.ai/renan-florencio-unicamp/DriverBehavior' target=\"_blank\">https://wandb.ai/renan-florencio-unicamp/DriverBehavior</a><br>Synced 5 W&B file(s), 0 media file(s), 0 artifact file(s) and 0 other file(s)"
      ],
      "text/plain": [
       "<IPython.core.display.HTML object>"
      ]
     },
     "metadata": {},
     "output_type": "display_data"
    },
    {
     "data": {
      "text/html": [
       "Find logs at: <code>./wandb/run-20250127_170621-syfu5ppp/logs</code>"
      ],
      "text/plain": [
       "<IPython.core.display.HTML object>"
      ]
     },
     "metadata": {},
     "output_type": "display_data"
    },
    {
     "name": "stderr",
     "output_type": "stream",
     "text": [
      "\u001b[34m\u001b[1mwandb\u001b[0m: Agent Starting Run: 0kvkdc3y with config:\n",
      "\u001b[34m\u001b[1mwandb\u001b[0m: \tbatch_size: 32\n",
      "\u001b[34m\u001b[1mwandb\u001b[0m: \tepochs: 50\n"
     ]
    },
    {
     "data": {
      "text/html": [
       "Ignoring project 'DriverBehavior' when running a sweep."
      ],
      "text/plain": [
       "<IPython.core.display.HTML object>"
      ]
     },
     "metadata": {},
     "output_type": "display_data"
    },
    {
     "data": {
      "text/html": [
       "Tracking run with wandb version 0.19.4"
      ],
      "text/plain": [
       "<IPython.core.display.HTML object>"
      ]
     },
     "metadata": {},
     "output_type": "display_data"
    },
    {
     "data": {
      "text/html": [
       "Run data is saved locally in <code>/home/renan/Documents/datasets/dbdataset/wandb/run-20250127_170724-0kvkdc3y</code>"
      ],
      "text/plain": [
       "<IPython.core.display.HTML object>"
      ]
     },
     "metadata": {},
     "output_type": "display_data"
    },
    {
     "data": {
      "text/html": [
       "Syncing run <strong><a href='https://wandb.ai/renan-florencio-unicamp/DriverBehavior/runs/0kvkdc3y' target=\"_blank\">comic-sweep-3</a></strong> to <a href='https://wandb.ai/renan-florencio-unicamp/DriverBehavior' target=\"_blank\">Weights & Biases</a> (<a href='https://wandb.me/developer-guide' target=\"_blank\">docs</a>)<br>Sweep page: <a href='https://wandb.ai/renan-florencio-unicamp/DriverBehavior/sweeps/gut8lurp' target=\"_blank\">https://wandb.ai/renan-florencio-unicamp/DriverBehavior/sweeps/gut8lurp</a>"
      ],
      "text/plain": [
       "<IPython.core.display.HTML object>"
      ]
     },
     "metadata": {},
     "output_type": "display_data"
    },
    {
     "data": {
      "text/html": [
       " View project at <a href='https://wandb.ai/renan-florencio-unicamp/DriverBehavior' target=\"_blank\">https://wandb.ai/renan-florencio-unicamp/DriverBehavior</a>"
      ],
      "text/plain": [
       "<IPython.core.display.HTML object>"
      ]
     },
     "metadata": {},
     "output_type": "display_data"
    },
    {
     "data": {
      "text/html": [
       " View sweep at <a href='https://wandb.ai/renan-florencio-unicamp/DriverBehavior/sweeps/gut8lurp' target=\"_blank\">https://wandb.ai/renan-florencio-unicamp/DriverBehavior/sweeps/gut8lurp</a>"
      ],
      "text/plain": [
       "<IPython.core.display.HTML object>"
      ]
     },
     "metadata": {},
     "output_type": "display_data"
    },
    {
     "data": {
      "text/html": [
       " View run at <a href='https://wandb.ai/renan-florencio-unicamp/DriverBehavior/runs/0kvkdc3y' target=\"_blank\">https://wandb.ai/renan-florencio-unicamp/DriverBehavior/runs/0kvkdc3y</a>"
      ],
      "text/plain": [
       "<IPython.core.display.HTML object>"
      ]
     },
     "metadata": {},
     "output_type": "display_data"
    },
    {
     "name": "stdout",
     "output_type": "stream",
     "text": [
      "Epoch 1/50\n",
      "\u001b[1m267/267\u001b[0m \u001b[32m━━━━━━━━━━━━━━━━━━━━\u001b[0m\u001b[37m\u001b[0m \u001b[1m4s\u001b[0m 8ms/step - accuracy: 0.5555 - loss: 1.2769 - val_accuracy: 0.8448 - val_loss: 0.4363\n",
      "Epoch 2/50\n",
      "\u001b[1m267/267\u001b[0m \u001b[32m━━━━━━━━━━━━━━━━━━━━\u001b[0m\u001b[37m\u001b[0m \u001b[1m2s\u001b[0m 8ms/step - accuracy: 0.8036 - loss: 0.5645 - val_accuracy: 0.8865 - val_loss: 0.3532\n",
      "Epoch 3/50\n",
      "\u001b[1m267/267\u001b[0m \u001b[32m━━━━━━━━━━━━━━━━━━━━\u001b[0m\u001b[37m\u001b[0m \u001b[1m2s\u001b[0m 8ms/step - accuracy: 0.8524 - loss: 0.4331 - val_accuracy: 0.9095 - val_loss: 0.2760\n",
      "Epoch 4/50\n",
      "\u001b[1m267/267\u001b[0m \u001b[32m━━━━━━━━━━━━━━━━━━━━\u001b[0m\u001b[37m\u001b[0m \u001b[1m2s\u001b[0m 8ms/step - accuracy: 0.8849 - loss: 0.3425 - val_accuracy: 0.9208 - val_loss: 0.2443\n",
      "Epoch 5/50\n",
      "\u001b[1m267/267\u001b[0m \u001b[32m━━━━━━━━━━━━━━━━━━━━\u001b[0m\u001b[37m\u001b[0m \u001b[1m2s\u001b[0m 8ms/step - accuracy: 0.9013 - loss: 0.2916 - val_accuracy: 0.9325 - val_loss: 0.1940\n",
      "Epoch 6/50\n",
      "\u001b[1m267/267\u001b[0m \u001b[32m━━━━━━━━━━━━━━━━━━━━\u001b[0m\u001b[37m\u001b[0m \u001b[1m2s\u001b[0m 8ms/step - accuracy: 0.9119 - loss: 0.2587 - val_accuracy: 0.9339 - val_loss: 0.1879\n",
      "Epoch 7/50\n",
      "\u001b[1m267/267\u001b[0m \u001b[32m━━━━━━━━━━━━━━━━━━━━\u001b[0m\u001b[37m\u001b[0m \u001b[1m2s\u001b[0m 9ms/step - accuracy: 0.9281 - loss: 0.2251 - val_accuracy: 0.9311 - val_loss: 0.2079\n",
      "Epoch 8/50\n",
      "\u001b[1m267/267\u001b[0m \u001b[32m━━━━━━━━━━━━━━━━━━━━\u001b[0m\u001b[37m\u001b[0m \u001b[1m2s\u001b[0m 8ms/step - accuracy: 0.9329 - loss: 0.2002 - val_accuracy: 0.9320 - val_loss: 0.1976\n",
      "Epoch 9/50\n",
      "\u001b[1m267/267\u001b[0m \u001b[32m━━━━━━━━━━━━━━━━━━━━\u001b[0m\u001b[37m\u001b[0m \u001b[1m2s\u001b[0m 9ms/step - accuracy: 0.9332 - loss: 0.1892 - val_accuracy: 0.9442 - val_loss: 0.1696\n",
      "Epoch 10/50\n",
      "\u001b[1m267/267\u001b[0m \u001b[32m━━━━━━━━━━━━━━━━━━━━\u001b[0m\u001b[37m\u001b[0m \u001b[1m2s\u001b[0m 8ms/step - accuracy: 0.9386 - loss: 0.1784 - val_accuracy: 0.9470 - val_loss: 0.1621\n",
      "Epoch 11/50\n",
      "\u001b[1m267/267\u001b[0m \u001b[32m━━━━━━━━━━━━━━━━━━━━\u001b[0m\u001b[37m\u001b[0m \u001b[1m2s\u001b[0m 9ms/step - accuracy: 0.9441 - loss: 0.1564 - val_accuracy: 0.9470 - val_loss: 0.1717\n",
      "Epoch 12/50\n",
      "\u001b[1m267/267\u001b[0m \u001b[32m━━━━━━━━━━━━━━━━━━━━\u001b[0m\u001b[37m\u001b[0m \u001b[1m2s\u001b[0m 8ms/step - accuracy: 0.9490 - loss: 0.1462 - val_accuracy: 0.9517 - val_loss: 0.1657\n",
      "Epoch 13/50\n",
      "\u001b[1m267/267\u001b[0m \u001b[32m━━━━━━━━━━━━━━━━━━━━\u001b[0m\u001b[37m\u001b[0m \u001b[1m2s\u001b[0m 9ms/step - accuracy: 0.9550 - loss: 0.1290 - val_accuracy: 0.9569 - val_loss: 0.1722\n",
      "Epoch 14/50\n",
      "\u001b[1m267/267\u001b[0m \u001b[32m━━━━━━━━━━━━━━━━━━━━\u001b[0m\u001b[37m\u001b[0m \u001b[1m2s\u001b[0m 8ms/step - accuracy: 0.9576 - loss: 0.1266 - val_accuracy: 0.9517 - val_loss: 0.1545\n",
      "Epoch 15/50\n",
      "\u001b[1m267/267\u001b[0m \u001b[32m━━━━━━━━━━━━━━━━━━━━\u001b[0m\u001b[37m\u001b[0m \u001b[1m2s\u001b[0m 8ms/step - accuracy: 0.9592 - loss: 0.1173 - val_accuracy: 0.9602 - val_loss: 0.1390\n",
      "Epoch 16/50\n",
      "\u001b[1m267/267\u001b[0m \u001b[32m━━━━━━━━━━━━━━━━━━━━\u001b[0m\u001b[37m\u001b[0m \u001b[1m2s\u001b[0m 9ms/step - accuracy: 0.9577 - loss: 0.1177 - val_accuracy: 0.9611 - val_loss: 0.1307\n",
      "Epoch 17/50\n",
      "\u001b[1m267/267\u001b[0m \u001b[32m━━━━━━━━━━━━━━━━━━━━\u001b[0m\u001b[37m\u001b[0m \u001b[1m2s\u001b[0m 8ms/step - accuracy: 0.9610 - loss: 0.1149 - val_accuracy: 0.9625 - val_loss: 0.1342\n",
      "Epoch 18/50\n",
      "\u001b[1m267/267\u001b[0m \u001b[32m━━━━━━━━━━━━━━━━━━━━\u001b[0m\u001b[37m\u001b[0m \u001b[1m2s\u001b[0m 9ms/step - accuracy: 0.9700 - loss: 0.0949 - val_accuracy: 0.9536 - val_loss: 0.1696\n",
      "Epoch 19/50\n",
      "\u001b[1m267/267\u001b[0m \u001b[32m━━━━━━━━━━━━━━━━━━━━\u001b[0m\u001b[37m\u001b[0m \u001b[1m2s\u001b[0m 9ms/step - accuracy: 0.9607 - loss: 0.1185 - val_accuracy: 0.9592 - val_loss: 0.1752\n",
      "Epoch 20/50\n",
      "\u001b[1m267/267\u001b[0m \u001b[32m━━━━━━━━━━━━━━━━━━━━\u001b[0m\u001b[37m\u001b[0m \u001b[1m2s\u001b[0m 9ms/step - accuracy: 0.9670 - loss: 0.1041 - val_accuracy: 0.9587 - val_loss: 0.1564\n",
      "Epoch 21/50\n",
      "\u001b[1m267/267\u001b[0m \u001b[32m━━━━━━━━━━━━━━━━━━━━\u001b[0m\u001b[37m\u001b[0m \u001b[1m2s\u001b[0m 9ms/step - accuracy: 0.9632 - loss: 0.1040 - val_accuracy: 0.9587 - val_loss: 0.1431\n",
      "Epoch 22/50\n",
      "\u001b[1m267/267\u001b[0m \u001b[32m━━━━━━━━━━━━━━━━━━━━\u001b[0m\u001b[37m\u001b[0m \u001b[1m2s\u001b[0m 9ms/step - accuracy: 0.9724 - loss: 0.0827 - val_accuracy: 0.9658 - val_loss: 0.1237\n",
      "Epoch 23/50\n",
      "\u001b[1m267/267\u001b[0m \u001b[32m━━━━━━━━━━━━━━━━━━━━\u001b[0m\u001b[37m\u001b[0m \u001b[1m2s\u001b[0m 9ms/step - accuracy: 0.9715 - loss: 0.0853 - val_accuracy: 0.9616 - val_loss: 0.1343\n",
      "Epoch 24/50\n",
      "\u001b[1m267/267\u001b[0m \u001b[32m━━━━━━━━━━━━━━━━━━━━\u001b[0m\u001b[37m\u001b[0m \u001b[1m2s\u001b[0m 9ms/step - accuracy: 0.9753 - loss: 0.0816 - val_accuracy: 0.9709 - val_loss: 0.1054\n",
      "Epoch 25/50\n",
      "\u001b[1m267/267\u001b[0m \u001b[32m━━━━━━━━━━━━━━━━━━━━\u001b[0m\u001b[37m\u001b[0m \u001b[1m2s\u001b[0m 9ms/step - accuracy: 0.9796 - loss: 0.0645 - val_accuracy: 0.9616 - val_loss: 0.1591\n",
      "Epoch 26/50\n",
      "\u001b[1m267/267\u001b[0m \u001b[32m━━━━━━━━━━━━━━━━━━━━\u001b[0m\u001b[37m\u001b[0m \u001b[1m2s\u001b[0m 8ms/step - accuracy: 0.9786 - loss: 0.0558 - val_accuracy: 0.9691 - val_loss: 0.1344\n",
      "Epoch 27/50\n",
      "\u001b[1m267/267\u001b[0m \u001b[32m━━━━━━━━━━━━━━━━━━━━\u001b[0m\u001b[37m\u001b[0m \u001b[1m2s\u001b[0m 8ms/step - accuracy: 0.9685 - loss: 0.0888 - val_accuracy: 0.9662 - val_loss: 0.1288\n",
      "Epoch 28/50\n",
      "\u001b[1m267/267\u001b[0m \u001b[32m━━━━━━━━━━━━━━━━━━━━\u001b[0m\u001b[37m\u001b[0m \u001b[1m2s\u001b[0m 9ms/step - accuracy: 0.9759 - loss: 0.0735 - val_accuracy: 0.9672 - val_loss: 0.1203\n",
      "Epoch 29/50\n",
      "\u001b[1m267/267\u001b[0m \u001b[32m━━━━━━━━━━━━━━━━━━━━\u001b[0m\u001b[37m\u001b[0m \u001b[1m2s\u001b[0m 9ms/step - accuracy: 0.9777 - loss: 0.0670 - val_accuracy: 0.9648 - val_loss: 0.1430\n",
      "Epoch 30/50\n",
      "\u001b[1m267/267\u001b[0m \u001b[32m━━━━━━━━━━━━━━━━━━━━\u001b[0m\u001b[37m\u001b[0m \u001b[1m2s\u001b[0m 9ms/step - accuracy: 0.9774 - loss: 0.0695 - val_accuracy: 0.9662 - val_loss: 0.1331\n",
      "Epoch 31/50\n",
      "\u001b[1m267/267\u001b[0m \u001b[32m━━━━━━━━━━━━━━━━━━━━\u001b[0m\u001b[37m\u001b[0m \u001b[1m2s\u001b[0m 9ms/step - accuracy: 0.9824 - loss: 0.0526 - val_accuracy: 0.9672 - val_loss: 0.1393\n",
      "Epoch 32/50\n",
      "\u001b[1m267/267\u001b[0m \u001b[32m━━━━━━━━━━━━━━━━━━━━\u001b[0m\u001b[37m\u001b[0m \u001b[1m2s\u001b[0m 9ms/step - accuracy: 0.9802 - loss: 0.0580 - val_accuracy: 0.9686 - val_loss: 0.1283\n",
      "Epoch 33/50\n",
      "\u001b[1m267/267\u001b[0m \u001b[32m━━━━━━━━━━━━━━━━━━━━\u001b[0m\u001b[37m\u001b[0m \u001b[1m2s\u001b[0m 9ms/step - accuracy: 0.9834 - loss: 0.0510 - val_accuracy: 0.9700 - val_loss: 0.1346\n",
      "Epoch 34/50\n",
      "\u001b[1m267/267\u001b[0m \u001b[32m━━━━━━━━━━━━━━━━━━━━\u001b[0m\u001b[37m\u001b[0m \u001b[1m2s\u001b[0m 8ms/step - accuracy: 0.9834 - loss: 0.0520 - val_accuracy: 0.9686 - val_loss: 0.1392\n",
      "Epoch 35/50\n",
      "\u001b[1m267/267\u001b[0m \u001b[32m━━━━━━━━━━━━━━━━━━━━\u001b[0m\u001b[37m\u001b[0m \u001b[1m2s\u001b[0m 9ms/step - accuracy: 0.9846 - loss: 0.0461 - val_accuracy: 0.9653 - val_loss: 0.1619\n",
      "Epoch 36/50\n",
      "\u001b[1m267/267\u001b[0m \u001b[32m━━━━━━━━━━━━━━━━━━━━\u001b[0m\u001b[37m\u001b[0m \u001b[1m2s\u001b[0m 9ms/step - accuracy: 0.9783 - loss: 0.0686 - val_accuracy: 0.9634 - val_loss: 0.1573\n",
      "Epoch 37/50\n",
      "\u001b[1m267/267\u001b[0m \u001b[32m━━━━━━━━━━━━━━━━━━━━\u001b[0m\u001b[37m\u001b[0m \u001b[1m2s\u001b[0m 9ms/step - accuracy: 0.9853 - loss: 0.0447 - val_accuracy: 0.9639 - val_loss: 0.1621\n",
      "Epoch 38/50\n",
      "\u001b[1m267/267\u001b[0m \u001b[32m━━━━━━━━━━━━━━━━━━━━\u001b[0m\u001b[37m\u001b[0m \u001b[1m2s\u001b[0m 8ms/step - accuracy: 0.9786 - loss: 0.0608 - val_accuracy: 0.9691 - val_loss: 0.1456\n",
      "Epoch 39/50\n",
      "\u001b[1m267/267\u001b[0m \u001b[32m━━━━━━━━━━━━━━━━━━━━\u001b[0m\u001b[37m\u001b[0m \u001b[1m2s\u001b[0m 9ms/step - accuracy: 0.9837 - loss: 0.0491 - val_accuracy: 0.9691 - val_loss: 0.1521\n",
      "Epoch 40/50\n",
      "\u001b[1m267/267\u001b[0m \u001b[32m━━━━━━━━━━━━━━━━━━━━\u001b[0m\u001b[37m\u001b[0m \u001b[1m2s\u001b[0m 8ms/step - accuracy: 0.9819 - loss: 0.0566 - val_accuracy: 0.9737 - val_loss: 0.1156\n",
      "Epoch 41/50\n",
      "\u001b[1m267/267\u001b[0m \u001b[32m━━━━━━━━━━━━━━━━━━━━\u001b[0m\u001b[37m\u001b[0m \u001b[1m2s\u001b[0m 9ms/step - accuracy: 0.9838 - loss: 0.0526 - val_accuracy: 0.9686 - val_loss: 0.1358\n",
      "Epoch 42/50\n",
      "\u001b[1m267/267\u001b[0m \u001b[32m━━━━━━━━━━━━━━━━━━━━\u001b[0m\u001b[37m\u001b[0m \u001b[1m2s\u001b[0m 9ms/step - accuracy: 0.9824 - loss: 0.0506 - val_accuracy: 0.9648 - val_loss: 0.1514\n",
      "Epoch 43/50\n",
      "\u001b[1m267/267\u001b[0m \u001b[32m━━━━━━━━━━━━━━━━━━━━\u001b[0m\u001b[37m\u001b[0m \u001b[1m2s\u001b[0m 9ms/step - accuracy: 0.9835 - loss: 0.0536 - val_accuracy: 0.9677 - val_loss: 0.1404\n",
      "Epoch 44/50\n",
      "\u001b[1m267/267\u001b[0m \u001b[32m━━━━━━━━━━━━━━━━━━━━\u001b[0m\u001b[37m\u001b[0m \u001b[1m2s\u001b[0m 9ms/step - accuracy: 0.9880 - loss: 0.0366 - val_accuracy: 0.9742 - val_loss: 0.1144\n",
      "Epoch 45/50\n",
      "\u001b[1m267/267\u001b[0m \u001b[32m━━━━━━━━━━━━━━━━━━━━\u001b[0m\u001b[37m\u001b[0m \u001b[1m2s\u001b[0m 9ms/step - accuracy: 0.9874 - loss: 0.0343 - val_accuracy: 0.9681 - val_loss: 0.1487\n",
      "Epoch 46/50\n",
      "\u001b[1m267/267\u001b[0m \u001b[32m━━━━━━━━━━━━━━━━━━━━\u001b[0m\u001b[37m\u001b[0m \u001b[1m2s\u001b[0m 9ms/step - accuracy: 0.9842 - loss: 0.0498 - val_accuracy: 0.9695 - val_loss: 0.1216\n",
      "Epoch 47/50\n",
      "\u001b[1m267/267\u001b[0m \u001b[32m━━━━━━━━━━━━━━━━━━━━\u001b[0m\u001b[37m\u001b[0m \u001b[1m2s\u001b[0m 9ms/step - accuracy: 0.9878 - loss: 0.0377 - val_accuracy: 0.9686 - val_loss: 0.1292\n",
      "Epoch 48/50\n",
      "\u001b[1m267/267\u001b[0m \u001b[32m━━━━━━━━━━━━━━━━━━━━\u001b[0m\u001b[37m\u001b[0m \u001b[1m2s\u001b[0m 8ms/step - accuracy: 0.9902 - loss: 0.0307 - val_accuracy: 0.9672 - val_loss: 0.1508\n",
      "Epoch 49/50\n",
      "\u001b[1m267/267\u001b[0m \u001b[32m━━━━━━━━━━━━━━━━━━━━\u001b[0m\u001b[37m\u001b[0m \u001b[1m2s\u001b[0m 7ms/step - accuracy: 0.9787 - loss: 0.0598 - val_accuracy: 0.9780 - val_loss: 0.1026\n",
      "Epoch 50/50\n",
      "\u001b[1m267/267\u001b[0m \u001b[32m━━━━━━━━━━━━━━━━━━━━\u001b[0m\u001b[37m\u001b[0m \u001b[1m2s\u001b[0m 9ms/step - accuracy: 0.9854 - loss: 0.0459 - val_accuracy: 0.9691 - val_loss: 0.1491\n"
     ]
    },
    {
     "data": {
      "text/html": [],
      "text/plain": [
       "<IPython.core.display.HTML object>"
      ]
     },
     "metadata": {},
     "output_type": "display_data"
    },
    {
     "data": {
      "text/html": [
       "<br>    <style><br>        .wandb-row {<br>            display: flex;<br>            flex-direction: row;<br>            flex-wrap: wrap;<br>            justify-content: flex-start;<br>            width: 100%;<br>        }<br>        .wandb-col {<br>            display: flex;<br>            flex-direction: column;<br>            flex-basis: 100%;<br>            flex: 1;<br>            padding: 10px;<br>        }<br>    </style><br><div class=\"wandb-row\"><div class=\"wandb-col\"><h3>Run history:</h3><br/><table class=\"wandb\"><tr><td>train_accuracy</td><td>▁</td></tr><tr><td>train_loss</td><td>▁</td></tr><tr><td>val_accuracy</td><td>▁</td></tr><tr><td>val_loss</td><td>▁</td></tr></table><br/></div><div class=\"wandb-col\"><h3>Run summary:</h3><br/><table class=\"wandb\"><tr><td>train_accuracy</td><td>0.98464</td></tr><tr><td>train_loss</td><td>0.05015</td></tr><tr><td>val_accuracy</td><td>0.96906</td></tr><tr><td>val_loss</td><td>0.14908</td></tr></table><br/></div></div>"
      ],
      "text/plain": [
       "<IPython.core.display.HTML object>"
      ]
     },
     "metadata": {},
     "output_type": "display_data"
    },
    {
     "data": {
      "text/html": [
       " View run <strong style=\"color:#cdcd00\">comic-sweep-3</strong> at: <a href='https://wandb.ai/renan-florencio-unicamp/DriverBehavior/runs/0kvkdc3y' target=\"_blank\">https://wandb.ai/renan-florencio-unicamp/DriverBehavior/runs/0kvkdc3y</a><br> View project at: <a href='https://wandb.ai/renan-florencio-unicamp/DriverBehavior' target=\"_blank\">https://wandb.ai/renan-florencio-unicamp/DriverBehavior</a><br>Synced 5 W&B file(s), 0 media file(s), 0 artifact file(s) and 0 other file(s)"
      ],
      "text/plain": [
       "<IPython.core.display.HTML object>"
      ]
     },
     "metadata": {},
     "output_type": "display_data"
    },
    {
     "data": {
      "text/html": [
       "Find logs at: <code>./wandb/run-20250127_170724-0kvkdc3y/logs</code>"
      ],
      "text/plain": [
       "<IPython.core.display.HTML object>"
      ]
     },
     "metadata": {},
     "output_type": "display_data"
    },
    {
     "name": "stderr",
     "output_type": "stream",
     "text": [
      "\u001b[34m\u001b[1mwandb\u001b[0m: Sweep Agent: Waiting for job.\n",
      "\u001b[34m\u001b[1mwandb\u001b[0m: Job received.\n",
      "\u001b[34m\u001b[1mwandb\u001b[0m: Agent Starting Run: d08g61w2 with config:\n",
      "\u001b[34m\u001b[1mwandb\u001b[0m: \tbatch_size: 64\n",
      "\u001b[34m\u001b[1mwandb\u001b[0m: \tepochs: 10\n"
     ]
    },
    {
     "data": {
      "text/html": [
       "Ignoring project 'DriverBehavior' when running a sweep."
      ],
      "text/plain": [
       "<IPython.core.display.HTML object>"
      ]
     },
     "metadata": {},
     "output_type": "display_data"
    },
    {
     "data": {
      "text/html": [
       "Tracking run with wandb version 0.19.4"
      ],
      "text/plain": [
       "<IPython.core.display.HTML object>"
      ]
     },
     "metadata": {},
     "output_type": "display_data"
    },
    {
     "data": {
      "text/html": [
       "Run data is saved locally in <code>/home/renan/Documents/datasets/dbdataset/wandb/run-20250127_170934-d08g61w2</code>"
      ],
      "text/plain": [
       "<IPython.core.display.HTML object>"
      ]
     },
     "metadata": {},
     "output_type": "display_data"
    },
    {
     "data": {
      "text/html": [
       "Syncing run <strong><a href='https://wandb.ai/renan-florencio-unicamp/DriverBehavior/runs/d08g61w2' target=\"_blank\">avid-sweep-4</a></strong> to <a href='https://wandb.ai/renan-florencio-unicamp/DriverBehavior' target=\"_blank\">Weights & Biases</a> (<a href='https://wandb.me/developer-guide' target=\"_blank\">docs</a>)<br>Sweep page: <a href='https://wandb.ai/renan-florencio-unicamp/DriverBehavior/sweeps/gut8lurp' target=\"_blank\">https://wandb.ai/renan-florencio-unicamp/DriverBehavior/sweeps/gut8lurp</a>"
      ],
      "text/plain": [
       "<IPython.core.display.HTML object>"
      ]
     },
     "metadata": {},
     "output_type": "display_data"
    },
    {
     "data": {
      "text/html": [
       " View project at <a href='https://wandb.ai/renan-florencio-unicamp/DriverBehavior' target=\"_blank\">https://wandb.ai/renan-florencio-unicamp/DriverBehavior</a>"
      ],
      "text/plain": [
       "<IPython.core.display.HTML object>"
      ]
     },
     "metadata": {},
     "output_type": "display_data"
    },
    {
     "data": {
      "text/html": [
       " View sweep at <a href='https://wandb.ai/renan-florencio-unicamp/DriverBehavior/sweeps/gut8lurp' target=\"_blank\">https://wandb.ai/renan-florencio-unicamp/DriverBehavior/sweeps/gut8lurp</a>"
      ],
      "text/plain": [
       "<IPython.core.display.HTML object>"
      ]
     },
     "metadata": {},
     "output_type": "display_data"
    },
    {
     "data": {
      "text/html": [
       " View run at <a href='https://wandb.ai/renan-florencio-unicamp/DriverBehavior/runs/d08g61w2' target=\"_blank\">https://wandb.ai/renan-florencio-unicamp/DriverBehavior/runs/d08g61w2</a>"
      ],
      "text/plain": [
       "<IPython.core.display.HTML object>"
      ]
     },
     "metadata": {},
     "output_type": "display_data"
    },
    {
     "name": "stdout",
     "output_type": "stream",
     "text": [
      "Epoch 1/10\n",
      "\u001b[1m134/134\u001b[0m \u001b[32m━━━━━━━━━━━━━━━━━━━━\u001b[0m\u001b[37m\u001b[0m \u001b[1m3s\u001b[0m 13ms/step - accuracy: 0.5378 - loss: 1.3229 - val_accuracy: 0.8411 - val_loss: 0.4789\n",
      "Epoch 2/10\n",
      "\u001b[1m134/134\u001b[0m \u001b[32m━━━━━━━━━━━━━━━━━━━━\u001b[0m\u001b[37m\u001b[0m \u001b[1m1s\u001b[0m 10ms/step - accuracy: 0.7916 - loss: 0.6135 - val_accuracy: 0.8800 - val_loss: 0.3742\n",
      "Epoch 3/10\n",
      "\u001b[1m134/134\u001b[0m \u001b[32m━━━━━━━━━━━━━━━━━━━━\u001b[0m\u001b[37m\u001b[0m \u001b[1m1s\u001b[0m 10ms/step - accuracy: 0.8456 - loss: 0.4658 - val_accuracy: 0.8940 - val_loss: 0.3051\n",
      "Epoch 4/10\n",
      "\u001b[1m134/134\u001b[0m \u001b[32m━━━━━━━━━━━━━━━━━━━━\u001b[0m\u001b[37m\u001b[0m \u001b[1m2s\u001b[0m 12ms/step - accuracy: 0.8715 - loss: 0.3706 - val_accuracy: 0.9142 - val_loss: 0.2714\n",
      "Epoch 5/10\n",
      "\u001b[1m134/134\u001b[0m \u001b[32m━━━━━━━━━━━━━━━━━━━━\u001b[0m\u001b[37m\u001b[0m \u001b[1m2s\u001b[0m 11ms/step - accuracy: 0.8868 - loss: 0.3160 - val_accuracy: 0.9194 - val_loss: 0.2285\n",
      "Epoch 6/10\n",
      "\u001b[1m134/134\u001b[0m \u001b[32m━━━━━━━━━━━━━━━━━━━━\u001b[0m\u001b[37m\u001b[0m \u001b[1m1s\u001b[0m 10ms/step - accuracy: 0.9072 - loss: 0.2706 - val_accuracy: 0.9264 - val_loss: 0.2345\n",
      "Epoch 7/10\n",
      "\u001b[1m134/134\u001b[0m \u001b[32m━━━━━━━━━━━━━━━━━━━━\u001b[0m\u001b[37m\u001b[0m \u001b[1m1s\u001b[0m 11ms/step - accuracy: 0.9097 - loss: 0.2654 - val_accuracy: 0.9269 - val_loss: 0.2283\n",
      "Epoch 8/10\n",
      "\u001b[1m134/134\u001b[0m \u001b[32m━━━━━━━━━━━━━━━━━━━━\u001b[0m\u001b[37m\u001b[0m \u001b[1m2s\u001b[0m 11ms/step - accuracy: 0.9226 - loss: 0.2317 - val_accuracy: 0.9273 - val_loss: 0.2224\n",
      "Epoch 9/10\n",
      "\u001b[1m134/134\u001b[0m \u001b[32m━━━━━━━━━━━━━━━━━━━━\u001b[0m\u001b[37m\u001b[0m \u001b[1m2s\u001b[0m 11ms/step - accuracy: 0.9333 - loss: 0.2034 - val_accuracy: 0.9409 - val_loss: 0.1752\n",
      "Epoch 10/10\n",
      "\u001b[1m134/134\u001b[0m \u001b[32m━━━━━━━━━━━━━━━━━━━━\u001b[0m\u001b[37m\u001b[0m \u001b[1m2s\u001b[0m 11ms/step - accuracy: 0.9409 - loss: 0.1826 - val_accuracy: 0.9381 - val_loss: 0.2076\n"
     ]
    },
    {
     "data": {
      "text/html": [],
      "text/plain": [
       "<IPython.core.display.HTML object>"
      ]
     },
     "metadata": {},
     "output_type": "display_data"
    },
    {
     "data": {
      "text/html": [
       "<br>    <style><br>        .wandb-row {<br>            display: flex;<br>            flex-direction: row;<br>            flex-wrap: wrap;<br>            justify-content: flex-start;<br>            width: 100%;<br>        }<br>        .wandb-col {<br>            display: flex;<br>            flex-direction: column;<br>            flex-basis: 100%;<br>            flex: 1;<br>            padding: 10px;<br>        }<br>    </style><br><div class=\"wandb-row\"><div class=\"wandb-col\"><h3>Run history:</h3><br/><table class=\"wandb\"><tr><td>train_accuracy</td><td>▁</td></tr><tr><td>train_loss</td><td>▁</td></tr><tr><td>val_accuracy</td><td>▁</td></tr><tr><td>val_loss</td><td>▁</td></tr></table><br/></div><div class=\"wandb-col\"><h3>Run summary:</h3><br/><table class=\"wandb\"><tr><td>train_accuracy</td><td>0.9381</td></tr><tr><td>train_loss</td><td>0.18065</td></tr><tr><td>val_accuracy</td><td>0.93812</td></tr><tr><td>val_loss</td><td>0.20765</td></tr></table><br/></div></div>"
      ],
      "text/plain": [
       "<IPython.core.display.HTML object>"
      ]
     },
     "metadata": {},
     "output_type": "display_data"
    },
    {
     "data": {
      "text/html": [
       " View run <strong style=\"color:#cdcd00\">avid-sweep-4</strong> at: <a href='https://wandb.ai/renan-florencio-unicamp/DriverBehavior/runs/d08g61w2' target=\"_blank\">https://wandb.ai/renan-florencio-unicamp/DriverBehavior/runs/d08g61w2</a><br> View project at: <a href='https://wandb.ai/renan-florencio-unicamp/DriverBehavior' target=\"_blank\">https://wandb.ai/renan-florencio-unicamp/DriverBehavior</a><br>Synced 5 W&B file(s), 0 media file(s), 0 artifact file(s) and 0 other file(s)"
      ],
      "text/plain": [
       "<IPython.core.display.HTML object>"
      ]
     },
     "metadata": {},
     "output_type": "display_data"
    },
    {
     "data": {
      "text/html": [
       "Find logs at: <code>./wandb/run-20250127_170934-d08g61w2/logs</code>"
      ],
      "text/plain": [
       "<IPython.core.display.HTML object>"
      ]
     },
     "metadata": {},
     "output_type": "display_data"
    },
    {
     "name": "stderr",
     "output_type": "stream",
     "text": [
      "\u001b[34m\u001b[1mwandb\u001b[0m: Agent Starting Run: 3znzxxqe with config:\n",
      "\u001b[34m\u001b[1mwandb\u001b[0m: \tbatch_size: 64\n",
      "\u001b[34m\u001b[1mwandb\u001b[0m: \tepochs: 25\n"
     ]
    },
    {
     "data": {
      "text/html": [
       "Ignoring project 'DriverBehavior' when running a sweep."
      ],
      "text/plain": [
       "<IPython.core.display.HTML object>"
      ]
     },
     "metadata": {},
     "output_type": "display_data"
    },
    {
     "data": {
      "text/html": [
       "Tracking run with wandb version 0.19.4"
      ],
      "text/plain": [
       "<IPython.core.display.HTML object>"
      ]
     },
     "metadata": {},
     "output_type": "display_data"
    },
    {
     "data": {
      "text/html": [
       "Run data is saved locally in <code>/home/renan/Documents/datasets/dbdataset/wandb/run-20250127_170956-3znzxxqe</code>"
      ],
      "text/plain": [
       "<IPython.core.display.HTML object>"
      ]
     },
     "metadata": {},
     "output_type": "display_data"
    },
    {
     "data": {
      "text/html": [
       "Syncing run <strong><a href='https://wandb.ai/renan-florencio-unicamp/DriverBehavior/runs/3znzxxqe' target=\"_blank\">honest-sweep-5</a></strong> to <a href='https://wandb.ai/renan-florencio-unicamp/DriverBehavior' target=\"_blank\">Weights & Biases</a> (<a href='https://wandb.me/developer-guide' target=\"_blank\">docs</a>)<br>Sweep page: <a href='https://wandb.ai/renan-florencio-unicamp/DriverBehavior/sweeps/gut8lurp' target=\"_blank\">https://wandb.ai/renan-florencio-unicamp/DriverBehavior/sweeps/gut8lurp</a>"
      ],
      "text/plain": [
       "<IPython.core.display.HTML object>"
      ]
     },
     "metadata": {},
     "output_type": "display_data"
    },
    {
     "data": {
      "text/html": [
       " View project at <a href='https://wandb.ai/renan-florencio-unicamp/DriverBehavior' target=\"_blank\">https://wandb.ai/renan-florencio-unicamp/DriverBehavior</a>"
      ],
      "text/plain": [
       "<IPython.core.display.HTML object>"
      ]
     },
     "metadata": {},
     "output_type": "display_data"
    },
    {
     "data": {
      "text/html": [
       " View sweep at <a href='https://wandb.ai/renan-florencio-unicamp/DriverBehavior/sweeps/gut8lurp' target=\"_blank\">https://wandb.ai/renan-florencio-unicamp/DriverBehavior/sweeps/gut8lurp</a>"
      ],
      "text/plain": [
       "<IPython.core.display.HTML object>"
      ]
     },
     "metadata": {},
     "output_type": "display_data"
    },
    {
     "data": {
      "text/html": [
       " View run at <a href='https://wandb.ai/renan-florencio-unicamp/DriverBehavior/runs/3znzxxqe' target=\"_blank\">https://wandb.ai/renan-florencio-unicamp/DriverBehavior/runs/3znzxxqe</a>"
      ],
      "text/plain": [
       "<IPython.core.display.HTML object>"
      ]
     },
     "metadata": {},
     "output_type": "display_data"
    },
    {
     "name": "stdout",
     "output_type": "stream",
     "text": [
      "Epoch 1/25\n",
      "\u001b[1m134/134\u001b[0m \u001b[32m━━━━━━━━━━━━━━━━━━━━\u001b[0m\u001b[37m\u001b[0m \u001b[1m3s\u001b[0m 12ms/step - accuracy: 0.5303 - loss: 1.3739 - val_accuracy: 0.8284 - val_loss: 0.4927\n",
      "Epoch 2/25\n",
      "\u001b[1m134/134\u001b[0m \u001b[32m━━━━━━━━━━━━━━━━━━━━\u001b[0m\u001b[37m\u001b[0m \u001b[1m1s\u001b[0m 11ms/step - accuracy: 0.7891 - loss: 0.6302 - val_accuracy: 0.8861 - val_loss: 0.3421\n",
      "Epoch 3/25\n",
      "\u001b[1m134/134\u001b[0m \u001b[32m━━━━━━━━━━━━━━━━━━━━\u001b[0m\u001b[37m\u001b[0m \u001b[1m2s\u001b[0m 11ms/step - accuracy: 0.8476 - loss: 0.4627 - val_accuracy: 0.9062 - val_loss: 0.2701\n",
      "Epoch 4/25\n",
      "\u001b[1m134/134\u001b[0m \u001b[32m━━━━━━━━━━━━━━━━━━━━\u001b[0m\u001b[37m\u001b[0m \u001b[1m2s\u001b[0m 12ms/step - accuracy: 0.8704 - loss: 0.3736 - val_accuracy: 0.9128 - val_loss: 0.2540\n",
      "Epoch 5/25\n",
      "\u001b[1m134/134\u001b[0m \u001b[32m━━━━━━━━━━━━━━━━━━━━\u001b[0m\u001b[37m\u001b[0m \u001b[1m1s\u001b[0m 10ms/step - accuracy: 0.8964 - loss: 0.3067 - val_accuracy: 0.9353 - val_loss: 0.2168\n",
      "Epoch 6/25\n",
      "\u001b[1m134/134\u001b[0m \u001b[32m━━━━━━━━━━━━━━━━━━━━\u001b[0m\u001b[37m\u001b[0m \u001b[1m2s\u001b[0m 12ms/step - accuracy: 0.9021 - loss: 0.2856 - val_accuracy: 0.9301 - val_loss: 0.2212\n",
      "Epoch 7/25\n",
      "\u001b[1m134/134\u001b[0m \u001b[32m━━━━━━━━━━━━━━━━━━━━\u001b[0m\u001b[37m\u001b[0m \u001b[1m2s\u001b[0m 11ms/step - accuracy: 0.9150 - loss: 0.2466 - val_accuracy: 0.9344 - val_loss: 0.1897\n",
      "Epoch 8/25\n",
      "\u001b[1m134/134\u001b[0m \u001b[32m━━━━━━━━━━━━━━━━━━━━\u001b[0m\u001b[37m\u001b[0m \u001b[1m2s\u001b[0m 11ms/step - accuracy: 0.9222 - loss: 0.2165 - val_accuracy: 0.9395 - val_loss: 0.1987\n",
      "Epoch 9/25\n",
      "\u001b[1m134/134\u001b[0m \u001b[32m━━━━━━━━━━━━━━━━━━━━\u001b[0m\u001b[37m\u001b[0m \u001b[1m2s\u001b[0m 12ms/step - accuracy: 0.9293 - loss: 0.2072 - val_accuracy: 0.9447 - val_loss: 0.1678\n",
      "Epoch 10/25\n",
      "\u001b[1m134/134\u001b[0m \u001b[32m━━━━━━━━━━━━━━━━━━━━\u001b[0m\u001b[37m\u001b[0m \u001b[1m1s\u001b[0m 10ms/step - accuracy: 0.9380 - loss: 0.1773 - val_accuracy: 0.9484 - val_loss: 0.1582\n",
      "Epoch 11/25\n",
      "\u001b[1m134/134\u001b[0m \u001b[32m━━━━━━━━━━━━━━━━━━━━\u001b[0m\u001b[37m\u001b[0m \u001b[1m2s\u001b[0m 11ms/step - accuracy: 0.9486 - loss: 0.1531 - val_accuracy: 0.9555 - val_loss: 0.1470\n",
      "Epoch 12/25\n",
      "\u001b[1m134/134\u001b[0m \u001b[32m━━━━━━━━━━━━━━━━━━━━\u001b[0m\u001b[37m\u001b[0m \u001b[1m1s\u001b[0m 11ms/step - accuracy: 0.9404 - loss: 0.1670 - val_accuracy: 0.9545 - val_loss: 0.1485\n",
      "Epoch 13/25\n",
      "\u001b[1m134/134\u001b[0m \u001b[32m━━━━━━━━━━━━━━━━━━━━\u001b[0m\u001b[37m\u001b[0m \u001b[1m1s\u001b[0m 10ms/step - accuracy: 0.9451 - loss: 0.1544 - val_accuracy: 0.9545 - val_loss: 0.1434\n",
      "Epoch 14/25\n",
      "\u001b[1m134/134\u001b[0m \u001b[32m━━━━━━━━━━━━━━━━━━━━\u001b[0m\u001b[37m\u001b[0m \u001b[1m2s\u001b[0m 11ms/step - accuracy: 0.9534 - loss: 0.1360 - val_accuracy: 0.9475 - val_loss: 0.1704\n",
      "Epoch 15/25\n",
      "\u001b[1m134/134\u001b[0m \u001b[32m━━━━━━━━━━━━━━━━━━━━\u001b[0m\u001b[37m\u001b[0m \u001b[1m1s\u001b[0m 11ms/step - accuracy: 0.9555 - loss: 0.1275 - val_accuracy: 0.9536 - val_loss: 0.1640\n",
      "Epoch 16/25\n",
      "\u001b[1m134/134\u001b[0m \u001b[32m━━━━━━━━━━━━━━━━━━━━\u001b[0m\u001b[37m\u001b[0m \u001b[1m1s\u001b[0m 10ms/step - accuracy: 0.9579 - loss: 0.1236 - val_accuracy: 0.9526 - val_loss: 0.1496\n",
      "Epoch 17/25\n",
      "\u001b[1m134/134\u001b[0m \u001b[32m━━━━━━━━━━━━━━━━━━━━\u001b[0m\u001b[37m\u001b[0m \u001b[1m2s\u001b[0m 11ms/step - accuracy: 0.9615 - loss: 0.1203 - val_accuracy: 0.9550 - val_loss: 0.1503\n",
      "Epoch 18/25\n",
      "\u001b[1m134/134\u001b[0m \u001b[32m━━━━━━━━━━━━━━━━━━━━\u001b[0m\u001b[37m\u001b[0m \u001b[1m1s\u001b[0m 10ms/step - accuracy: 0.9574 - loss: 0.1238 - val_accuracy: 0.9597 - val_loss: 0.1432\n",
      "Epoch 19/25\n",
      "\u001b[1m134/134\u001b[0m \u001b[32m━━━━━━━━━━━━━━━━━━━━\u001b[0m\u001b[37m\u001b[0m \u001b[1m1s\u001b[0m 10ms/step - accuracy: 0.9664 - loss: 0.0979 - val_accuracy: 0.9559 - val_loss: 0.1527\n",
      "Epoch 20/25\n",
      "\u001b[1m134/134\u001b[0m \u001b[32m━━━━━━━━━━━━━━━━━━━━\u001b[0m\u001b[37m\u001b[0m \u001b[1m1s\u001b[0m 11ms/step - accuracy: 0.9740 - loss: 0.0858 - val_accuracy: 0.9662 - val_loss: 0.1348\n",
      "Epoch 21/25\n",
      "\u001b[1m134/134\u001b[0m \u001b[32m━━━━━━━━━━━━━━━━━━━━\u001b[0m\u001b[37m\u001b[0m \u001b[1m2s\u001b[0m 12ms/step - accuracy: 0.9693 - loss: 0.0891 - val_accuracy: 0.9555 - val_loss: 0.1580\n",
      "Epoch 22/25\n",
      "\u001b[1m134/134\u001b[0m \u001b[32m━━━━━━━━━━━━━━━━━━━━\u001b[0m\u001b[37m\u001b[0m \u001b[1m1s\u001b[0m 11ms/step - accuracy: 0.9713 - loss: 0.0832 - val_accuracy: 0.9616 - val_loss: 0.1320\n",
      "Epoch 23/25\n",
      "\u001b[1m134/134\u001b[0m \u001b[32m━━━━━━━━━━━━━━━━━━━━\u001b[0m\u001b[37m\u001b[0m \u001b[1m1s\u001b[0m 11ms/step - accuracy: 0.9726 - loss: 0.0836 - val_accuracy: 0.9653 - val_loss: 0.1245\n",
      "Epoch 24/25\n",
      "\u001b[1m134/134\u001b[0m \u001b[32m━━━━━━━━━━━━━━━━━━━━\u001b[0m\u001b[37m\u001b[0m \u001b[1m1s\u001b[0m 10ms/step - accuracy: 0.9721 - loss: 0.0826 - val_accuracy: 0.9541 - val_loss: 0.1645\n",
      "Epoch 25/25\n",
      "\u001b[1m134/134\u001b[0m \u001b[32m━━━━━━━━━━━━━━━━━━━━\u001b[0m\u001b[37m\u001b[0m \u001b[1m1s\u001b[0m 10ms/step - accuracy: 0.9702 - loss: 0.0917 - val_accuracy: 0.9550 - val_loss: 0.1595\n"
     ]
    },
    {
     "data": {
      "text/html": [],
      "text/plain": [
       "<IPython.core.display.HTML object>"
      ]
     },
     "metadata": {},
     "output_type": "display_data"
    },
    {
     "data": {
      "text/html": [
       "<br>    <style><br>        .wandb-row {<br>            display: flex;<br>            flex-direction: row;<br>            flex-wrap: wrap;<br>            justify-content: flex-start;<br>            width: 100%;<br>        }<br>        .wandb-col {<br>            display: flex;<br>            flex-direction: column;<br>            flex-basis: 100%;<br>            flex: 1;<br>            padding: 10px;<br>        }<br>    </style><br><div class=\"wandb-row\"><div class=\"wandb-col\"><h3>Run history:</h3><br/><table class=\"wandb\"><tr><td>train_accuracy</td><td>▁</td></tr><tr><td>train_loss</td><td>▁</td></tr><tr><td>val_accuracy</td><td>▁</td></tr><tr><td>val_loss</td><td>▁</td></tr></table><br/></div><div class=\"wandb-col\"><h3>Run summary:</h3><br/><table class=\"wandb\"><tr><td>train_accuracy</td><td>0.97304</td></tr><tr><td>train_loss</td><td>0.08219</td></tr><tr><td>val_accuracy</td><td>0.95499</td></tr><tr><td>val_loss</td><td>0.1595</td></tr></table><br/></div></div>"
      ],
      "text/plain": [
       "<IPython.core.display.HTML object>"
      ]
     },
     "metadata": {},
     "output_type": "display_data"
    },
    {
     "data": {
      "text/html": [
       " View run <strong style=\"color:#cdcd00\">honest-sweep-5</strong> at: <a href='https://wandb.ai/renan-florencio-unicamp/DriverBehavior/runs/3znzxxqe' target=\"_blank\">https://wandb.ai/renan-florencio-unicamp/DriverBehavior/runs/3znzxxqe</a><br> View project at: <a href='https://wandb.ai/renan-florencio-unicamp/DriverBehavior' target=\"_blank\">https://wandb.ai/renan-florencio-unicamp/DriverBehavior</a><br>Synced 5 W&B file(s), 0 media file(s), 0 artifact file(s) and 0 other file(s)"
      ],
      "text/plain": [
       "<IPython.core.display.HTML object>"
      ]
     },
     "metadata": {},
     "output_type": "display_data"
    },
    {
     "data": {
      "text/html": [
       "Find logs at: <code>./wandb/run-20250127_170956-3znzxxqe/logs</code>"
      ],
      "text/plain": [
       "<IPython.core.display.HTML object>"
      ]
     },
     "metadata": {},
     "output_type": "display_data"
    },
    {
     "name": "stderr",
     "output_type": "stream",
     "text": [
      "\u001b[34m\u001b[1mwandb\u001b[0m: Agent Starting Run: fp4pjgab with config:\n",
      "\u001b[34m\u001b[1mwandb\u001b[0m: \tbatch_size: 64\n",
      "\u001b[34m\u001b[1mwandb\u001b[0m: \tepochs: 50\n"
     ]
    },
    {
     "data": {
      "text/html": [
       "Ignoring project 'DriverBehavior' when running a sweep."
      ],
      "text/plain": [
       "<IPython.core.display.HTML object>"
      ]
     },
     "metadata": {},
     "output_type": "display_data"
    },
    {
     "data": {
      "text/html": [
       "Tracking run with wandb version 0.19.4"
      ],
      "text/plain": [
       "<IPython.core.display.HTML object>"
      ]
     },
     "metadata": {},
     "output_type": "display_data"
    },
    {
     "data": {
      "text/html": [
       "Run data is saved locally in <code>/home/renan/Documents/datasets/dbdataset/wandb/run-20250127_171043-fp4pjgab</code>"
      ],
      "text/plain": [
       "<IPython.core.display.HTML object>"
      ]
     },
     "metadata": {},
     "output_type": "display_data"
    },
    {
     "data": {
      "text/html": [
       "Syncing run <strong><a href='https://wandb.ai/renan-florencio-unicamp/DriverBehavior/runs/fp4pjgab' target=\"_blank\">polished-sweep-6</a></strong> to <a href='https://wandb.ai/renan-florencio-unicamp/DriverBehavior' target=\"_blank\">Weights & Biases</a> (<a href='https://wandb.me/developer-guide' target=\"_blank\">docs</a>)<br>Sweep page: <a href='https://wandb.ai/renan-florencio-unicamp/DriverBehavior/sweeps/gut8lurp' target=\"_blank\">https://wandb.ai/renan-florencio-unicamp/DriverBehavior/sweeps/gut8lurp</a>"
      ],
      "text/plain": [
       "<IPython.core.display.HTML object>"
      ]
     },
     "metadata": {},
     "output_type": "display_data"
    },
    {
     "data": {
      "text/html": [
       " View project at <a href='https://wandb.ai/renan-florencio-unicamp/DriverBehavior' target=\"_blank\">https://wandb.ai/renan-florencio-unicamp/DriverBehavior</a>"
      ],
      "text/plain": [
       "<IPython.core.display.HTML object>"
      ]
     },
     "metadata": {},
     "output_type": "display_data"
    },
    {
     "data": {
      "text/html": [
       " View sweep at <a href='https://wandb.ai/renan-florencio-unicamp/DriverBehavior/sweeps/gut8lurp' target=\"_blank\">https://wandb.ai/renan-florencio-unicamp/DriverBehavior/sweeps/gut8lurp</a>"
      ],
      "text/plain": [
       "<IPython.core.display.HTML object>"
      ]
     },
     "metadata": {},
     "output_type": "display_data"
    },
    {
     "data": {
      "text/html": [
       " View run at <a href='https://wandb.ai/renan-florencio-unicamp/DriverBehavior/runs/fp4pjgab' target=\"_blank\">https://wandb.ai/renan-florencio-unicamp/DriverBehavior/runs/fp4pjgab</a>"
      ],
      "text/plain": [
       "<IPython.core.display.HTML object>"
      ]
     },
     "metadata": {},
     "output_type": "display_data"
    },
    {
     "name": "stdout",
     "output_type": "stream",
     "text": [
      "Epoch 1/50\n",
      "\u001b[1m134/134\u001b[0m \u001b[32m━━━━━━━━━━━━━━━━━━━━\u001b[0m\u001b[37m\u001b[0m \u001b[1m3s\u001b[0m 12ms/step - accuracy: 0.5314 - loss: 1.3547 - val_accuracy: 0.8383 - val_loss: 0.4747\n",
      "Epoch 2/50\n",
      "\u001b[1m134/134\u001b[0m \u001b[32m━━━━━━━━━━━━━━━━━━━━\u001b[0m\u001b[37m\u001b[0m \u001b[1m1s\u001b[0m 11ms/step - accuracy: 0.7909 - loss: 0.6286 - val_accuracy: 0.8758 - val_loss: 0.3519\n",
      "Epoch 3/50\n",
      "\u001b[1m134/134\u001b[0m \u001b[32m━━━━━━━━━━━━━━━━━━━━\u001b[0m\u001b[37m\u001b[0m \u001b[1m2s\u001b[0m 11ms/step - accuracy: 0.8467 - loss: 0.4483 - val_accuracy: 0.8987 - val_loss: 0.3067\n",
      "Epoch 4/50\n",
      "\u001b[1m134/134\u001b[0m \u001b[32m━━━━━━━━━━━━━━━━━━━━\u001b[0m\u001b[37m\u001b[0m \u001b[1m2s\u001b[0m 11ms/step - accuracy: 0.8765 - loss: 0.3713 - val_accuracy: 0.9137 - val_loss: 0.2837\n",
      "Epoch 5/50\n",
      "\u001b[1m134/134\u001b[0m \u001b[32m━━━━━━━━━━━━━━━━━━━━\u001b[0m\u001b[37m\u001b[0m \u001b[1m1s\u001b[0m 11ms/step - accuracy: 0.8964 - loss: 0.3163 - val_accuracy: 0.9142 - val_loss: 0.2376\n",
      "Epoch 6/50\n",
      "\u001b[1m134/134\u001b[0m \u001b[32m━━━━━━━━━━━━━━━━━━━━\u001b[0m\u001b[37m\u001b[0m \u001b[1m2s\u001b[0m 12ms/step - accuracy: 0.9013 - loss: 0.2960 - val_accuracy: 0.9241 - val_loss: 0.2351\n",
      "Epoch 7/50\n",
      "\u001b[1m134/134\u001b[0m \u001b[32m━━━━━━━━━━━━━━━━━━━━\u001b[0m\u001b[37m\u001b[0m \u001b[1m1s\u001b[0m 11ms/step - accuracy: 0.9158 - loss: 0.2411 - val_accuracy: 0.9241 - val_loss: 0.2200\n",
      "Epoch 8/50\n",
      "\u001b[1m134/134\u001b[0m \u001b[32m━━━━━━━━━━━━━━━━━━━━\u001b[0m\u001b[37m\u001b[0m \u001b[1m1s\u001b[0m 9ms/step - accuracy: 0.9256 - loss: 0.2233 - val_accuracy: 0.9437 - val_loss: 0.1774\n",
      "Epoch 9/50\n",
      "\u001b[1m134/134\u001b[0m \u001b[32m━━━━━━━━━━━━━━━━━━━━\u001b[0m\u001b[37m\u001b[0m \u001b[1m2s\u001b[0m 11ms/step - accuracy: 0.9367 - loss: 0.1891 - val_accuracy: 0.9423 - val_loss: 0.1757\n",
      "Epoch 10/50\n",
      "\u001b[1m134/134\u001b[0m \u001b[32m━━━━━━━━━━━━━━━━━━━━\u001b[0m\u001b[37m\u001b[0m \u001b[1m1s\u001b[0m 11ms/step - accuracy: 0.9371 - loss: 0.1818 - val_accuracy: 0.9475 - val_loss: 0.1861\n",
      "Epoch 11/50\n",
      "\u001b[1m134/134\u001b[0m \u001b[32m━━━━━━━━━━━━━━━━━━━━\u001b[0m\u001b[37m\u001b[0m \u001b[1m1s\u001b[0m 11ms/step - accuracy: 0.9517 - loss: 0.1436 - val_accuracy: 0.9409 - val_loss: 0.1745\n",
      "Epoch 12/50\n",
      "\u001b[1m134/134\u001b[0m \u001b[32m━━━━━━━━━━━━━━━━━━━━\u001b[0m\u001b[37m\u001b[0m \u001b[1m2s\u001b[0m 11ms/step - accuracy: 0.9504 - loss: 0.1459 - val_accuracy: 0.9526 - val_loss: 0.1615\n",
      "Epoch 13/50\n",
      "\u001b[1m134/134\u001b[0m \u001b[32m━━━━━━━━━━━━━━━━━━━━\u001b[0m\u001b[37m\u001b[0m \u001b[1m1s\u001b[0m 11ms/step - accuracy: 0.9495 - loss: 0.1455 - val_accuracy: 0.9512 - val_loss: 0.1688\n",
      "Epoch 14/50\n",
      "\u001b[1m134/134\u001b[0m \u001b[32m━━━━━━━━━━━━━━━━━━━━\u001b[0m\u001b[37m\u001b[0m \u001b[1m2s\u001b[0m 11ms/step - accuracy: 0.9534 - loss: 0.1312 - val_accuracy: 0.9569 - val_loss: 0.1587\n",
      "Epoch 15/50\n",
      "\u001b[1m134/134\u001b[0m \u001b[32m━━━━━━━━━━━━━━━━━━━━\u001b[0m\u001b[37m\u001b[0m \u001b[1m1s\u001b[0m 11ms/step - accuracy: 0.9522 - loss: 0.1387 - val_accuracy: 0.9503 - val_loss: 0.1807\n",
      "Epoch 16/50\n",
      "\u001b[1m134/134\u001b[0m \u001b[32m━━━━━━━━━━━━━━━━━━━━\u001b[0m\u001b[37m\u001b[0m \u001b[1m1s\u001b[0m 10ms/step - accuracy: 0.9635 - loss: 0.1086 - val_accuracy: 0.9517 - val_loss: 0.1966\n",
      "Epoch 17/50\n",
      "\u001b[1m134/134\u001b[0m \u001b[32m━━━━━━━━━━━━━━━━━━━━\u001b[0m\u001b[37m\u001b[0m \u001b[1m1s\u001b[0m 11ms/step - accuracy: 0.9616 - loss: 0.1113 - val_accuracy: 0.9569 - val_loss: 0.1638\n",
      "Epoch 18/50\n",
      "\u001b[1m134/134\u001b[0m \u001b[32m━━━━━━━━━━━━━━━━━━━━\u001b[0m\u001b[37m\u001b[0m \u001b[1m1s\u001b[0m 11ms/step - accuracy: 0.9649 - loss: 0.1023 - val_accuracy: 0.9545 - val_loss: 0.1643\n",
      "Epoch 19/50\n",
      "\u001b[1m134/134\u001b[0m \u001b[32m━━━━━━━━━━━━━━━━━━━━\u001b[0m\u001b[37m\u001b[0m \u001b[1m1s\u001b[0m 10ms/step - accuracy: 0.9656 - loss: 0.1009 - val_accuracy: 0.9559 - val_loss: 0.1735\n",
      "Epoch 20/50\n",
      "\u001b[1m134/134\u001b[0m \u001b[32m━━━━━━━━━━━━━━━━━━━━\u001b[0m\u001b[37m\u001b[0m \u001b[1m2s\u001b[0m 11ms/step - accuracy: 0.9699 - loss: 0.0984 - val_accuracy: 0.9597 - val_loss: 0.1438\n",
      "Epoch 21/50\n",
      "\u001b[1m134/134\u001b[0m \u001b[32m━━━━━━━━━━━━━━━━━━━━\u001b[0m\u001b[37m\u001b[0m \u001b[1m1s\u001b[0m 11ms/step - accuracy: 0.9638 - loss: 0.1024 - val_accuracy: 0.9644 - val_loss: 0.1348\n",
      "Epoch 22/50\n",
      "\u001b[1m134/134\u001b[0m \u001b[32m━━━━━━━━━━━━━━━━━━━━\u001b[0m\u001b[37m\u001b[0m \u001b[1m1s\u001b[0m 11ms/step - accuracy: 0.9727 - loss: 0.0858 - val_accuracy: 0.9597 - val_loss: 0.1361\n",
      "Epoch 23/50\n",
      "\u001b[1m134/134\u001b[0m \u001b[32m━━━━━━━━━━━━━━━━━━━━\u001b[0m\u001b[37m\u001b[0m \u001b[1m2s\u001b[0m 11ms/step - accuracy: 0.9687 - loss: 0.0870 - val_accuracy: 0.9573 - val_loss: 0.1533\n",
      "Epoch 24/50\n",
      "\u001b[1m134/134\u001b[0m \u001b[32m━━━━━━━━━━━━━━━━━━━━\u001b[0m\u001b[37m\u001b[0m \u001b[1m2s\u001b[0m 11ms/step - accuracy: 0.9714 - loss: 0.0845 - val_accuracy: 0.9653 - val_loss: 0.1429\n",
      "Epoch 25/50\n",
      "\u001b[1m134/134\u001b[0m \u001b[32m━━━━━━━━━━━━━━━━━━━━\u001b[0m\u001b[37m\u001b[0m \u001b[1m1s\u001b[0m 10ms/step - accuracy: 0.9745 - loss: 0.0813 - val_accuracy: 0.9583 - val_loss: 0.1587\n",
      "Epoch 26/50\n",
      "\u001b[1m134/134\u001b[0m \u001b[32m━━━━━━━━━━━━━━━━━━━━\u001b[0m\u001b[37m\u001b[0m \u001b[1m1s\u001b[0m 10ms/step - accuracy: 0.9765 - loss: 0.0685 - val_accuracy: 0.9648 - val_loss: 0.1497\n",
      "Epoch 27/50\n",
      "\u001b[1m134/134\u001b[0m \u001b[32m━━━━━━━━━━━━━━━━━━━━\u001b[0m\u001b[37m\u001b[0m \u001b[1m1s\u001b[0m 10ms/step - accuracy: 0.9695 - loss: 0.0877 - val_accuracy: 0.9658 - val_loss: 0.1356\n",
      "Epoch 28/50\n",
      "\u001b[1m134/134\u001b[0m \u001b[32m━━━━━━━━━━━━━━━━━━━━\u001b[0m\u001b[37m\u001b[0m \u001b[1m1s\u001b[0m 9ms/step - accuracy: 0.9748 - loss: 0.0769 - val_accuracy: 0.9686 - val_loss: 0.1346\n",
      "Epoch 29/50\n",
      "\u001b[1m134/134\u001b[0m \u001b[32m━━━━━━━━━━━━━━━━━━━━\u001b[0m\u001b[37m\u001b[0m \u001b[1m2s\u001b[0m 11ms/step - accuracy: 0.9848 - loss: 0.0539 - val_accuracy: 0.9606 - val_loss: 0.1723\n",
      "Epoch 30/50\n",
      "\u001b[1m134/134\u001b[0m \u001b[32m━━━━━━━━━━━━━━━━━━━━\u001b[0m\u001b[37m\u001b[0m \u001b[1m2s\u001b[0m 12ms/step - accuracy: 0.9799 - loss: 0.0629 - val_accuracy: 0.9555 - val_loss: 0.2017\n",
      "Epoch 31/50\n",
      "\u001b[1m134/134\u001b[0m \u001b[32m━━━━━━━━━━━━━━━━━━━━\u001b[0m\u001b[37m\u001b[0m \u001b[1m2s\u001b[0m 12ms/step - accuracy: 0.9768 - loss: 0.0711 - val_accuracy: 0.9606 - val_loss: 0.1524\n",
      "Epoch 32/50\n",
      "\u001b[1m134/134\u001b[0m \u001b[32m━━━━━━━━━━━━━━━━━━━━\u001b[0m\u001b[37m\u001b[0m \u001b[1m2s\u001b[0m 11ms/step - accuracy: 0.9770 - loss: 0.0750 - val_accuracy: 0.9578 - val_loss: 0.1817\n",
      "Epoch 33/50\n",
      "\u001b[1m134/134\u001b[0m \u001b[32m━━━━━━━━━━━━━━━━━━━━\u001b[0m\u001b[37m\u001b[0m \u001b[1m1s\u001b[0m 10ms/step - accuracy: 0.9811 - loss: 0.0636 - val_accuracy: 0.9695 - val_loss: 0.1320\n",
      "Epoch 34/50\n",
      "\u001b[1m134/134\u001b[0m \u001b[32m━━━━━━━━━━━━━━━━━━━━\u001b[0m\u001b[37m\u001b[0m \u001b[1m2s\u001b[0m 12ms/step - accuracy: 0.9786 - loss: 0.0594 - val_accuracy: 0.9700 - val_loss: 0.1393\n",
      "Epoch 35/50\n",
      "\u001b[1m134/134\u001b[0m \u001b[32m━━━━━━━━━━━━━━━━━━━━\u001b[0m\u001b[37m\u001b[0m \u001b[1m1s\u001b[0m 11ms/step - accuracy: 0.9862 - loss: 0.0452 - val_accuracy: 0.9658 - val_loss: 0.1394\n",
      "Epoch 36/50\n",
      "\u001b[1m134/134\u001b[0m \u001b[32m━━━━━━━━━━━━━━━━━━━━\u001b[0m\u001b[37m\u001b[0m \u001b[1m2s\u001b[0m 12ms/step - accuracy: 0.9827 - loss: 0.0523 - val_accuracy: 0.9681 - val_loss: 0.1332\n",
      "Epoch 37/50\n",
      "\u001b[1m134/134\u001b[0m \u001b[32m━━━━━━━━━━━━━━━━━━━━\u001b[0m\u001b[37m\u001b[0m \u001b[1m2s\u001b[0m 12ms/step - accuracy: 0.9792 - loss: 0.0623 - val_accuracy: 0.9719 - val_loss: 0.1451\n",
      "Epoch 38/50\n",
      "\u001b[1m134/134\u001b[0m \u001b[32m━━━━━━━━━━━━━━━━━━━━\u001b[0m\u001b[37m\u001b[0m \u001b[1m2s\u001b[0m 12ms/step - accuracy: 0.9882 - loss: 0.0379 - val_accuracy: 0.9686 - val_loss: 0.1464\n",
      "Epoch 39/50\n",
      "\u001b[1m134/134\u001b[0m \u001b[32m━━━━━━━━━━━━━━━━━━━━\u001b[0m\u001b[37m\u001b[0m \u001b[1m2s\u001b[0m 12ms/step - accuracy: 0.9838 - loss: 0.0501 - val_accuracy: 0.9761 - val_loss: 0.1342\n",
      "Epoch 40/50\n",
      "\u001b[1m134/134\u001b[0m \u001b[32m━━━━━━━━━━━━━━━━━━━━\u001b[0m\u001b[37m\u001b[0m \u001b[1m1s\u001b[0m 11ms/step - accuracy: 0.9804 - loss: 0.0606 - val_accuracy: 0.9700 - val_loss: 0.1431\n",
      "Epoch 41/50\n",
      "\u001b[1m134/134\u001b[0m \u001b[32m━━━━━━━━━━━━━━━━━━━━\u001b[0m\u001b[37m\u001b[0m \u001b[1m2s\u001b[0m 11ms/step - accuracy: 0.9864 - loss: 0.0462 - val_accuracy: 0.9709 - val_loss: 0.1454\n",
      "Epoch 42/50\n",
      "\u001b[1m134/134\u001b[0m \u001b[32m━━━━━━━━━━━━━━━━━━━━\u001b[0m\u001b[37m\u001b[0m \u001b[1m2s\u001b[0m 11ms/step - accuracy: 0.9871 - loss: 0.0409 - val_accuracy: 0.9733 - val_loss: 0.1318\n",
      "Epoch 43/50\n",
      "\u001b[1m134/134\u001b[0m \u001b[32m━━━━━━━━━━━━━━━━━━━━\u001b[0m\u001b[37m\u001b[0m \u001b[1m2s\u001b[0m 11ms/step - accuracy: 0.9867 - loss: 0.0427 - val_accuracy: 0.9691 - val_loss: 0.1434\n",
      "Epoch 44/50\n",
      "\u001b[1m134/134\u001b[0m \u001b[32m━━━━━━━━━━━━━━━━━━━━\u001b[0m\u001b[37m\u001b[0m \u001b[1m1s\u001b[0m 10ms/step - accuracy: 0.9836 - loss: 0.0502 - val_accuracy: 0.9709 - val_loss: 0.1380\n",
      "Epoch 45/50\n",
      "\u001b[1m134/134\u001b[0m \u001b[32m━━━━━━━━━━━━━━━━━━━━\u001b[0m\u001b[37m\u001b[0m \u001b[1m1s\u001b[0m 11ms/step - accuracy: 0.9851 - loss: 0.0404 - val_accuracy: 0.9691 - val_loss: 0.1281\n",
      "Epoch 46/50\n",
      "\u001b[1m134/134\u001b[0m \u001b[32m━━━━━━━━━━━━━━━━━━━━\u001b[0m\u001b[37m\u001b[0m \u001b[1m1s\u001b[0m 11ms/step - accuracy: 0.9868 - loss: 0.0385 - val_accuracy: 0.9752 - val_loss: 0.1198\n",
      "Epoch 47/50\n",
      "\u001b[1m134/134\u001b[0m \u001b[32m━━━━━━━━━━━━━━━━━━━━\u001b[0m\u001b[37m\u001b[0m \u001b[1m1s\u001b[0m 11ms/step - accuracy: 0.9860 - loss: 0.0394 - val_accuracy: 0.9733 - val_loss: 0.1275\n",
      "Epoch 48/50\n",
      "\u001b[1m134/134\u001b[0m \u001b[32m━━━━━━━━━━━━━━━━━━━━\u001b[0m\u001b[37m\u001b[0m \u001b[1m1s\u001b[0m 11ms/step - accuracy: 0.9889 - loss: 0.0355 - val_accuracy: 0.9714 - val_loss: 0.1500\n",
      "Epoch 49/50\n",
      "\u001b[1m134/134\u001b[0m \u001b[32m━━━━━━━━━━━━━━━━━━━━\u001b[0m\u001b[37m\u001b[0m \u001b[1m1s\u001b[0m 9ms/step - accuracy: 0.9849 - loss: 0.0497 - val_accuracy: 0.9719 - val_loss: 0.1397\n",
      "Epoch 50/50\n",
      "\u001b[1m134/134\u001b[0m \u001b[32m━━━━━━━━━━━━━━━━━━━━\u001b[0m\u001b[37m\u001b[0m \u001b[1m2s\u001b[0m 12ms/step - accuracy: 0.9780 - loss: 0.0590 - val_accuracy: 0.9761 - val_loss: 0.1279\n"
     ]
    },
    {
     "data": {
      "text/html": [],
      "text/plain": [
       "<IPython.core.display.HTML object>"
      ]
     },
     "metadata": {},
     "output_type": "display_data"
    },
    {
     "data": {
      "text/html": [
       "<br>    <style><br>        .wandb-row {<br>            display: flex;<br>            flex-direction: row;<br>            flex-wrap: wrap;<br>            justify-content: flex-start;<br>            width: 100%;<br>        }<br>        .wandb-col {<br>            display: flex;<br>            flex-direction: column;<br>            flex-basis: 100%;<br>            flex: 1;<br>            padding: 10px;<br>        }<br>    </style><br><div class=\"wandb-row\"><div class=\"wandb-col\"><h3>Run history:</h3><br/><table class=\"wandb\"><tr><td>train_accuracy</td><td>▁</td></tr><tr><td>train_loss</td><td>▁</td></tr><tr><td>val_accuracy</td><td>▁</td></tr><tr><td>val_loss</td><td>▁</td></tr></table><br/></div><div class=\"wandb-col\"><h3>Run summary:</h3><br/><table class=\"wandb\"><tr><td>train_accuracy</td><td>0.98124</td></tr><tr><td>train_loss</td><td>0.05425</td></tr><tr><td>val_accuracy</td><td>0.97609</td></tr><tr><td>val_loss</td><td>0.12793</td></tr></table><br/></div></div>"
      ],
      "text/plain": [
       "<IPython.core.display.HTML object>"
      ]
     },
     "metadata": {},
     "output_type": "display_data"
    },
    {
     "data": {
      "text/html": [
       " View run <strong style=\"color:#cdcd00\">polished-sweep-6</strong> at: <a href='https://wandb.ai/renan-florencio-unicamp/DriverBehavior/runs/fp4pjgab' target=\"_blank\">https://wandb.ai/renan-florencio-unicamp/DriverBehavior/runs/fp4pjgab</a><br> View project at: <a href='https://wandb.ai/renan-florencio-unicamp/DriverBehavior' target=\"_blank\">https://wandb.ai/renan-florencio-unicamp/DriverBehavior</a><br>Synced 5 W&B file(s), 0 media file(s), 0 artifact file(s) and 0 other file(s)"
      ],
      "text/plain": [
       "<IPython.core.display.HTML object>"
      ]
     },
     "metadata": {},
     "output_type": "display_data"
    },
    {
     "data": {
      "text/html": [
       "Find logs at: <code>./wandb/run-20250127_171043-fp4pjgab/logs</code>"
      ],
      "text/plain": [
       "<IPython.core.display.HTML object>"
      ]
     },
     "metadata": {},
     "output_type": "display_data"
    },
    {
     "name": "stderr",
     "output_type": "stream",
     "text": [
      "\u001b[34m\u001b[1mwandb\u001b[0m: Agent Starting Run: x95rt9bq with config:\n",
      "\u001b[34m\u001b[1mwandb\u001b[0m: \tbatch_size: 128\n",
      "\u001b[34m\u001b[1mwandb\u001b[0m: \tepochs: 10\n"
     ]
    },
    {
     "data": {
      "text/html": [
       "Ignoring project 'DriverBehavior' when running a sweep."
      ],
      "text/plain": [
       "<IPython.core.display.HTML object>"
      ]
     },
     "metadata": {},
     "output_type": "display_data"
    },
    {
     "data": {
      "text/html": [
       "Tracking run with wandb version 0.19.4"
      ],
      "text/plain": [
       "<IPython.core.display.HTML object>"
      ]
     },
     "metadata": {},
     "output_type": "display_data"
    },
    {
     "data": {
      "text/html": [
       "Run data is saved locally in <code>/home/renan/Documents/datasets/dbdataset/wandb/run-20250127_171206-x95rt9bq</code>"
      ],
      "text/plain": [
       "<IPython.core.display.HTML object>"
      ]
     },
     "metadata": {},
     "output_type": "display_data"
    },
    {
     "data": {
      "text/html": [
       "Syncing run <strong><a href='https://wandb.ai/renan-florencio-unicamp/DriverBehavior/runs/x95rt9bq' target=\"_blank\">usual-sweep-7</a></strong> to <a href='https://wandb.ai/renan-florencio-unicamp/DriverBehavior' target=\"_blank\">Weights & Biases</a> (<a href='https://wandb.me/developer-guide' target=\"_blank\">docs</a>)<br>Sweep page: <a href='https://wandb.ai/renan-florencio-unicamp/DriverBehavior/sweeps/gut8lurp' target=\"_blank\">https://wandb.ai/renan-florencio-unicamp/DriverBehavior/sweeps/gut8lurp</a>"
      ],
      "text/plain": [
       "<IPython.core.display.HTML object>"
      ]
     },
     "metadata": {},
     "output_type": "display_data"
    },
    {
     "data": {
      "text/html": [
       " View project at <a href='https://wandb.ai/renan-florencio-unicamp/DriverBehavior' target=\"_blank\">https://wandb.ai/renan-florencio-unicamp/DriverBehavior</a>"
      ],
      "text/plain": [
       "<IPython.core.display.HTML object>"
      ]
     },
     "metadata": {},
     "output_type": "display_data"
    },
    {
     "data": {
      "text/html": [
       " View sweep at <a href='https://wandb.ai/renan-florencio-unicamp/DriverBehavior/sweeps/gut8lurp' target=\"_blank\">https://wandb.ai/renan-florencio-unicamp/DriverBehavior/sweeps/gut8lurp</a>"
      ],
      "text/plain": [
       "<IPython.core.display.HTML object>"
      ]
     },
     "metadata": {},
     "output_type": "display_data"
    },
    {
     "data": {
      "text/html": [
       " View run at <a href='https://wandb.ai/renan-florencio-unicamp/DriverBehavior/runs/x95rt9bq' target=\"_blank\">https://wandb.ai/renan-florencio-unicamp/DriverBehavior/runs/x95rt9bq</a>"
      ],
      "text/plain": [
       "<IPython.core.display.HTML object>"
      ]
     },
     "metadata": {},
     "output_type": "display_data"
    },
    {
     "name": "stdout",
     "output_type": "stream",
     "text": [
      "Epoch 1/10\n",
      "\u001b[1m67/67\u001b[0m \u001b[32m━━━━━━━━━━━━━━━━━━━━\u001b[0m\u001b[37m\u001b[0m \u001b[1m3s\u001b[0m 17ms/step - accuracy: 0.4989 - loss: 1.4532 - val_accuracy: 0.8228 - val_loss: 0.5362\n",
      "Epoch 2/10\n",
      "\u001b[1m67/67\u001b[0m \u001b[32m━━━━━━━━━━━━━━━━━━━━\u001b[0m\u001b[37m\u001b[0m \u001b[1m1s\u001b[0m 17ms/step - accuracy: 0.7661 - loss: 0.6764 - val_accuracy: 0.8664 - val_loss: 0.4044\n",
      "Epoch 3/10\n",
      "\u001b[1m67/67\u001b[0m \u001b[32m━━━━━━━━━━━━━━━━━━━━\u001b[0m\u001b[37m\u001b[0m \u001b[1m1s\u001b[0m 17ms/step - accuracy: 0.8208 - loss: 0.5339 - val_accuracy: 0.8823 - val_loss: 0.3463\n",
      "Epoch 4/10\n",
      "\u001b[1m67/67\u001b[0m \u001b[32m━━━━━━━━━━━━━━━━━━━━\u001b[0m\u001b[37m\u001b[0m \u001b[1m1s\u001b[0m 14ms/step - accuracy: 0.8493 - loss: 0.4353 - val_accuracy: 0.9109 - val_loss: 0.2698\n",
      "Epoch 5/10\n",
      "\u001b[1m67/67\u001b[0m \u001b[32m━━━━━━━━━━━━━━━━━━━━\u001b[0m\u001b[37m\u001b[0m \u001b[1m1s\u001b[0m 17ms/step - accuracy: 0.8760 - loss: 0.3587 - val_accuracy: 0.9072 - val_loss: 0.2831\n",
      "Epoch 6/10\n",
      "\u001b[1m67/67\u001b[0m \u001b[32m━━━━━━━━━━━━━━━━━━━━\u001b[0m\u001b[37m\u001b[0m \u001b[1m1s\u001b[0m 17ms/step - accuracy: 0.8983 - loss: 0.3140 - val_accuracy: 0.9297 - val_loss: 0.2236\n",
      "Epoch 7/10\n",
      "\u001b[1m67/67\u001b[0m \u001b[32m━━━━━━━━━━━━━━━━━━━━\u001b[0m\u001b[37m\u001b[0m \u001b[1m1s\u001b[0m 16ms/step - accuracy: 0.9082 - loss: 0.2759 - val_accuracy: 0.9278 - val_loss: 0.2219\n",
      "Epoch 8/10\n",
      "\u001b[1m67/67\u001b[0m \u001b[32m━━━━━━━━━━━━━━━━━━━━\u001b[0m\u001b[37m\u001b[0m \u001b[1m1s\u001b[0m 16ms/step - accuracy: 0.9108 - loss: 0.2623 - val_accuracy: 0.9409 - val_loss: 0.1902\n",
      "Epoch 9/10\n",
      "\u001b[1m67/67\u001b[0m \u001b[32m━━━━━━━━━━━━━━━━━━━━\u001b[0m\u001b[37m\u001b[0m \u001b[1m1s\u001b[0m 15ms/step - accuracy: 0.9267 - loss: 0.2201 - val_accuracy: 0.9414 - val_loss: 0.1867\n",
      "Epoch 10/10\n",
      "\u001b[1m67/67\u001b[0m \u001b[32m━━━━━━━━━━━━━━━━━━━━\u001b[0m\u001b[37m\u001b[0m \u001b[1m1s\u001b[0m 16ms/step - accuracy: 0.9320 - loss: 0.2029 - val_accuracy: 0.9362 - val_loss: 0.1991\n"
     ]
    },
    {
     "data": {
      "text/html": [],
      "text/plain": [
       "<IPython.core.display.HTML object>"
      ]
     },
     "metadata": {},
     "output_type": "display_data"
    },
    {
     "data": {
      "text/html": [
       "<br>    <style><br>        .wandb-row {<br>            display: flex;<br>            flex-direction: row;<br>            flex-wrap: wrap;<br>            justify-content: flex-start;<br>            width: 100%;<br>        }<br>        .wandb-col {<br>            display: flex;<br>            flex-direction: column;<br>            flex-basis: 100%;<br>            flex: 1;<br>            padding: 10px;<br>        }<br>    </style><br><div class=\"wandb-row\"><div class=\"wandb-col\"><h3>Run history:</h3><br/><table class=\"wandb\"><tr><td>train_accuracy</td><td>▁</td></tr><tr><td>train_loss</td><td>▁</td></tr><tr><td>val_accuracy</td><td>▁</td></tr><tr><td>val_loss</td><td>▁</td></tr></table><br/></div><div class=\"wandb-col\"><h3>Run summary:</h3><br/><table class=\"wandb\"><tr><td>train_accuracy</td><td>0.93189</td></tr><tr><td>train_loss</td><td>0.20206</td></tr><tr><td>val_accuracy</td><td>0.93624</td></tr><tr><td>val_loss</td><td>0.19907</td></tr></table><br/></div></div>"
      ],
      "text/plain": [
       "<IPython.core.display.HTML object>"
      ]
     },
     "metadata": {},
     "output_type": "display_data"
    },
    {
     "data": {
      "text/html": [
       " View run <strong style=\"color:#cdcd00\">usual-sweep-7</strong> at: <a href='https://wandb.ai/renan-florencio-unicamp/DriverBehavior/runs/x95rt9bq' target=\"_blank\">https://wandb.ai/renan-florencio-unicamp/DriverBehavior/runs/x95rt9bq</a><br> View project at: <a href='https://wandb.ai/renan-florencio-unicamp/DriverBehavior' target=\"_blank\">https://wandb.ai/renan-florencio-unicamp/DriverBehavior</a><br>Synced 5 W&B file(s), 0 media file(s), 0 artifact file(s) and 0 other file(s)"
      ],
      "text/plain": [
       "<IPython.core.display.HTML object>"
      ]
     },
     "metadata": {},
     "output_type": "display_data"
    },
    {
     "data": {
      "text/html": [
       "Find logs at: <code>./wandb/run-20250127_171206-x95rt9bq/logs</code>"
      ],
      "text/plain": [
       "<IPython.core.display.HTML object>"
      ]
     },
     "metadata": {},
     "output_type": "display_data"
    },
    {
     "name": "stderr",
     "output_type": "stream",
     "text": [
      "\u001b[34m\u001b[1mwandb\u001b[0m: Agent Starting Run: huhy15vj with config:\n",
      "\u001b[34m\u001b[1mwandb\u001b[0m: \tbatch_size: 128\n",
      "\u001b[34m\u001b[1mwandb\u001b[0m: \tepochs: 25\n"
     ]
    },
    {
     "data": {
      "text/html": [
       "Ignoring project 'DriverBehavior' when running a sweep."
      ],
      "text/plain": [
       "<IPython.core.display.HTML object>"
      ]
     },
     "metadata": {},
     "output_type": "display_data"
    },
    {
     "data": {
      "text/html": [
       "Tracking run with wandb version 0.19.4"
      ],
      "text/plain": [
       "<IPython.core.display.HTML object>"
      ]
     },
     "metadata": {},
     "output_type": "display_data"
    },
    {
     "data": {
      "text/html": [
       "Run data is saved locally in <code>/home/renan/Documents/datasets/dbdataset/wandb/run-20250127_171227-huhy15vj</code>"
      ],
      "text/plain": [
       "<IPython.core.display.HTML object>"
      ]
     },
     "metadata": {},
     "output_type": "display_data"
    },
    {
     "data": {
      "text/html": [
       "Syncing run <strong><a href='https://wandb.ai/renan-florencio-unicamp/DriverBehavior/runs/huhy15vj' target=\"_blank\">breezy-sweep-8</a></strong> to <a href='https://wandb.ai/renan-florencio-unicamp/DriverBehavior' target=\"_blank\">Weights & Biases</a> (<a href='https://wandb.me/developer-guide' target=\"_blank\">docs</a>)<br>Sweep page: <a href='https://wandb.ai/renan-florencio-unicamp/DriverBehavior/sweeps/gut8lurp' target=\"_blank\">https://wandb.ai/renan-florencio-unicamp/DriverBehavior/sweeps/gut8lurp</a>"
      ],
      "text/plain": [
       "<IPython.core.display.HTML object>"
      ]
     },
     "metadata": {},
     "output_type": "display_data"
    },
    {
     "data": {
      "text/html": [
       " View project at <a href='https://wandb.ai/renan-florencio-unicamp/DriverBehavior' target=\"_blank\">https://wandb.ai/renan-florencio-unicamp/DriverBehavior</a>"
      ],
      "text/plain": [
       "<IPython.core.display.HTML object>"
      ]
     },
     "metadata": {},
     "output_type": "display_data"
    },
    {
     "data": {
      "text/html": [
       " View sweep at <a href='https://wandb.ai/renan-florencio-unicamp/DriverBehavior/sweeps/gut8lurp' target=\"_blank\">https://wandb.ai/renan-florencio-unicamp/DriverBehavior/sweeps/gut8lurp</a>"
      ],
      "text/plain": [
       "<IPython.core.display.HTML object>"
      ]
     },
     "metadata": {},
     "output_type": "display_data"
    },
    {
     "data": {
      "text/html": [
       " View run at <a href='https://wandb.ai/renan-florencio-unicamp/DriverBehavior/runs/huhy15vj' target=\"_blank\">https://wandb.ai/renan-florencio-unicamp/DriverBehavior/runs/huhy15vj</a>"
      ],
      "text/plain": [
       "<IPython.core.display.HTML object>"
      ]
     },
     "metadata": {},
     "output_type": "display_data"
    },
    {
     "name": "stdout",
     "output_type": "stream",
     "text": [
      "Epoch 1/25\n",
      "\u001b[1m67/67\u001b[0m \u001b[32m━━━━━━━━━━━━━━━━━━━━\u001b[0m\u001b[37m\u001b[0m \u001b[1m3s\u001b[0m 17ms/step - accuracy: 0.4712 - loss: 1.5265 - val_accuracy: 0.7979 - val_loss: 0.5860\n",
      "Epoch 2/25\n",
      "\u001b[1m67/67\u001b[0m \u001b[32m━━━━━━━━━━━━━━━━━━━━\u001b[0m\u001b[37m\u001b[0m \u001b[1m1s\u001b[0m 15ms/step - accuracy: 0.7648 - loss: 0.7112 - val_accuracy: 0.8697 - val_loss: 0.3809\n",
      "Epoch 3/25\n",
      "\u001b[1m67/67\u001b[0m \u001b[32m━━━━━━━━━━━━━━━━━━━━\u001b[0m\u001b[37m\u001b[0m \u001b[1m1s\u001b[0m 16ms/step - accuracy: 0.8106 - loss: 0.5406 - val_accuracy: 0.8973 - val_loss: 0.3127\n",
      "Epoch 4/25\n",
      "\u001b[1m67/67\u001b[0m \u001b[32m━━━━━━━━━━━━━━━━━━━━\u001b[0m\u001b[37m\u001b[0m \u001b[1m1s\u001b[0m 15ms/step - accuracy: 0.8418 - loss: 0.4649 - val_accuracy: 0.9090 - val_loss: 0.2755\n",
      "Epoch 5/25\n",
      "\u001b[1m67/67\u001b[0m \u001b[32m━━━━━━━━━━━━━━━━━━━━\u001b[0m\u001b[37m\u001b[0m \u001b[1m1s\u001b[0m 17ms/step - accuracy: 0.8810 - loss: 0.3447 - val_accuracy: 0.9161 - val_loss: 0.2475\n",
      "Epoch 6/25\n",
      "\u001b[1m67/67\u001b[0m \u001b[32m━━━━━━━━━━━━━━━━━━━━\u001b[0m\u001b[37m\u001b[0m \u001b[1m1s\u001b[0m 16ms/step - accuracy: 0.8948 - loss: 0.3079 - val_accuracy: 0.9212 - val_loss: 0.2312\n",
      "Epoch 7/25\n",
      "\u001b[1m67/67\u001b[0m \u001b[32m━━━━━━━━━━━━━━━━━━━━\u001b[0m\u001b[37m\u001b[0m \u001b[1m1s\u001b[0m 16ms/step - accuracy: 0.8988 - loss: 0.2868 - val_accuracy: 0.9348 - val_loss: 0.2044\n",
      "Epoch 8/25\n",
      "\u001b[1m67/67\u001b[0m \u001b[32m━━━━━━━━━━━━━━━━━━━━\u001b[0m\u001b[37m\u001b[0m \u001b[1m1s\u001b[0m 16ms/step - accuracy: 0.9161 - loss: 0.2493 - val_accuracy: 0.9325 - val_loss: 0.2312\n",
      "Epoch 9/25\n",
      "\u001b[1m67/67\u001b[0m \u001b[32m━━━━━━━━━━━━━━━━━━━━\u001b[0m\u001b[37m\u001b[0m \u001b[1m1s\u001b[0m 15ms/step - accuracy: 0.9216 - loss: 0.2381 - val_accuracy: 0.9353 - val_loss: 0.1934\n",
      "Epoch 10/25\n",
      "\u001b[1m67/67\u001b[0m \u001b[32m━━━━━━━━━━━━━━━━━━━━\u001b[0m\u001b[37m\u001b[0m \u001b[1m1s\u001b[0m 17ms/step - accuracy: 0.9345 - loss: 0.1943 - val_accuracy: 0.9466 - val_loss: 0.1683\n",
      "Epoch 11/25\n",
      "\u001b[1m67/67\u001b[0m \u001b[32m━━━━━━━━━━━━━━━━━━━━\u001b[0m\u001b[37m\u001b[0m \u001b[1m1s\u001b[0m 17ms/step - accuracy: 0.9411 - loss: 0.1786 - val_accuracy: 0.9498 - val_loss: 0.1664\n",
      "Epoch 12/25\n",
      "\u001b[1m67/67\u001b[0m \u001b[32m━━━━━━━━━━━━━━━━━━━━\u001b[0m\u001b[37m\u001b[0m \u001b[1m1s\u001b[0m 17ms/step - accuracy: 0.9480 - loss: 0.1668 - val_accuracy: 0.9541 - val_loss: 0.1477\n",
      "Epoch 13/25\n",
      "\u001b[1m67/67\u001b[0m \u001b[32m━━━━━━━━━━━━━━━━━━━━\u001b[0m\u001b[37m\u001b[0m \u001b[1m1s\u001b[0m 15ms/step - accuracy: 0.9408 - loss: 0.1606 - val_accuracy: 0.9503 - val_loss: 0.1530\n",
      "Epoch 14/25\n",
      "\u001b[1m67/67\u001b[0m \u001b[32m━━━━━━━━━━━━━━━━━━━━\u001b[0m\u001b[37m\u001b[0m \u001b[1m1s\u001b[0m 15ms/step - accuracy: 0.9523 - loss: 0.1510 - val_accuracy: 0.9545 - val_loss: 0.1348\n",
      "Epoch 15/25\n",
      "\u001b[1m67/67\u001b[0m \u001b[32m━━━━━━━━━━━━━━━━━━━━\u001b[0m\u001b[37m\u001b[0m \u001b[1m1s\u001b[0m 15ms/step - accuracy: 0.9548 - loss: 0.1316 - val_accuracy: 0.9494 - val_loss: 0.1544\n",
      "Epoch 16/25\n",
      "\u001b[1m67/67\u001b[0m \u001b[32m━━━━━━━━━━━━━━━━━━━━\u001b[0m\u001b[37m\u001b[0m \u001b[1m1s\u001b[0m 14ms/step - accuracy: 0.9541 - loss: 0.1357 - val_accuracy: 0.9578 - val_loss: 0.1422\n",
      "Epoch 17/25\n",
      "\u001b[1m67/67\u001b[0m \u001b[32m━━━━━━━━━━━━━━━━━━━━\u001b[0m\u001b[37m\u001b[0m \u001b[1m1s\u001b[0m 15ms/step - accuracy: 0.9616 - loss: 0.1176 - val_accuracy: 0.9555 - val_loss: 0.1428\n",
      "Epoch 18/25\n",
      "\u001b[1m67/67\u001b[0m \u001b[32m━━━━━━━━━━━━━━━━━━━━\u001b[0m\u001b[37m\u001b[0m \u001b[1m1s\u001b[0m 16ms/step - accuracy: 0.9590 - loss: 0.1165 - val_accuracy: 0.9536 - val_loss: 0.1606\n",
      "Epoch 19/25\n",
      "\u001b[1m67/67\u001b[0m \u001b[32m━━━━━━━━━━━━━━━━━━━━\u001b[0m\u001b[37m\u001b[0m \u001b[1m1s\u001b[0m 16ms/step - accuracy: 0.9610 - loss: 0.1151 - val_accuracy: 0.9531 - val_loss: 0.1603\n",
      "Epoch 20/25\n",
      "\u001b[1m67/67\u001b[0m \u001b[32m━━━━━━━━━━━━━━━━━━━━\u001b[0m\u001b[37m\u001b[0m \u001b[1m1s\u001b[0m 16ms/step - accuracy: 0.9617 - loss: 0.1163 - val_accuracy: 0.9625 - val_loss: 0.1334\n",
      "Epoch 21/25\n",
      "\u001b[1m67/67\u001b[0m \u001b[32m━━━━━━━━━━━━━━━━━━━━\u001b[0m\u001b[37m\u001b[0m \u001b[1m1s\u001b[0m 14ms/step - accuracy: 0.9670 - loss: 0.1030 - val_accuracy: 0.9597 - val_loss: 0.1368\n",
      "Epoch 22/25\n",
      "\u001b[1m67/67\u001b[0m \u001b[32m━━━━━━━━━━━━━━━━━━━━\u001b[0m\u001b[37m\u001b[0m \u001b[1m1s\u001b[0m 16ms/step - accuracy: 0.9676 - loss: 0.0934 - val_accuracy: 0.9630 - val_loss: 0.1297\n",
      "Epoch 23/25\n",
      "\u001b[1m67/67\u001b[0m \u001b[32m━━━━━━━━━━━━━━━━━━━━\u001b[0m\u001b[37m\u001b[0m \u001b[1m1s\u001b[0m 16ms/step - accuracy: 0.9728 - loss: 0.0854 - val_accuracy: 0.9620 - val_loss: 0.1309\n",
      "Epoch 24/25\n",
      "\u001b[1m67/67\u001b[0m \u001b[32m━━━━━━━━━━━━━━━━━━━━\u001b[0m\u001b[37m\u001b[0m \u001b[1m1s\u001b[0m 16ms/step - accuracy: 0.9739 - loss: 0.0855 - val_accuracy: 0.9545 - val_loss: 0.1537\n",
      "Epoch 25/25\n",
      "\u001b[1m67/67\u001b[0m \u001b[32m━━━━━━━━━━━━━━━━━━━━\u001b[0m\u001b[37m\u001b[0m \u001b[1m1s\u001b[0m 17ms/step - accuracy: 0.9705 - loss: 0.0825 - val_accuracy: 0.9630 - val_loss: 0.1376\n"
     ]
    },
    {
     "data": {
      "text/html": [],
      "text/plain": [
       "<IPython.core.display.HTML object>"
      ]
     },
     "metadata": {},
     "output_type": "display_data"
    },
    {
     "data": {
      "text/html": [
       "<br>    <style><br>        .wandb-row {<br>            display: flex;<br>            flex-direction: row;<br>            flex-wrap: wrap;<br>            justify-content: flex-start;<br>            width: 100%;<br>        }<br>        .wandb-col {<br>            display: flex;<br>            flex-direction: column;<br>            flex-basis: 100%;<br>            flex: 1;<br>            padding: 10px;<br>        }<br>    </style><br><div class=\"wandb-row\"><div class=\"wandb-col\"><h3>Run history:</h3><br/><table class=\"wandb\"><tr><td>train_accuracy</td><td>▁</td></tr><tr><td>train_loss</td><td>▁</td></tr><tr><td>val_accuracy</td><td>▁</td></tr><tr><td>val_loss</td><td>▁</td></tr></table><br/></div><div class=\"wandb-col\"><h3>Run summary:</h3><br/><table class=\"wandb\"><tr><td>train_accuracy</td><td>0.97022</td></tr><tr><td>train_loss</td><td>0.08487</td></tr><tr><td>val_accuracy</td><td>0.96296</td></tr><tr><td>val_loss</td><td>0.13763</td></tr></table><br/></div></div>"
      ],
      "text/plain": [
       "<IPython.core.display.HTML object>"
      ]
     },
     "metadata": {},
     "output_type": "display_data"
    },
    {
     "data": {
      "text/html": [
       " View run <strong style=\"color:#cdcd00\">breezy-sweep-8</strong> at: <a href='https://wandb.ai/renan-florencio-unicamp/DriverBehavior/runs/huhy15vj' target=\"_blank\">https://wandb.ai/renan-florencio-unicamp/DriverBehavior/runs/huhy15vj</a><br> View project at: <a href='https://wandb.ai/renan-florencio-unicamp/DriverBehavior' target=\"_blank\">https://wandb.ai/renan-florencio-unicamp/DriverBehavior</a><br>Synced 5 W&B file(s), 0 media file(s), 0 artifact file(s) and 0 other file(s)"
      ],
      "text/plain": [
       "<IPython.core.display.HTML object>"
      ]
     },
     "metadata": {},
     "output_type": "display_data"
    },
    {
     "data": {
      "text/html": [
       "Find logs at: <code>./wandb/run-20250127_171227-huhy15vj/logs</code>"
      ],
      "text/plain": [
       "<IPython.core.display.HTML object>"
      ]
     },
     "metadata": {},
     "output_type": "display_data"
    },
    {
     "name": "stderr",
     "output_type": "stream",
     "text": [
      "\u001b[34m\u001b[1mwandb\u001b[0m: Agent Starting Run: xgjz54bz with config:\n",
      "\u001b[34m\u001b[1mwandb\u001b[0m: \tbatch_size: 128\n",
      "\u001b[34m\u001b[1mwandb\u001b[0m: \tepochs: 50\n"
     ]
    },
    {
     "data": {
      "text/html": [
       "Ignoring project 'DriverBehavior' when running a sweep."
      ],
      "text/plain": [
       "<IPython.core.display.HTML object>"
      ]
     },
     "metadata": {},
     "output_type": "display_data"
    },
    {
     "data": {
      "text/html": [
       "Tracking run with wandb version 0.19.4"
      ],
      "text/plain": [
       "<IPython.core.display.HTML object>"
      ]
     },
     "metadata": {},
     "output_type": "display_data"
    },
    {
     "data": {
      "text/html": [
       "Run data is saved locally in <code>/home/renan/Documents/datasets/dbdataset/wandb/run-20250127_171305-xgjz54bz</code>"
      ],
      "text/plain": [
       "<IPython.core.display.HTML object>"
      ]
     },
     "metadata": {},
     "output_type": "display_data"
    },
    {
     "data": {
      "text/html": [
       "Syncing run <strong><a href='https://wandb.ai/renan-florencio-unicamp/DriverBehavior/runs/xgjz54bz' target=\"_blank\">smart-sweep-9</a></strong> to <a href='https://wandb.ai/renan-florencio-unicamp/DriverBehavior' target=\"_blank\">Weights & Biases</a> (<a href='https://wandb.me/developer-guide' target=\"_blank\">docs</a>)<br>Sweep page: <a href='https://wandb.ai/renan-florencio-unicamp/DriverBehavior/sweeps/gut8lurp' target=\"_blank\">https://wandb.ai/renan-florencio-unicamp/DriverBehavior/sweeps/gut8lurp</a>"
      ],
      "text/plain": [
       "<IPython.core.display.HTML object>"
      ]
     },
     "metadata": {},
     "output_type": "display_data"
    },
    {
     "data": {
      "text/html": [
       " View project at <a href='https://wandb.ai/renan-florencio-unicamp/DriverBehavior' target=\"_blank\">https://wandb.ai/renan-florencio-unicamp/DriverBehavior</a>"
      ],
      "text/plain": [
       "<IPython.core.display.HTML object>"
      ]
     },
     "metadata": {},
     "output_type": "display_data"
    },
    {
     "data": {
      "text/html": [
       " View sweep at <a href='https://wandb.ai/renan-florencio-unicamp/DriverBehavior/sweeps/gut8lurp' target=\"_blank\">https://wandb.ai/renan-florencio-unicamp/DriverBehavior/sweeps/gut8lurp</a>"
      ],
      "text/plain": [
       "<IPython.core.display.HTML object>"
      ]
     },
     "metadata": {},
     "output_type": "display_data"
    },
    {
     "data": {
      "text/html": [
       " View run at <a href='https://wandb.ai/renan-florencio-unicamp/DriverBehavior/runs/xgjz54bz' target=\"_blank\">https://wandb.ai/renan-florencio-unicamp/DriverBehavior/runs/xgjz54bz</a>"
      ],
      "text/plain": [
       "<IPython.core.display.HTML object>"
      ]
     },
     "metadata": {},
     "output_type": "display_data"
    },
    {
     "name": "stdout",
     "output_type": "stream",
     "text": [
      "Epoch 1/50\n",
      "\u001b[1m67/67\u001b[0m \u001b[32m━━━━━━━━━━━━━━━━━━━━\u001b[0m\u001b[37m\u001b[0m \u001b[1m3s\u001b[0m 18ms/step - accuracy: 0.4816 - loss: 1.5145 - val_accuracy: 0.8158 - val_loss: 0.5422\n",
      "Epoch 2/50\n",
      "\u001b[1m67/67\u001b[0m \u001b[32m━━━━━━━━━━━━━━━━━━━━\u001b[0m\u001b[37m\u001b[0m \u001b[1m1s\u001b[0m 16ms/step - accuracy: 0.7641 - loss: 0.6851 - val_accuracy: 0.8805 - val_loss: 0.3798\n",
      "Epoch 3/50\n",
      "\u001b[1m67/67\u001b[0m \u001b[32m━━━━━━━━━━━━━━━━━━━━\u001b[0m\u001b[37m\u001b[0m \u001b[1m1s\u001b[0m 17ms/step - accuracy: 0.8205 - loss: 0.5247 - val_accuracy: 0.8973 - val_loss: 0.3135\n",
      "Epoch 4/50\n",
      "\u001b[1m67/67\u001b[0m \u001b[32m━━━━━━━━━━━━━━━━━━━━\u001b[0m\u001b[37m\u001b[0m \u001b[1m1s\u001b[0m 16ms/step - accuracy: 0.8611 - loss: 0.4233 - val_accuracy: 0.9067 - val_loss: 0.2720\n",
      "Epoch 5/50\n",
      "\u001b[1m67/67\u001b[0m \u001b[32m━━━━━━━━━━━━━━━━━━━━\u001b[0m\u001b[37m\u001b[0m \u001b[1m1s\u001b[0m 17ms/step - accuracy: 0.8782 - loss: 0.3567 - val_accuracy: 0.9203 - val_loss: 0.2335\n",
      "Epoch 6/50\n",
      "\u001b[1m67/67\u001b[0m \u001b[32m━━━━━━━━━━━━━━━━━━━━\u001b[0m\u001b[37m\u001b[0m \u001b[1m1s\u001b[0m 16ms/step - accuracy: 0.8902 - loss: 0.3233 - val_accuracy: 0.9198 - val_loss: 0.2284\n",
      "Epoch 7/50\n",
      "\u001b[1m67/67\u001b[0m \u001b[32m━━━━━━━━━━━━━━━━━━━━\u001b[0m\u001b[37m\u001b[0m \u001b[1m1s\u001b[0m 17ms/step - accuracy: 0.9071 - loss: 0.2794 - val_accuracy: 0.9339 - val_loss: 0.1972\n",
      "Epoch 8/50\n",
      "\u001b[1m67/67\u001b[0m \u001b[32m━━━━━━━━━━━━━━━━━━━━\u001b[0m\u001b[37m\u001b[0m \u001b[1m1s\u001b[0m 17ms/step - accuracy: 0.9188 - loss: 0.2312 - val_accuracy: 0.9395 - val_loss: 0.1936\n",
      "Epoch 9/50\n",
      "\u001b[1m67/67\u001b[0m \u001b[32m━━━━━━━━━━━━━━━━━━━━\u001b[0m\u001b[37m\u001b[0m \u001b[1m1s\u001b[0m 16ms/step - accuracy: 0.9252 - loss: 0.2237 - val_accuracy: 0.9376 - val_loss: 0.1865\n",
      "Epoch 10/50\n",
      "\u001b[1m67/67\u001b[0m \u001b[32m━━━━━━━━━━━━━━━━━━━━\u001b[0m\u001b[37m\u001b[0m \u001b[1m1s\u001b[0m 16ms/step - accuracy: 0.9366 - loss: 0.1984 - val_accuracy: 0.9419 - val_loss: 0.1797\n",
      "Epoch 11/50\n",
      "\u001b[1m67/67\u001b[0m \u001b[32m━━━━━━━━━━━━━━━━━━━━\u001b[0m\u001b[37m\u001b[0m \u001b[1m1s\u001b[0m 16ms/step - accuracy: 0.9388 - loss: 0.1770 - val_accuracy: 0.9451 - val_loss: 0.1850\n",
      "Epoch 12/50\n",
      "\u001b[1m67/67\u001b[0m \u001b[32m━━━━━━━━━━━━━━━━━━━━\u001b[0m\u001b[37m\u001b[0m \u001b[1m1s\u001b[0m 16ms/step - accuracy: 0.9446 - loss: 0.1649 - val_accuracy: 0.9447 - val_loss: 0.1772\n",
      "Epoch 13/50\n",
      "\u001b[1m67/67\u001b[0m \u001b[32m━━━━━━━━━━━━━━━━━━━━\u001b[0m\u001b[37m\u001b[0m \u001b[1m1s\u001b[0m 15ms/step - accuracy: 0.9398 - loss: 0.1689 - val_accuracy: 0.9550 - val_loss: 0.1383\n",
      "Epoch 14/50\n",
      "\u001b[1m67/67\u001b[0m \u001b[32m━━━━━━━━━━━━━━━━━━━━\u001b[0m\u001b[37m\u001b[0m \u001b[1m1s\u001b[0m 16ms/step - accuracy: 0.9469 - loss: 0.1617 - val_accuracy: 0.9536 - val_loss: 0.1445\n",
      "Epoch 15/50\n",
      "\u001b[1m67/67\u001b[0m \u001b[32m━━━━━━━━━━━━━━━━━━━━\u001b[0m\u001b[37m\u001b[0m \u001b[1m1s\u001b[0m 16ms/step - accuracy: 0.9562 - loss: 0.1330 - val_accuracy: 0.9531 - val_loss: 0.1365\n",
      "Epoch 16/50\n",
      "\u001b[1m67/67\u001b[0m \u001b[32m━━━━━━━━━━━━━━━━━━━━\u001b[0m\u001b[37m\u001b[0m \u001b[1m1s\u001b[0m 17ms/step - accuracy: 0.9553 - loss: 0.1327 - val_accuracy: 0.9489 - val_loss: 0.1644\n",
      "Epoch 17/50\n",
      "\u001b[1m67/67\u001b[0m \u001b[32m━━━━━━━━━━━━━━━━━━━━\u001b[0m\u001b[37m\u001b[0m \u001b[1m1s\u001b[0m 16ms/step - accuracy: 0.9599 - loss: 0.1167 - val_accuracy: 0.9555 - val_loss: 0.1408\n",
      "Epoch 18/50\n",
      "\u001b[1m67/67\u001b[0m \u001b[32m━━━━━━━━━━━━━━━━━━━━\u001b[0m\u001b[37m\u001b[0m \u001b[1m1s\u001b[0m 17ms/step - accuracy: 0.9621 - loss: 0.1150 - val_accuracy: 0.9555 - val_loss: 0.1536\n",
      "Epoch 19/50\n",
      "\u001b[1m67/67\u001b[0m \u001b[32m━━━━━━━━━━━━━━━━━━━━\u001b[0m\u001b[37m\u001b[0m \u001b[1m1s\u001b[0m 15ms/step - accuracy: 0.9624 - loss: 0.1166 - val_accuracy: 0.9583 - val_loss: 0.1629\n",
      "Epoch 20/50\n",
      "\u001b[1m67/67\u001b[0m \u001b[32m━━━━━━━━━━━━━━━━━━━━\u001b[0m\u001b[37m\u001b[0m \u001b[1m1s\u001b[0m 16ms/step - accuracy: 0.9648 - loss: 0.1001 - val_accuracy: 0.9541 - val_loss: 0.1552\n",
      "Epoch 21/50\n",
      "\u001b[1m67/67\u001b[0m \u001b[32m━━━━━━━━━━━━━━━━━━━━\u001b[0m\u001b[37m\u001b[0m \u001b[1m1s\u001b[0m 16ms/step - accuracy: 0.9625 - loss: 0.1052 - val_accuracy: 0.9602 - val_loss: 0.1511\n",
      "Epoch 22/50\n",
      "\u001b[1m67/67\u001b[0m \u001b[32m━━━━━━━━━━━━━━━━━━━━\u001b[0m\u001b[37m\u001b[0m \u001b[1m1s\u001b[0m 17ms/step - accuracy: 0.9671 - loss: 0.0988 - val_accuracy: 0.9592 - val_loss: 0.1432\n",
      "Epoch 23/50\n",
      "\u001b[1m67/67\u001b[0m \u001b[32m━━━━━━━━━━━━━━━━━━━━\u001b[0m\u001b[37m\u001b[0m \u001b[1m1s\u001b[0m 15ms/step - accuracy: 0.9675 - loss: 0.0958 - val_accuracy: 0.9536 - val_loss: 0.1733\n",
      "Epoch 24/50\n",
      "\u001b[1m67/67\u001b[0m \u001b[32m━━━━━━━━━━━━━━━━━━━━\u001b[0m\u001b[37m\u001b[0m \u001b[1m1s\u001b[0m 16ms/step - accuracy: 0.9706 - loss: 0.0902 - val_accuracy: 0.9606 - val_loss: 0.1472\n",
      "Epoch 25/50\n",
      "\u001b[1m67/67\u001b[0m \u001b[32m━━━━━━━━━━━━━━━━━━━━\u001b[0m\u001b[37m\u001b[0m \u001b[1m1s\u001b[0m 16ms/step - accuracy: 0.9740 - loss: 0.0829 - val_accuracy: 0.9620 - val_loss: 0.1456\n",
      "Epoch 26/50\n",
      "\u001b[1m67/67\u001b[0m \u001b[32m━━━━━━━━━━━━━━━━━━━━\u001b[0m\u001b[37m\u001b[0m \u001b[1m1s\u001b[0m 15ms/step - accuracy: 0.9745 - loss: 0.0776 - val_accuracy: 0.9667 - val_loss: 0.1256\n",
      "Epoch 27/50\n",
      "\u001b[1m67/67\u001b[0m \u001b[32m━━━━━━━━━━━━━━━━━━━━\u001b[0m\u001b[37m\u001b[0m \u001b[1m1s\u001b[0m 16ms/step - accuracy: 0.9771 - loss: 0.0705 - val_accuracy: 0.9672 - val_loss: 0.1163\n",
      "Epoch 28/50\n",
      "\u001b[1m67/67\u001b[0m \u001b[32m━━━━━━━━━━━━━━━━━━━━\u001b[0m\u001b[37m\u001b[0m \u001b[1m1s\u001b[0m 16ms/step - accuracy: 0.9744 - loss: 0.0735 - val_accuracy: 0.9667 - val_loss: 0.1444\n",
      "Epoch 29/50\n",
      "\u001b[1m67/67\u001b[0m \u001b[32m━━━━━━━━━━━━━━━━━━━━\u001b[0m\u001b[37m\u001b[0m \u001b[1m1s\u001b[0m 15ms/step - accuracy: 0.9782 - loss: 0.0640 - val_accuracy: 0.9583 - val_loss: 0.1667\n",
      "Epoch 30/50\n",
      "\u001b[1m67/67\u001b[0m \u001b[32m━━━━━━━━━━━━━━━━━━━━\u001b[0m\u001b[37m\u001b[0m \u001b[1m1s\u001b[0m 16ms/step - accuracy: 0.9746 - loss: 0.0719 - val_accuracy: 0.9639 - val_loss: 0.1529\n",
      "Epoch 31/50\n",
      "\u001b[1m67/67\u001b[0m \u001b[32m━━━━━━━━━━━━━━━━━━━━\u001b[0m\u001b[37m\u001b[0m \u001b[1m1s\u001b[0m 16ms/step - accuracy: 0.9761 - loss: 0.0703 - val_accuracy: 0.9625 - val_loss: 0.1446\n",
      "Epoch 32/50\n",
      "\u001b[1m67/67\u001b[0m \u001b[32m━━━━━━━━━━━━━━━━━━━━\u001b[0m\u001b[37m\u001b[0m \u001b[1m1s\u001b[0m 16ms/step - accuracy: 0.9762 - loss: 0.0732 - val_accuracy: 0.9672 - val_loss: 0.1277\n",
      "Epoch 33/50\n",
      "\u001b[1m67/67\u001b[0m \u001b[32m━━━━━━━━━━━━━━━━━━━━\u001b[0m\u001b[37m\u001b[0m \u001b[1m1s\u001b[0m 16ms/step - accuracy: 0.9767 - loss: 0.0726 - val_accuracy: 0.9681 - val_loss: 0.1310\n",
      "Epoch 34/50\n",
      "\u001b[1m67/67\u001b[0m \u001b[32m━━━━━━━━━━━━━━━━━━━━\u001b[0m\u001b[37m\u001b[0m \u001b[1m1s\u001b[0m 16ms/step - accuracy: 0.9761 - loss: 0.0687 - val_accuracy: 0.9653 - val_loss: 0.1385\n",
      "Epoch 35/50\n",
      "\u001b[1m67/67\u001b[0m \u001b[32m━━━━━━━━━━━━━━━━━━━━\u001b[0m\u001b[37m\u001b[0m \u001b[1m1s\u001b[0m 16ms/step - accuracy: 0.9813 - loss: 0.0580 - val_accuracy: 0.9648 - val_loss: 0.1434\n",
      "Epoch 36/50\n",
      "\u001b[1m67/67\u001b[0m \u001b[32m━━━━━━━━━━━━━━━━━━━━\u001b[0m\u001b[37m\u001b[0m \u001b[1m1s\u001b[0m 16ms/step - accuracy: 0.9828 - loss: 0.0550 - val_accuracy: 0.9653 - val_loss: 0.1512\n",
      "Epoch 37/50\n",
      "\u001b[1m67/67\u001b[0m \u001b[32m━━━━━━━━━━━━━━━━━━━━\u001b[0m\u001b[37m\u001b[0m \u001b[1m1s\u001b[0m 15ms/step - accuracy: 0.9825 - loss: 0.0482 - val_accuracy: 0.9695 - val_loss: 0.1301\n",
      "Epoch 38/50\n",
      "\u001b[1m67/67\u001b[0m \u001b[32m━━━━━━━━━━━━━━━━━━━━\u001b[0m\u001b[37m\u001b[0m \u001b[1m1s\u001b[0m 15ms/step - accuracy: 0.9839 - loss: 0.0469 - val_accuracy: 0.9709 - val_loss: 0.1321\n",
      "Epoch 39/50\n",
      "\u001b[1m67/67\u001b[0m \u001b[32m━━━━━━━━━━━━━━━━━━━━\u001b[0m\u001b[37m\u001b[0m \u001b[1m1s\u001b[0m 15ms/step - accuracy: 0.9820 - loss: 0.0541 - val_accuracy: 0.9719 - val_loss: 0.1092\n",
      "Epoch 40/50\n",
      "\u001b[1m67/67\u001b[0m \u001b[32m━━━━━━━━━━━━━━━━━━━━\u001b[0m\u001b[37m\u001b[0m \u001b[1m1s\u001b[0m 18ms/step - accuracy: 0.9848 - loss: 0.0503 - val_accuracy: 0.9648 - val_loss: 0.1359\n",
      "Epoch 41/50\n",
      "\u001b[1m67/67\u001b[0m \u001b[32m━━━━━━━━━━━━━━━━━━━━\u001b[0m\u001b[37m\u001b[0m \u001b[1m1s\u001b[0m 15ms/step - accuracy: 0.9787 - loss: 0.0579 - val_accuracy: 0.9662 - val_loss: 0.1405\n",
      "Epoch 42/50\n",
      "\u001b[1m67/67\u001b[0m \u001b[32m━━━━━━━━━━━━━━━━━━━━\u001b[0m\u001b[37m\u001b[0m \u001b[1m1s\u001b[0m 16ms/step - accuracy: 0.9818 - loss: 0.0578 - val_accuracy: 0.9681 - val_loss: 0.1611\n",
      "Epoch 43/50\n",
      "\u001b[1m67/67\u001b[0m \u001b[32m━━━━━━━━━━━━━━━━━━━━\u001b[0m\u001b[37m\u001b[0m \u001b[1m1s\u001b[0m 16ms/step - accuracy: 0.9843 - loss: 0.0460 - val_accuracy: 0.9691 - val_loss: 0.1437\n",
      "Epoch 44/50\n",
      "\u001b[1m67/67\u001b[0m \u001b[32m━━━━━━━━━━━━━━━━━━━━\u001b[0m\u001b[37m\u001b[0m \u001b[1m1s\u001b[0m 16ms/step - accuracy: 0.9841 - loss: 0.0491 - val_accuracy: 0.9695 - val_loss: 0.1297\n",
      "Epoch 45/50\n",
      "\u001b[1m67/67\u001b[0m \u001b[32m━━━━━━━━━━━━━━━━━━━━\u001b[0m\u001b[37m\u001b[0m \u001b[1m1s\u001b[0m 17ms/step - accuracy: 0.9806 - loss: 0.0564 - val_accuracy: 0.9705 - val_loss: 0.1392\n",
      "Epoch 46/50\n",
      "\u001b[1m67/67\u001b[0m \u001b[32m━━━━━━━━━━━━━━━━━━━━\u001b[0m\u001b[37m\u001b[0m \u001b[1m1s\u001b[0m 14ms/step - accuracy: 0.9869 - loss: 0.0419 - val_accuracy: 0.9700 - val_loss: 0.1313\n",
      "Epoch 47/50\n",
      "\u001b[1m67/67\u001b[0m \u001b[32m━━━━━━━━━━━━━━━━━━━━\u001b[0m\u001b[37m\u001b[0m \u001b[1m1s\u001b[0m 15ms/step - accuracy: 0.9881 - loss: 0.0315 - val_accuracy: 0.9728 - val_loss: 0.1257\n",
      "Epoch 48/50\n",
      "\u001b[1m67/67\u001b[0m \u001b[32m━━━━━━━━━━━━━━━━━━━━\u001b[0m\u001b[37m\u001b[0m \u001b[1m1s\u001b[0m 17ms/step - accuracy: 0.9896 - loss: 0.0302 - val_accuracy: 0.9728 - val_loss: 0.1263\n",
      "Epoch 49/50\n",
      "\u001b[1m67/67\u001b[0m \u001b[32m━━━━━━━━━━━━━━━━━━━━\u001b[0m\u001b[37m\u001b[0m \u001b[1m1s\u001b[0m 17ms/step - accuracy: 0.9859 - loss: 0.0440 - val_accuracy: 0.9705 - val_loss: 0.1386\n",
      "Epoch 50/50\n",
      "\u001b[1m67/67\u001b[0m \u001b[32m━━━━━━━━━━━━━━━━━━━━\u001b[0m\u001b[37m\u001b[0m \u001b[1m1s\u001b[0m 15ms/step - accuracy: 0.9839 - loss: 0.0513 - val_accuracy: 0.9766 - val_loss: 0.1063\n"
     ]
    },
    {
     "data": {
      "text/html": [],
      "text/plain": [
       "<IPython.core.display.HTML object>"
      ]
     },
     "metadata": {},
     "output_type": "display_data"
    },
    {
     "data": {
      "text/html": [
       "<br>    <style><br>        .wandb-row {<br>            display: flex;<br>            flex-direction: row;<br>            flex-wrap: wrap;<br>            justify-content: flex-start;<br>            width: 100%;<br>        }<br>        .wandb-col {<br>            display: flex;<br>            flex-direction: column;<br>            flex-basis: 100%;<br>            flex: 1;<br>            padding: 10px;<br>        }<br>    </style><br><div class=\"wandb-row\"><div class=\"wandb-col\"><h3>Run history:</h3><br/><table class=\"wandb\"><tr><td>train_accuracy</td><td>▁</td></tr><tr><td>train_loss</td><td>▁</td></tr><tr><td>val_accuracy</td><td>▁</td></tr><tr><td>val_loss</td><td>▁</td></tr></table><br/></div><div class=\"wandb-col\"><h3>Run summary:</h3><br/><table class=\"wandb\"><tr><td>train_accuracy</td><td>0.98464</td></tr><tr><td>train_loss</td><td>0.04612</td></tr><tr><td>val_accuracy</td><td>0.97656</td></tr><tr><td>val_loss</td><td>0.10633</td></tr></table><br/></div></div>"
      ],
      "text/plain": [
       "<IPython.core.display.HTML object>"
      ]
     },
     "metadata": {},
     "output_type": "display_data"
    },
    {
     "data": {
      "text/html": [
       " View run <strong style=\"color:#cdcd00\">smart-sweep-9</strong> at: <a href='https://wandb.ai/renan-florencio-unicamp/DriverBehavior/runs/xgjz54bz' target=\"_blank\">https://wandb.ai/renan-florencio-unicamp/DriverBehavior/runs/xgjz54bz</a><br> View project at: <a href='https://wandb.ai/renan-florencio-unicamp/DriverBehavior' target=\"_blank\">https://wandb.ai/renan-florencio-unicamp/DriverBehavior</a><br>Synced 5 W&B file(s), 0 media file(s), 0 artifact file(s) and 0 other file(s)"
      ],
      "text/plain": [
       "<IPython.core.display.HTML object>"
      ]
     },
     "metadata": {},
     "output_type": "display_data"
    },
    {
     "data": {
      "text/html": [
       "Find logs at: <code>./wandb/run-20250127_171305-xgjz54bz/logs</code>"
      ],
      "text/plain": [
       "<IPython.core.display.HTML object>"
      ]
     },
     "metadata": {},
     "output_type": "display_data"
    },
    {
     "name": "stderr",
     "output_type": "stream",
     "text": [
      "\u001b[34m\u001b[1mwandb\u001b[0m: Sweep Agent: Waiting for job.\n",
      "\u001b[34m\u001b[1mwandb\u001b[0m: Sweep Agent: Exiting.\n"
     ]
    }
   ],
   "source": [
    "wandb.agent(sweep_id, train_mlp_wandb, count=10)"
   ]
  },
  {
   "attachments": {
    "image.png": {
     "image/png": "[encoded data removed]"
    }
   },
   "cell_type": "markdown",
   "metadata": {},
   "source": [
    "![image.png](attachment:image.png)"
   ]
  },
  {
   "cell_type": "markdown",
   "metadata": {},
   "source": [
    "Seems like a batch size of 128 with 50 epochs is optimal fpr this problem"
   ]
  },
  {
   "cell_type": "code",
   "execution_count": 176,
   "metadata": {},
   "outputs": [
    {
     "name": "stdout",
     "output_type": "stream",
     "text": [
      "Epoch 1/50\n",
      "\u001b[1m67/67\u001b[0m \u001b[32m━━━━━━━━━━━━━━━━━━━━\u001b[0m\u001b[37m\u001b[0m \u001b[1m3s\u001b[0m 18ms/step - accuracy: 0.4802 - loss: 1.5219 - val_accuracy: 0.8218 - val_loss: 0.5360\n",
      "Epoch 2/50\n",
      "\u001b[1m67/67\u001b[0m \u001b[32m━━━━━━━━━━━━━━━━━━━━\u001b[0m\u001b[37m\u001b[0m \u001b[1m1s\u001b[0m 14ms/step - accuracy: 0.7534 - loss: 0.7100 - val_accuracy: 0.8748 - val_loss: 0.3787\n",
      "Epoch 3/50\n",
      "\u001b[1m67/67\u001b[0m \u001b[32m━━━━━━━━━━━━━━━━━━━━\u001b[0m\u001b[37m\u001b[0m \u001b[1m1s\u001b[0m 17ms/step - accuracy: 0.8256 - loss: 0.5207 - val_accuracy: 0.8997 - val_loss: 0.2949\n",
      "Epoch 4/50\n",
      "\u001b[1m67/67\u001b[0m \u001b[32m━━━━━━━━━━━━━━━━━━━━\u001b[0m\u001b[37m\u001b[0m \u001b[1m1s\u001b[0m 15ms/step - accuracy: 0.8565 - loss: 0.4257 - val_accuracy: 0.9137 - val_loss: 0.2559\n",
      "Epoch 5/50\n",
      "\u001b[1m67/67\u001b[0m \u001b[32m━━━━━━━━━━━━━━━━━━━━\u001b[0m\u001b[37m\u001b[0m \u001b[1m1s\u001b[0m 13ms/step - accuracy: 0.8745 - loss: 0.3681 - val_accuracy: 0.9255 - val_loss: 0.2223\n",
      "Epoch 6/50\n",
      "\u001b[1m67/67\u001b[0m \u001b[32m━━━━━━━━━━━━━━━━━━━━\u001b[0m\u001b[37m\u001b[0m \u001b[1m1s\u001b[0m 12ms/step - accuracy: 0.8937 - loss: 0.3064 - val_accuracy: 0.9236 - val_loss: 0.2388\n",
      "Epoch 7/50\n",
      "\u001b[1m67/67\u001b[0m \u001b[32m━━━━━━━━━━━━━━━━━━━━\u001b[0m\u001b[37m\u001b[0m \u001b[1m1s\u001b[0m 15ms/step - accuracy: 0.9115 - loss: 0.2678 - val_accuracy: 0.9334 - val_loss: 0.2030\n",
      "Epoch 8/50\n",
      "\u001b[1m67/67\u001b[0m \u001b[32m━━━━━━━━━━━━━━━━━━━━\u001b[0m\u001b[37m\u001b[0m \u001b[1m1s\u001b[0m 16ms/step - accuracy: 0.9177 - loss: 0.2423 - val_accuracy: 0.9316 - val_loss: 0.1969\n",
      "Epoch 9/50\n",
      "\u001b[1m67/67\u001b[0m \u001b[32m━━━━━━━━━━━━━━━━━━━━\u001b[0m\u001b[37m\u001b[0m \u001b[1m1s\u001b[0m 14ms/step - accuracy: 0.9311 - loss: 0.2165 - val_accuracy: 0.9451 - val_loss: 0.1733\n",
      "Epoch 10/50\n",
      "\u001b[1m67/67\u001b[0m \u001b[32m━━━━━━━━━━━━━━━━━━━━\u001b[0m\u001b[37m\u001b[0m \u001b[1m1s\u001b[0m 14ms/step - accuracy: 0.9301 - loss: 0.2000 - val_accuracy: 0.9480 - val_loss: 0.1640\n",
      "Epoch 11/50\n",
      "\u001b[1m67/67\u001b[0m \u001b[32m━━━━━━━━━━━━━━━━━━━━\u001b[0m\u001b[37m\u001b[0m \u001b[1m1s\u001b[0m 13ms/step - accuracy: 0.9358 - loss: 0.1834 - val_accuracy: 0.9536 - val_loss: 0.1484\n",
      "Epoch 12/50\n",
      "\u001b[1m67/67\u001b[0m \u001b[32m━━━━━━━━━━━━━━━━━━━━\u001b[0m\u001b[37m\u001b[0m \u001b[1m1s\u001b[0m 14ms/step - accuracy: 0.9469 - loss: 0.1620 - val_accuracy: 0.9512 - val_loss: 0.1455\n",
      "Epoch 13/50\n",
      "\u001b[1m67/67\u001b[0m \u001b[32m━━━━━━━━━━━━━━━━━━━━\u001b[0m\u001b[37m\u001b[0m \u001b[1m1s\u001b[0m 12ms/step - accuracy: 0.9460 - loss: 0.1616 - val_accuracy: 0.9578 - val_loss: 0.1543\n",
      "Epoch 14/50\n",
      "\u001b[1m67/67\u001b[0m \u001b[32m━━━━━━━━━━━━━━━━━━━━\u001b[0m\u001b[37m\u001b[0m \u001b[1m1s\u001b[0m 13ms/step - accuracy: 0.9441 - loss: 0.1531 - val_accuracy: 0.9508 - val_loss: 0.1539\n",
      "Epoch 15/50\n",
      "\u001b[1m67/67\u001b[0m \u001b[32m━━━━━━━━━━━━━━━━━━━━\u001b[0m\u001b[37m\u001b[0m \u001b[1m1s\u001b[0m 13ms/step - accuracy: 0.9541 - loss: 0.1401 - val_accuracy: 0.9480 - val_loss: 0.1626\n",
      "Epoch 16/50\n",
      "\u001b[1m67/67\u001b[0m \u001b[32m━━━━━━━━━━━━━━━━━━━━\u001b[0m\u001b[37m\u001b[0m \u001b[1m1s\u001b[0m 14ms/step - accuracy: 0.9555 - loss: 0.1259 - val_accuracy: 0.9583 - val_loss: 0.1509\n",
      "Epoch 17/50\n",
      "\u001b[1m67/67\u001b[0m \u001b[32m━━━━━━━━━━━━━━━━━━━━\u001b[0m\u001b[37m\u001b[0m \u001b[1m1s\u001b[0m 13ms/step - accuracy: 0.9546 - loss: 0.1293 - val_accuracy: 0.9569 - val_loss: 0.1537\n",
      "Epoch 18/50\n",
      "\u001b[1m67/67\u001b[0m \u001b[32m━━━━━━━━━━━━━━━━━━━━\u001b[0m\u001b[37m\u001b[0m \u001b[1m1s\u001b[0m 15ms/step - accuracy: 0.9664 - loss: 0.1080 - val_accuracy: 0.9564 - val_loss: 0.1377\n",
      "Epoch 19/50\n",
      "\u001b[1m67/67\u001b[0m \u001b[32m━━━━━━━━━━━━━━━━━━━━\u001b[0m\u001b[37m\u001b[0m \u001b[1m1s\u001b[0m 13ms/step - accuracy: 0.9666 - loss: 0.0985 - val_accuracy: 0.9587 - val_loss: 0.1558\n",
      "Epoch 20/50\n",
      "\u001b[1m67/67\u001b[0m \u001b[32m━━━━━━━━━━━━━━━━━━━━\u001b[0m\u001b[37m\u001b[0m \u001b[1m1s\u001b[0m 11ms/step - accuracy: 0.9581 - loss: 0.1174 - val_accuracy: 0.9526 - val_loss: 0.1673\n",
      "Epoch 21/50\n",
      "\u001b[1m67/67\u001b[0m \u001b[32m━━━━━━━━━━━━━━━━━━━━\u001b[0m\u001b[37m\u001b[0m \u001b[1m1s\u001b[0m 12ms/step - accuracy: 0.9660 - loss: 0.1020 - val_accuracy: 0.9517 - val_loss: 0.1722\n",
      "Epoch 22/50\n",
      "\u001b[1m67/67\u001b[0m \u001b[32m━━━━━━━━━━━━━━━━━━━━\u001b[0m\u001b[37m\u001b[0m \u001b[1m1s\u001b[0m 13ms/step - accuracy: 0.9663 - loss: 0.0985 - val_accuracy: 0.9592 - val_loss: 0.1462\n",
      "Epoch 23/50\n",
      "\u001b[1m67/67\u001b[0m \u001b[32m━━━━━━━━━━━━━━━━━━━━\u001b[0m\u001b[37m\u001b[0m \u001b[1m1s\u001b[0m 11ms/step - accuracy: 0.9652 - loss: 0.0987 - val_accuracy: 0.9592 - val_loss: 0.1391\n",
      "Epoch 24/50\n",
      "\u001b[1m67/67\u001b[0m \u001b[32m━━━━━━━━━━━━━━━━━━━━\u001b[0m\u001b[37m\u001b[0m \u001b[1m1s\u001b[0m 11ms/step - accuracy: 0.9706 - loss: 0.0921 - val_accuracy: 0.9602 - val_loss: 0.1512\n",
      "Epoch 25/50\n",
      "\u001b[1m67/67\u001b[0m \u001b[32m━━━━━━━━━━━━━━━━━━━━\u001b[0m\u001b[37m\u001b[0m \u001b[1m1s\u001b[0m 14ms/step - accuracy: 0.9699 - loss: 0.0790 - val_accuracy: 0.9559 - val_loss: 0.1715\n",
      "Epoch 26/50\n",
      "\u001b[1m67/67\u001b[0m \u001b[32m━━━━━━━━━━━━━━━━━━━━\u001b[0m\u001b[37m\u001b[0m \u001b[1m1s\u001b[0m 12ms/step - accuracy: 0.9762 - loss: 0.0723 - val_accuracy: 0.9653 - val_loss: 0.1357\n",
      "Epoch 27/50\n",
      "\u001b[1m67/67\u001b[0m \u001b[32m━━━━━━━━━━━━━━━━━━━━\u001b[0m\u001b[37m\u001b[0m \u001b[1m1s\u001b[0m 11ms/step - accuracy: 0.9760 - loss: 0.0631 - val_accuracy: 0.9625 - val_loss: 0.1605\n",
      "Epoch 28/50\n",
      "\u001b[1m67/67\u001b[0m \u001b[32m━━━━━━━━━━━━━━━━━━━━\u001b[0m\u001b[37m\u001b[0m \u001b[1m1s\u001b[0m 14ms/step - accuracy: 0.9709 - loss: 0.0871 - val_accuracy: 0.9597 - val_loss: 0.1603\n",
      "Epoch 29/50\n",
      "\u001b[1m67/67\u001b[0m \u001b[32m━━━━━━━━━━━━━━━━━━━━\u001b[0m\u001b[37m\u001b[0m \u001b[1m1s\u001b[0m 16ms/step - accuracy: 0.9720 - loss: 0.0864 - val_accuracy: 0.9559 - val_loss: 0.1659\n",
      "Epoch 30/50\n",
      "\u001b[1m67/67\u001b[0m \u001b[32m━━━━━━━━━━━━━━━━━━━━\u001b[0m\u001b[37m\u001b[0m \u001b[1m1s\u001b[0m 11ms/step - accuracy: 0.9760 - loss: 0.0730 - val_accuracy: 0.9639 - val_loss: 0.1463\n",
      "Epoch 31/50\n",
      "\u001b[1m67/67\u001b[0m \u001b[32m━━━━━━━━━━━━━━━━━━━━\u001b[0m\u001b[37m\u001b[0m \u001b[1m1s\u001b[0m 11ms/step - accuracy: 0.9799 - loss: 0.0562 - val_accuracy: 0.9705 - val_loss: 0.1239\n",
      "Epoch 32/50\n",
      "\u001b[1m67/67\u001b[0m \u001b[32m━━━━━━━━━━━━━━━━━━━━\u001b[0m\u001b[37m\u001b[0m \u001b[1m1s\u001b[0m 11ms/step - accuracy: 0.9800 - loss: 0.0629 - val_accuracy: 0.9625 - val_loss: 0.1508\n",
      "Epoch 33/50\n",
      "\u001b[1m67/67\u001b[0m \u001b[32m━━━━━━━━━━━━━━━━━━━━\u001b[0m\u001b[37m\u001b[0m \u001b[1m1s\u001b[0m 11ms/step - accuracy: 0.9810 - loss: 0.0560 - val_accuracy: 0.9648 - val_loss: 0.1437\n",
      "Epoch 34/50\n",
      "\u001b[1m67/67\u001b[0m \u001b[32m━━━━━━━━━━━━━━━━━━━━\u001b[0m\u001b[37m\u001b[0m \u001b[1m1s\u001b[0m 13ms/step - accuracy: 0.9775 - loss: 0.0720 - val_accuracy: 0.9639 - val_loss: 0.1547\n",
      "Epoch 35/50\n",
      "\u001b[1m67/67\u001b[0m \u001b[32m━━━━━━━━━━━━━━━━━━━━\u001b[0m\u001b[37m\u001b[0m \u001b[1m1s\u001b[0m 11ms/step - accuracy: 0.9807 - loss: 0.0584 - val_accuracy: 0.9639 - val_loss: 0.1617\n",
      "Epoch 36/50\n",
      "\u001b[1m67/67\u001b[0m \u001b[32m━━━━━━━━━━━━━━━━━━━━\u001b[0m\u001b[37m\u001b[0m \u001b[1m1s\u001b[0m 13ms/step - accuracy: 0.9786 - loss: 0.0651 - val_accuracy: 0.9620 - val_loss: 0.1445\n",
      "Epoch 37/50\n",
      "\u001b[1m67/67\u001b[0m \u001b[32m━━━━━━━━━━━━━━━━━━━━\u001b[0m\u001b[37m\u001b[0m \u001b[1m1s\u001b[0m 13ms/step - accuracy: 0.9816 - loss: 0.0504 - val_accuracy: 0.9672 - val_loss: 0.1575\n",
      "Epoch 38/50\n",
      "\u001b[1m67/67\u001b[0m \u001b[32m━━━━━━━━━━━━━━━━━━━━\u001b[0m\u001b[37m\u001b[0m \u001b[1m1s\u001b[0m 13ms/step - accuracy: 0.9804 - loss: 0.0556 - val_accuracy: 0.9611 - val_loss: 0.1642\n",
      "Epoch 39/50\n",
      "\u001b[1m67/67\u001b[0m \u001b[32m━━━━━━━━━━━━━━━━━━━━\u001b[0m\u001b[37m\u001b[0m \u001b[1m1s\u001b[0m 13ms/step - accuracy: 0.9800 - loss: 0.0634 - val_accuracy: 0.9653 - val_loss: 0.1485\n",
      "Epoch 40/50\n",
      "\u001b[1m67/67\u001b[0m \u001b[32m━━━━━━━━━━━━━━━━━━━━\u001b[0m\u001b[37m\u001b[0m \u001b[1m1s\u001b[0m 14ms/step - accuracy: 0.9853 - loss: 0.0511 - val_accuracy: 0.9672 - val_loss: 0.1414\n",
      "Epoch 41/50\n",
      "\u001b[1m67/67\u001b[0m \u001b[32m━━━━━━━━━━━━━━━━━━━━\u001b[0m\u001b[37m\u001b[0m \u001b[1m1s\u001b[0m 12ms/step - accuracy: 0.9810 - loss: 0.0574 - val_accuracy: 0.9658 - val_loss: 0.1336\n",
      "Epoch 42/50\n",
      "\u001b[1m67/67\u001b[0m \u001b[32m━━━━━━━━━━━━━━━━━━━━\u001b[0m\u001b[37m\u001b[0m \u001b[1m1s\u001b[0m 11ms/step - accuracy: 0.9850 - loss: 0.0407 - val_accuracy: 0.9723 - val_loss: 0.1187\n",
      "Epoch 43/50\n",
      "\u001b[1m67/67\u001b[0m \u001b[32m━━━━━━━━━━━━━━━━━━━━\u001b[0m\u001b[37m\u001b[0m \u001b[1m1s\u001b[0m 15ms/step - accuracy: 0.9843 - loss: 0.0431 - val_accuracy: 0.9634 - val_loss: 0.1438\n",
      "Epoch 44/50\n",
      "\u001b[1m67/67\u001b[0m \u001b[32m━━━━━━━━━━━━━━━━━━━━\u001b[0m\u001b[37m\u001b[0m \u001b[1m1s\u001b[0m 14ms/step - accuracy: 0.9849 - loss: 0.0467 - val_accuracy: 0.9737 - val_loss: 0.1273\n",
      "Epoch 45/50\n",
      "\u001b[1m67/67\u001b[0m \u001b[32m━━━━━━━━━━━━━━━━━━━━\u001b[0m\u001b[37m\u001b[0m \u001b[1m1s\u001b[0m 15ms/step - accuracy: 0.9843 - loss: 0.0512 - val_accuracy: 0.9700 - val_loss: 0.1283\n",
      "Epoch 46/50\n",
      "\u001b[1m67/67\u001b[0m \u001b[32m━━━━━━━━━━━━━━━━━━━━\u001b[0m\u001b[37m\u001b[0m \u001b[1m1s\u001b[0m 16ms/step - accuracy: 0.9858 - loss: 0.0432 - val_accuracy: 0.9691 - val_loss: 0.1565\n",
      "Epoch 47/50\n",
      "\u001b[1m67/67\u001b[0m \u001b[32m━━━━━━━━━━━━━━━━━━━━\u001b[0m\u001b[37m\u001b[0m \u001b[1m1s\u001b[0m 14ms/step - accuracy: 0.9867 - loss: 0.0399 - val_accuracy: 0.9677 - val_loss: 0.1487\n",
      "Epoch 48/50\n",
      "\u001b[1m67/67\u001b[0m \u001b[32m━━━━━━━━━━━━━━━━━━━━\u001b[0m\u001b[37m\u001b[0m \u001b[1m1s\u001b[0m 12ms/step - accuracy: 0.9885 - loss: 0.0369 - val_accuracy: 0.9644 - val_loss: 0.1641\n",
      "Epoch 49/50\n",
      "\u001b[1m67/67\u001b[0m \u001b[32m━━━━━━━━━━━━━━━━━━━━\u001b[0m\u001b[37m\u001b[0m \u001b[1m1s\u001b[0m 14ms/step - accuracy: 0.9863 - loss: 0.0455 - val_accuracy: 0.9695 - val_loss: 0.1447\n",
      "Epoch 50/50\n",
      "\u001b[1m67/67\u001b[0m \u001b[32m━━━━━━━━━━━━━━━━━━━━\u001b[0m\u001b[37m\u001b[0m \u001b[1m1s\u001b[0m 13ms/step - accuracy: 0.9859 - loss: 0.0454 - val_accuracy: 0.9709 - val_loss: 0.1202\n"
     ]
    }
   ],
   "source": [
    "model = create_model()\n",
    "history = model.fit(X_train_scaled, y_train_one_hot, epochs=50, batch_size=128, validation_data=(X_test_scaled, y_test_one_hot))"
   ]
  },
  {
   "cell_type": "code",
   "execution_count": 178,
   "metadata": {},
   "outputs": [
    {
     "name": "stdout",
     "output_type": "stream",
     "text": [
      "\u001b[1m67/67\u001b[0m \u001b[32m━━━━━━━━━━━━━━━━━━━━\u001b[0m\u001b[37m\u001b[0m \u001b[1m0s\u001b[0m 4ms/step\n",
      "**Classification report (MLP):**\n",
      "                                precision    recall  f1-score   support\n",
      "\n",
      "          aceleracao_agressiva       0.97      0.97      0.97       414\n",
      "       curva_direita_agressiva       0.98      1.00      0.99       387\n",
      "      curva_esquerda_agressiva       0.99      1.00      0.99       365\n",
      "          evento_nao_agressivo       0.96      0.93      0.95       480\n",
      "              freada_agressiva       0.98      0.99      0.99       309\n",
      " troca_faixa_direita_agressiva       0.97      0.90      0.93        94\n",
      "troca_faixa_esquerda_agressiva       0.85      0.94      0.89        84\n",
      "\n",
      "                      accuracy                           0.97      2133\n",
      "                     macro avg       0.96      0.96      0.96      2133\n",
      "                  weighted avg       0.97      0.97      0.97      2133\n",
      "\n"
     ]
    }
   ],
   "source": [
    "y_pred_prob = model.predict(X_test_scaled)\n",
    "y_pred_nn = np.argmax(y_pred_prob, axis=1)\n",
    "report_mlp_tensor = classification_report(y_test_one_hot, y_pred_nn, target_names=list(one_hot.keys()))\n",
    "reports['MLP_Tensorflow'] = report_mlp_tensor\n",
    "print(f\"**Classification report (MLP):**\\n{report_mlp_tensor}\")"
   ]
  },
  {
   "cell_type": "markdown",
   "metadata": {},
   "source": [
    "# Comparing Results"
   ]
  },
  {
   "cell_type": "code",
   "execution_count": 182,
   "metadata": {},
   "outputs": [],
   "source": [
    "def parse_classification_report(report):\n",
    "    lines = report.split('\\n')\n",
    "    metrics = []\n",
    "    accuracy = None\n",
    "    for line in lines[2:-3]:  # Skip header and last two summary lines\n",
    "        parts = line.split()\n",
    "        if len(parts) < 4:\n",
    "            continue\n",
    "        class_name = parts[0]\n",
    "        precision = float(parts[1])\n",
    "        recall = float(parts[2])\n",
    "        f1_score = float(parts[3])\n",
    "        metrics.append((class_name, precision, recall, f1_score))\n",
    "    \n",
    "    # Extract accuracy from the summary line\n",
    "    accuracy_line = lines[-2]  # Last second line for accuracy\n",
    "    accuracy = float(accuracy_line.split()[-2])  # Accuracy is the second-to-last value\n",
    "\n",
    "    return metrics, accuracy\n"
   ]
  },
  {
   "cell_type": "code",
   "execution_count": 205,
   "metadata": {},
   "outputs": [],
   "source": [
    "def compare_reports(reports):\n",
    "    # Assuming `reports` is a dictionary of reports from different models\n",
    "    combined_df = []\n",
    "    accuracies = {}\n",
    "\n",
    "    # Iterate through the reports for different models\n",
    "    for model, report in reports.items():\n",
    "        print(f\"**{model}:**\")\n",
    "        metrics, accuracy = parse_classification_report(report)\n",
    "        # Create a DataFrame for each model's metrics\n",
    "        df_model = pd.DataFrame(metrics, columns=[\"Class\", \"Precision\", \"Recall\", \"F1-Score\"])\n",
    "        df_model['Model'] = model\n",
    "        combined_df.append(df_model)\n",
    "        accuracies[model] = accuracy  # Store accuracy for the model\n",
    "\n",
    "    # Concatenate all model DataFrames into a single DataFrame\n",
    "    combined_df = pd.concat(combined_df, axis=0)\n",
    "\n",
    "    # Melt the DataFrame to long format for plotting\n",
    "    melted_df = combined_df.melt(id_vars=['Model', 'Class'], var_name=\"Metric\", value_name=\"Score\")\n",
    "\n",
    "    # Create subplots for Precision, Recall, F1-Score, and Accuracy\n",
    "    fig, axes = plt.subplots(len(reports), 1, figsize=(20, 20))\n",
    "\n",
    "    # Plot Precision\n",
    "    sns.barplot(x='Class', y='Score', hue='Model', data=melted_df[melted_df['Metric'] == 'Precision'], ax=axes[0])\n",
    "    axes[0].set_title('Comparison of Models by Precision')\n",
    "    axes[0].set_xlabel('Class')\n",
    "    axes[0].set_ylabel('Precision')\n",
    "    axes[0].set_ylim(0.9, 1)\n",
    "\n",
    "    # Plot Recall\n",
    "    sns.barplot(x='Class', y='Score', hue='Model', data=melted_df[melted_df['Metric'] == 'Recall'], ax=axes[1])\n",
    "    axes[1].set_title('Comparison of Models by Recall')\n",
    "    axes[1].set_xlabel('Class')\n",
    "    axes[1].set_ylabel('Recall')\n",
    "    axes[1].set_ylim(0.9, 1)\n",
    "\n",
    "    # Plot F1-Score\n",
    "    sns.barplot(x='Class', y='Score', hue='Model', data=melted_df[melted_df['Metric'] == 'F1-Score'], ax=axes[2])\n",
    "    axes[2].set_title('Comparison of Models by F1-Score')\n",
    "    axes[2].set_xlabel('Class')\n",
    "    axes[2].set_ylabel('F1-Score')\n",
    "    axes[2].set_ylim(0.9, 1)\n",
    "\n",
    "    # Plot Accuracy (this is a separate bar plot because accuracy is not per class)\n",
    "    accuracy_df = pd.DataFrame(list(accuracies.items()), columns=['Model', 'Accuracy'])\n",
    "    sns.barplot(x='Model', y='Accuracy', data=accuracy_df, ax=axes[3])\n",
    "    axes[3].set_title('Comparison of Models by Accuracy')\n",
    "    axes[3].set_xlabel('Model')\n",
    "    axes[3].set_ylabel('Accuracy')\n",
    "    axes[3].set_ylim(0.9, 1)\n",
    "\n",
    "    # Adjust layout and show plots\n",
    "    plt.tight_layout()\n",
    "    plt.show()\n",
    "    "
   ]
  },
  {
   "cell_type": "code",
   "execution_count": 206,
   "metadata": {},
   "outputs": [
    {
     "name": "stdout",
     "output_type": "stream",
     "text": [
      "**Random Forest:**\n",
      "**SVC:**\n",
      "**XGB:**\n",
      "**MLP_Tensorflow:**\n"
     ]
    },
    {
     "data": {
      "image/png": "[encoded data removed]",
      "text/plain": [
       "<Figure size 2000x2000 with 4 Axes>"
      ]
     },
     "metadata": {},
     "output_type": "display_data"
    }
   ],
   "source": [
    "compare_reports(reports)"
   ]
  },
  {
   "cell_type": "code",
   "execution_count": null,
   "metadata": {},
   "outputs": [],
   "source": []
  }
 ],
 "metadata": {
  "kernelspec": {
   "display_name": "Python 3",
   "language": "python",
   "name": "python3"
  },
  "language_info": {
   "codemirror_mode": {
    "name": "ipython",
    "version": 3
   },
   "file_extension": ".py",
   "mimetype": "text/x-python",
   "name": "python",
   "nbconvert_exporter": "python",
   "pygments_lexer": "ipython3",
   "version": "3.10.12"
  }
 },
 "nbformat": 4,
 "nbformat_minor": 2
}
