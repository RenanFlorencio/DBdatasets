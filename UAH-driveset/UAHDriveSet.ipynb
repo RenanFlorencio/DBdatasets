{
 "cells": [
  {
   "cell_type": "markdown",
   "metadata": {},
   "source": [
    "# UAH-DriveSet"
   ]
  },
  {
   "cell_type": "code",
   "execution_count": null,
   "metadata": {},
   "outputs": [],
   "source": [
    "import pandas as pd\n",
    "import matplotlib.pyplot as plt\n",
    "import numpy as np\n",
    "import wandb\n",
    "import os\n",
    "import seaborn as sns\n",
    "from sklearn.model_selection import train_test_split\n",
    "from sklearn.preprocessing import StandardScaler, LabelEncoder\n",
    "from sklearn.metrics import confusion_matrix, classification_report, ConfusionMatrixDisplay, f1_score, accuracy_score, precision_score, recall_score\n",
    "from sklearn.ensemble import RandomForestClassifier\n",
    "from sklearn.model_selection import GridSearchCV, KFold\n",
    "from sklearn.manifold import TSNE\n",
    "from sklearn.svm import SVC\n",
    "from pprint import pprint"
   ]
  },
  {
   "cell_type": "code",
   "execution_count": 66,
   "metadata": {},
   "outputs": [],
   "source": [
    "def getData(driver, specifier, sensor):\n",
    "\n",
    "    if sensor == 'acc':\n",
    "        for i in os.listdir(f'UAH-DRIVESET-v1/{driver}'):\n",
    "            if i.endswith(specifier):\n",
    "                data = pd.read_csv(f'UAH-DRIVESET-v1/{driver}/{i}/RAW_ACCELEROMETERS.txt', sep=' ', header=None, names=[\n",
    "                    'timestamp',\n",
    "                    'system_active',\n",
    "                    'acc_x',\n",
    "                    'acc_y',\n",
    "                    'acc_z',\n",
    "                    'acc_x_KF',\n",
    "                    'acc_y_KF',\n",
    "                    'acc_z_KF',\n",
    "                    'Roll',\n",
    "                    'Pitch',\n",
    "                    'Yaw'\n",
    "                ], usecols=range(11))\n",
    "                data = data.drop(['system_active'], axis=1)\n",
    "                data['acc'] = np.sqrt(data['acc_x']**2 + data['acc_y']**2 + data['acc_z']**2)\n",
    "                return data\n",
    "            \n",
    "    elif sensor == 'gps':\n",
    "        for i in os.listdir(f'UAH-DRIVESET-v1/{driver}'):\n",
    "            if i.endswith(specifier):\n",
    "                data = pd.read_csv(f'UAH-DRIVESET-v1/{driver}/{i}/RAW_GPS.txt', sep=' ', header=None, names=[\n",
    "                    'timestamp',\n",
    "                    'speed',\n",
    "                    'lat',\n",
    "                    'lon',\n",
    "                    'altitude',\n",
    "                    'vert_accuracy',\n",
    "                    'horiz_accuracy',\n",
    "                    'course',\n",
    "                    'difcourse',\n",
    "                ], usecols=range(9))\n",
    "                return data"
   ]
  },
  {
   "cell_type": "code",
   "execution_count": 28,
   "metadata": {},
   "outputs": [],
   "source": [
    "def boxplots(df, sensors, showfliers=True, names=None, classes=None):\n",
    "    fig, axes = plt.subplots(nrows=int(np.ceil(len(sensors)/2)), ncols=2, figsize=(15, 5 * int(np.ceil(len(sensors)/2))))\n",
    "    axes = axes.flatten()\n",
    "    cls = list(df.keys())\n",
    "\n",
    "    for j in range(len(sensors)):\n",
    "\n",
    "        if classes:\n",
    "            axes[j].boxplot([df[cls[i]][sensors[j]] for i in range(len(df))], tick_labels=classes, showfliers=showfliers)\n",
    "        else:\n",
    "            axes[j].boxplot([df[cls[i]][sensors[j]] for i in range(len(df))], tick_labels=cls, showfliers=showfliers)\n",
    "\n",
    "        if names:\n",
    "            axes[j].set_ylabel(f'{names[j].capitalize()}')\n",
    "            axes[j].set_title(f'Boxplot de {names[j].split(\" \")[0]}')\n",
    "        else:\n",
    "            axes[j].set_title(f'Boxplot de {sensors[j].capitalize()}')\n",
    "            axes[j].set_ylabel(f'{sensors[j].capitalize()}')\n",
    "\n",
    "    for j in range(len(sensors), len(axes)):\n",
    "        fig.delaxes(axes[j])\n",
    "\n",
    "    plt.tight_layout()\n",
    "    plt.show()"
   ]
  },
  {
   "cell_type": "code",
   "execution_count": 35,
   "metadata": {},
   "outputs": [],
   "source": [
    "drivers = ['D1', 'D2', 'D3', 'D4', 'D5', 'D6']"
   ]
  },
  {
   "cell_type": "code",
   "execution_count": 67,
   "metadata": {},
   "outputs": [],
   "source": [
    "def read_accelerometer(drivers):\n",
    "    normal = pd.DataFrame()\n",
    "    aggressive = pd.DataFrame()\n",
    "    drowsy = pd.DataFrame()\n",
    "    for driver in drivers:\n",
    "        normal = pd.concat([normal, getData(driver, 'NORMAL1-SECONDARY', sensor='acc')], axis=0)\n",
    "        normal = pd.concat([normal, getData(driver, 'NORMAL2-SECONDARY', sensor='acc')], axis=0)\n",
    "        normal = pd.concat([normal, getData(driver, 'NORMAL-MOTORWAY', sensor='acc')], axis=0)\n",
    "        aggressive = pd.concat([aggressive, getData(driver, 'AGGRESSIVE-SECONDARY', sensor='acc')], axis=0)\n",
    "        aggressive = pd.concat([aggressive, getData(driver, 'AGGRESSIVE-MOTORWAY', sensor='acc')], axis=0)\n",
    "        drowsy = pd.concat([drowsy, getData(driver, 'DROWSY-SECONDARY', sensor='acc')], axis=0)\n",
    "        drowsy = pd.concat([drowsy, getData(driver, 'DROWSY-MOTORWAY', sensor='acc')], axis=0)\n",
    "\n",
    "    df_accelerometer = {}\n",
    "    df_accelerometer['normal'] = normal\n",
    "    df_accelerometer['aggressive'] = aggressive\n",
    "    df_accelerometer['drowsy'] = drowsy\n",
    "\n",
    "    return df_accelerometer"
   ]
  },
  {
   "cell_type": "code",
   "execution_count": 68,
   "metadata": {},
   "outputs": [],
   "source": [
    "def read_gps(drivers):\n",
    "    normal = pd.DataFrame()\n",
    "    aggressive = pd.DataFrame()\n",
    "    drowsy = pd.DataFrame()\n",
    "    for driver in drivers:\n",
    "        normal = pd.concat([normal, getData(driver, 'NORMAL1-SECONDARY', sensor='gps')], axis=0)\n",
    "        normal = pd.concat([normal, getData(driver, 'NORMAL2-SECONDARY', sensor='gps')], axis=0)\n",
    "        normal = pd.concat([normal, getData(driver, 'NORMAL-MOTORWAY', sensor='gps')], axis=0)\n",
    "        aggressive = pd.concat([aggressive, getData(driver, 'AGGRESSIVE-SECONDARY', sensor='gps')], axis=0)\n",
    "        aggressive = pd.concat([aggressive, getData(driver, 'AGGRESSIVE-MOTORWAY', sensor='gps')], axis=0)\n",
    "        drowsy = pd.concat([drowsy, getData(driver, 'DROWSY-SECONDARY', sensor='gps')], axis=0)\n",
    "        drowsy = pd.concat([drowsy, getData(driver, 'DROWSY-MOTORWAY', sensor='gps')], axis=0)\n",
    "\n",
    "    df_gps = {}\n",
    "    df_gps['normal'] = normal\n",
    "    df_gps['aggressive'] = aggressive\n",
    "    df_gps['drowsy'] = drowsy\n",
    "\n",
    "    return df_gps"
   ]
  },
  {
   "cell_type": "code",
   "execution_count": 69,
   "metadata": {},
   "outputs": [],
   "source": [
    "df_acc = read_accelerometer(drivers)\n",
    "df_gps = read_gps(drivers)"
   ]
  },
  {
   "cell_type": "code",
   "execution_count": 72,
   "metadata": {},
   "outputs": [
    {
     "data": {
      "image/png": "[encoded data removed]",
      "text/plain": [
       "<Figure size 1500x500 with 1 Axes>"
      ]
     },
     "metadata": {},
     "output_type": "display_data"
    }
   ],
   "source": [
    "boxplots(df_gps, sensors=['speed'], names=['velocidade (m/s²)'], classes=['normal', 'agressivo', 'drowsy'], showfliers=True)"
   ]
  },
  {
   "cell_type": "code",
   "execution_count": 74,
   "metadata": {},
   "outputs": [
    {
     "data": {
      "image/png": "[encoded data removed]",
      "text/plain": [
       "<Figure size 1500x500 with 1 Axes>"
      ]
     },
     "metadata": {},
     "output_type": "display_data"
    }
   ],
   "source": [
    "boxplots(df_acc, sensors=['acc'], names=['aceleração (m/s²)'], classes=['normal', 'agressivo', 'drowsy'], showfliers=False)"
   ]
  },
  {
   "cell_type": "markdown",
   "metadata": {},
   "source": [
    "### Sliding Windows"
   ]
  },
  {
   "cell_type": "code",
   "execution_count": 93,
   "metadata": {},
   "outputs": [],
   "source": [
    "def create_sliding_windows(data, window_size=7, step_size=1):\n",
    "    # This function returns the sliding windows and the labels for each window\n",
    "    # If output_3d is True, the output will be a 3D array, otherwise it will be a 2D array\n",
    "    # The 2D array is (num_samples, num_features), useful for ML and the 3D array is (num_samples, window_size/time_steps, num_features), useful for RNNs\n",
    "    # The difference is that the window is not flattened in the 3D array\n",
    "\n",
    "    X = []\n",
    "    y = []\n",
    "    # splits = np.zeros(len(data))\n",
    "    cont = 0\n",
    "    for k in range(len(data)):\n",
    "        label = list(data.keys())[k]\n",
    "        for i in range(0, len(data[label]) - window_size + 1, step_size):\n",
    "            end = i + window_size\n",
    "\n",
    "            if end > len(data[label]):\n",
    "                end = len(data[label])\n",
    "            \n",
    "            window_label = label # Getting the most frequent event in the window\n",
    "            window = data[label][i:end].drop(['timestamp'], axis=1, inplace=False) # Dropping 'evento' and 'seconds_passed' columns\n",
    "\n",
    "            if len(window) < window_size:\n",
    "                padding = np.zeros((window_size - len(window), len(window.columns))) # Padding the window with zeros and the same amount of columns\n",
    "                window = np.vstack([window, padding]) # Stacking the window and padding keeping the same order\n",
    "            \n",
    "            X.append(np.array(window).flatten())\n",
    "            y.append(window_label)\n",
    "\n",
    "        # splits[k] = cont\n",
    "\n",
    "    return np.array(X), np.array(y)"
   ]
  },
  {
   "cell_type": "code",
   "execution_count": 78,
   "metadata": {},
   "outputs": [],
   "source": [
    "def get_unique_counts(y):\n",
    "    unique, counts = np.unique(y, return_counts=True)\n",
    "    return dict(zip(unique, counts))"
   ]
  },
  {
   "cell_type": "code",
   "execution_count": 79,
   "metadata": {},
   "outputs": [],
   "source": [
    "def scale_data(X_train, X_test):\n",
    "    scaler = StandardScaler()\n",
    "    X_train = scaler.fit_transform(X_train)\n",
    "    X_test = scaler.transform(X_test)\n",
    "    return X_train, X_test  "
   ]
  },
  {
   "cell_type": "code",
   "execution_count": 80,
   "metadata": {},
   "outputs": [],
   "source": [
    "def encode(y):\n",
    "    le = LabelEncoder()\n",
    "    y = le.fit_transform(y)\n",
    "    return y"
   ]
  },
  {
   "cell_type": "code",
   "execution_count": 104,
   "metadata": {},
   "outputs": [
    {
     "data": {
      "text/plain": [
       "((30358, 100), (30358,))"
      ]
     },
     "execution_count": 104,
     "metadata": {},
     "output_type": "execute_result"
    }
   ],
   "source": [
    "window_size = 10\n",
    "step_size = 10\n",
    "X, y = create_sliding_windows(df_acc, window_size, step_size) # This will create the sliding windows with a 2D X and 1D y\n",
    "y = encode(y)\n",
    "\n",
    "X.shape, y.shape"
   ]
  },
  {
   "cell_type": "code",
   "execution_count": 95,
   "metadata": {},
   "outputs": [],
   "source": [
    "X_train, X_test, y_train, y_test = train_test_split(X, y, test_size=0.2, random_state=42) # Since we already have windows with labels, we can split the data into train and test sets"
   ]
  },
  {
   "cell_type": "code",
   "execution_count": 96,
   "metadata": {},
   "outputs": [],
   "source": [
    "X_train_scaled, X_test_scaled = scale_data(X_train, X_test)"
   ]
  },
  {
   "cell_type": "markdown",
   "metadata": {},
   "source": [
    "Veryfing the balance of the split"
   ]
  },
  {
   "cell_type": "code",
   "execution_count": 98,
   "metadata": {},
   "outputs": [
    {
     "name": "stdout",
     "output_type": "stream",
     "text": [
      "Train set: {np.str_('aggressive'): np.int64(6370), np.str_('drowsy'): np.int64(7983), np.str_('normal'): np.int64(9933)}\n",
      "Test set: {np.str_('aggressive'): np.int64(1596), np.str_('drowsy'): np.int64(2002), np.str_('normal'): np.int64(2474)}\n"
     ]
    }
   ],
   "source": [
    "print('Train set:', get_unique_counts(y_train))\n",
    "print('Test set:', get_unique_counts(y_test))"
   ]
  },
  {
   "cell_type": "markdown",
   "metadata": {},
   "source": [
    "# Clustering"
   ]
  },
  {
   "cell_type": "code",
   "execution_count": null,
   "metadata": {},
   "outputs": [],
   "source": [
    "def visualize_tsne_2d(data, y_numeric, perplexity=30, learning_rate=200):\n",
    "    tsne = TSNE(n_components=2, perplexity=perplexity, random_state=42, learning_rate=learning_rate)\n",
    "    X_tsne = tsne.fit_transform(data)\n",
    "\n",
    "    plt.figure(figsize=(10, 8))\n",
    "    plt.scatter(X_tsne[:, 0], X_tsne[:, 1], c=y_numeric, cmap='viridis', s=5)\n",
    "    plt.colorbar(boundaries=np.arange(len(np.unique(y_numeric))+1)-0.5).set_ticks(np.arange(len(np.unique(y_numeric))))\n",
    "    plt.title('t-SNE 2D Projection')\n",
    "    plt.show()"
   ]
  },
  {
   "cell_type": "code",
   "execution_count": null,
   "metadata": {},
   "outputs": [],
   "source": []
  },
  {
   "cell_type": "markdown",
   "metadata": {},
   "source": [
    "# Machine Learning"
   ]
  },
  {
   "cell_type": "code",
   "execution_count": 99,
   "metadata": {},
   "outputs": [],
   "source": [
    "def kfold_cross_validation_ML(model_function, X, y, params, n_splits=10):\n",
    "\n",
    "    kf = KFold(n_splits=n_splits, shuffle=True, random_state=42)\n",
    "\n",
    "    accuracies = []\n",
    "    precisions = []\n",
    "    recalls = []\n",
    "\n",
    "    for train_index, test_index in kf.split(X):\n",
    "        print(f'Fold {len(accuracies) + 1}')\n",
    "        X_train_fold, X_val_fold = X[train_index], X[test_index]\n",
    "        y_train_fold, y_val_fold = y[train_index], y[test_index]\n",
    "\n",
    "        X_train_fold_scaled, X_test_fold_scaled = scale_data(X_train_fold.reshape(X_train_fold.shape[0], -1), X_val_fold.reshape(X_val_fold.shape[0], -1))\n",
    "        X_train_fold_scaled = X_train_fold_scaled.reshape(X_train_fold.shape)\n",
    "        X_val_fold_scaled = X_test_fold_scaled.reshape(X_val_fold.shape)\n",
    "\n",
    "        model = model_function(**params)\n",
    "        model.fit(X_train_fold_scaled, y_train_fold)\n",
    "        y_predict = model.predict(X_val_fold_scaled)\n",
    "        acc = accuracy_score(y_val_fold, y_predict)\n",
    "        prec = precision_score(y_val_fold, y_predict, average='weighted')\n",
    "        rec = recall_score(y_val_fold, y_predict, average='weighted')\n",
    "        \n",
    "        print(f'\\tValidation accuracy: {acc}')\n",
    "        print(f'\\tValidation precision: {prec}')\n",
    "        print(f'\\tValidation recall: {rec}')\n",
    "        accuracies.append(acc)\n",
    "        precisions.append(prec)\n",
    "        recalls.append(rec)\n",
    "\n",
    "    report = {}\n",
    "    report['accuracy'] = {'mean': np.mean(accuracies), 'min': np.min(accuracies), 'max': np.max(accuracies)}\n",
    "    report['precision'] = {'mean': np.mean(precisions), 'min': np.min(precisions), 'max': np.max(precisions)}\n",
    "    report['recall'] = {'mean': np.mean(recalls), 'min': np.min(recalls), 'max': np.max(recalls)}\n",
    "\n",
    "    return report, y_predict, y_val_fold"
   ]
  },
  {
   "cell_type": "code",
   "execution_count": 100,
   "metadata": {},
   "outputs": [],
   "source": [
    "reports = {}"
   ]
  },
  {
   "cell_type": "markdown",
   "metadata": {},
   "source": [
    "## Random Forest Classifier"
   ]
  },
  {
   "cell_type": "code",
   "execution_count": 101,
   "metadata": {},
   "outputs": [
    {
     "name": "stdout",
     "output_type": "stream",
     "text": [
      "Fitting 5 folds for each of 3 candidates, totalling 15 fits\n"
     ]
    },
    {
     "ename": "KeyboardInterrupt",
     "evalue": "",
     "output_type": "error",
     "traceback": [
      "\u001b[0;31m---------------------------------------------------------------------------\u001b[0m",
      "\u001b[0;31mKeyboardInterrupt\u001b[0m                         Traceback (most recent call last)",
      "Cell \u001b[0;32mIn[101], line 5\u001b[0m\n\u001b[1;32m      1\u001b[0m param_grid \u001b[38;5;241m=\u001b[39m {\n\u001b[1;32m      2\u001b[0m     \u001b[38;5;124m'\u001b[39m\u001b[38;5;124mn_estimators\u001b[39m\u001b[38;5;124m'\u001b[39m: [\u001b[38;5;241m100\u001b[39m, \u001b[38;5;241m200\u001b[39m, \u001b[38;5;241m300\u001b[39m],\n\u001b[1;32m      3\u001b[0m }\n\u001b[1;32m      4\u001b[0m grid_search \u001b[38;5;241m=\u001b[39m GridSearchCV(RandomForestClassifier(random_state\u001b[38;5;241m=\u001b[39m\u001b[38;5;241m42\u001b[39m), param_grid, verbose\u001b[38;5;241m=\u001b[39m\u001b[38;5;241m5\u001b[39m, n_jobs\u001b[38;5;241m=\u001b[39m\u001b[38;5;241m-\u001b[39m\u001b[38;5;241m1\u001b[39m)\n\u001b[0;32m----> 5\u001b[0m best_params_rf \u001b[38;5;241m=\u001b[39m \u001b[43mgrid_search\u001b[49m\u001b[38;5;241;43m.\u001b[39;49m\u001b[43mfit\u001b[49m\u001b[43m(\u001b[49m\u001b[43mX_train_scaled\u001b[49m\u001b[43m,\u001b[49m\u001b[43m \u001b[49m\u001b[43my_train\u001b[49m\u001b[43m)\u001b[49m\u001b[38;5;241m.\u001b[39mbest_params_\n",
      "File \u001b[0;32m~/.local/lib/python3.10/site-packages/sklearn/base.py:1389\u001b[0m, in \u001b[0;36m_fit_context.<locals>.decorator.<locals>.wrapper\u001b[0;34m(estimator, *args, **kwargs)\u001b[0m\n\u001b[1;32m   1382\u001b[0m     estimator\u001b[38;5;241m.\u001b[39m_validate_params()\n\u001b[1;32m   1384\u001b[0m \u001b[38;5;28;01mwith\u001b[39;00m config_context(\n\u001b[1;32m   1385\u001b[0m     skip_parameter_validation\u001b[38;5;241m=\u001b[39m(\n\u001b[1;32m   1386\u001b[0m         prefer_skip_nested_validation \u001b[38;5;129;01mor\u001b[39;00m global_skip_validation\n\u001b[1;32m   1387\u001b[0m     )\n\u001b[1;32m   1388\u001b[0m ):\n\u001b[0;32m-> 1389\u001b[0m     \u001b[38;5;28;01mreturn\u001b[39;00m \u001b[43mfit_method\u001b[49m\u001b[43m(\u001b[49m\u001b[43mestimator\u001b[49m\u001b[43m,\u001b[49m\u001b[43m \u001b[49m\u001b[38;5;241;43m*\u001b[39;49m\u001b[43margs\u001b[49m\u001b[43m,\u001b[49m\u001b[43m \u001b[49m\u001b[38;5;241;43m*\u001b[39;49m\u001b[38;5;241;43m*\u001b[39;49m\u001b[43mkwargs\u001b[49m\u001b[43m)\u001b[49m\n",
      "File \u001b[0;32m~/.local/lib/python3.10/site-packages/sklearn/model_selection/_search.py:1024\u001b[0m, in \u001b[0;36mBaseSearchCV.fit\u001b[0;34m(self, X, y, **params)\u001b[0m\n\u001b[1;32m   1018\u001b[0m     results \u001b[38;5;241m=\u001b[39m \u001b[38;5;28mself\u001b[39m\u001b[38;5;241m.\u001b[39m_format_results(\n\u001b[1;32m   1019\u001b[0m         all_candidate_params, n_splits, all_out, all_more_results\n\u001b[1;32m   1020\u001b[0m     )\n\u001b[1;32m   1022\u001b[0m     \u001b[38;5;28;01mreturn\u001b[39;00m results\n\u001b[0;32m-> 1024\u001b[0m \u001b[38;5;28;43mself\u001b[39;49m\u001b[38;5;241;43m.\u001b[39;49m\u001b[43m_run_search\u001b[49m\u001b[43m(\u001b[49m\u001b[43mevaluate_candidates\u001b[49m\u001b[43m)\u001b[49m\n\u001b[1;32m   1026\u001b[0m \u001b[38;5;66;03m# multimetric is determined here because in the case of a callable\u001b[39;00m\n\u001b[1;32m   1027\u001b[0m \u001b[38;5;66;03m# self.scoring the return type is only known after calling\u001b[39;00m\n\u001b[1;32m   1028\u001b[0m first_test_score \u001b[38;5;241m=\u001b[39m all_out[\u001b[38;5;241m0\u001b[39m][\u001b[38;5;124m\"\u001b[39m\u001b[38;5;124mtest_scores\u001b[39m\u001b[38;5;124m\"\u001b[39m]\n",
      "File \u001b[0;32m~/.local/lib/python3.10/site-packages/sklearn/model_selection/_search.py:1571\u001b[0m, in \u001b[0;36mGridSearchCV._run_search\u001b[0;34m(self, evaluate_candidates)\u001b[0m\n\u001b[1;32m   1569\u001b[0m \u001b[38;5;28;01mdef\u001b[39;00m \u001b[38;5;21m_run_search\u001b[39m(\u001b[38;5;28mself\u001b[39m, evaluate_candidates):\n\u001b[1;32m   1570\u001b[0m \u001b[38;5;250m    \u001b[39m\u001b[38;5;124;03m\"\"\"Search all candidates in param_grid\"\"\"\u001b[39;00m\n\u001b[0;32m-> 1571\u001b[0m     \u001b[43mevaluate_candidates\u001b[49m\u001b[43m(\u001b[49m\u001b[43mParameterGrid\u001b[49m\u001b[43m(\u001b[49m\u001b[38;5;28;43mself\u001b[39;49m\u001b[38;5;241;43m.\u001b[39;49m\u001b[43mparam_grid\u001b[49m\u001b[43m)\u001b[49m\u001b[43m)\u001b[49m\n",
      "File \u001b[0;32m~/.local/lib/python3.10/site-packages/sklearn/model_selection/_search.py:970\u001b[0m, in \u001b[0;36mBaseSearchCV.fit.<locals>.evaluate_candidates\u001b[0;34m(candidate_params, cv, more_results)\u001b[0m\n\u001b[1;32m    962\u001b[0m \u001b[38;5;28;01mif\u001b[39;00m \u001b[38;5;28mself\u001b[39m\u001b[38;5;241m.\u001b[39mverbose \u001b[38;5;241m>\u001b[39m \u001b[38;5;241m0\u001b[39m:\n\u001b[1;32m    963\u001b[0m     \u001b[38;5;28mprint\u001b[39m(\n\u001b[1;32m    964\u001b[0m         \u001b[38;5;124m\"\u001b[39m\u001b[38;5;124mFitting \u001b[39m\u001b[38;5;132;01m{0}\u001b[39;00m\u001b[38;5;124m folds for each of \u001b[39m\u001b[38;5;132;01m{1}\u001b[39;00m\u001b[38;5;124m candidates,\u001b[39m\u001b[38;5;124m\"\u001b[39m\n\u001b[1;32m    965\u001b[0m         \u001b[38;5;124m\"\u001b[39m\u001b[38;5;124m totalling \u001b[39m\u001b[38;5;132;01m{2}\u001b[39;00m\u001b[38;5;124m fits\u001b[39m\u001b[38;5;124m\"\u001b[39m\u001b[38;5;241m.\u001b[39mformat(\n\u001b[1;32m    966\u001b[0m             n_splits, n_candidates, n_candidates \u001b[38;5;241m*\u001b[39m n_splits\n\u001b[1;32m    967\u001b[0m         )\n\u001b[1;32m    968\u001b[0m     )\n\u001b[0;32m--> 970\u001b[0m out \u001b[38;5;241m=\u001b[39m \u001b[43mparallel\u001b[49m\u001b[43m(\u001b[49m\n\u001b[1;32m    971\u001b[0m \u001b[43m    \u001b[49m\u001b[43mdelayed\u001b[49m\u001b[43m(\u001b[49m\u001b[43m_fit_and_score\u001b[49m\u001b[43m)\u001b[49m\u001b[43m(\u001b[49m\n\u001b[1;32m    972\u001b[0m \u001b[43m        \u001b[49m\u001b[43mclone\u001b[49m\u001b[43m(\u001b[49m\u001b[43mbase_estimator\u001b[49m\u001b[43m)\u001b[49m\u001b[43m,\u001b[49m\n\u001b[1;32m    973\u001b[0m \u001b[43m        \u001b[49m\u001b[43mX\u001b[49m\u001b[43m,\u001b[49m\n\u001b[1;32m    974\u001b[0m \u001b[43m        \u001b[49m\u001b[43my\u001b[49m\u001b[43m,\u001b[49m\n\u001b[1;32m    975\u001b[0m \u001b[43m        \u001b[49m\u001b[43mtrain\u001b[49m\u001b[38;5;241;43m=\u001b[39;49m\u001b[43mtrain\u001b[49m\u001b[43m,\u001b[49m\n\u001b[1;32m    976\u001b[0m \u001b[43m        \u001b[49m\u001b[43mtest\u001b[49m\u001b[38;5;241;43m=\u001b[39;49m\u001b[43mtest\u001b[49m\u001b[43m,\u001b[49m\n\u001b[1;32m    977\u001b[0m \u001b[43m        \u001b[49m\u001b[43mparameters\u001b[49m\u001b[38;5;241;43m=\u001b[39;49m\u001b[43mparameters\u001b[49m\u001b[43m,\u001b[49m\n\u001b[1;32m    978\u001b[0m \u001b[43m        \u001b[49m\u001b[43msplit_progress\u001b[49m\u001b[38;5;241;43m=\u001b[39;49m\u001b[43m(\u001b[49m\u001b[43msplit_idx\u001b[49m\u001b[43m,\u001b[49m\u001b[43m \u001b[49m\u001b[43mn_splits\u001b[49m\u001b[43m)\u001b[49m\u001b[43m,\u001b[49m\n\u001b[1;32m    979\u001b[0m \u001b[43m        \u001b[49m\u001b[43mcandidate_progress\u001b[49m\u001b[38;5;241;43m=\u001b[39;49m\u001b[43m(\u001b[49m\u001b[43mcand_idx\u001b[49m\u001b[43m,\u001b[49m\u001b[43m \u001b[49m\u001b[43mn_candidates\u001b[49m\u001b[43m)\u001b[49m\u001b[43m,\u001b[49m\n\u001b[1;32m    980\u001b[0m \u001b[43m        \u001b[49m\u001b[38;5;241;43m*\u001b[39;49m\u001b[38;5;241;43m*\u001b[39;49m\u001b[43mfit_and_score_kwargs\u001b[49m\u001b[43m,\u001b[49m\n\u001b[1;32m    981\u001b[0m \u001b[43m    \u001b[49m\u001b[43m)\u001b[49m\n\u001b[1;32m    982\u001b[0m \u001b[43m    \u001b[49m\u001b[38;5;28;43;01mfor\u001b[39;49;00m\u001b[43m \u001b[49m\u001b[43m(\u001b[49m\u001b[43mcand_idx\u001b[49m\u001b[43m,\u001b[49m\u001b[43m \u001b[49m\u001b[43mparameters\u001b[49m\u001b[43m)\u001b[49m\u001b[43m,\u001b[49m\u001b[43m \u001b[49m\u001b[43m(\u001b[49m\u001b[43msplit_idx\u001b[49m\u001b[43m,\u001b[49m\u001b[43m \u001b[49m\u001b[43m(\u001b[49m\u001b[43mtrain\u001b[49m\u001b[43m,\u001b[49m\u001b[43m \u001b[49m\u001b[43mtest\u001b[49m\u001b[43m)\u001b[49m\u001b[43m)\u001b[49m\u001b[43m \u001b[49m\u001b[38;5;129;43;01min\u001b[39;49;00m\u001b[43m \u001b[49m\u001b[43mproduct\u001b[49m\u001b[43m(\u001b[49m\n\u001b[1;32m    983\u001b[0m \u001b[43m        \u001b[49m\u001b[38;5;28;43menumerate\u001b[39;49m\u001b[43m(\u001b[49m\u001b[43mcandidate_params\u001b[49m\u001b[43m)\u001b[49m\u001b[43m,\u001b[49m\n\u001b[1;32m    984\u001b[0m \u001b[43m        \u001b[49m\u001b[38;5;28;43menumerate\u001b[39;49m\u001b[43m(\u001b[49m\u001b[43mcv\u001b[49m\u001b[38;5;241;43m.\u001b[39;49m\u001b[43msplit\u001b[49m\u001b[43m(\u001b[49m\u001b[43mX\u001b[49m\u001b[43m,\u001b[49m\u001b[43m \u001b[49m\u001b[43my\u001b[49m\u001b[43m,\u001b[49m\u001b[43m \u001b[49m\u001b[38;5;241;43m*\u001b[39;49m\u001b[38;5;241;43m*\u001b[39;49m\u001b[43mrouted_params\u001b[49m\u001b[38;5;241;43m.\u001b[39;49m\u001b[43msplitter\u001b[49m\u001b[38;5;241;43m.\u001b[39;49m\u001b[43msplit\u001b[49m\u001b[43m)\u001b[49m\u001b[43m)\u001b[49m\u001b[43m,\u001b[49m\n\u001b[1;32m    985\u001b[0m \u001b[43m    \u001b[49m\u001b[43m)\u001b[49m\n\u001b[1;32m    986\u001b[0m \u001b[43m\u001b[49m\u001b[43m)\u001b[49m\n\u001b[1;32m    988\u001b[0m \u001b[38;5;28;01mif\u001b[39;00m \u001b[38;5;28mlen\u001b[39m(out) \u001b[38;5;241m<\u001b[39m \u001b[38;5;241m1\u001b[39m:\n\u001b[1;32m    989\u001b[0m     \u001b[38;5;28;01mraise\u001b[39;00m \u001b[38;5;167;01mValueError\u001b[39;00m(\n\u001b[1;32m    990\u001b[0m         \u001b[38;5;124m\"\u001b[39m\u001b[38;5;124mNo fits were performed. \u001b[39m\u001b[38;5;124m\"\u001b[39m\n\u001b[1;32m    991\u001b[0m         \u001b[38;5;124m\"\u001b[39m\u001b[38;5;124mWas the CV iterator empty? \u001b[39m\u001b[38;5;124m\"\u001b[39m\n\u001b[1;32m    992\u001b[0m         \u001b[38;5;124m\"\u001b[39m\u001b[38;5;124mWere there no candidates?\u001b[39m\u001b[38;5;124m\"\u001b[39m\n\u001b[1;32m    993\u001b[0m     )\n",
      "File \u001b[0;32m~/.local/lib/python3.10/site-packages/sklearn/utils/parallel.py:77\u001b[0m, in \u001b[0;36mParallel.__call__\u001b[0;34m(self, iterable)\u001b[0m\n\u001b[1;32m     72\u001b[0m config \u001b[38;5;241m=\u001b[39m get_config()\n\u001b[1;32m     73\u001b[0m iterable_with_config \u001b[38;5;241m=\u001b[39m (\n\u001b[1;32m     74\u001b[0m     (_with_config(delayed_func, config), args, kwargs)\n\u001b[1;32m     75\u001b[0m     \u001b[38;5;28;01mfor\u001b[39;00m delayed_func, args, kwargs \u001b[38;5;129;01min\u001b[39;00m iterable\n\u001b[1;32m     76\u001b[0m )\n\u001b[0;32m---> 77\u001b[0m \u001b[38;5;28;01mreturn\u001b[39;00m \u001b[38;5;28;43msuper\u001b[39;49m\u001b[43m(\u001b[49m\u001b[43m)\u001b[49m\u001b[38;5;241;43m.\u001b[39;49m\u001b[38;5;21;43m__call__\u001b[39;49m\u001b[43m(\u001b[49m\u001b[43miterable_with_config\u001b[49m\u001b[43m)\u001b[49m\n",
      "File \u001b[0;32m~/.local/lib/python3.10/site-packages/joblib/parallel.py:2007\u001b[0m, in \u001b[0;36mParallel.__call__\u001b[0;34m(self, iterable)\u001b[0m\n\u001b[1;32m   2001\u001b[0m \u001b[38;5;66;03m# The first item from the output is blank, but it makes the interpreter\u001b[39;00m\n\u001b[1;32m   2002\u001b[0m \u001b[38;5;66;03m# progress until it enters the Try/Except block of the generator and\u001b[39;00m\n\u001b[1;32m   2003\u001b[0m \u001b[38;5;66;03m# reaches the first `yield` statement. This starts the asynchronous\u001b[39;00m\n\u001b[1;32m   2004\u001b[0m \u001b[38;5;66;03m# dispatch of the tasks to the workers.\u001b[39;00m\n\u001b[1;32m   2005\u001b[0m \u001b[38;5;28mnext\u001b[39m(output)\n\u001b[0;32m-> 2007\u001b[0m \u001b[38;5;28;01mreturn\u001b[39;00m output \u001b[38;5;28;01mif\u001b[39;00m \u001b[38;5;28mself\u001b[39m\u001b[38;5;241m.\u001b[39mreturn_generator \u001b[38;5;28;01melse\u001b[39;00m \u001b[38;5;28;43mlist\u001b[39;49m\u001b[43m(\u001b[49m\u001b[43moutput\u001b[49m\u001b[43m)\u001b[49m\n",
      "File \u001b[0;32m~/.local/lib/python3.10/site-packages/joblib/parallel.py:1650\u001b[0m, in \u001b[0;36mParallel._get_outputs\u001b[0;34m(self, iterator, pre_dispatch)\u001b[0m\n\u001b[1;32m   1647\u001b[0m     \u001b[38;5;28;01myield\u001b[39;00m\n\u001b[1;32m   1649\u001b[0m     \u001b[38;5;28;01mwith\u001b[39;00m \u001b[38;5;28mself\u001b[39m\u001b[38;5;241m.\u001b[39m_backend\u001b[38;5;241m.\u001b[39mretrieval_context():\n\u001b[0;32m-> 1650\u001b[0m         \u001b[38;5;28;01myield from\u001b[39;00m \u001b[38;5;28mself\u001b[39m\u001b[38;5;241m.\u001b[39m_retrieve()\n\u001b[1;32m   1652\u001b[0m \u001b[38;5;28;01mexcept\u001b[39;00m \u001b[38;5;167;01mGeneratorExit\u001b[39;00m:\n\u001b[1;32m   1653\u001b[0m     \u001b[38;5;66;03m# The generator has been garbage collected before being fully\u001b[39;00m\n\u001b[1;32m   1654\u001b[0m     \u001b[38;5;66;03m# consumed. This aborts the remaining tasks if possible and warn\u001b[39;00m\n\u001b[1;32m   1655\u001b[0m     \u001b[38;5;66;03m# the user if necessary.\u001b[39;00m\n\u001b[1;32m   1656\u001b[0m     \u001b[38;5;28mself\u001b[39m\u001b[38;5;241m.\u001b[39m_exception \u001b[38;5;241m=\u001b[39m \u001b[38;5;28;01mTrue\u001b[39;00m\n",
      "File \u001b[0;32m~/.local/lib/python3.10/site-packages/joblib/parallel.py:1762\u001b[0m, in \u001b[0;36mParallel._retrieve\u001b[0;34m(self)\u001b[0m\n\u001b[1;32m   1757\u001b[0m \u001b[38;5;66;03m# If the next job is not ready for retrieval yet, we just wait for\u001b[39;00m\n\u001b[1;32m   1758\u001b[0m \u001b[38;5;66;03m# async callbacks to progress.\u001b[39;00m\n\u001b[1;32m   1759\u001b[0m \u001b[38;5;28;01mif\u001b[39;00m ((\u001b[38;5;28mlen\u001b[39m(\u001b[38;5;28mself\u001b[39m\u001b[38;5;241m.\u001b[39m_jobs) \u001b[38;5;241m==\u001b[39m \u001b[38;5;241m0\u001b[39m) \u001b[38;5;129;01mor\u001b[39;00m\n\u001b[1;32m   1760\u001b[0m     (\u001b[38;5;28mself\u001b[39m\u001b[38;5;241m.\u001b[39m_jobs[\u001b[38;5;241m0\u001b[39m]\u001b[38;5;241m.\u001b[39mget_status(\n\u001b[1;32m   1761\u001b[0m         timeout\u001b[38;5;241m=\u001b[39m\u001b[38;5;28mself\u001b[39m\u001b[38;5;241m.\u001b[39mtimeout) \u001b[38;5;241m==\u001b[39m TASK_PENDING)):\n\u001b[0;32m-> 1762\u001b[0m     \u001b[43mtime\u001b[49m\u001b[38;5;241;43m.\u001b[39;49m\u001b[43msleep\u001b[49m\u001b[43m(\u001b[49m\u001b[38;5;241;43m0.01\u001b[39;49m\u001b[43m)\u001b[49m\n\u001b[1;32m   1763\u001b[0m     \u001b[38;5;28;01mcontinue\u001b[39;00m\n\u001b[1;32m   1765\u001b[0m \u001b[38;5;66;03m# We need to be careful: the job list can be filling up as\u001b[39;00m\n\u001b[1;32m   1766\u001b[0m \u001b[38;5;66;03m# we empty it and Python list are not thread-safe by\u001b[39;00m\n\u001b[1;32m   1767\u001b[0m \u001b[38;5;66;03m# default hence the use of the lock\u001b[39;00m\n",
      "\u001b[0;31mKeyboardInterrupt\u001b[0m: "
     ]
    }
   ],
   "source": [
    "param_grid = {\n",
    "    'n_estimators': [100, 200, 300],\n",
    "}\n",
    "grid_search = GridSearchCV(RandomForestClassifier(random_state=42), param_grid, verbose=5, n_jobs=-1)\n",
    "best_params_rf = grid_search.fit(X_train_scaled, y_train).best_params_"
   ]
  },
  {
   "cell_type": "code",
   "execution_count": 102,
   "metadata": {},
   "outputs": [
    {
     "name": "stdout",
     "output_type": "stream",
     "text": [
      "Fold 1\n",
      "\tValidation accuracy: 0.7101449275362319\n",
      "\tValidation precision: 0.710316538025547\n",
      "\tValidation recall: 0.7101449275362319\n",
      "Fold 2\n"
     ]
    },
    {
     "ename": "KeyboardInterrupt",
     "evalue": "",
     "output_type": "error",
     "traceback": [
      "\u001b[0;31m---------------------------------------------------------------------------\u001b[0m",
      "\u001b[0;31mKeyboardInterrupt\u001b[0m                         Traceback (most recent call last)",
      "Cell \u001b[0;32mIn[102], line 1\u001b[0m\n\u001b[0;32m----> 1\u001b[0m report_rf, y_pred_rf, y_val_rf \u001b[38;5;241m=\u001b[39m \u001b[43mkfold_cross_validation_ML\u001b[49m\u001b[43m(\u001b[49m\u001b[43mRandomForestClassifier\u001b[49m\u001b[43m,\u001b[49m\u001b[43m \u001b[49m\u001b[43mX\u001b[49m\u001b[43m,\u001b[49m\u001b[43m \u001b[49m\u001b[43my\u001b[49m\u001b[43m,\u001b[49m\u001b[43m \u001b[49m\u001b[43m{\u001b[49m\u001b[38;5;124;43m'\u001b[39;49m\u001b[38;5;124;43mn_estimators\u001b[39;49m\u001b[38;5;124;43m'\u001b[39;49m\u001b[43m:\u001b[49m\u001b[43m \u001b[49m\u001b[38;5;241;43m300\u001b[39;49m\u001b[43m}\u001b[49m\u001b[43m,\u001b[49m\u001b[43m \u001b[49m\u001b[43mn_splits\u001b[49m\u001b[38;5;241;43m=\u001b[39;49m\u001b[38;5;241;43m10\u001b[39;49m\u001b[43m)\u001b[49m\n",
      "Cell \u001b[0;32mIn[99], line 19\u001b[0m, in \u001b[0;36mkfold_cross_validation_ML\u001b[0;34m(model_function, X, y, params, n_splits)\u001b[0m\n\u001b[1;32m     16\u001b[0m X_val_fold_scaled \u001b[38;5;241m=\u001b[39m X_test_fold_scaled\u001b[38;5;241m.\u001b[39mreshape(X_val_fold\u001b[38;5;241m.\u001b[39mshape)\n\u001b[1;32m     18\u001b[0m model \u001b[38;5;241m=\u001b[39m model_function(\u001b[38;5;241m*\u001b[39m\u001b[38;5;241m*\u001b[39mparams)\n\u001b[0;32m---> 19\u001b[0m \u001b[43mmodel\u001b[49m\u001b[38;5;241;43m.\u001b[39;49m\u001b[43mfit\u001b[49m\u001b[43m(\u001b[49m\u001b[43mX_train_fold_scaled\u001b[49m\u001b[43m,\u001b[49m\u001b[43m \u001b[49m\u001b[43my_train_fold\u001b[49m\u001b[43m)\u001b[49m\n\u001b[1;32m     20\u001b[0m y_predict \u001b[38;5;241m=\u001b[39m model\u001b[38;5;241m.\u001b[39mpredict(X_val_fold_scaled)\n\u001b[1;32m     21\u001b[0m acc \u001b[38;5;241m=\u001b[39m accuracy_score(y_val_fold, y_predict)\n",
      "File \u001b[0;32m~/.local/lib/python3.10/site-packages/sklearn/base.py:1389\u001b[0m, in \u001b[0;36m_fit_context.<locals>.decorator.<locals>.wrapper\u001b[0;34m(estimator, *args, **kwargs)\u001b[0m\n\u001b[1;32m   1382\u001b[0m     estimator\u001b[38;5;241m.\u001b[39m_validate_params()\n\u001b[1;32m   1384\u001b[0m \u001b[38;5;28;01mwith\u001b[39;00m config_context(\n\u001b[1;32m   1385\u001b[0m     skip_parameter_validation\u001b[38;5;241m=\u001b[39m(\n\u001b[1;32m   1386\u001b[0m         prefer_skip_nested_validation \u001b[38;5;129;01mor\u001b[39;00m global_skip_validation\n\u001b[1;32m   1387\u001b[0m     )\n\u001b[1;32m   1388\u001b[0m ):\n\u001b[0;32m-> 1389\u001b[0m     \u001b[38;5;28;01mreturn\u001b[39;00m \u001b[43mfit_method\u001b[49m\u001b[43m(\u001b[49m\u001b[43mestimator\u001b[49m\u001b[43m,\u001b[49m\u001b[43m \u001b[49m\u001b[38;5;241;43m*\u001b[39;49m\u001b[43margs\u001b[49m\u001b[43m,\u001b[49m\u001b[43m \u001b[49m\u001b[38;5;241;43m*\u001b[39;49m\u001b[38;5;241;43m*\u001b[39;49m\u001b[43mkwargs\u001b[49m\u001b[43m)\u001b[49m\n",
      "File \u001b[0;32m~/.local/lib/python3.10/site-packages/sklearn/ensemble/_forest.py:487\u001b[0m, in \u001b[0;36mBaseForest.fit\u001b[0;34m(self, X, y, sample_weight)\u001b[0m\n\u001b[1;32m    476\u001b[0m trees \u001b[38;5;241m=\u001b[39m [\n\u001b[1;32m    477\u001b[0m     \u001b[38;5;28mself\u001b[39m\u001b[38;5;241m.\u001b[39m_make_estimator(append\u001b[38;5;241m=\u001b[39m\u001b[38;5;28;01mFalse\u001b[39;00m, random_state\u001b[38;5;241m=\u001b[39mrandom_state)\n\u001b[1;32m    478\u001b[0m     \u001b[38;5;28;01mfor\u001b[39;00m i \u001b[38;5;129;01min\u001b[39;00m \u001b[38;5;28mrange\u001b[39m(n_more_estimators)\n\u001b[1;32m    479\u001b[0m ]\n\u001b[1;32m    481\u001b[0m \u001b[38;5;66;03m# Parallel loop: we prefer the threading backend as the Cython code\u001b[39;00m\n\u001b[1;32m    482\u001b[0m \u001b[38;5;66;03m# for fitting the trees is internally releasing the Python GIL\u001b[39;00m\n\u001b[1;32m    483\u001b[0m \u001b[38;5;66;03m# making threading more efficient than multiprocessing in\u001b[39;00m\n\u001b[1;32m    484\u001b[0m \u001b[38;5;66;03m# that case. However, for joblib 0.12+ we respect any\u001b[39;00m\n\u001b[1;32m    485\u001b[0m \u001b[38;5;66;03m# parallel_backend contexts set at a higher level,\u001b[39;00m\n\u001b[1;32m    486\u001b[0m \u001b[38;5;66;03m# since correctness does not rely on using threads.\u001b[39;00m\n\u001b[0;32m--> 487\u001b[0m trees \u001b[38;5;241m=\u001b[39m \u001b[43mParallel\u001b[49m\u001b[43m(\u001b[49m\n\u001b[1;32m    488\u001b[0m \u001b[43m    \u001b[49m\u001b[43mn_jobs\u001b[49m\u001b[38;5;241;43m=\u001b[39;49m\u001b[38;5;28;43mself\u001b[39;49m\u001b[38;5;241;43m.\u001b[39;49m\u001b[43mn_jobs\u001b[49m\u001b[43m,\u001b[49m\n\u001b[1;32m    489\u001b[0m \u001b[43m    \u001b[49m\u001b[43mverbose\u001b[49m\u001b[38;5;241;43m=\u001b[39;49m\u001b[38;5;28;43mself\u001b[39;49m\u001b[38;5;241;43m.\u001b[39;49m\u001b[43mverbose\u001b[49m\u001b[43m,\u001b[49m\n\u001b[1;32m    490\u001b[0m \u001b[43m    \u001b[49m\u001b[43mprefer\u001b[49m\u001b[38;5;241;43m=\u001b[39;49m\u001b[38;5;124;43m\"\u001b[39;49m\u001b[38;5;124;43mthreads\u001b[39;49m\u001b[38;5;124;43m\"\u001b[39;49m\u001b[43m,\u001b[49m\n\u001b[1;32m    491\u001b[0m \u001b[43m\u001b[49m\u001b[43m)\u001b[49m\u001b[43m(\u001b[49m\n\u001b[1;32m    492\u001b[0m \u001b[43m    \u001b[49m\u001b[43mdelayed\u001b[49m\u001b[43m(\u001b[49m\u001b[43m_parallel_build_trees\u001b[49m\u001b[43m)\u001b[49m\u001b[43m(\u001b[49m\n\u001b[1;32m    493\u001b[0m \u001b[43m        \u001b[49m\u001b[43mt\u001b[49m\u001b[43m,\u001b[49m\n\u001b[1;32m    494\u001b[0m \u001b[43m        \u001b[49m\u001b[38;5;28;43mself\u001b[39;49m\u001b[38;5;241;43m.\u001b[39;49m\u001b[43mbootstrap\u001b[49m\u001b[43m,\u001b[49m\n\u001b[1;32m    495\u001b[0m \u001b[43m        \u001b[49m\u001b[43mX\u001b[49m\u001b[43m,\u001b[49m\n\u001b[1;32m    496\u001b[0m \u001b[43m        \u001b[49m\u001b[43my\u001b[49m\u001b[43m,\u001b[49m\n\u001b[1;32m    497\u001b[0m \u001b[43m        \u001b[49m\u001b[43msample_weight\u001b[49m\u001b[43m,\u001b[49m\n\u001b[1;32m    498\u001b[0m \u001b[43m        \u001b[49m\u001b[43mi\u001b[49m\u001b[43m,\u001b[49m\n\u001b[1;32m    499\u001b[0m \u001b[43m        \u001b[49m\u001b[38;5;28;43mlen\u001b[39;49m\u001b[43m(\u001b[49m\u001b[43mtrees\u001b[49m\u001b[43m)\u001b[49m\u001b[43m,\u001b[49m\n\u001b[1;32m    500\u001b[0m \u001b[43m        \u001b[49m\u001b[43mverbose\u001b[49m\u001b[38;5;241;43m=\u001b[39;49m\u001b[38;5;28;43mself\u001b[39;49m\u001b[38;5;241;43m.\u001b[39;49m\u001b[43mverbose\u001b[49m\u001b[43m,\u001b[49m\n\u001b[1;32m    501\u001b[0m \u001b[43m        \u001b[49m\u001b[43mclass_weight\u001b[49m\u001b[38;5;241;43m=\u001b[39;49m\u001b[38;5;28;43mself\u001b[39;49m\u001b[38;5;241;43m.\u001b[39;49m\u001b[43mclass_weight\u001b[49m\u001b[43m,\u001b[49m\n\u001b[1;32m    502\u001b[0m \u001b[43m        \u001b[49m\u001b[43mn_samples_bootstrap\u001b[49m\u001b[38;5;241;43m=\u001b[39;49m\u001b[43mn_samples_bootstrap\u001b[49m\u001b[43m,\u001b[49m\n\u001b[1;32m    503\u001b[0m \u001b[43m        \u001b[49m\u001b[43mmissing_values_in_feature_mask\u001b[49m\u001b[38;5;241;43m=\u001b[39;49m\u001b[43mmissing_values_in_feature_mask\u001b[49m\u001b[43m,\u001b[49m\n\u001b[1;32m    504\u001b[0m \u001b[43m    \u001b[49m\u001b[43m)\u001b[49m\n\u001b[1;32m    505\u001b[0m \u001b[43m    \u001b[49m\u001b[38;5;28;43;01mfor\u001b[39;49;00m\u001b[43m \u001b[49m\u001b[43mi\u001b[49m\u001b[43m,\u001b[49m\u001b[43m \u001b[49m\u001b[43mt\u001b[49m\u001b[43m \u001b[49m\u001b[38;5;129;43;01min\u001b[39;49;00m\u001b[43m \u001b[49m\u001b[38;5;28;43menumerate\u001b[39;49m\u001b[43m(\u001b[49m\u001b[43mtrees\u001b[49m\u001b[43m)\u001b[49m\n\u001b[1;32m    506\u001b[0m \u001b[43m\u001b[49m\u001b[43m)\u001b[49m\n\u001b[1;32m    508\u001b[0m \u001b[38;5;66;03m# Collect newly grown trees\u001b[39;00m\n\u001b[1;32m    509\u001b[0m \u001b[38;5;28mself\u001b[39m\u001b[38;5;241m.\u001b[39mestimators_\u001b[38;5;241m.\u001b[39mextend(trees)\n",
      "File \u001b[0;32m~/.local/lib/python3.10/site-packages/sklearn/utils/parallel.py:77\u001b[0m, in \u001b[0;36mParallel.__call__\u001b[0;34m(self, iterable)\u001b[0m\n\u001b[1;32m     72\u001b[0m config \u001b[38;5;241m=\u001b[39m get_config()\n\u001b[1;32m     73\u001b[0m iterable_with_config \u001b[38;5;241m=\u001b[39m (\n\u001b[1;32m     74\u001b[0m     (_with_config(delayed_func, config), args, kwargs)\n\u001b[1;32m     75\u001b[0m     \u001b[38;5;28;01mfor\u001b[39;00m delayed_func, args, kwargs \u001b[38;5;129;01min\u001b[39;00m iterable\n\u001b[1;32m     76\u001b[0m )\n\u001b[0;32m---> 77\u001b[0m \u001b[38;5;28;01mreturn\u001b[39;00m \u001b[38;5;28;43msuper\u001b[39;49m\u001b[43m(\u001b[49m\u001b[43m)\u001b[49m\u001b[38;5;241;43m.\u001b[39;49m\u001b[38;5;21;43m__call__\u001b[39;49m\u001b[43m(\u001b[49m\u001b[43miterable_with_config\u001b[49m\u001b[43m)\u001b[49m\n",
      "File \u001b[0;32m~/.local/lib/python3.10/site-packages/joblib/parallel.py:1918\u001b[0m, in \u001b[0;36mParallel.__call__\u001b[0;34m(self, iterable)\u001b[0m\n\u001b[1;32m   1916\u001b[0m     output \u001b[38;5;241m=\u001b[39m \u001b[38;5;28mself\u001b[39m\u001b[38;5;241m.\u001b[39m_get_sequential_output(iterable)\n\u001b[1;32m   1917\u001b[0m     \u001b[38;5;28mnext\u001b[39m(output)\n\u001b[0;32m-> 1918\u001b[0m     \u001b[38;5;28;01mreturn\u001b[39;00m output \u001b[38;5;28;01mif\u001b[39;00m \u001b[38;5;28mself\u001b[39m\u001b[38;5;241m.\u001b[39mreturn_generator \u001b[38;5;28;01melse\u001b[39;00m \u001b[38;5;28;43mlist\u001b[39;49m\u001b[43m(\u001b[49m\u001b[43moutput\u001b[49m\u001b[43m)\u001b[49m\n\u001b[1;32m   1920\u001b[0m \u001b[38;5;66;03m# Let's create an ID that uniquely identifies the current call. If the\u001b[39;00m\n\u001b[1;32m   1921\u001b[0m \u001b[38;5;66;03m# call is interrupted early and that the same instance is immediately\u001b[39;00m\n\u001b[1;32m   1922\u001b[0m \u001b[38;5;66;03m# re-used, this id will be used to prevent workers that were\u001b[39;00m\n\u001b[1;32m   1923\u001b[0m \u001b[38;5;66;03m# concurrently finalizing a task from the previous call to run the\u001b[39;00m\n\u001b[1;32m   1924\u001b[0m \u001b[38;5;66;03m# callback.\u001b[39;00m\n\u001b[1;32m   1925\u001b[0m \u001b[38;5;28;01mwith\u001b[39;00m \u001b[38;5;28mself\u001b[39m\u001b[38;5;241m.\u001b[39m_lock:\n",
      "File \u001b[0;32m~/.local/lib/python3.10/site-packages/joblib/parallel.py:1847\u001b[0m, in \u001b[0;36mParallel._get_sequential_output\u001b[0;34m(self, iterable)\u001b[0m\n\u001b[1;32m   1845\u001b[0m \u001b[38;5;28mself\u001b[39m\u001b[38;5;241m.\u001b[39mn_dispatched_batches \u001b[38;5;241m+\u001b[39m\u001b[38;5;241m=\u001b[39m \u001b[38;5;241m1\u001b[39m\n\u001b[1;32m   1846\u001b[0m \u001b[38;5;28mself\u001b[39m\u001b[38;5;241m.\u001b[39mn_dispatched_tasks \u001b[38;5;241m+\u001b[39m\u001b[38;5;241m=\u001b[39m \u001b[38;5;241m1\u001b[39m\n\u001b[0;32m-> 1847\u001b[0m res \u001b[38;5;241m=\u001b[39m \u001b[43mfunc\u001b[49m\u001b[43m(\u001b[49m\u001b[38;5;241;43m*\u001b[39;49m\u001b[43margs\u001b[49m\u001b[43m,\u001b[49m\u001b[43m \u001b[49m\u001b[38;5;241;43m*\u001b[39;49m\u001b[38;5;241;43m*\u001b[39;49m\u001b[43mkwargs\u001b[49m\u001b[43m)\u001b[49m\n\u001b[1;32m   1848\u001b[0m \u001b[38;5;28mself\u001b[39m\u001b[38;5;241m.\u001b[39mn_completed_tasks \u001b[38;5;241m+\u001b[39m\u001b[38;5;241m=\u001b[39m \u001b[38;5;241m1\u001b[39m\n\u001b[1;32m   1849\u001b[0m \u001b[38;5;28mself\u001b[39m\u001b[38;5;241m.\u001b[39mprint_progress()\n",
      "File \u001b[0;32m~/.local/lib/python3.10/site-packages/sklearn/utils/parallel.py:139\u001b[0m, in \u001b[0;36m_FuncWrapper.__call__\u001b[0;34m(self, *args, **kwargs)\u001b[0m\n\u001b[1;32m    137\u001b[0m     config \u001b[38;5;241m=\u001b[39m {}\n\u001b[1;32m    138\u001b[0m \u001b[38;5;28;01mwith\u001b[39;00m config_context(\u001b[38;5;241m*\u001b[39m\u001b[38;5;241m*\u001b[39mconfig):\n\u001b[0;32m--> 139\u001b[0m     \u001b[38;5;28;01mreturn\u001b[39;00m \u001b[38;5;28;43mself\u001b[39;49m\u001b[38;5;241;43m.\u001b[39;49m\u001b[43mfunction\u001b[49m\u001b[43m(\u001b[49m\u001b[38;5;241;43m*\u001b[39;49m\u001b[43margs\u001b[49m\u001b[43m,\u001b[49m\u001b[43m \u001b[49m\u001b[38;5;241;43m*\u001b[39;49m\u001b[38;5;241;43m*\u001b[39;49m\u001b[43mkwargs\u001b[49m\u001b[43m)\u001b[49m\n",
      "File \u001b[0;32m~/.local/lib/python3.10/site-packages/sklearn/ensemble/_forest.py:189\u001b[0m, in \u001b[0;36m_parallel_build_trees\u001b[0;34m(tree, bootstrap, X, y, sample_weight, tree_idx, n_trees, verbose, class_weight, n_samples_bootstrap, missing_values_in_feature_mask)\u001b[0m\n\u001b[1;32m    186\u001b[0m     \u001b[38;5;28;01melif\u001b[39;00m class_weight \u001b[38;5;241m==\u001b[39m \u001b[38;5;124m\"\u001b[39m\u001b[38;5;124mbalanced_subsample\u001b[39m\u001b[38;5;124m\"\u001b[39m:\n\u001b[1;32m    187\u001b[0m         curr_sample_weight \u001b[38;5;241m*\u001b[39m\u001b[38;5;241m=\u001b[39m compute_sample_weight(\u001b[38;5;124m\"\u001b[39m\u001b[38;5;124mbalanced\u001b[39m\u001b[38;5;124m\"\u001b[39m, y, indices\u001b[38;5;241m=\u001b[39mindices)\n\u001b[0;32m--> 189\u001b[0m     \u001b[43mtree\u001b[49m\u001b[38;5;241;43m.\u001b[39;49m\u001b[43m_fit\u001b[49m\u001b[43m(\u001b[49m\n\u001b[1;32m    190\u001b[0m \u001b[43m        \u001b[49m\u001b[43mX\u001b[49m\u001b[43m,\u001b[49m\n\u001b[1;32m    191\u001b[0m \u001b[43m        \u001b[49m\u001b[43my\u001b[49m\u001b[43m,\u001b[49m\n\u001b[1;32m    192\u001b[0m \u001b[43m        \u001b[49m\u001b[43msample_weight\u001b[49m\u001b[38;5;241;43m=\u001b[39;49m\u001b[43mcurr_sample_weight\u001b[49m\u001b[43m,\u001b[49m\n\u001b[1;32m    193\u001b[0m \u001b[43m        \u001b[49m\u001b[43mcheck_input\u001b[49m\u001b[38;5;241;43m=\u001b[39;49m\u001b[38;5;28;43;01mFalse\u001b[39;49;00m\u001b[43m,\u001b[49m\n\u001b[1;32m    194\u001b[0m \u001b[43m        \u001b[49m\u001b[43mmissing_values_in_feature_mask\u001b[49m\u001b[38;5;241;43m=\u001b[39;49m\u001b[43mmissing_values_in_feature_mask\u001b[49m\u001b[43m,\u001b[49m\n\u001b[1;32m    195\u001b[0m \u001b[43m    \u001b[49m\u001b[43m)\u001b[49m\n\u001b[1;32m    196\u001b[0m \u001b[38;5;28;01melse\u001b[39;00m:\n\u001b[1;32m    197\u001b[0m     tree\u001b[38;5;241m.\u001b[39m_fit(\n\u001b[1;32m    198\u001b[0m         X,\n\u001b[1;32m    199\u001b[0m         y,\n\u001b[0;32m   (...)\u001b[0m\n\u001b[1;32m    202\u001b[0m         missing_values_in_feature_mask\u001b[38;5;241m=\u001b[39mmissing_values_in_feature_mask,\n\u001b[1;32m    203\u001b[0m     )\n",
      "File \u001b[0;32m~/.local/lib/python3.10/site-packages/sklearn/tree/_classes.py:472\u001b[0m, in \u001b[0;36mBaseDecisionTree._fit\u001b[0;34m(self, X, y, sample_weight, check_input, missing_values_in_feature_mask)\u001b[0m\n\u001b[1;32m    461\u001b[0m \u001b[38;5;28;01melse\u001b[39;00m:\n\u001b[1;32m    462\u001b[0m     builder \u001b[38;5;241m=\u001b[39m BestFirstTreeBuilder(\n\u001b[1;32m    463\u001b[0m         splitter,\n\u001b[1;32m    464\u001b[0m         min_samples_split,\n\u001b[0;32m   (...)\u001b[0m\n\u001b[1;32m    469\u001b[0m         \u001b[38;5;28mself\u001b[39m\u001b[38;5;241m.\u001b[39mmin_impurity_decrease,\n\u001b[1;32m    470\u001b[0m     )\n\u001b[0;32m--> 472\u001b[0m \u001b[43mbuilder\u001b[49m\u001b[38;5;241;43m.\u001b[39;49m\u001b[43mbuild\u001b[49m\u001b[43m(\u001b[49m\u001b[38;5;28;43mself\u001b[39;49m\u001b[38;5;241;43m.\u001b[39;49m\u001b[43mtree_\u001b[49m\u001b[43m,\u001b[49m\u001b[43m \u001b[49m\u001b[43mX\u001b[49m\u001b[43m,\u001b[49m\u001b[43m \u001b[49m\u001b[43my\u001b[49m\u001b[43m,\u001b[49m\u001b[43m \u001b[49m\u001b[43msample_weight\u001b[49m\u001b[43m,\u001b[49m\u001b[43m \u001b[49m\u001b[43mmissing_values_in_feature_mask\u001b[49m\u001b[43m)\u001b[49m\n\u001b[1;32m    474\u001b[0m \u001b[38;5;28;01mif\u001b[39;00m \u001b[38;5;28mself\u001b[39m\u001b[38;5;241m.\u001b[39mn_outputs_ \u001b[38;5;241m==\u001b[39m \u001b[38;5;241m1\u001b[39m \u001b[38;5;129;01mand\u001b[39;00m is_classifier(\u001b[38;5;28mself\u001b[39m):\n\u001b[1;32m    475\u001b[0m     \u001b[38;5;28mself\u001b[39m\u001b[38;5;241m.\u001b[39mn_classes_ \u001b[38;5;241m=\u001b[39m \u001b[38;5;28mself\u001b[39m\u001b[38;5;241m.\u001b[39mn_classes_[\u001b[38;5;241m0\u001b[39m]\n",
      "\u001b[0;31mKeyboardInterrupt\u001b[0m: "
     ]
    }
   ],
   "source": [
    "report_rf, y_pred_rf, y_val_rf = kfold_cross_validation_ML(RandomForestClassifier, X, y, {'n_estimators': 300}, n_splits=10)"
   ]
  },
  {
   "cell_type": "code",
   "execution_count": 28,
   "metadata": {},
   "outputs": [
    {
     "name": "stdout",
     "output_type": "stream",
     "text": [
      "{'accuracy': {'max': np.float64(0.9671669793621013),\n",
      "              'mean': np.float64(0.9596729270226882),\n",
      "              'min': np.float64(0.949343339587242)},\n",
      " 'precision': {'max': np.float64(0.967597693655579),\n",
      "               'mean': np.float64(0.9606371927915278),\n",
      "               'min': np.float64(0.9497034798214126)},\n",
      " 'recall': {'max': np.float64(0.9671669793621013),\n",
      "            'mean': np.float64(0.9596729270226882),\n",
      "            'min': np.float64(0.949343339587242)}}\n"
     ]
    }
   ],
   "source": [
    "reports['RandomForest'] = report_rf\n",
    "pprint(report_rf)"
   ]
  },
  {
   "cell_type": "code",
   "execution_count": 29,
   "metadata": {},
   "outputs": [],
   "source": [
    "def display_cm(y_test, y_pred):\n",
    "    cm = confusion_matrix(y_test, y_pred)\n",
    "    disp = ConfusionMatrixDisplay(confusion_matrix=cm)\n",
    "    disp.plot()\n",
    "    plt.show()"
   ]
  },
  {
   "cell_type": "code",
   "execution_count": 30,
   "metadata": {},
   "outputs": [
    {
     "data": {
      "image/png": "[encoded data removed]",
      "text/plain": [
       "<Figure size 640x480 with 2 Axes>"
      ]
     },
     "metadata": {},
     "output_type": "display_data"
    }
   ],
   "source": [
    "display_cm(y_val_rf, y_pred_rf)"
   ]
  },
  {
   "cell_type": "markdown",
   "metadata": {},
   "source": [
    "## SVC (Support Vector Classifier)"
   ]
  },
  {
   "cell_type": "code",
   "execution_count": 31,
   "metadata": {},
   "outputs": [],
   "source": [
    "def fit_SVC(X_train, X_test, y_train, y_test, C=100, gamma=0.1, kernel='rbf'):\n",
    "    clf = SVC(C=C, gamma=gamma, kernel=kernel)\n",
    "    clf.fit(X_train, y_train)\n",
    "    y_pred = clf.predict(X_test)\n",
    "\n",
    "    return clf, classification_report(y_test, y_pred), y_pred"
   ]
  },
  {
   "cell_type": "markdown",
   "metadata": {},
   "source": [
    "Hyperparameter search"
   ]
  },
  {
   "cell_type": "code",
   "execution_count": 27,
   "metadata": {},
   "outputs": [],
   "source": [
    "param_grid = {'C': [1, 10, 100], 'gamma': [0.1, 0.01], 'kernel': ['rbf']} # Defining the hyperparameters to be tested"
   ]
  },
  {
   "cell_type": "code",
   "execution_count": 28,
   "metadata": {},
   "outputs": [
    {
     "name": "stdout",
     "output_type": "stream",
     "text": [
      "Fitting 5 folds for each of 6 candidates, totalling 30 fits\n",
      "[CV 4/5] END .......C=1, gamma=0.01, kernel=rbf;, score=0.877 total time=   5.8s\n",
      "[CV 1/5] END .......C=1, gamma=0.01, kernel=rbf;, score=0.879 total time=   6.5s\n",
      "[CV 3/5] END .......C=1, gamma=0.01, kernel=rbf;, score=0.908 total time=   8.3s\n",
      "[CV 2/5] END .......C=1, gamma=0.01, kernel=rbf;, score=0.902 total time=  10.1s\n",
      "[CV 5/5] END .......C=1, gamma=0.01, kernel=rbf;, score=0.883 total time=  10.6s\n",
      "[CV 1/5] END ......C=10, gamma=0.01, kernel=rbf;, score=0.926 total time=  12.5s\n",
      "[CV 2/5] END .......C=10, gamma=0.1, kernel=rbf;, score=0.821 total time=  23.7s\n",
      "[CV 3/5] END ........C=1, gamma=0.1, kernel=rbf;, score=0.826 total time=  23.9s\n",
      "[CV 2/5] END ......C=10, gamma=0.01, kernel=rbf;, score=0.936 total time=  14.9s\n",
      "[CV 2/5] END ........C=1, gamma=0.1, kernel=rbf;, score=0.803 total time=  25.7s\n",
      "[CV 5/5] END ........C=1, gamma=0.1, kernel=rbf;, score=0.807 total time=  27.8s\n",
      "[CV 1/5] END ........C=1, gamma=0.1, kernel=rbf;, score=0.817 total time=  30.3s\n",
      "[CV 4/5] END ........C=1, gamma=0.1, kernel=rbf;, score=0.813 total time=  30.4s\n",
      "[CV 3/5] END ......C=10, gamma=0.01, kernel=rbf;, score=0.941 total time=   8.0s\n",
      "[CV 1/5] END .......C=10, gamma=0.1, kernel=rbf;, score=0.835 total time=  30.9s\n",
      "[CV 3/5] END .......C=10, gamma=0.1, kernel=rbf;, score=0.843 total time=  26.1s\n",
      "[CV 4/5] END ......C=10, gamma=0.01, kernel=rbf;, score=0.930 total time=   9.2s\n",
      "[CV 4/5] END .......C=10, gamma=0.1, kernel=rbf;, score=0.824 total time=  27.0s\n",
      "[CV 5/5] END ......C=10, gamma=0.01, kernel=rbf;, score=0.935 total time=  11.2s\n",
      "[CV 2/5] END .....C=100, gamma=0.01, kernel=rbf;, score=0.940 total time=   6.0s\n",
      "[CV 3/5] END .....C=100, gamma=0.01, kernel=rbf;, score=0.943 total time=   5.5s\n",
      "[CV 5/5] END .......C=10, gamma=0.1, kernel=rbf;, score=0.824 total time=  30.6s\n",
      "[CV 5/5] END .....C=100, gamma=0.01, kernel=rbf;, score=0.943 total time=   5.6s\n",
      "[CV 1/5] END .....C=100, gamma=0.01, kernel=rbf;, score=0.941 total time=   9.7s\n",
      "[CV 4/5] END .....C=100, gamma=0.01, kernel=rbf;, score=0.936 total time=  10.0s\n",
      "[CV 2/5] END ......C=100, gamma=0.1, kernel=rbf;, score=0.820 total time=  20.2s\n",
      "[CV 5/5] END ......C=100, gamma=0.1, kernel=rbf;, score=0.825 total time=  16.2s\n",
      "[CV 3/5] END ......C=100, gamma=0.1, kernel=rbf;, score=0.845 total time=  19.3s\n",
      "[CV 4/5] END ......C=100, gamma=0.1, kernel=rbf;, score=0.822 total time=  18.8s\n",
      "[CV 1/5] END ......C=100, gamma=0.1, kernel=rbf;, score=0.835 total time=  23.6s\n"
     ]
    }
   ],
   "source": [
    "grid_search = GridSearchCV(SVC(), param_grid, verbose=3, n_jobs=-1) # Creating the GridSearchCV object\n",
    "grid_search.fit(X_train_scaled, y_train) # Fitting the model\n",
    "best_params_svc = grid_search.best_params_"
   ]
  },
  {
   "cell_type": "code",
   "execution_count": 29,
   "metadata": {},
   "outputs": [
    {
     "name": "stdout",
     "output_type": "stream",
     "text": [
      "{'C': 100, 'gamma': 0.01, 'kernel': 'rbf'}\n"
     ]
    }
   ],
   "source": [
    "print(best_params_svc)"
   ]
  },
  {
   "cell_type": "markdown",
   "metadata": {},
   "source": [
    "Best parameters for the SVC are C: 100, gamma: 0.01, kernel: rbf"
   ]
  },
  {
   "cell_type": "markdown",
   "metadata": {},
   "source": [
    "First, comparing the results of a single model with scaled x non_scaled data"
   ]
  },
  {
   "cell_type": "code",
   "execution_count": null,
   "metadata": {},
   "outputs": [
    {
     "name": "stdout",
     "output_type": "stream",
     "text": [
      "Classification report (SVC scaled):\n",
      "                                precision    recall  f1-score   support\n",
      "\n",
      "          aceleracao_agressiva       0.94      0.94      0.94       414\n",
      "       curva_direita_agressiva       0.97      1.00      0.98       387\n",
      "      curva_esquerda_agressiva       0.99      0.98      0.99       365\n",
      "          evento_nao_agressivo       0.91      0.94      0.92       480\n",
      "              freada_agressiva       1.00      0.94      0.97       309\n",
      " troca_faixa_direita_agressiva       0.98      0.94      0.96        94\n",
      "troca_faixa_esquerda_agressiva       0.91      0.85      0.88        84\n",
      "\n",
      "                      accuracy                           0.96      2133\n",
      "                     macro avg       0.96      0.94      0.95      2133\n",
      "                  weighted avg       0.96      0.96      0.96      2133\n",
      "\n",
      "Classification report (SVC non-scaled):\n",
      "                                precision    recall  f1-score   support\n",
      "\n",
      "          aceleracao_agressiva       0.89      0.90      0.90       414\n",
      "       curva_direita_agressiva       0.92      0.98      0.95       387\n",
      "      curva_esquerda_agressiva       0.96      0.96      0.96       365\n",
      "          evento_nao_agressivo       0.88      0.89      0.88       480\n",
      "              freada_agressiva       0.96      0.93      0.95       309\n",
      " troca_faixa_direita_agressiva       0.85      0.73      0.79        94\n",
      "troca_faixa_esquerda_agressiva       0.81      0.74      0.77        84\n",
      "\n",
      "                      accuracy                           0.91      2133\n",
      "                     macro avg       0.90      0.88      0.89      2133\n",
      "                  weighted avg       0.91      0.91      0.91      2133\n",
      "\n"
     ]
    }
   ],
   "source": [
    "svc_model, svc_report, y_svc_pred = fit_SVC(X_train_scaled, X_test_scaled, y_train, y_test, C=100, gamma=0.01, kernel='rbf')\n",
    "print(f\"Classification report (SVC scaled):\\n{svc_report}\")\n",
    "\n",
    "svc_model_scaled, svc_report_scaled, y_svc_pred_scaled = fit_SVC(X_train, X_test, y_train, y_test, C=100, gamma=0.01, kernel='rbf')\n",
    "print(f\"Classification report (SVC non-scaled):\\n{svc_report_scaled}\")"
   ]
  },
  {
   "cell_type": "markdown",
   "metadata": {},
   "source": [
    "Crearly, scaled data performs better. Let's KFold it"
   ]
  },
  {
   "cell_type": "code",
   "execution_count": 33,
   "metadata": {},
   "outputs": [
    {
     "name": "stdout",
     "output_type": "stream",
     "text": [
      "Fold 1\n",
      "\tValidation accuracy: 0.9587628865979382\n",
      "\tValidation precision: 0.9605465064745997\n",
      "\tValidation recall: 0.9587628865979382\n",
      "Fold 2\n",
      "\tValidation accuracy: 0.9662605435801312\n",
      "\tValidation precision: 0.9664861436437913\n",
      "\tValidation recall: 0.9662605435801312\n",
      "Fold 3\n",
      "\tValidation accuracy: 0.9418931583880038\n",
      "\tValidation precision: 0.9415728180716183\n",
      "\tValidation recall: 0.9418931583880038\n",
      "Fold 4\n",
      "\tValidation accuracy: 0.9559099437148217\n",
      "\tValidation precision: 0.9562793138157576\n",
      "\tValidation recall: 0.9559099437148217\n",
      "Fold 5\n",
      "\tValidation accuracy: 0.9530956848030019\n",
      "\tValidation precision: 0.9531729253451204\n",
      "\tValidation recall: 0.9530956848030019\n",
      "Fold 6\n",
      "\tValidation accuracy: 0.9530956848030019\n",
      "\tValidation precision: 0.9532422510068234\n",
      "\tValidation recall: 0.9530956848030019\n",
      "Fold 7\n",
      "\tValidation accuracy: 0.948405253283302\n",
      "\tValidation precision: 0.9495668187416458\n",
      "\tValidation recall: 0.948405253283302\n",
      "Fold 8\n",
      "\tValidation accuracy: 0.9427767354596623\n",
      "\tValidation precision: 0.9422592171709804\n",
      "\tValidation recall: 0.9427767354596623\n",
      "Fold 9\n",
      "\tValidation accuracy: 0.9540337711069419\n",
      "\tValidation precision: 0.9545901104095859\n",
      "\tValidation recall: 0.9540337711069419\n",
      "Fold 10\n",
      "\tValidation accuracy: 0.9530956848030019\n",
      "\tValidation precision: 0.9531488244721488\n",
      "\tValidation recall: 0.9530956848030019\n"
     ]
    }
   ],
   "source": [
    "report_svm, y_pred_svm, y_val_svm = kfold_cross_validation_ML(SVC, X, y, {'C': 100, 'gamma': 0.01, 'kernel': 'rbf'}, n_splits=10) # The data is being scaled inside the function"
   ]
  },
  {
   "cell_type": "code",
   "execution_count": 34,
   "metadata": {},
   "outputs": [
    {
     "name": "stdout",
     "output_type": "stream",
     "text": [
      "{'accuracy': {'max': np.float64(0.9662605435801312),\n",
      "              'mean': np.float64(0.9527329346539807),\n",
      "              'min': np.float64(0.9418931583880038)},\n",
      " 'precision': {'max': np.float64(0.9664861436437913),\n",
      "               'mean': np.float64(0.953086492915207),\n",
      "               'min': np.float64(0.9415728180716183)},\n",
      " 'recall': {'max': np.float64(0.9662605435801312),\n",
      "            'mean': np.float64(0.9527329346539807),\n",
      "            'min': np.float64(0.9418931583880038)}}\n"
     ]
    }
   ],
   "source": [
    "reports['SVM'] = report_svm\n",
    "pprint(report_svm)"
   ]
  },
  {
   "cell_type": "markdown",
   "metadata": {},
   "source": [
    "SVC works better with scaled data"
   ]
  },
  {
   "cell_type": "code",
   "execution_count": 35,
   "metadata": {},
   "outputs": [
    {
     "data": {
      "image/png": "[encoded data removed]",
      "text/plain": [
       "<Figure size 640x480 with 2 Axes>"
      ]
     },
     "metadata": {},
     "output_type": "display_data"
    }
   ],
   "source": [
    "display_cm(y_val_svm, y_pred_svm)\n"
   ]
  },
  {
   "cell_type": "markdown",
   "metadata": {},
   "source": [
    "## kNN"
   ]
  },
  {
   "cell_type": "code",
   "execution_count": null,
   "metadata": {},
   "outputs": [
    {
     "name": "stdout",
     "output_type": "stream",
     "text": [
      "Fitting 5 folds for each of 8 candidates, totalling 40 fits\n",
      "[CV 3/5] END ...metric=euclidean, n_neighbors=5;, score=0.918 total time=   0.2s\n",
      "[CV 2/5] END ...metric=euclidean, n_neighbors=5;, score=0.924 total time=   0.2s\n",
      "[CV 4/5] END ...metric=euclidean, n_neighbors=3;, score=0.922 total time=   0.2s\n",
      "[CV 2/5] END ...metric=euclidean, n_neighbors=3;, score=0.928 total time=   0.4s\n",
      "[CV 5/5] END ...metric=euclidean, n_neighbors=5;, score=0.910 total time=   0.2s\n",
      "[CV 1/5] END ...metric=euclidean, n_neighbors=3;, score=0.917 total time=   0.4s\n",
      "[CV 3/5] END ...metric=euclidean, n_neighbors=7;, score=0.913 total time=   0.2s\n",
      "[CV 2/5] END ...metric=euclidean, n_neighbors=7;, score=0.916 total time=   0.2s\n",
      "[CV 3/5] END ...metric=euclidean, n_neighbors=3;, score=0.924 total time=   0.4s\n",
      "[CV 5/5] END ...metric=euclidean, n_neighbors=3;, score=0.918 total time=   0.4s\n",
      "[CV 5/5] END ...metric=euclidean, n_neighbors=7;, score=0.913 total time=   0.2s\n",
      "[CV 1/5] END .....metric=manhattan, n_neighbors=3;, score=nan total time=   0.0s\n",
      "[CV 2/5] END .....metric=manhattan, n_neighbors=3;, score=nan total time=   0.0s\n",
      "[CV 2/5] END ...metric=euclidean, n_neighbors=9;, score=0.911 total time=   0.2s\n",
      "[CV 3/5] END .....metric=manhattan, n_neighbors=3;, score=nan total time=   0.0s\n",
      "[CV 4/5] END .....metric=manhattan, n_neighbors=3;, score=nan total time=   0.0s\n",
      "[CV 5/5] END .....metric=manhattan, n_neighbors=3;, score=nan total time=   0.0s\n",
      "[CV 2/5] END .....metric=manhattan, n_neighbors=5;, score=nan total time=   0.0s\n",
      "[CV 1/5] END .....metric=manhattan, n_neighbors=5;, score=nan total time=   0.0s\n",
      "[CV 5/5] END .....metric=manhattan, n_neighbors=5;, score=nan total time=   0.0s\n",
      "[CV 3/5] END .....metric=manhattan, n_neighbors=5;, score=nan total time=   0.0s\n",
      "[CV 4/5] END .....metric=manhattan, n_neighbors=5;, score=nan total time=   0.0s\n",
      "[CV 1/5] END .....metric=manhattan, n_neighbors=7;, score=nan total time=   0.0s\n",
      "[CV 2/5] END .....metric=manhattan, n_neighbors=7;, score=nan total time=   0.0s\n",
      "[CV 3/5] END .....metric=manhattan, n_neighbors=7;, score=nan total time=   0.0s\n",
      "[CV 4/5] END .....metric=manhattan, n_neighbors=7;, score=nan total time=   0.0s\n",
      "[CV 5/5] END .....metric=manhattan, n_neighbors=7;, score=nan total time=   0.0s\n",
      "[CV 1/5] END ...metric=euclidean, n_neighbors=7;, score=0.908 total time=   0.4s\n",
      "[CV 1/5] END ...metric=euclidean, n_neighbors=5;, score=0.915 total time=   0.5s\n",
      "[CV 1/5] END .....metric=manhattan, n_neighbors=9;, score=nan total time=   0.0s\n",
      "[CV 2/5] END .....metric=manhattan, n_neighbors=9;, score=nan total time=   0.0s\n",
      "[CV 4/5] END ...metric=euclidean, n_neighbors=9;, score=0.896 total time=   0.2s\n",
      "[CV 3/5] END .....metric=manhattan, n_neighbors=9;, score=nan total time=   0.0s\n",
      "[CV 5/5] END .....metric=manhattan, n_neighbors=9;, score=nan total time=   0.0s\n",
      "[CV 4/5] END ...metric=euclidean, n_neighbors=5;, score=0.916 total time=   0.3s\n",
      "[CV 4/5] END .....metric=manhattan, n_neighbors=9;, score=nan total time=   0.0s\n",
      "[CV 4/5] END ...metric=euclidean, n_neighbors=7;, score=0.894 total time=   0.3s\n",
      "[CV 5/5] END ...metric=euclidean, n_neighbors=9;, score=0.909 total time=   0.2s\n"
     ]
    },
    {
     "name": "stderr",
     "output_type": "stream",
     "text": [
      "/home/renan/.local/lib/python3.10/site-packages/sklearn/model_selection/_validation.py:960: UserWarning: Scoring failed. The score on this train-test partition for these parameters will be set to nan. Details: \n",
      "Traceback (most recent call last):\n",
      "  File \"/home/renan/.local/lib/python3.10/site-packages/sklearn/model_selection/_validation.py\", line 949, in _score\n",
      "    scores = scorer(estimator, X_test, y_test, **score_params)\n",
      "  File \"/home/renan/.local/lib/python3.10/site-packages/sklearn/metrics/_scorer.py\", line 472, in __call__\n",
      "    return estimator.score(*args, **kwargs)\n",
      "  File \"/home/renan/.local/lib/python3.10/site-packages/sklearn/neighbors/_classification.py\", line 446, in score\n",
      "    return super().score(X, y, sample_weight)\n",
      "  File \"/home/renan/.local/lib/python3.10/site-packages/sklearn/base.py\", line 572, in score\n",
      "    return accuracy_score(y, self.predict(X), sample_weight=sample_weight)\n",
      "  File \"/home/renan/.local/lib/python3.10/site-packages/sklearn/neighbors/_classification.py\", line 262, in predict\n",
      "    probabilities = self.predict_proba(X)\n",
      "  File \"/home/renan/.local/lib/python3.10/site-packages/sklearn/neighbors/_classification.py\", line 348, in predict_proba\n",
      "    probabilities = ArgKminClassMode.compute(\n",
      "  File \"/home/renan/.local/lib/python3.10/site-packages/sklearn/metrics/_pairwise_distances_reduction/_dispatcher.py\", line 593, in compute\n",
      "    unique_Y_labels=np.array(unique_Y_labels, dtype=np.intp),\n",
      "ValueError: invalid literal for int() with base 10: np.str_('aceleracao_agressiva')\n",
      "\n",
      "  warnings.warn(\n",
      "/home/renan/.local/lib/python3.10/site-packages/sklearn/model_selection/_validation.py:960: UserWarning: Scoring failed. The score on this train-test partition for these parameters will be set to nan. Details: \n",
      "Traceback (most recent call last):\n",
      "  File \"/home/renan/.local/lib/python3.10/site-packages/sklearn/model_selection/_validation.py\", line 949, in _score\n",
      "    scores = scorer(estimator, X_test, y_test, **score_params)\n",
      "  File \"/home/renan/.local/lib/python3.10/site-packages/sklearn/metrics/_scorer.py\", line 472, in __call__\n",
      "    return estimator.score(*args, **kwargs)\n",
      "  File \"/home/renan/.local/lib/python3.10/site-packages/sklearn/neighbors/_classification.py\", line 446, in score\n",
      "    return super().score(X, y, sample_weight)\n",
      "  File \"/home/renan/.local/lib/python3.10/site-packages/sklearn/base.py\", line 572, in score\n",
      "    return accuracy_score(y, self.predict(X), sample_weight=sample_weight)\n",
      "  File \"/home/renan/.local/lib/python3.10/site-packages/sklearn/neighbors/_classification.py\", line 262, in predict\n",
      "    probabilities = self.predict_proba(X)\n",
      "  File \"/home/renan/.local/lib/python3.10/site-packages/sklearn/neighbors/_classification.py\", line 348, in predict_proba\n",
      "    probabilities = ArgKminClassMode.compute(\n",
      "  File \"/home/renan/.local/lib/python3.10/site-packages/sklearn/metrics/_pairwise_distances_reduction/_dispatcher.py\", line 593, in compute\n",
      "    unique_Y_labels=np.array(unique_Y_labels, dtype=np.intp),\n",
      "ValueError: invalid literal for int() with base 10: np.str_('aceleracao_agressiva')\n",
      "\n",
      "  warnings.warn(\n",
      "/home/renan/.local/lib/python3.10/site-packages/sklearn/model_selection/_validation.py:960: UserWarning: Scoring failed. The score on this train-test partition for these parameters will be set to nan. Details: \n",
      "Traceback (most recent call last):\n",
      "  File \"/home/renan/.local/lib/python3.10/site-packages/sklearn/model_selection/_validation.py\", line 949, in _score\n",
      "    scores = scorer(estimator, X_test, y_test, **score_params)\n",
      "  File \"/home/renan/.local/lib/python3.10/site-packages/sklearn/metrics/_scorer.py\", line 472, in __call__\n",
      "    return estimator.score(*args, **kwargs)\n",
      "  File \"/home/renan/.local/lib/python3.10/site-packages/sklearn/neighbors/_classification.py\", line 446, in score\n",
      "    return super().score(X, y, sample_weight)\n",
      "  File \"/home/renan/.local/lib/python3.10/site-packages/sklearn/base.py\", line 572, in score\n",
      "    return accuracy_score(y, self.predict(X), sample_weight=sample_weight)\n",
      "  File \"/home/renan/.local/lib/python3.10/site-packages/sklearn/neighbors/_classification.py\", line 262, in predict\n",
      "    probabilities = self.predict_proba(X)\n",
      "  File \"/home/renan/.local/lib/python3.10/site-packages/sklearn/neighbors/_classification.py\", line 348, in predict_proba\n",
      "    probabilities = ArgKminClassMode.compute(\n",
      "  File \"/home/renan/.local/lib/python3.10/site-packages/sklearn/metrics/_pairwise_distances_reduction/_dispatcher.py\", line 593, in compute\n",
      "    unique_Y_labels=np.array(unique_Y_labels, dtype=np.intp),\n",
      "ValueError: invalid literal for int() with base 10: np.str_('aceleracao_agressiva')\n",
      "\n",
      "  warnings.warn(\n",
      "/home/renan/.local/lib/python3.10/site-packages/sklearn/model_selection/_validation.py:960: UserWarning: Scoring failed. The score on this train-test partition for these parameters will be set to nan. Details: \n",
      "Traceback (most recent call last):\n",
      "  File \"/home/renan/.local/lib/python3.10/site-packages/sklearn/model_selection/_validation.py\", line 949, in _score\n",
      "    scores = scorer(estimator, X_test, y_test, **score_params)\n",
      "  File \"/home/renan/.local/lib/python3.10/site-packages/sklearn/metrics/_scorer.py\", line 472, in __call__\n",
      "    return estimator.score(*args, **kwargs)\n",
      "  File \"/home/renan/.local/lib/python3.10/site-packages/sklearn/neighbors/_classification.py\", line 446, in score\n",
      "    return super().score(X, y, sample_weight)\n",
      "  File \"/home/renan/.local/lib/python3.10/site-packages/sklearn/base.py\", line 572, in score\n",
      "    return accuracy_score(y, self.predict(X), sample_weight=sample_weight)\n",
      "  File \"/home/renan/.local/lib/python3.10/site-packages/sklearn/neighbors/_classification.py\", line 262, in predict\n",
      "    probabilities = self.predict_proba(X)\n",
      "  File \"/home/renan/.local/lib/python3.10/site-packages/sklearn/neighbors/_classification.py\", line 348, in predict_proba\n",
      "    probabilities = ArgKminClassMode.compute(\n",
      "  File \"/home/renan/.local/lib/python3.10/site-packages/sklearn/metrics/_pairwise_distances_reduction/_dispatcher.py\", line 593, in compute\n",
      "    unique_Y_labels=np.array(unique_Y_labels, dtype=np.intp),\n",
      "ValueError: invalid literal for int() with base 10: np.str_('aceleracao_agressiva')\n",
      "\n",
      "  warnings.warn(\n",
      "/home/renan/.local/lib/python3.10/site-packages/sklearn/model_selection/_validation.py:960: UserWarning: Scoring failed. The score on this train-test partition for these parameters will be set to nan. Details: \n",
      "Traceback (most recent call last):\n",
      "  File \"/home/renan/.local/lib/python3.10/site-packages/sklearn/model_selection/_validation.py\", line 949, in _score\n",
      "    scores = scorer(estimator, X_test, y_test, **score_params)\n",
      "  File \"/home/renan/.local/lib/python3.10/site-packages/sklearn/metrics/_scorer.py\", line 472, in __call__\n",
      "    return estimator.score(*args, **kwargs)\n",
      "  File \"/home/renan/.local/lib/python3.10/site-packages/sklearn/neighbors/_classification.py\", line 446, in score\n",
      "    return super().score(X, y, sample_weight)\n",
      "  File \"/home/renan/.local/lib/python3.10/site-packages/sklearn/base.py\", line 572, in score\n",
      "    return accuracy_score(y, self.predict(X), sample_weight=sample_weight)\n",
      "  File \"/home/renan/.local/lib/python3.10/site-packages/sklearn/neighbors/_classification.py\", line 262, in predict\n",
      "    probabilities = self.predict_proba(X)\n",
      "  File \"/home/renan/.local/lib/python3.10/site-packages/sklearn/neighbors/_classification.py\", line 348, in predict_proba\n",
      "    probabilities = ArgKminClassMode.compute(\n",
      "  File \"/home/renan/.local/lib/python3.10/site-packages/sklearn/metrics/_pairwise_distances_reduction/_dispatcher.py\", line 593, in compute\n",
      "    unique_Y_labels=np.array(unique_Y_labels, dtype=np.intp),\n",
      "ValueError: invalid literal for int() with base 10: np.str_('aceleracao_agressiva')\n",
      "\n",
      "  warnings.warn(\n",
      "/home/renan/.local/lib/python3.10/site-packages/sklearn/model_selection/_validation.py:960: UserWarning: Scoring failed. The score on this train-test partition for these parameters will be set to nan. Details: \n",
      "Traceback (most recent call last):\n",
      "  File \"/home/renan/.local/lib/python3.10/site-packages/sklearn/model_selection/_validation.py\", line 949, in _score\n",
      "    scores = scorer(estimator, X_test, y_test, **score_params)\n",
      "  File \"/home/renan/.local/lib/python3.10/site-packages/sklearn/metrics/_scorer.py\", line 472, in __call__\n",
      "    return estimator.score(*args, **kwargs)\n",
      "  File \"/home/renan/.local/lib/python3.10/site-packages/sklearn/neighbors/_classification.py\", line 446, in score\n",
      "    return super().score(X, y, sample_weight)\n",
      "  File \"/home/renan/.local/lib/python3.10/site-packages/sklearn/base.py\", line 572, in score\n",
      "    return accuracy_score(y, self.predict(X), sample_weight=sample_weight)\n",
      "  File \"/home/renan/.local/lib/python3.10/site-packages/sklearn/neighbors/_classification.py\", line 262, in predict\n",
      "    probabilities = self.predict_proba(X)\n",
      "  File \"/home/renan/.local/lib/python3.10/site-packages/sklearn/neighbors/_classification.py\", line 348, in predict_proba\n",
      "    probabilities = ArgKminClassMode.compute(\n",
      "  File \"/home/renan/.local/lib/python3.10/site-packages/sklearn/metrics/_pairwise_distances_reduction/_dispatcher.py\", line 593, in compute\n",
      "    unique_Y_labels=np.array(unique_Y_labels, dtype=np.intp),\n",
      "ValueError: invalid literal for int() with base 10: np.str_('aceleracao_agressiva')\n",
      "\n",
      "  warnings.warn(\n",
      "/home/renan/.local/lib/python3.10/site-packages/sklearn/model_selection/_validation.py:960: UserWarning: Scoring failed. The score on this train-test partition for these parameters will be set to nan. Details: \n",
      "Traceback (most recent call last):\n",
      "  File \"/home/renan/.local/lib/python3.10/site-packages/sklearn/model_selection/_validation.py\", line 949, in _score\n",
      "    scores = scorer(estimator, X_test, y_test, **score_params)\n",
      "  File \"/home/renan/.local/lib/python3.10/site-packages/sklearn/metrics/_scorer.py\", line 472, in __call__\n",
      "    return estimator.score(*args, **kwargs)\n",
      "  File \"/home/renan/.local/lib/python3.10/site-packages/sklearn/neighbors/_classification.py\", line 446, in score\n",
      "    return super().score(X, y, sample_weight)\n",
      "  File \"/home/renan/.local/lib/python3.10/site-packages/sklearn/base.py\", line 572, in score\n",
      "    return accuracy_score(y, self.predict(X), sample_weight=sample_weight)\n",
      "  File \"/home/renan/.local/lib/python3.10/site-packages/sklearn/neighbors/_classification.py\", line 262, in predict\n",
      "    probabilities = self.predict_proba(X)\n",
      "  File \"/home/renan/.local/lib/python3.10/site-packages/sklearn/neighbors/_classification.py\", line 348, in predict_proba\n",
      "    probabilities = ArgKminClassMode.compute(\n",
      "  File \"/home/renan/.local/lib/python3.10/site-packages/sklearn/metrics/_pairwise_distances_reduction/_dispatcher.py\", line 593, in compute\n",
      "    unique_Y_labels=np.array(unique_Y_labels, dtype=np.intp),\n",
      "ValueError: invalid literal for int() with base 10: np.str_('aceleracao_agressiva')\n",
      "\n",
      "  warnings.warn(\n",
      "/home/renan/.local/lib/python3.10/site-packages/sklearn/model_selection/_validation.py:960: UserWarning: Scoring failed. The score on this train-test partition for these parameters will be set to nan. Details: \n",
      "Traceback (most recent call last):\n",
      "  File \"/home/renan/.local/lib/python3.10/site-packages/sklearn/model_selection/_validation.py\", line 949, in _score\n",
      "    scores = scorer(estimator, X_test, y_test, **score_params)\n",
      "  File \"/home/renan/.local/lib/python3.10/site-packages/sklearn/metrics/_scorer.py\", line 472, in __call__\n",
      "    return estimator.score(*args, **kwargs)\n",
      "  File \"/home/renan/.local/lib/python3.10/site-packages/sklearn/neighbors/_classification.py\", line 446, in score\n",
      "    return super().score(X, y, sample_weight)\n",
      "  File \"/home/renan/.local/lib/python3.10/site-packages/sklearn/base.py\", line 572, in score\n",
      "    return accuracy_score(y, self.predict(X), sample_weight=sample_weight)\n",
      "  File \"/home/renan/.local/lib/python3.10/site-packages/sklearn/neighbors/_classification.py\", line 262, in predict\n",
      "    probabilities = self.predict_proba(X)\n",
      "  File \"/home/renan/.local/lib/python3.10/site-packages/sklearn/neighbors/_classification.py\", line 348, in predict_proba\n",
      "    probabilities = ArgKminClassMode.compute(\n",
      "  File \"/home/renan/.local/lib/python3.10/site-packages/sklearn/metrics/_pairwise_distances_reduction/_dispatcher.py\", line 593, in compute\n",
      "    unique_Y_labels=np.array(unique_Y_labels, dtype=np.intp),\n",
      "ValueError: invalid literal for int() with base 10: np.str_('aceleracao_agressiva')\n",
      "\n",
      "  warnings.warn(\n",
      "/home/renan/.local/lib/python3.10/site-packages/sklearn/model_selection/_validation.py:960: UserWarning: Scoring failed. The score on this train-test partition for these parameters will be set to nan. Details: \n",
      "Traceback (most recent call last):\n",
      "  File \"/home/renan/.local/lib/python3.10/site-packages/sklearn/model_selection/_validation.py\", line 949, in _score\n",
      "    scores = scorer(estimator, X_test, y_test, **score_params)\n",
      "  File \"/home/renan/.local/lib/python3.10/site-packages/sklearn/metrics/_scorer.py\", line 472, in __call__\n",
      "    return estimator.score(*args, **kwargs)\n",
      "  File \"/home/renan/.local/lib/python3.10/site-packages/sklearn/neighbors/_classification.py\", line 446, in score\n",
      "    return super().score(X, y, sample_weight)\n",
      "  File \"/home/renan/.local/lib/python3.10/site-packages/sklearn/base.py\", line 572, in score\n",
      "    return accuracy_score(y, self.predict(X), sample_weight=sample_weight)\n",
      "  File \"/home/renan/.local/lib/python3.10/site-packages/sklearn/neighbors/_classification.py\", line 262, in predict\n",
      "    probabilities = self.predict_proba(X)\n",
      "  File \"/home/renan/.local/lib/python3.10/site-packages/sklearn/neighbors/_classification.py\", line 348, in predict_proba\n",
      "    probabilities = ArgKminClassMode.compute(\n",
      "  File \"/home/renan/.local/lib/python3.10/site-packages/sklearn/metrics/_pairwise_distances_reduction/_dispatcher.py\", line 593, in compute\n",
      "    unique_Y_labels=np.array(unique_Y_labels, dtype=np.intp),\n",
      "ValueError: invalid literal for int() with base 10: np.str_('aceleracao_agressiva')\n",
      "\n",
      "  warnings.warn(\n",
      "/home/renan/.local/lib/python3.10/site-packages/sklearn/model_selection/_validation.py:960: UserWarning: Scoring failed. The score on this train-test partition for these parameters will be set to nan. Details: \n",
      "Traceback (most recent call last):\n",
      "  File \"/home/renan/.local/lib/python3.10/site-packages/sklearn/model_selection/_validation.py\", line 949, in _score\n",
      "    scores = scorer(estimator, X_test, y_test, **score_params)\n",
      "  File \"/home/renan/.local/lib/python3.10/site-packages/sklearn/metrics/_scorer.py\", line 472, in __call__\n",
      "    return estimator.score(*args, **kwargs)\n",
      "  File \"/home/renan/.local/lib/python3.10/site-packages/sklearn/neighbors/_classification.py\", line 446, in score\n",
      "    return super().score(X, y, sample_weight)\n",
      "  File \"/home/renan/.local/lib/python3.10/site-packages/sklearn/base.py\", line 572, in score\n",
      "    return accuracy_score(y, self.predict(X), sample_weight=sample_weight)\n",
      "  File \"/home/renan/.local/lib/python3.10/site-packages/sklearn/neighbors/_classification.py\", line 262, in predict\n",
      "    probabilities = self.predict_proba(X)\n",
      "  File \"/home/renan/.local/lib/python3.10/site-packages/sklearn/neighbors/_classification.py\", line 348, in predict_proba\n",
      "    probabilities = ArgKminClassMode.compute(\n",
      "  File \"/home/renan/.local/lib/python3.10/site-packages/sklearn/metrics/_pairwise_distances_reduction/_dispatcher.py\", line 593, in compute\n",
      "    unique_Y_labels=np.array(unique_Y_labels, dtype=np.intp),\n",
      "ValueError: invalid literal for int() with base 10: np.str_('aceleracao_agressiva')\n",
      "\n",
      "  warnings.warn(\n",
      "/home/renan/.local/lib/python3.10/site-packages/sklearn/model_selection/_validation.py:960: UserWarning: Scoring failed. The score on this train-test partition for these parameters will be set to nan. Details: \n",
      "Traceback (most recent call last):\n",
      "  File \"/home/renan/.local/lib/python3.10/site-packages/sklearn/model_selection/_validation.py\", line 949, in _score\n",
      "    scores = scorer(estimator, X_test, y_test, **score_params)\n",
      "  File \"/home/renan/.local/lib/python3.10/site-packages/sklearn/metrics/_scorer.py\", line 472, in __call__\n",
      "    return estimator.score(*args, **kwargs)\n",
      "  File \"/home/renan/.local/lib/python3.10/site-packages/sklearn/neighbors/_classification.py\", line 446, in score\n",
      "    return super().score(X, y, sample_weight)\n",
      "  File \"/home/renan/.local/lib/python3.10/site-packages/sklearn/base.py\", line 572, in score\n",
      "    return accuracy_score(y, self.predict(X), sample_weight=sample_weight)\n",
      "  File \"/home/renan/.local/lib/python3.10/site-packages/sklearn/neighbors/_classification.py\", line 262, in predict\n",
      "    probabilities = self.predict_proba(X)\n",
      "  File \"/home/renan/.local/lib/python3.10/site-packages/sklearn/neighbors/_classification.py\", line 348, in predict_proba\n",
      "    probabilities = ArgKminClassMode.compute(\n",
      "  File \"/home/renan/.local/lib/python3.10/site-packages/sklearn/metrics/_pairwise_distances_reduction/_dispatcher.py\", line 593, in compute\n",
      "    unique_Y_labels=np.array(unique_Y_labels, dtype=np.intp),\n",
      "ValueError: invalid literal for int() with base 10: np.str_('aceleracao_agressiva')\n",
      "\n",
      "  warnings.warn(\n",
      "/home/renan/.local/lib/python3.10/site-packages/sklearn/model_selection/_validation.py:960: UserWarning: Scoring failed. The score on this train-test partition for these parameters will be set to nan. Details: \n",
      "Traceback (most recent call last):\n",
      "  File \"/home/renan/.local/lib/python3.10/site-packages/sklearn/model_selection/_validation.py\", line 949, in _score\n",
      "    scores = scorer(estimator, X_test, y_test, **score_params)\n",
      "  File \"/home/renan/.local/lib/python3.10/site-packages/sklearn/metrics/_scorer.py\", line 472, in __call__\n",
      "    return estimator.score(*args, **kwargs)\n",
      "  File \"/home/renan/.local/lib/python3.10/site-packages/sklearn/neighbors/_classification.py\", line 446, in score\n",
      "    return super().score(X, y, sample_weight)\n",
      "  File \"/home/renan/.local/lib/python3.10/site-packages/sklearn/base.py\", line 572, in score\n",
      "    return accuracy_score(y, self.predict(X), sample_weight=sample_weight)\n",
      "  File \"/home/renan/.local/lib/python3.10/site-packages/sklearn/neighbors/_classification.py\", line 262, in predict\n",
      "    probabilities = self.predict_proba(X)\n",
      "  File \"/home/renan/.local/lib/python3.10/site-packages/sklearn/neighbors/_classification.py\", line 348, in predict_proba\n",
      "    probabilities = ArgKminClassMode.compute(\n",
      "  File \"/home/renan/.local/lib/python3.10/site-packages/sklearn/metrics/_pairwise_distances_reduction/_dispatcher.py\", line 593, in compute\n",
      "    unique_Y_labels=np.array(unique_Y_labels, dtype=np.intp),\n",
      "ValueError: invalid literal for int() with base 10: np.str_('aceleracao_agressiva')\n",
      "\n",
      "  warnings.warn(\n",
      "/home/renan/.local/lib/python3.10/site-packages/sklearn/model_selection/_validation.py:960: UserWarning: Scoring failed. The score on this train-test partition for these parameters will be set to nan. Details: \n",
      "Traceback (most recent call last):\n",
      "  File \"/home/renan/.local/lib/python3.10/site-packages/sklearn/model_selection/_validation.py\", line 949, in _score\n",
      "    scores = scorer(estimator, X_test, y_test, **score_params)\n",
      "  File \"/home/renan/.local/lib/python3.10/site-packages/sklearn/metrics/_scorer.py\", line 472, in __call__\n",
      "    return estimator.score(*args, **kwargs)\n",
      "  File \"/home/renan/.local/lib/python3.10/site-packages/sklearn/neighbors/_classification.py\", line 446, in score\n",
      "    return super().score(X, y, sample_weight)\n",
      "  File \"/home/renan/.local/lib/python3.10/site-packages/sklearn/base.py\", line 572, in score\n",
      "    return accuracy_score(y, self.predict(X), sample_weight=sample_weight)\n",
      "  File \"/home/renan/.local/lib/python3.10/site-packages/sklearn/neighbors/_classification.py\", line 262, in predict\n",
      "    probabilities = self.predict_proba(X)\n",
      "  File \"/home/renan/.local/lib/python3.10/site-packages/sklearn/neighbors/_classification.py\", line 348, in predict_proba\n",
      "    probabilities = ArgKminClassMode.compute(\n",
      "  File \"/home/renan/.local/lib/python3.10/site-packages/sklearn/metrics/_pairwise_distances_reduction/_dispatcher.py\", line 593, in compute\n",
      "    unique_Y_labels=np.array(unique_Y_labels, dtype=np.intp),\n",
      "ValueError: invalid literal for int() with base 10: np.str_('aceleracao_agressiva')\n",
      "\n",
      "  warnings.warn(\n",
      "/home/renan/.local/lib/python3.10/site-packages/sklearn/model_selection/_validation.py:960: UserWarning: Scoring failed. The score on this train-test partition for these parameters will be set to nan. Details: \n",
      "Traceback (most recent call last):\n",
      "  File \"/home/renan/.local/lib/python3.10/site-packages/sklearn/model_selection/_validation.py\", line 949, in _score\n",
      "    scores = scorer(estimator, X_test, y_test, **score_params)\n",
      "  File \"/home/renan/.local/lib/python3.10/site-packages/sklearn/metrics/_scorer.py\", line 472, in __call__\n",
      "    return estimator.score(*args, **kwargs)\n",
      "  File \"/home/renan/.local/lib/python3.10/site-packages/sklearn/neighbors/_classification.py\", line 446, in score\n",
      "    return super().score(X, y, sample_weight)\n",
      "  File \"/home/renan/.local/lib/python3.10/site-packages/sklearn/base.py\", line 572, in score\n",
      "    return accuracy_score(y, self.predict(X), sample_weight=sample_weight)\n",
      "  File \"/home/renan/.local/lib/python3.10/site-packages/sklearn/neighbors/_classification.py\", line 262, in predict\n",
      "    probabilities = self.predict_proba(X)\n",
      "  File \"/home/renan/.local/lib/python3.10/site-packages/sklearn/neighbors/_classification.py\", line 348, in predict_proba\n",
      "    probabilities = ArgKminClassMode.compute(\n",
      "  File \"/home/renan/.local/lib/python3.10/site-packages/sklearn/metrics/_pairwise_distances_reduction/_dispatcher.py\", line 593, in compute\n",
      "    unique_Y_labels=np.array(unique_Y_labels, dtype=np.intp),\n",
      "ValueError: invalid literal for int() with base 10: np.str_('aceleracao_agressiva')\n",
      "\n",
      "  warnings.warn(\n",
      "/home/renan/.local/lib/python3.10/site-packages/sklearn/model_selection/_validation.py:960: UserWarning: Scoring failed. The score on this train-test partition for these parameters will be set to nan. Details: \n",
      "Traceback (most recent call last):\n",
      "  File \"/home/renan/.local/lib/python3.10/site-packages/sklearn/model_selection/_validation.py\", line 949, in _score\n",
      "    scores = scorer(estimator, X_test, y_test, **score_params)\n",
      "  File \"/home/renan/.local/lib/python3.10/site-packages/sklearn/metrics/_scorer.py\", line 472, in __call__\n",
      "    return estimator.score(*args, **kwargs)\n",
      "  File \"/home/renan/.local/lib/python3.10/site-packages/sklearn/neighbors/_classification.py\", line 446, in score\n",
      "    return super().score(X, y, sample_weight)\n",
      "  File \"/home/renan/.local/lib/python3.10/site-packages/sklearn/base.py\", line 572, in score\n",
      "    return accuracy_score(y, self.predict(X), sample_weight=sample_weight)\n",
      "  File \"/home/renan/.local/lib/python3.10/site-packages/sklearn/neighbors/_classification.py\", line 262, in predict\n",
      "    probabilities = self.predict_proba(X)\n",
      "  File \"/home/renan/.local/lib/python3.10/site-packages/sklearn/neighbors/_classification.py\", line 348, in predict_proba\n",
      "    probabilities = ArgKminClassMode.compute(\n",
      "  File \"/home/renan/.local/lib/python3.10/site-packages/sklearn/metrics/_pairwise_distances_reduction/_dispatcher.py\", line 593, in compute\n",
      "    unique_Y_labels=np.array(unique_Y_labels, dtype=np.intp),\n",
      "ValueError: invalid literal for int() with base 10: np.str_('aceleracao_agressiva')\n",
      "\n",
      "  warnings.warn(\n",
      "/home/renan/.local/lib/python3.10/site-packages/sklearn/model_selection/_validation.py:960: UserWarning: Scoring failed. The score on this train-test partition for these parameters will be set to nan. Details: \n",
      "Traceback (most recent call last):\n",
      "  File \"/home/renan/.local/lib/python3.10/site-packages/sklearn/model_selection/_validation.py\", line 949, in _score\n",
      "    scores = scorer(estimator, X_test, y_test, **score_params)\n",
      "  File \"/home/renan/.local/lib/python3.10/site-packages/sklearn/metrics/_scorer.py\", line 472, in __call__\n",
      "    return estimator.score(*args, **kwargs)\n",
      "  File \"/home/renan/.local/lib/python3.10/site-packages/sklearn/neighbors/_classification.py\", line 446, in score\n",
      "    return super().score(X, y, sample_weight)\n",
      "  File \"/home/renan/.local/lib/python3.10/site-packages/sklearn/base.py\", line 572, in score\n",
      "    return accuracy_score(y, self.predict(X), sample_weight=sample_weight)\n",
      "  File \"/home/renan/.local/lib/python3.10/site-packages/sklearn/neighbors/_classification.py\", line 262, in predict\n",
      "    probabilities = self.predict_proba(X)\n",
      "  File \"/home/renan/.local/lib/python3.10/site-packages/sklearn/neighbors/_classification.py\", line 348, in predict_proba\n",
      "    probabilities = ArgKminClassMode.compute(\n",
      "  File \"/home/renan/.local/lib/python3.10/site-packages/sklearn/metrics/_pairwise_distances_reduction/_dispatcher.py\", line 593, in compute\n",
      "    unique_Y_labels=np.array(unique_Y_labels, dtype=np.intp),\n",
      "ValueError: invalid literal for int() with base 10: np.str_('aceleracao_agressiva')\n",
      "\n",
      "  warnings.warn(\n",
      "/home/renan/.local/lib/python3.10/site-packages/sklearn/model_selection/_validation.py:960: UserWarning: Scoring failed. The score on this train-test partition for these parameters will be set to nan. Details: \n",
      "Traceback (most recent call last):\n",
      "  File \"/home/renan/.local/lib/python3.10/site-packages/sklearn/model_selection/_validation.py\", line 949, in _score\n",
      "    scores = scorer(estimator, X_test, y_test, **score_params)\n",
      "  File \"/home/renan/.local/lib/python3.10/site-packages/sklearn/metrics/_scorer.py\", line 472, in __call__\n",
      "    return estimator.score(*args, **kwargs)\n",
      "  File \"/home/renan/.local/lib/python3.10/site-packages/sklearn/neighbors/_classification.py\", line 446, in score\n",
      "    return super().score(X, y, sample_weight)\n",
      "  File \"/home/renan/.local/lib/python3.10/site-packages/sklearn/base.py\", line 572, in score\n",
      "    return accuracy_score(y, self.predict(X), sample_weight=sample_weight)\n",
      "  File \"/home/renan/.local/lib/python3.10/site-packages/sklearn/neighbors/_classification.py\", line 262, in predict\n",
      "    probabilities = self.predict_proba(X)\n",
      "  File \"/home/renan/.local/lib/python3.10/site-packages/sklearn/neighbors/_classification.py\", line 348, in predict_proba\n",
      "    probabilities = ArgKminClassMode.compute(\n",
      "  File \"/home/renan/.local/lib/python3.10/site-packages/sklearn/metrics/_pairwise_distances_reduction/_dispatcher.py\", line 593, in compute\n",
      "    unique_Y_labels=np.array(unique_Y_labels, dtype=np.intp),\n",
      "ValueError: invalid literal for int() with base 10: np.str_('aceleracao_agressiva')\n",
      "\n",
      "  warnings.warn(\n",
      "/home/renan/.local/lib/python3.10/site-packages/sklearn/model_selection/_validation.py:960: UserWarning: Scoring failed. The score on this train-test partition for these parameters will be set to nan. Details: \n",
      "Traceback (most recent call last):\n",
      "  File \"/home/renan/.local/lib/python3.10/site-packages/sklearn/model_selection/_validation.py\", line 949, in _score\n",
      "    scores = scorer(estimator, X_test, y_test, **score_params)\n",
      "  File \"/home/renan/.local/lib/python3.10/site-packages/sklearn/metrics/_scorer.py\", line 472, in __call__\n",
      "    return estimator.score(*args, **kwargs)\n",
      "  File \"/home/renan/.local/lib/python3.10/site-packages/sklearn/neighbors/_classification.py\", line 446, in score\n",
      "    return super().score(X, y, sample_weight)\n",
      "  File \"/home/renan/.local/lib/python3.10/site-packages/sklearn/base.py\", line 572, in score\n",
      "    return accuracy_score(y, self.predict(X), sample_weight=sample_weight)\n",
      "  File \"/home/renan/.local/lib/python3.10/site-packages/sklearn/neighbors/_classification.py\", line 262, in predict\n",
      "    probabilities = self.predict_proba(X)\n",
      "  File \"/home/renan/.local/lib/python3.10/site-packages/sklearn/neighbors/_classification.py\", line 348, in predict_proba\n",
      "    probabilities = ArgKminClassMode.compute(\n",
      "  File \"/home/renan/.local/lib/python3.10/site-packages/sklearn/metrics/_pairwise_distances_reduction/_dispatcher.py\", line 593, in compute\n",
      "    unique_Y_labels=np.array(unique_Y_labels, dtype=np.intp),\n",
      "ValueError: invalid literal for int() with base 10: np.str_('aceleracao_agressiva')\n",
      "\n",
      "  warnings.warn(\n",
      "/home/renan/.local/lib/python3.10/site-packages/sklearn/model_selection/_validation.py:960: UserWarning: Scoring failed. The score on this train-test partition for these parameters will be set to nan. Details: \n",
      "Traceback (most recent call last):\n",
      "  File \"/home/renan/.local/lib/python3.10/site-packages/sklearn/model_selection/_validation.py\", line 949, in _score\n",
      "    scores = scorer(estimator, X_test, y_test, **score_params)\n",
      "  File \"/home/renan/.local/lib/python3.10/site-packages/sklearn/metrics/_scorer.py\", line 472, in __call__\n",
      "    return estimator.score(*args, **kwargs)\n",
      "  File \"/home/renan/.local/lib/python3.10/site-packages/sklearn/neighbors/_classification.py\", line 446, in score\n",
      "    return super().score(X, y, sample_weight)\n",
      "  File \"/home/renan/.local/lib/python3.10/site-packages/sklearn/base.py\", line 572, in score\n",
      "    return accuracy_score(y, self.predict(X), sample_weight=sample_weight)\n",
      "  File \"/home/renan/.local/lib/python3.10/site-packages/sklearn/neighbors/_classification.py\", line 262, in predict\n",
      "    probabilities = self.predict_proba(X)\n",
      "  File \"/home/renan/.local/lib/python3.10/site-packages/sklearn/neighbors/_classification.py\", line 348, in predict_proba\n",
      "    probabilities = ArgKminClassMode.compute(\n",
      "  File \"/home/renan/.local/lib/python3.10/site-packages/sklearn/metrics/_pairwise_distances_reduction/_dispatcher.py\", line 593, in compute\n",
      "    unique_Y_labels=np.array(unique_Y_labels, dtype=np.intp),\n",
      "ValueError: invalid literal for int() with base 10: np.str_('aceleracao_agressiva')\n",
      "\n",
      "  warnings.warn(\n",
      "/home/renan/.local/lib/python3.10/site-packages/sklearn/model_selection/_validation.py:960: UserWarning: Scoring failed. The score on this train-test partition for these parameters will be set to nan. Details: \n",
      "Traceback (most recent call last):\n",
      "  File \"/home/renan/.local/lib/python3.10/site-packages/sklearn/model_selection/_validation.py\", line 949, in _score\n",
      "    scores = scorer(estimator, X_test, y_test, **score_params)\n",
      "  File \"/home/renan/.local/lib/python3.10/site-packages/sklearn/metrics/_scorer.py\", line 472, in __call__\n",
      "    return estimator.score(*args, **kwargs)\n",
      "  File \"/home/renan/.local/lib/python3.10/site-packages/sklearn/neighbors/_classification.py\", line 446, in score\n",
      "    return super().score(X, y, sample_weight)\n",
      "  File \"/home/renan/.local/lib/python3.10/site-packages/sklearn/base.py\", line 572, in score\n",
      "    return accuracy_score(y, self.predict(X), sample_weight=sample_weight)\n",
      "  File \"/home/renan/.local/lib/python3.10/site-packages/sklearn/neighbors/_classification.py\", line 262, in predict\n",
      "    probabilities = self.predict_proba(X)\n",
      "  File \"/home/renan/.local/lib/python3.10/site-packages/sklearn/neighbors/_classification.py\", line 348, in predict_proba\n",
      "    probabilities = ArgKminClassMode.compute(\n",
      "  File \"/home/renan/.local/lib/python3.10/site-packages/sklearn/metrics/_pairwise_distances_reduction/_dispatcher.py\", line 593, in compute\n",
      "    unique_Y_labels=np.array(unique_Y_labels, dtype=np.intp),\n",
      "ValueError: invalid literal for int() with base 10: np.str_('aceleracao_agressiva')\n",
      "\n",
      "  warnings.warn(\n",
      "/home/renan/.local/lib/python3.10/site-packages/sklearn/model_selection/_search.py:1108: UserWarning: One or more of the test scores are non-finite: [0.92192263 0.91676436 0.90890973 0.90480657        nan        nan\n",
      "        nan        nan]\n",
      "  warnings.warn(\n"
     ]
    },
    {
     "name": "stdout",
     "output_type": "stream",
     "text": [
      "[CV 1/5] END ...metric=euclidean, n_neighbors=9;, score=0.900 total time=   0.3s\n",
      "[CV 3/5] END ...metric=euclidean, n_neighbors=9;, score=0.909 total time=   0.3s\n",
      "Fold 1\n",
      "\tValidation accuracy: 0.943767572633552\n",
      "\tValidation precision: 0.946159060368474\n",
      "\tValidation recall: 0.943767572633552\n",
      "Fold 2\n",
      "\tValidation accuracy: 0.9568884723523898\n",
      "\tValidation precision: 0.9568935174691655\n",
      "\tValidation recall: 0.9568884723523898\n",
      "Fold 3\n",
      "\tValidation accuracy: 0.9343955014058107\n",
      "\tValidation precision: 0.9355467990892173\n",
      "\tValidation recall: 0.9343955014058107\n",
      "Fold 4\n",
      "\tValidation accuracy: 0.9277673545966229\n",
      "\tValidation precision: 0.9298892462715912\n",
      "\tValidation recall: 0.9277673545966229\n",
      "Fold 5\n",
      "\tValidation accuracy: 0.9512195121951219\n",
      "\tValidation precision: 0.9521714724134637\n",
      "\tValidation recall: 0.9512195121951219\n",
      "Fold 6\n",
      "\tValidation accuracy: 0.948405253283302\n",
      "\tValidation precision: 0.9492624850051925\n",
      "\tValidation recall: 0.948405253283302\n",
      "Fold 7\n",
      "\tValidation accuracy: 0.9305816135084428\n",
      "\tValidation precision: 0.9309596263243299\n",
      "\tValidation recall: 0.9305816135084428\n",
      "Fold 8\n",
      "\tValidation accuracy: 0.9277673545966229\n",
      "\tValidation precision: 0.9290547321791192\n",
      "\tValidation recall: 0.9277673545966229\n",
      "Fold 9\n",
      "\tValidation accuracy: 0.9455909943714822\n",
      "\tValidation precision: 0.9465984337917401\n",
      "\tValidation recall: 0.9455909943714822\n",
      "Fold 10\n",
      "\tValidation accuracy: 0.9296435272045028\n",
      "\tValidation precision: 0.9313412566318748\n",
      "\tValidation recall: 0.9296435272045028\n",
      "{'accuracy': {'max': np.float64(0.9568884723523898),\n",
      "              'mean': np.float64(0.939602715614785),\n",
      "              'min': np.float64(0.9277673545966229)},\n",
      " 'precision': {'max': np.float64(0.9568935174691655),\n",
      "               'mean': np.float64(0.9407876629544167),\n",
      "               'min': np.float64(0.9290547321791192)},\n",
      " 'recall': {'max': np.float64(0.9568884723523898),\n",
      "            'mean': np.float64(0.939602715614785),\n",
      "            'min': np.float64(0.9277673545966229)}}\n"
     ]
    }
   ],
   "source": [
    "from sklearn.neighbors import KNeighborsClassifier\n",
    "\n"
   ]
  },
  {
   "cell_type": "code",
   "execution_count": 61,
   "metadata": {},
   "outputs": [
    {
     "name": "stdout",
     "output_type": "stream",
     "text": [
      "Fitting 5 folds for each of 8 candidates, totalling 40 fits\n",
      "[CV 3/5] END ...metric=euclidean, n_neighbors=3;, score=0.924 total time=   0.2s\n",
      "[CV 2/5] END ...metric=euclidean, n_neighbors=5;, score=0.924 total time=   0.2s\n",
      "[CV 2/5] END ...metric=euclidean, n_neighbors=7;, score=0.916 total time=   0.2s\n",
      "[CV 1/5] END ...metric=euclidean, n_neighbors=5;, score=0.915 total time=   0.3s\n",
      "[CV 2/5] END ...metric=euclidean, n_neighbors=3;, score=0.928 total time=   0.3s\n",
      "[CV 1/5] END ...metric=euclidean, n_neighbors=7;, score=0.908 total time=   0.3s\n",
      "[CV 3/5] END ...metric=euclidean, n_neighbors=5;, score=0.918 total time=   0.4s\n",
      "[CV 5/5] END ...metric=euclidean, n_neighbors=5;, score=0.910 total time=   0.4s\n",
      "[CV 5/5] END ...metric=euclidean, n_neighbors=3;, score=0.918 total time=   0.4s\n",
      "[CV 3/5] END ...metric=euclidean, n_neighbors=7;, score=0.913 total time=   0.2s\n",
      "[CV 4/5] END ...metric=euclidean, n_neighbors=5;, score=0.916 total time=   0.4s\n",
      "[CV 1/5] END ...metric=euclidean, n_neighbors=3;, score=0.917 total time=   0.4s\n",
      "[CV 4/5] END ...metric=euclidean, n_neighbors=3;, score=0.922 total time=   0.4s\n",
      "[CV 4/5] END ...metric=euclidean, n_neighbors=7;, score=0.894 total time=   0.2s\n",
      "[CV 5/5] END ...metric=euclidean, n_neighbors=7;, score=0.913 total time=   0.2s\n",
      "[CV 4/5] END ...metric=euclidean, n_neighbors=9;, score=0.896 total time=   0.2s\n",
      "[CV 3/5] END ...metric=euclidean, n_neighbors=9;, score=0.909 total time=   0.3s\n",
      "[CV 1/5] END ...metric=euclidean, n_neighbors=9;, score=0.900 total time=   0.3s\n",
      "[CV 2/5] END ...metric=euclidean, n_neighbors=9;, score=0.911 total time=   0.3s\n",
      "[CV 5/5] END ...metric=euclidean, n_neighbors=9;, score=0.909 total time=   0.4s\n",
      "[CV 2/5] END ...metric=manhattan, n_neighbors=3;, score=0.953 total time=   0.8s\n",
      "[CV 3/5] END ...metric=manhattan, n_neighbors=5;, score=0.953 total time=   0.8s\n",
      "[CV 2/5] END ...metric=manhattan, n_neighbors=5;, score=0.943 total time=   1.0s\n",
      "[CV 4/5] END ...metric=manhattan, n_neighbors=3;, score=0.953 total time=   1.2s\n",
      "[CV 1/5] END ...metric=manhattan, n_neighbors=5;, score=0.933 total time=   1.1s\n",
      "[CV 3/5] END ...metric=manhattan, n_neighbors=3;, score=0.958 total time=   1.2s\n",
      "[CV 5/5] END ...metric=manhattan, n_neighbors=3;, score=0.950 total time=   1.2s\n",
      "[CV 4/5] END ...metric=manhattan, n_neighbors=5;, score=0.944 total time=   1.1s\n",
      "[CV 5/5] END ...metric=manhattan, n_neighbors=5;, score=0.943 total time=   1.1s\n",
      "[CV 1/5] END ...metric=manhattan, n_neighbors=3;, score=0.945 total time=   1.4s\n",
      "[CV 2/5] END ...metric=manhattan, n_neighbors=7;, score=0.932 total time=   1.1s\n",
      "[CV 1/5] END ...metric=manhattan, n_neighbors=7;, score=0.930 total time=   1.2s\n",
      "[CV 4/5] END ...metric=manhattan, n_neighbors=7;, score=0.927 total time=   0.7s\n",
      "[CV 3/5] END ...metric=manhattan, n_neighbors=7;, score=0.941 total time=   0.8s\n",
      "[CV 5/5] END ...metric=manhattan, n_neighbors=7;, score=0.932 total time=   0.7s\n",
      "[CV 4/5] END ...metric=manhattan, n_neighbors=9;, score=0.917 total time=   0.7s\n",
      "[CV 2/5] END ...metric=manhattan, n_neighbors=9;, score=0.928 total time=   0.8s\n",
      "[CV 1/5] END ...metric=manhattan, n_neighbors=9;, score=0.919 total time=   1.0s\n",
      "[CV 5/5] END ...metric=manhattan, n_neighbors=9;, score=0.928 total time=   0.9s\n",
      "[CV 3/5] END ...metric=manhattan, n_neighbors=9;, score=0.941 total time=   1.0s\n"
     ]
    }
   ],
   "source": [
    "# Define the parameter grid for kNN\n",
    "param_grid_knn = {\n",
    "    'n_neighbors': [3, 5, 7, 9],\n",
    "    'metric': ['euclidean', 'manhattan']\n",
    "}\n",
    "y_train_encoded = encode(y_train)\n",
    "# Perform grid search to find the best parameters\n",
    "grid_search_knn = GridSearchCV(KNeighborsClassifier(), param_grid_knn, verbose=3, n_jobs=-1)\n",
    "grid_search_knn.fit(X_train_scaled, y_train_encoded)\n",
    "best_params_knn = grid_search_knn.best_params_"
   ]
  },
  {
   "cell_type": "code",
   "execution_count": 64,
   "metadata": {},
   "outputs": [
    {
     "name": "stdout",
     "output_type": "stream",
     "text": [
      "Fold 1\n",
      "\tValidation accuracy: 0.9625117150890347\n",
      "\tValidation precision: 0.9638109996134937\n",
      "\tValidation recall: 0.9625117150890347\n",
      "Fold 2\n",
      "\tValidation accuracy: 0.9803186504217432\n",
      "\tValidation precision: 0.9801514379647767\n",
      "\tValidation recall: 0.9803186504217432\n",
      "Fold 3\n",
      "\tValidation accuracy: 0.9671977507029054\n",
      "\tValidation precision: 0.9683300645840717\n",
      "\tValidation recall: 0.9671977507029054\n",
      "Fold 4\n",
      "\tValidation accuracy: 0.9681050656660413\n",
      "\tValidation precision: 0.968536915956827\n",
      "\tValidation recall: 0.9681050656660413\n",
      "Fold 5\n",
      "\tValidation accuracy: 0.9690431519699813\n",
      "\tValidation precision: 0.9695622293303616\n",
      "\tValidation recall: 0.9690431519699813\n",
      "Fold 6\n",
      "\tValidation accuracy: 0.9727954971857411\n",
      "\tValidation precision: 0.9731471653461006\n",
      "\tValidation recall: 0.9727954971857411\n",
      "Fold 7\n",
      "\tValidation accuracy: 0.9652908067542214\n",
      "\tValidation precision: 0.9655343074919178\n",
      "\tValidation recall: 0.9652908067542214\n",
      "Fold 8\n",
      "\tValidation accuracy: 0.9681050656660413\n",
      "\tValidation precision: 0.9685874957395171\n",
      "\tValidation recall: 0.9681050656660413\n",
      "Fold 9\n",
      "\tValidation accuracy: 0.9718574108818011\n",
      "\tValidation precision: 0.972342862645583\n",
      "\tValidation recall: 0.9718574108818011\n",
      "Fold 10\n",
      "\tValidation accuracy: 0.9568480300187617\n",
      "\tValidation precision: 0.9575553080418354\n",
      "\tValidation recall: 0.9568480300187617\n",
      "{'accuracy': {'max': np.float64(0.9803186504217432),\n",
      "              'mean': np.float64(0.9682073144356271),\n",
      "              'min': np.float64(0.9568480300187617)},\n",
      " 'precision': {'max': np.float64(0.9801514379647767),\n",
      "               'mean': np.float64(0.9687558786714485),\n",
      "               'min': np.float64(0.9575553080418354)},\n",
      " 'recall': {'max': np.float64(0.9803186504217432),\n",
      "            'mean': np.float64(0.9682073144356271),\n",
      "            'min': np.float64(0.9568480300187617)}}\n"
     ]
    }
   ],
   "source": [
    "# Perform k-fold cross-validation with the best parameters\n",
    "y_encoded = encode(y)\n",
    "report_knn, y_pred_knn, y_val_knn = kfold_cross_validation_ML(KNeighborsClassifier, X, y_encoded, best_params_knn, n_splits=10)\n",
    "# Store the report in the reports dictionary\n",
    "reports['kNN'] = report_knn\n",
    "pprint(report_knn)"
   ]
  },
  {
   "cell_type": "markdown",
   "metadata": {},
   "source": [
    "## XGBoost"
   ]
  },
  {
   "cell_type": "code",
   "execution_count": 36,
   "metadata": {},
   "outputs": [],
   "source": [
    "from xgboost import XGBClassifier"
   ]
  },
  {
   "cell_type": "code",
   "execution_count": 37,
   "metadata": {},
   "outputs": [
    {
     "name": "stdout",
     "output_type": "stream",
     "text": [
      "Fold 1\n",
      "\tValidation accuracy: 0.9906279287722587\n",
      "\tValidation precision: 0.9907661099044628\n",
      "\tValidation recall: 0.9906279287722587\n",
      "Fold 2\n",
      "\tValidation accuracy: 0.985941893158388\n",
      "\tValidation precision: 0.9860233967392074\n",
      "\tValidation recall: 0.985941893158388\n",
      "Fold 3\n",
      "\tValidation accuracy: 0.985941893158388\n",
      "\tValidation precision: 0.9862398689778507\n",
      "\tValidation recall: 0.985941893158388\n",
      "Fold 4\n",
      "\tValidation accuracy: 0.9868667917448405\n",
      "\tValidation precision: 0.9870464510088978\n",
      "\tValidation recall: 0.9868667917448405\n",
      "Fold 5\n",
      "\tValidation accuracy: 0.9868667917448405\n",
      "\tValidation precision: 0.9870708493738837\n",
      "\tValidation recall: 0.9868667917448405\n",
      "Fold 6\n",
      "\tValidation accuracy: 0.9887429643527205\n",
      "\tValidation precision: 0.9887941233638242\n",
      "\tValidation recall: 0.9887429643527205\n",
      "Fold 7\n",
      "\tValidation accuracy: 0.9868667917448405\n",
      "\tValidation precision: 0.9870174963731362\n",
      "\tValidation recall: 0.9868667917448405\n",
      "Fold 8\n",
      "\tValidation accuracy: 0.9840525328330206\n",
      "\tValidation precision: 0.984158338806027\n",
      "\tValidation recall: 0.9840525328330206\n",
      "Fold 9\n",
      "\tValidation accuracy: 0.9831144465290806\n",
      "\tValidation precision: 0.9835541939625888\n",
      "\tValidation recall: 0.9831144465290806\n",
      "Fold 10\n",
      "\tValidation accuracy: 0.9840525328330206\n",
      "\tValidation precision: 0.9841987700538097\n",
      "\tValidation recall: 0.9840525328330206\n"
     ]
    }
   ],
   "source": [
    "y_encoded = encode(y)\n",
    "report_xgb, y_pred_xgb, y_val_xgb = kfold_cross_validation_ML(XGBClassifier, X, y_encoded, {'n_estimators': 300, 'max_depth': 3}, n_splits=10)"
   ]
  },
  {
   "cell_type": "code",
   "execution_count": 38,
   "metadata": {},
   "outputs": [
    {
     "name": "stdout",
     "output_type": "stream",
     "text": [
      "{'accuracy': {'max': np.float64(0.9906279287722587),\n",
      "              'mean': np.float64(0.9863074566871399),\n",
      "              'min': np.float64(0.9831144465290806)},\n",
      " 'precision': {'max': np.float64(0.9907661099044628),\n",
      "               'mean': np.float64(0.9864869598563688),\n",
      "               'min': np.float64(0.9835541939625888)},\n",
      " 'recall': {'max': np.float64(0.9906279287722587),\n",
      "            'mean': np.float64(0.9863074566871399),\n",
      "            'min': np.float64(0.9831144465290806)}}\n"
     ]
    }
   ],
   "source": [
    "reports['XGB'] = report_xgb\n",
    "pprint(report_xgb)"
   ]
  },
  {
   "cell_type": "code",
   "execution_count": 39,
   "metadata": {},
   "outputs": [
    {
     "data": {
      "image/png": "[encoded data removed]",
      "text/plain": [
       "<Figure size 640x480 with 2 Axes>"
      ]
     },
     "metadata": {},
     "output_type": "display_data"
    }
   ],
   "source": [
    "display_cm(y_val_xgb, y_pred_xgb)"
   ]
  },
  {
   "cell_type": "markdown",
   "metadata": {},
   "source": [
    "# MLP Scikit-Learn"
   ]
  },
  {
   "cell_type": "code",
   "execution_count": 41,
   "metadata": {},
   "outputs": [],
   "source": [
    "from sklearn.neural_network import MLPClassifier"
   ]
  },
  {
   "cell_type": "code",
   "execution_count": 42,
   "metadata": {},
   "outputs": [
    {
     "name": "stdout",
     "output_type": "stream",
     "text": [
      "Fold 1\n",
      "\tValidation accuracy: 0.9550140581068416\n",
      "\tValidation precision: 0.9551711633736926\n",
      "\tValidation recall: 0.9550140581068416\n",
      "Fold 2\n",
      "\tValidation accuracy: 0.9681349578256795\n",
      "\tValidation precision: 0.9682283100768592\n",
      "\tValidation recall: 0.9681349578256795\n",
      "Fold 3\n",
      "\tValidation accuracy: 0.9550140581068416\n",
      "\tValidation precision: 0.9569104633314157\n",
      "\tValidation recall: 0.9550140581068416\n",
      "Fold 4\n",
      "\tValidation accuracy: 0.9559099437148217\n",
      "\tValidation precision: 0.9563604975712173\n",
      "\tValidation recall: 0.9559099437148217\n",
      "Fold 5\n",
      "\tValidation accuracy: 0.9596622889305816\n",
      "\tValidation precision: 0.9596838795114294\n",
      "\tValidation recall: 0.9596622889305816\n",
      "Fold 6\n",
      "\tValidation accuracy: 0.9596622889305816\n",
      "\tValidation precision: 0.9599919485494608\n",
      "\tValidation recall: 0.9596622889305816\n",
      "Fold 7\n",
      "\tValidation accuracy: 0.9643527204502814\n",
      "\tValidation precision: 0.9646166552631045\n",
      "\tValidation recall: 0.9643527204502814\n",
      "Fold 8\n",
      "\tValidation accuracy: 0.9409005628517824\n",
      "\tValidation precision: 0.9423646698951279\n",
      "\tValidation recall: 0.9409005628517824\n",
      "Fold 9\n",
      "\tValidation accuracy: 0.9568480300187617\n",
      "\tValidation precision: 0.9574748604902514\n",
      "\tValidation recall: 0.9568480300187617\n",
      "Fold 10\n",
      "\tValidation accuracy: 0.9455909943714822\n",
      "\tValidation precision: 0.9456965708104911\n",
      "\tValidation recall: 0.9455909943714822\n"
     ]
    }
   ],
   "source": [
    "report_mlp, y_pred_mlp, y_val_mlp = kfold_cross_validation_ML(MLPClassifier, X, y, {'hidden_layer_sizes': (50, 40, 30), 'max_iter': 1000, 'activation': 'relu', 'solver': 'adam'}, n_splits=10)"
   ]
  },
  {
   "cell_type": "code",
   "execution_count": 43,
   "metadata": {},
   "outputs": [
    {
     "name": "stdout",
     "output_type": "stream",
     "text": [
      "{'accuracy': {'max': np.float64(0.9681349578256795),\n",
      "              'mean': np.float64(0.9561089903307656),\n",
      "              'min': np.float64(0.9409005628517824)},\n",
      " 'precision': {'max': np.float64(0.9682283100768592),\n",
      "               'mean': np.float64(0.9566499018873049),\n",
      "               'min': np.float64(0.9423646698951279)},\n",
      " 'recall': {'max': np.float64(0.9681349578256795),\n",
      "            'mean': np.float64(0.9561089903307656),\n",
      "            'min': np.float64(0.9409005628517824)}}\n"
     ]
    }
   ],
   "source": [
    "reports['MLP-Scikit'] = report_mlp\n",
    "pprint(report_mlp)"
   ]
  },
  {
   "cell_type": "code",
   "execution_count": 44,
   "metadata": {},
   "outputs": [
    {
     "data": {
      "image/png": "[encoded data removed]",
      "text/plain": [
       "<Figure size 640x480 with 2 Axes>"
      ]
     },
     "metadata": {},
     "output_type": "display_data"
    }
   ],
   "source": [
    "display_cm(y_val_mlp, y_pred_mlp)"
   ]
  },
  {
   "cell_type": "markdown",
   "metadata": {},
   "source": [
    "# MLP TensorFlow"
   ]
  },
  {
   "cell_type": "code",
   "execution_count": 45,
   "metadata": {},
   "outputs": [
    {
     "name": "stderr",
     "output_type": "stream",
     "text": [
      "2025-02-27 12:06:22.903235: I tensorflow/core/util/port.cc:153] oneDNN custom operations are on. You may see slightly different numerical results due to floating-point round-off errors from different computation orders. To turn them off, set the environment variable `TF_ENABLE_ONEDNN_OPTS=0`.\n",
      "2025-02-27 12:06:22.908488: I external/local_xla/xla/tsl/cuda/cudart_stub.cc:32] Could not find cuda drivers on your machine, GPU will not be used.\n",
      "2025-02-27 12:06:22.978166: I external/local_xla/xla/tsl/cuda/cudart_stub.cc:32] Could not find cuda drivers on your machine, GPU will not be used.\n",
      "2025-02-27 12:06:23.054243: E external/local_xla/xla/stream_executor/cuda/cuda_fft.cc:477] Unable to register cuFFT factory: Attempting to register factory for plugin cuFFT when one has already been registered\n",
      "WARNING: All log messages before absl::InitializeLog() is called are written to STDERR\n",
      "E0000 00:00:1740668783.127066    9803 cuda_dnn.cc:8310] Unable to register cuDNN factory: Attempting to register factory for plugin cuDNN when one has already been registered\n",
      "E0000 00:00:1740668783.141601    9803 cuda_blas.cc:1418] Unable to register cuBLAS factory: Attempting to register factory for plugin cuBLAS when one has already been registered\n",
      "2025-02-27 12:06:23.264310: I tensorflow/core/platform/cpu_feature_guard.cc:210] This TensorFlow binary is optimized to use available CPU instructions in performance-critical operations.\n",
      "To enable the following instructions: AVX2 AVX_VNNI FMA, in other operations, rebuild TensorFlow with the appropriate compiler flags.\n"
     ]
    }
   ],
   "source": [
    "from tensorflow.keras.models import Sequential\n",
    "from tensorflow.keras.layers import Dense, Dropout, LayerNormalization, Input, BatchNormalization, LSTM\n",
    "from tensorflow.keras.utils import to_categorical"
   ]
  },
  {
   "cell_type": "markdown",
   "metadata": {},
   "source": [
    "Using sparse categorial crossentropy since the labels are not one-hot encoded"
   ]
  },
  {
   "cell_type": "code",
   "execution_count": 46,
   "metadata": {},
   "outputs": [],
   "source": [
    "def kfold_cross_validation_TF(model_func, X, y, params, epochs=50, batch_size=128, n_splits=10):\n",
    "\n",
    "    kf = KFold(n_splits=n_splits, shuffle=True, random_state=42)\n",
    "\n",
    "    accuracies = []\n",
    "    precisions = []\n",
    "    recalls = []\n",
    "    y = encode(y)\n",
    "\n",
    "    for train_index, test_index in kf.split(X):\n",
    "        print(f'Fold {len(accuracies) + 1}')\n",
    "        X_train_fold, X_val_fold = X[train_index], X[test_index]\n",
    "        y_train_fold, y_val_fold = y[train_index], y[test_index]\n",
    "\n",
    "        model = model_func(**params) # This created and compiles the model\n",
    "\n",
    "        model.fit(X_train_fold, y_train_fold, epochs=epochs, batch_size=batch_size, verbose=0)\n",
    "        y_predict = model.predict(X_val_fold)\n",
    "        y_predict = np.argmax(y_predict, axis=1)\n",
    "        \n",
    "        acc = accuracy_score(y_val_fold, y_predict)\n",
    "        prec = precision_score(y_val_fold, y_predict, average='weighted')\n",
    "        rec = recall_score(y_val_fold, y_predict, average='weighted')\n",
    "        \n",
    "        print(f'\\tValidation accuracy: {acc}')\n",
    "        print(f'\\tValidation precision: {prec}')\n",
    "        print(f'\\tValidation recall: {rec}')\n",
    "        accuracies.append(acc)\n",
    "        precisions.append(prec)\n",
    "        recalls.append(rec)\n",
    "\n",
    "    report = {}\n",
    "    report['accuracy'] = {'mean': np.mean(accuracies), 'min': np.min(accuracies), 'max': np.max(accuracies)}\n",
    "    report['precision'] = {'mean': np.mean(precisions), 'min': np.min(precisions), 'max': np.max(precisions)}\n",
    "    report['recall'] = {'mean': np.mean(recalls), 'min': np.min(recalls), 'max': np.max(recalls)}\n",
    "\n",
    "    return report, y_predict, y_val_fold\n"
   ]
  },
  {
   "cell_type": "code",
   "execution_count": 47,
   "metadata": {},
   "outputs": [],
   "source": [
    "def create_model(optimizer='adam', loss='sparse_categorical_crossentropy', metrics=['accuracy']):\n",
    "    model =  Sequential([\n",
    "        # Input is of shape (number_of_features,)\n",
    "        Input(shape=(X_train_scaled.shape[1],)),\n",
    "        Dense(50, activation='relu'),\n",
    "\n",
    "        Dense(40, activation='relu'),\n",
    "\n",
    "        Dense(30, activation='relu'),\n",
    "\n",
    "        Dense(len(np.unique(y_train)), activation='softmax')\n",
    "    ])\n",
    "\n",
    "    model.compile(optimizer=optimizer, loss=loss, metrics=metrics)\n",
    "    return model"
   ]
  },
  {
   "cell_type": "code",
   "execution_count": 43,
   "metadata": {},
   "outputs": [],
   "source": [
    "def train_mlp_wandb():\n",
    "    wandb.init(project='DriverBehavior')\n",
    "    epochs = wandb.config.epochs\n",
    "    batch_size = wandb.config.batch_size\n",
    "\n",
    "    model = create_model()\n",
    "    history = model.fit(X_train_scaled, y_train_one_hot, epochs=epochs, batch_size=batch_size, validation_data=(X_test_scaled, y_test_one_hot))\n",
    "\n",
    "    wandb.log({\n",
    "        'train_loss': history.history['loss'][-1],\n",
    "        'train_accuracy': history.history['accuracy'][-1],\n",
    "        'val_loss': history.history['val_loss'][-1],\n",
    "        'val_accuracy': history.history['val_accuracy'][-1],\n",
    "    })"
   ]
  },
  {
   "cell_type": "code",
   "execution_count": 44,
   "metadata": {},
   "outputs": [
    {
     "name": "stdout",
     "output_type": "stream",
     "text": [
      "Create sweep with ID: jed55gi3\n",
      "Sweep URL: https://wandb.ai/renan-florencio-unicamp/DriverBehavior/sweeps/jed55gi3\n"
     ]
    }
   ],
   "source": [
    "sweep_config = {\n",
    "    'method': 'grid',  # 'random' or 'bayes' for other strategies\n",
    "    'metric': {\n",
    "        'name': 'val_accuracy',  # The metric to optimize\n",
    "        'goal': 'maximize'  # Maximize or minimize the metric\n",
    "    },\n",
    "    'parameters': {\n",
    "        'epochs': {\n",
    "            'values': [10, 25, 50]  # Range of epochs to test\n",
    "        },\n",
    "        'batch_size': {\n",
    "            'values': [32, 64, 128]  # Range of batch sizes to test\n",
    "        }\n",
    "    }\n",
    "}\n",
    "sweep_id = wandb.sweep(sweep_config, project=\"DriverBehavior\")"
   ]
  },
  {
   "cell_type": "code",
   "execution_count": 67,
   "metadata": {},
   "outputs": [
    {
     "name": "stderr",
     "output_type": "stream",
     "text": [
      "\u001b[34m\u001b[1mwandb\u001b[0m: Agent Starting Run: wa0u51qj with config:\n",
      "\u001b[34m\u001b[1mwandb\u001b[0m: \tbatch_size: 32\n",
      "\u001b[34m\u001b[1mwandb\u001b[0m: \tepochs: 10\n"
     ]
    },
    {
     "data": {
      "text/html": [
       "Ignoring project 'DriverBehavior' when running a sweep."
      ],
      "text/plain": [
       "<IPython.core.display.HTML object>"
      ]
     },
     "metadata": {},
     "output_type": "display_data"
    },
    {
     "data": {
      "text/html": [
       "Tracking run with wandb version 0.19.4"
      ],
      "text/plain": [
       "<IPython.core.display.HTML object>"
      ]
     },
     "metadata": {},
     "output_type": "display_data"
    },
    {
     "data": {
      "text/html": [
       "Run data is saved locally in <code>/home/renan/Documents/datasets/dbdataset/wandb/run-20250127_170549-wa0u51qj</code>"
      ],
      "text/plain": [
       "<IPython.core.display.HTML object>"
      ]
     },
     "metadata": {},
     "output_type": "display_data"
    },
    {
     "data": {
      "text/html": [
       "Syncing run <strong><a href='https://wandb.ai/renan-florencio-unicamp/DriverBehavior/runs/wa0u51qj' target=\"_blank\">devoted-sweep-1</a></strong> to <a href='https://wandb.ai/renan-florencio-unicamp/DriverBehavior' target=\"_blank\">Weights & Biases</a> (<a href='https://wandb.me/developer-guide' target=\"_blank\">docs</a>)<br>Sweep page: <a href='https://wandb.ai/renan-florencio-unicamp/DriverBehavior/sweeps/gut8lurp' target=\"_blank\">https://wandb.ai/renan-florencio-unicamp/DriverBehavior/sweeps/gut8lurp</a>"
      ],
      "text/plain": [
       "<IPython.core.display.HTML object>"
      ]
     },
     "metadata": {},
     "output_type": "display_data"
    },
    {
     "data": {
      "text/html": [
       " View project at <a href='https://wandb.ai/renan-florencio-unicamp/DriverBehavior' target=\"_blank\">https://wandb.ai/renan-florencio-unicamp/DriverBehavior</a>"
      ],
      "text/plain": [
       "<IPython.core.display.HTML object>"
      ]
     },
     "metadata": {},
     "output_type": "display_data"
    },
    {
     "data": {
      "text/html": [
       " View sweep at <a href='https://wandb.ai/renan-florencio-unicamp/DriverBehavior/sweeps/gut8lurp' target=\"_blank\">https://wandb.ai/renan-florencio-unicamp/DriverBehavior/sweeps/gut8lurp</a>"
      ],
      "text/plain": [
       "<IPython.core.display.HTML object>"
      ]
     },
     "metadata": {},
     "output_type": "display_data"
    },
    {
     "data": {
      "text/html": [
       " View run at <a href='https://wandb.ai/renan-florencio-unicamp/DriverBehavior/runs/wa0u51qj' target=\"_blank\">https://wandb.ai/renan-florencio-unicamp/DriverBehavior/runs/wa0u51qj</a>"
      ],
      "text/plain": [
       "<IPython.core.display.HTML object>"
      ]
     },
     "metadata": {},
     "output_type": "display_data"
    },
    {
     "name": "stdout",
     "output_type": "stream",
     "text": [
      "Epoch 1/10\n",
      "\u001b[1m267/267\u001b[0m \u001b[32m━━━━━━━━━━━━━━━━━━━━\u001b[0m\u001b[37m\u001b[0m \u001b[1m4s\u001b[0m 9ms/step - accuracy: 0.5708 - loss: 1.2386 - val_accuracy: 0.8401 - val_loss: 0.5023\n",
      "Epoch 2/10\n",
      "\u001b[1m267/267\u001b[0m \u001b[32m━━━━━━━━━━━━━━━━━━━━\u001b[0m\u001b[37m\u001b[0m \u001b[1m2s\u001b[0m 7ms/step - accuracy: 0.8150 - loss: 0.5633 - val_accuracy: 0.8790 - val_loss: 0.3666\n",
      "Epoch 3/10\n",
      "\u001b[1m267/267\u001b[0m \u001b[32m━━━━━━━━━━━━━━━━━━━━\u001b[0m\u001b[37m\u001b[0m \u001b[1m2s\u001b[0m 9ms/step - accuracy: 0.8610 - loss: 0.4236 - val_accuracy: 0.8955 - val_loss: 0.3012\n",
      "Epoch 4/10\n",
      "\u001b[1m267/267\u001b[0m \u001b[32m━━━━━━━━━━━━━━━━━━━━\u001b[0m\u001b[37m\u001b[0m \u001b[1m2s\u001b[0m 8ms/step - accuracy: 0.8725 - loss: 0.3591 - val_accuracy: 0.9072 - val_loss: 0.2684\n",
      "Epoch 5/10\n",
      "\u001b[1m267/267\u001b[0m \u001b[32m━━━━━━━━━━━━━━━━━━━━\u001b[0m\u001b[37m\u001b[0m \u001b[1m2s\u001b[0m 8ms/step - accuracy: 0.9073 - loss: 0.2814 - val_accuracy: 0.9198 - val_loss: 0.2360\n",
      "Epoch 6/10\n",
      "\u001b[1m267/267\u001b[0m \u001b[32m━━━━━━━━━━━━━━━━━━━━\u001b[0m\u001b[37m\u001b[0m \u001b[1m2s\u001b[0m 8ms/step - accuracy: 0.9137 - loss: 0.2591 - val_accuracy: 0.9287 - val_loss: 0.2208\n",
      "Epoch 7/10\n",
      "\u001b[1m267/267\u001b[0m \u001b[32m━━━━━━━━━━━━━━━━━━━━\u001b[0m\u001b[37m\u001b[0m \u001b[1m2s\u001b[0m 7ms/step - accuracy: 0.9217 - loss: 0.2276 - val_accuracy: 0.9259 - val_loss: 0.2389\n",
      "Epoch 8/10\n",
      "\u001b[1m267/267\u001b[0m \u001b[32m━━━━━━━━━━━━━━━━━━━━\u001b[0m\u001b[37m\u001b[0m \u001b[1m2s\u001b[0m 7ms/step - accuracy: 0.9198 - loss: 0.2255 - val_accuracy: 0.9405 - val_loss: 0.1794\n",
      "Epoch 9/10\n",
      "\u001b[1m267/267\u001b[0m \u001b[32m━━━━━━━━━━━━━━━━━━━━\u001b[0m\u001b[37m\u001b[0m \u001b[1m2s\u001b[0m 8ms/step - accuracy: 0.9397 - loss: 0.1839 - val_accuracy: 0.9414 - val_loss: 0.1867\n",
      "Epoch 10/10\n",
      "\u001b[1m267/267\u001b[0m \u001b[32m━━━━━━━━━━━━━━━━━━━━\u001b[0m\u001b[37m\u001b[0m \u001b[1m2s\u001b[0m 8ms/step - accuracy: 0.9386 - loss: 0.1673 - val_accuracy: 0.9437 - val_loss: 0.1866\n"
     ]
    },
    {
     "data": {
      "text/html": [],
      "text/plain": [
       "<IPython.core.display.HTML object>"
      ]
     },
     "metadata": {},
     "output_type": "display_data"
    },
    {
     "data": {
      "text/html": [
       "<br>    <style><br>        .wandb-row {<br>            display: flex;<br>            flex-direction: row;<br>            flex-wrap: wrap;<br>            justify-content: flex-start;<br>            width: 100%;<br>        }<br>        .wandb-col {<br>            display: flex;<br>            flex-direction: column;<br>            flex-basis: 100%;<br>            flex: 1;<br>            padding: 10px;<br>        }<br>    </style><br><div class=\"wandb-row\"><div class=\"wandb-col\"><h3>Run history:</h3><br/><table class=\"wandb\"><tr><td>train_accuracy</td><td>▁</td></tr><tr><td>train_loss</td><td>▁</td></tr><tr><td>val_accuracy</td><td>▁</td></tr><tr><td>val_loss</td><td>▁</td></tr></table><br/></div><div class=\"wandb-col\"><h3>Run summary:</h3><br/><table class=\"wandb\"><tr><td>train_accuracy</td><td>0.93916</td></tr><tr><td>train_loss</td><td>0.16933</td></tr><tr><td>val_accuracy</td><td>0.94374</td></tr><tr><td>val_loss</td><td>0.18658</td></tr></table><br/></div></div>"
      ],
      "text/plain": [
       "<IPython.core.display.HTML object>"
      ]
     },
     "metadata": {},
     "output_type": "display_data"
    },
    {
     "data": {
      "text/html": [
       " View run <strong style=\"color:#cdcd00\">devoted-sweep-1</strong> at: <a href='https://wandb.ai/renan-florencio-unicamp/DriverBehavior/runs/wa0u51qj' target=\"_blank\">https://wandb.ai/renan-florencio-unicamp/DriverBehavior/runs/wa0u51qj</a><br> View project at: <a href='https://wandb.ai/renan-florencio-unicamp/DriverBehavior' target=\"_blank\">https://wandb.ai/renan-florencio-unicamp/DriverBehavior</a><br>Synced 5 W&B file(s), 0 media file(s), 0 artifact file(s) and 0 other file(s)"
      ],
      "text/plain": [
       "<IPython.core.display.HTML object>"
      ]
     },
     "metadata": {},
     "output_type": "display_data"
    },
    {
     "data": {
      "text/html": [
       "Find logs at: <code>./wandb/run-20250127_170549-wa0u51qj/logs</code>"
      ],
      "text/plain": [
       "<IPython.core.display.HTML object>"
      ]
     },
     "metadata": {},
     "output_type": "display_data"
    },
    {
     "name": "stderr",
     "output_type": "stream",
     "text": [
      "\u001b[34m\u001b[1mwandb\u001b[0m: Agent Starting Run: syfu5ppp with config:\n",
      "\u001b[34m\u001b[1mwandb\u001b[0m: \tbatch_size: 32\n",
      "\u001b[34m\u001b[1mwandb\u001b[0m: \tepochs: 25\n"
     ]
    },
    {
     "data": {
      "text/html": [
       "Ignoring project 'DriverBehavior' when running a sweep."
      ],
      "text/plain": [
       "<IPython.core.display.HTML object>"
      ]
     },
     "metadata": {},
     "output_type": "display_data"
    },
    {
     "data": {
      "text/html": [
       "Tracking run with wandb version 0.19.4"
      ],
      "text/plain": [
       "<IPython.core.display.HTML object>"
      ]
     },
     "metadata": {},
     "output_type": "display_data"
    },
    {
     "data": {
      "text/html": [
       "Run data is saved locally in <code>/home/renan/Documents/datasets/dbdataset/wandb/run-20250127_170621-syfu5ppp</code>"
      ],
      "text/plain": [
       "<IPython.core.display.HTML object>"
      ]
     },
     "metadata": {},
     "output_type": "display_data"
    },
    {
     "data": {
      "text/html": [
       "Syncing run <strong><a href='https://wandb.ai/renan-florencio-unicamp/DriverBehavior/runs/syfu5ppp' target=\"_blank\">splendid-sweep-2</a></strong> to <a href='https://wandb.ai/renan-florencio-unicamp/DriverBehavior' target=\"_blank\">Weights & Biases</a> (<a href='https://wandb.me/developer-guide' target=\"_blank\">docs</a>)<br>Sweep page: <a href='https://wandb.ai/renan-florencio-unicamp/DriverBehavior/sweeps/gut8lurp' target=\"_blank\">https://wandb.ai/renan-florencio-unicamp/DriverBehavior/sweeps/gut8lurp</a>"
      ],
      "text/plain": [
       "<IPython.core.display.HTML object>"
      ]
     },
     "metadata": {},
     "output_type": "display_data"
    },
    {
     "data": {
      "text/html": [
       " View project at <a href='https://wandb.ai/renan-florencio-unicamp/DriverBehavior' target=\"_blank\">https://wandb.ai/renan-florencio-unicamp/DriverBehavior</a>"
      ],
      "text/plain": [
       "<IPython.core.display.HTML object>"
      ]
     },
     "metadata": {},
     "output_type": "display_data"
    },
    {
     "data": {
      "text/html": [
       " View sweep at <a href='https://wandb.ai/renan-florencio-unicamp/DriverBehavior/sweeps/gut8lurp' target=\"_blank\">https://wandb.ai/renan-florencio-unicamp/DriverBehavior/sweeps/gut8lurp</a>"
      ],
      "text/plain": [
       "<IPython.core.display.HTML object>"
      ]
     },
     "metadata": {},
     "output_type": "display_data"
    },
    {
     "data": {
      "text/html": [
       " View run at <a href='https://wandb.ai/renan-florencio-unicamp/DriverBehavior/runs/syfu5ppp' target=\"_blank\">https://wandb.ai/renan-florencio-unicamp/DriverBehavior/runs/syfu5ppp</a>"
      ],
      "text/plain": [
       "<IPython.core.display.HTML object>"
      ]
     },
     "metadata": {},
     "output_type": "display_data"
    },
    {
     "name": "stdout",
     "output_type": "stream",
     "text": [
      "Epoch 1/25\n",
      "\u001b[1m267/267\u001b[0m \u001b[32m━━━━━━━━━━━━━━━━━━━━\u001b[0m\u001b[37m\u001b[0m \u001b[1m4s\u001b[0m 9ms/step - accuracy: 0.5613 - loss: 1.2509 - val_accuracy: 0.8242 - val_loss: 0.4856\n",
      "Epoch 2/25\n",
      "\u001b[1m267/267\u001b[0m \u001b[32m━━━━━━━━━━━━━━━━━━━━\u001b[0m\u001b[37m\u001b[0m \u001b[1m2s\u001b[0m 8ms/step - accuracy: 0.7947 - loss: 0.5854 - val_accuracy: 0.8837 - val_loss: 0.3256\n",
      "Epoch 3/25\n",
      "\u001b[1m267/267\u001b[0m \u001b[32m━━━━━━━━━━━━━━━━━━━━\u001b[0m\u001b[37m\u001b[0m \u001b[1m2s\u001b[0m 8ms/step - accuracy: 0.8523 - loss: 0.4223 - val_accuracy: 0.9058 - val_loss: 0.2773\n",
      "Epoch 4/25\n",
      "\u001b[1m267/267\u001b[0m \u001b[32m━━━━━━━━━━━━━━━━━━━━\u001b[0m\u001b[37m\u001b[0m \u001b[1m2s\u001b[0m 7ms/step - accuracy: 0.8811 - loss: 0.3343 - val_accuracy: 0.9147 - val_loss: 0.2575\n",
      "Epoch 5/25\n",
      "\u001b[1m267/267\u001b[0m \u001b[32m━━━━━━━━━━━━━━━━━━━━\u001b[0m\u001b[37m\u001b[0m \u001b[1m2s\u001b[0m 8ms/step - accuracy: 0.8941 - loss: 0.2991 - val_accuracy: 0.9287 - val_loss: 0.2127\n",
      "Epoch 6/25\n",
      "\u001b[1m267/267\u001b[0m \u001b[32m━━━━━━━━━━━━━━━━━━━━\u001b[0m\u001b[37m\u001b[0m \u001b[1m2s\u001b[0m 8ms/step - accuracy: 0.9177 - loss: 0.2408 - val_accuracy: 0.9203 - val_loss: 0.2294\n",
      "Epoch 7/25\n",
      "\u001b[1m267/267\u001b[0m \u001b[32m━━━━━━━━━━━━━━━━━━━━\u001b[0m\u001b[37m\u001b[0m \u001b[1m2s\u001b[0m 8ms/step - accuracy: 0.9186 - loss: 0.2467 - val_accuracy: 0.9405 - val_loss: 0.1954\n",
      "Epoch 8/25\n",
      "\u001b[1m267/267\u001b[0m \u001b[32m━━━━━━━━━━━━━━━━━━━━\u001b[0m\u001b[37m\u001b[0m \u001b[1m2s\u001b[0m 8ms/step - accuracy: 0.9275 - loss: 0.2100 - val_accuracy: 0.9344 - val_loss: 0.2103\n",
      "Epoch 9/25\n",
      "\u001b[1m267/267\u001b[0m \u001b[32m━━━━━━━━━━━━━━━━━━━━\u001b[0m\u001b[37m\u001b[0m \u001b[1m2s\u001b[0m 8ms/step - accuracy: 0.9370 - loss: 0.1936 - val_accuracy: 0.9391 - val_loss: 0.1945\n",
      "Epoch 10/25\n",
      "\u001b[1m267/267\u001b[0m \u001b[32m━━━━━━━━━━━━━━━━━━━━\u001b[0m\u001b[37m\u001b[0m \u001b[1m2s\u001b[0m 8ms/step - accuracy: 0.9363 - loss: 0.1937 - val_accuracy: 0.9508 - val_loss: 0.1585\n",
      "Epoch 11/25\n",
      "\u001b[1m267/267\u001b[0m \u001b[32m━━━━━━━━━━━━━━━━━━━━\u001b[0m\u001b[37m\u001b[0m \u001b[1m2s\u001b[0m 8ms/step - accuracy: 0.9440 - loss: 0.1590 - val_accuracy: 0.9475 - val_loss: 0.1800\n",
      "Epoch 12/25\n",
      "\u001b[1m267/267\u001b[0m \u001b[32m━━━━━━━━━━━━━━━━━━━━\u001b[0m\u001b[37m\u001b[0m \u001b[1m2s\u001b[0m 8ms/step - accuracy: 0.9485 - loss: 0.1509 - val_accuracy: 0.9442 - val_loss: 0.1744\n",
      "Epoch 13/25\n",
      "\u001b[1m267/267\u001b[0m \u001b[32m━━━━━━━━━━━━━━━━━━━━\u001b[0m\u001b[37m\u001b[0m \u001b[1m2s\u001b[0m 8ms/step - accuracy: 0.9480 - loss: 0.1419 - val_accuracy: 0.9555 - val_loss: 0.1629\n",
      "Epoch 14/25\n",
      "\u001b[1m267/267\u001b[0m \u001b[32m━━━━━━━━━━━━━━━━━━━━\u001b[0m\u001b[37m\u001b[0m \u001b[1m2s\u001b[0m 8ms/step - accuracy: 0.9533 - loss: 0.1375 - val_accuracy: 0.9541 - val_loss: 0.1455\n",
      "Epoch 15/25\n",
      "\u001b[1m267/267\u001b[0m \u001b[32m━━━━━━━━━━━━━━━━━━━━\u001b[0m\u001b[37m\u001b[0m \u001b[1m2s\u001b[0m 7ms/step - accuracy: 0.9600 - loss: 0.1154 - val_accuracy: 0.9503 - val_loss: 0.1766\n",
      "Epoch 16/25\n",
      "\u001b[1m267/267\u001b[0m \u001b[32m━━━━━━━━━━━━━━━━━━━━\u001b[0m\u001b[37m\u001b[0m \u001b[1m2s\u001b[0m 7ms/step - accuracy: 0.9617 - loss: 0.1152 - val_accuracy: 0.9531 - val_loss: 0.1646\n",
      "Epoch 17/25\n",
      "\u001b[1m267/267\u001b[0m \u001b[32m━━━━━━━━━━━━━━━━━━━━\u001b[0m\u001b[37m\u001b[0m \u001b[1m2s\u001b[0m 8ms/step - accuracy: 0.9593 - loss: 0.1129 - val_accuracy: 0.9602 - val_loss: 0.1281\n",
      "Epoch 18/25\n",
      "\u001b[1m267/267\u001b[0m \u001b[32m━━━━━━━━━━━━━━━━━━━━\u001b[0m\u001b[37m\u001b[0m \u001b[1m2s\u001b[0m 8ms/step - accuracy: 0.9689 - loss: 0.1027 - val_accuracy: 0.9569 - val_loss: 0.1547\n",
      "Epoch 19/25\n",
      "\u001b[1m267/267\u001b[0m \u001b[32m━━━━━━━━━━━━━━━━━━━━\u001b[0m\u001b[37m\u001b[0m \u001b[1m2s\u001b[0m 8ms/step - accuracy: 0.9670 - loss: 0.0952 - val_accuracy: 0.9536 - val_loss: 0.1464\n",
      "Epoch 20/25\n",
      "\u001b[1m267/267\u001b[0m \u001b[32m━━━━━━━━━━━━━━━━━━━━\u001b[0m\u001b[37m\u001b[0m \u001b[1m2s\u001b[0m 8ms/step - accuracy: 0.9710 - loss: 0.0861 - val_accuracy: 0.9545 - val_loss: 0.1505\n",
      "Epoch 21/25\n",
      "\u001b[1m267/267\u001b[0m \u001b[32m━━━━━━━━━━━━━━━━━━━━\u001b[0m\u001b[37m\u001b[0m \u001b[1m2s\u001b[0m 7ms/step - accuracy: 0.9694 - loss: 0.0896 - val_accuracy: 0.9602 - val_loss: 0.1464\n",
      "Epoch 22/25\n",
      "\u001b[1m267/267\u001b[0m \u001b[32m━━━━━━━━━━━━━━━━━━━━\u001b[0m\u001b[37m\u001b[0m \u001b[1m2s\u001b[0m 8ms/step - accuracy: 0.9731 - loss: 0.0746 - val_accuracy: 0.9587 - val_loss: 0.1547\n",
      "Epoch 23/25\n",
      "\u001b[1m267/267\u001b[0m \u001b[32m━━━━━━━━━━━━━━━━━━━━\u001b[0m\u001b[37m\u001b[0m \u001b[1m2s\u001b[0m 8ms/step - accuracy: 0.9708 - loss: 0.0905 - val_accuracy: 0.9677 - val_loss: 0.1400\n",
      "Epoch 24/25\n",
      "\u001b[1m267/267\u001b[0m \u001b[32m━━━━━━━━━━━━━━━━━━━━\u001b[0m\u001b[37m\u001b[0m \u001b[1m2s\u001b[0m 9ms/step - accuracy: 0.9751 - loss: 0.0816 - val_accuracy: 0.9536 - val_loss: 0.1629\n",
      "Epoch 25/25\n",
      "\u001b[1m267/267\u001b[0m \u001b[32m━━━━━━━━━━━━━━━━━━━━\u001b[0m\u001b[37m\u001b[0m \u001b[1m2s\u001b[0m 8ms/step - accuracy: 0.9759 - loss: 0.0734 - val_accuracy: 0.9564 - val_loss: 0.1555\n"
     ]
    },
    {
     "data": {
      "text/html": [],
      "text/plain": [
       "<IPython.core.display.HTML object>"
      ]
     },
     "metadata": {},
     "output_type": "display_data"
    },
    {
     "data": {
      "text/html": [
       "<br>    <style><br>        .wandb-row {<br>            display: flex;<br>            flex-direction: row;<br>            flex-wrap: wrap;<br>            justify-content: flex-start;<br>            width: 100%;<br>        }<br>        .wandb-col {<br>            display: flex;<br>            flex-direction: column;<br>            flex-basis: 100%;<br>            flex: 1;<br>            padding: 10px;<br>        }<br>    </style><br><div class=\"wandb-row\"><div class=\"wandb-col\"><h3>Run history:</h3><br/><table class=\"wandb\"><tr><td>train_accuracy</td><td>▁</td></tr><tr><td>train_loss</td><td>▁</td></tr><tr><td>val_accuracy</td><td>▁</td></tr><tr><td>val_loss</td><td>▁</td></tr></table><br/></div><div class=\"wandb-col\"><h3>Run summary:</h3><br/><table class=\"wandb\"><tr><td>train_accuracy</td><td>0.97257</td></tr><tr><td>train_loss</td><td>0.08191</td></tr><tr><td>val_accuracy</td><td>0.9564</td></tr><tr><td>val_loss</td><td>0.15545</td></tr></table><br/></div></div>"
      ],
      "text/plain": [
       "<IPython.core.display.HTML object>"
      ]
     },
     "metadata": {},
     "output_type": "display_data"
    },
    {
     "data": {
      "text/html": [
       " View run <strong style=\"color:#cdcd00\">splendid-sweep-2</strong> at: <a href='https://wandb.ai/renan-florencio-unicamp/DriverBehavior/runs/syfu5ppp' target=\"_blank\">https://wandb.ai/renan-florencio-unicamp/DriverBehavior/runs/syfu5ppp</a><br> View project at: <a href='https://wandb.ai/renan-florencio-unicamp/DriverBehavior' target=\"_blank\">https://wandb.ai/renan-florencio-unicamp/DriverBehavior</a><br>Synced 5 W&B file(s), 0 media file(s), 0 artifact file(s) and 0 other file(s)"
      ],
      "text/plain": [
       "<IPython.core.display.HTML object>"
      ]
     },
     "metadata": {},
     "output_type": "display_data"
    },
    {
     "data": {
      "text/html": [
       "Find logs at: <code>./wandb/run-20250127_170621-syfu5ppp/logs</code>"
      ],
      "text/plain": [
       "<IPython.core.display.HTML object>"
      ]
     },
     "metadata": {},
     "output_type": "display_data"
    },
    {
     "name": "stderr",
     "output_type": "stream",
     "text": [
      "\u001b[34m\u001b[1mwandb\u001b[0m: Agent Starting Run: 0kvkdc3y with config:\n",
      "\u001b[34m\u001b[1mwandb\u001b[0m: \tbatch_size: 32\n",
      "\u001b[34m\u001b[1mwandb\u001b[0m: \tepochs: 50\n"
     ]
    },
    {
     "data": {
      "text/html": [
       "Ignoring project 'DriverBehavior' when running a sweep."
      ],
      "text/plain": [
       "<IPython.core.display.HTML object>"
      ]
     },
     "metadata": {},
     "output_type": "display_data"
    },
    {
     "data": {
      "text/html": [
       "Tracking run with wandb version 0.19.4"
      ],
      "text/plain": [
       "<IPython.core.display.HTML object>"
      ]
     },
     "metadata": {},
     "output_type": "display_data"
    },
    {
     "data": {
      "text/html": [
       "Run data is saved locally in <code>/home/renan/Documents/datasets/dbdataset/wandb/run-20250127_170724-0kvkdc3y</code>"
      ],
      "text/plain": [
       "<IPython.core.display.HTML object>"
      ]
     },
     "metadata": {},
     "output_type": "display_data"
    },
    {
     "data": {
      "text/html": [
       "Syncing run <strong><a href='https://wandb.ai/renan-florencio-unicamp/DriverBehavior/runs/0kvkdc3y' target=\"_blank\">comic-sweep-3</a></strong> to <a href='https://wandb.ai/renan-florencio-unicamp/DriverBehavior' target=\"_blank\">Weights & Biases</a> (<a href='https://wandb.me/developer-guide' target=\"_blank\">docs</a>)<br>Sweep page: <a href='https://wandb.ai/renan-florencio-unicamp/DriverBehavior/sweeps/gut8lurp' target=\"_blank\">https://wandb.ai/renan-florencio-unicamp/DriverBehavior/sweeps/gut8lurp</a>"
      ],
      "text/plain": [
       "<IPython.core.display.HTML object>"
      ]
     },
     "metadata": {},
     "output_type": "display_data"
    },
    {
     "data": {
      "text/html": [
       " View project at <a href='https://wandb.ai/renan-florencio-unicamp/DriverBehavior' target=\"_blank\">https://wandb.ai/renan-florencio-unicamp/DriverBehavior</a>"
      ],
      "text/plain": [
       "<IPython.core.display.HTML object>"
      ]
     },
     "metadata": {},
     "output_type": "display_data"
    },
    {
     "data": {
      "text/html": [
       " View sweep at <a href='https://wandb.ai/renan-florencio-unicamp/DriverBehavior/sweeps/gut8lurp' target=\"_blank\">https://wandb.ai/renan-florencio-unicamp/DriverBehavior/sweeps/gut8lurp</a>"
      ],
      "text/plain": [
       "<IPython.core.display.HTML object>"
      ]
     },
     "metadata": {},
     "output_type": "display_data"
    },
    {
     "data": {
      "text/html": [
       " View run at <a href='https://wandb.ai/renan-florencio-unicamp/DriverBehavior/runs/0kvkdc3y' target=\"_blank\">https://wandb.ai/renan-florencio-unicamp/DriverBehavior/runs/0kvkdc3y</a>"
      ],
      "text/plain": [
       "<IPython.core.display.HTML object>"
      ]
     },
     "metadata": {},
     "output_type": "display_data"
    },
    {
     "name": "stdout",
     "output_type": "stream",
     "text": [
      "Epoch 1/50\n",
      "\u001b[1m267/267\u001b[0m \u001b[32m━━━━━━━━━━━━━━━━━━━━\u001b[0m\u001b[37m\u001b[0m \u001b[1m4s\u001b[0m 8ms/step - accuracy: 0.5555 - loss: 1.2769 - val_accuracy: 0.8448 - val_loss: 0.4363\n",
      "Epoch 2/50\n",
      "\u001b[1m267/267\u001b[0m \u001b[32m━━━━━━━━━━━━━━━━━━━━\u001b[0m\u001b[37m\u001b[0m \u001b[1m2s\u001b[0m 8ms/step - accuracy: 0.8036 - loss: 0.5645 - val_accuracy: 0.8865 - val_loss: 0.3532\n",
      "Epoch 3/50\n",
      "\u001b[1m267/267\u001b[0m \u001b[32m━━━━━━━━━━━━━━━━━━━━\u001b[0m\u001b[37m\u001b[0m \u001b[1m2s\u001b[0m 8ms/step - accuracy: 0.8524 - loss: 0.4331 - val_accuracy: 0.9095 - val_loss: 0.2760\n",
      "Epoch 4/50\n",
      "\u001b[1m267/267\u001b[0m \u001b[32m━━━━━━━━━━━━━━━━━━━━\u001b[0m\u001b[37m\u001b[0m \u001b[1m2s\u001b[0m 8ms/step - accuracy: 0.8849 - loss: 0.3425 - val_accuracy: 0.9208 - val_loss: 0.2443\n",
      "Epoch 5/50\n",
      "\u001b[1m267/267\u001b[0m \u001b[32m━━━━━━━━━━━━━━━━━━━━\u001b[0m\u001b[37m\u001b[0m \u001b[1m2s\u001b[0m 8ms/step - accuracy: 0.9013 - loss: 0.2916 - val_accuracy: 0.9325 - val_loss: 0.1940\n",
      "Epoch 6/50\n",
      "\u001b[1m267/267\u001b[0m \u001b[32m━━━━━━━━━━━━━━━━━━━━\u001b[0m\u001b[37m\u001b[0m \u001b[1m2s\u001b[0m 8ms/step - accuracy: 0.9119 - loss: 0.2587 - val_accuracy: 0.9339 - val_loss: 0.1879\n",
      "Epoch 7/50\n",
      "\u001b[1m267/267\u001b[0m \u001b[32m━━━━━━━━━━━━━━━━━━━━\u001b[0m\u001b[37m\u001b[0m \u001b[1m2s\u001b[0m 9ms/step - accuracy: 0.9281 - loss: 0.2251 - val_accuracy: 0.9311 - val_loss: 0.2079\n",
      "Epoch 8/50\n",
      "\u001b[1m267/267\u001b[0m \u001b[32m━━━━━━━━━━━━━━━━━━━━\u001b[0m\u001b[37m\u001b[0m \u001b[1m2s\u001b[0m 8ms/step - accuracy: 0.9329 - loss: 0.2002 - val_accuracy: 0.9320 - val_loss: 0.1976\n",
      "Epoch 9/50\n",
      "\u001b[1m267/267\u001b[0m \u001b[32m━━━━━━━━━━━━━━━━━━━━\u001b[0m\u001b[37m\u001b[0m \u001b[1m2s\u001b[0m 9ms/step - accuracy: 0.9332 - loss: 0.1892 - val_accuracy: 0.9442 - val_loss: 0.1696\n",
      "Epoch 10/50\n",
      "\u001b[1m267/267\u001b[0m \u001b[32m━━━━━━━━━━━━━━━━━━━━\u001b[0m\u001b[37m\u001b[0m \u001b[1m2s\u001b[0m 8ms/step - accuracy: 0.9386 - loss: 0.1784 - val_accuracy: 0.9470 - val_loss: 0.1621\n",
      "Epoch 11/50\n",
      "\u001b[1m267/267\u001b[0m \u001b[32m━━━━━━━━━━━━━━━━━━━━\u001b[0m\u001b[37m\u001b[0m \u001b[1m2s\u001b[0m 9ms/step - accuracy: 0.9441 - loss: 0.1564 - val_accuracy: 0.9470 - val_loss: 0.1717\n",
      "Epoch 12/50\n",
      "\u001b[1m267/267\u001b[0m \u001b[32m━━━━━━━━━━━━━━━━━━━━\u001b[0m\u001b[37m\u001b[0m \u001b[1m2s\u001b[0m 8ms/step - accuracy: 0.9490 - loss: 0.1462 - val_accuracy: 0.9517 - val_loss: 0.1657\n",
      "Epoch 13/50\n",
      "\u001b[1m267/267\u001b[0m \u001b[32m━━━━━━━━━━━━━━━━━━━━\u001b[0m\u001b[37m\u001b[0m \u001b[1m2s\u001b[0m 9ms/step - accuracy: 0.9550 - loss: 0.1290 - val_accuracy: 0.9569 - val_loss: 0.1722\n",
      "Epoch 14/50\n",
      "\u001b[1m267/267\u001b[0m \u001b[32m━━━━━━━━━━━━━━━━━━━━\u001b[0m\u001b[37m\u001b[0m \u001b[1m2s\u001b[0m 8ms/step - accuracy: 0.9576 - loss: 0.1266 - val_accuracy: 0.9517 - val_loss: 0.1545\n",
      "Epoch 15/50\n",
      "\u001b[1m267/267\u001b[0m \u001b[32m━━━━━━━━━━━━━━━━━━━━\u001b[0m\u001b[37m\u001b[0m \u001b[1m2s\u001b[0m 8ms/step - accuracy: 0.9592 - loss: 0.1173 - val_accuracy: 0.9602 - val_loss: 0.1390\n",
      "Epoch 16/50\n",
      "\u001b[1m267/267\u001b[0m \u001b[32m━━━━━━━━━━━━━━━━━━━━\u001b[0m\u001b[37m\u001b[0m \u001b[1m2s\u001b[0m 9ms/step - accuracy: 0.9577 - loss: 0.1177 - val_accuracy: 0.9611 - val_loss: 0.1307\n",
      "Epoch 17/50\n",
      "\u001b[1m267/267\u001b[0m \u001b[32m━━━━━━━━━━━━━━━━━━━━\u001b[0m\u001b[37m\u001b[0m \u001b[1m2s\u001b[0m 8ms/step - accuracy: 0.9610 - loss: 0.1149 - val_accuracy: 0.9625 - val_loss: 0.1342\n",
      "Epoch 18/50\n",
      "\u001b[1m267/267\u001b[0m \u001b[32m━━━━━━━━━━━━━━━━━━━━\u001b[0m\u001b[37m\u001b[0m \u001b[1m2s\u001b[0m 9ms/step - accuracy: 0.9700 - loss: 0.0949 - val_accuracy: 0.9536 - val_loss: 0.1696\n",
      "Epoch 19/50\n",
      "\u001b[1m267/267\u001b[0m \u001b[32m━━━━━━━━━━━━━━━━━━━━\u001b[0m\u001b[37m\u001b[0m \u001b[1m2s\u001b[0m 9ms/step - accuracy: 0.9607 - loss: 0.1185 - val_accuracy: 0.9592 - val_loss: 0.1752\n",
      "Epoch 20/50\n",
      "\u001b[1m267/267\u001b[0m \u001b[32m━━━━━━━━━━━━━━━━━━━━\u001b[0m\u001b[37m\u001b[0m \u001b[1m2s\u001b[0m 9ms/step - accuracy: 0.9670 - loss: 0.1041 - val_accuracy: 0.9587 - val_loss: 0.1564\n",
      "Epoch 21/50\n",
      "\u001b[1m267/267\u001b[0m \u001b[32m━━━━━━━━━━━━━━━━━━━━\u001b[0m\u001b[37m\u001b[0m \u001b[1m2s\u001b[0m 9ms/step - accuracy: 0.9632 - loss: 0.1040 - val_accuracy: 0.9587 - val_loss: 0.1431\n",
      "Epoch 22/50\n",
      "\u001b[1m267/267\u001b[0m \u001b[32m━━━━━━━━━━━━━━━━━━━━\u001b[0m\u001b[37m\u001b[0m \u001b[1m2s\u001b[0m 9ms/step - accuracy: 0.9724 - loss: 0.0827 - val_accuracy: 0.9658 - val_loss: 0.1237\n",
      "Epoch 23/50\n",
      "\u001b[1m267/267\u001b[0m \u001b[32m━━━━━━━━━━━━━━━━━━━━\u001b[0m\u001b[37m\u001b[0m \u001b[1m2s\u001b[0m 9ms/step - accuracy: 0.9715 - loss: 0.0853 - val_accuracy: 0.9616 - val_loss: 0.1343\n",
      "Epoch 24/50\n",
      "\u001b[1m267/267\u001b[0m \u001b[32m━━━━━━━━━━━━━━━━━━━━\u001b[0m\u001b[37m\u001b[0m \u001b[1m2s\u001b[0m 9ms/step - accuracy: 0.9753 - loss: 0.0816 - val_accuracy: 0.9709 - val_loss: 0.1054\n",
      "Epoch 25/50\n",
      "\u001b[1m267/267\u001b[0m \u001b[32m━━━━━━━━━━━━━━━━━━━━\u001b[0m\u001b[37m\u001b[0m \u001b[1m2s\u001b[0m 9ms/step - accuracy: 0.9796 - loss: 0.0645 - val_accuracy: 0.9616 - val_loss: 0.1591\n",
      "Epoch 26/50\n",
      "\u001b[1m267/267\u001b[0m \u001b[32m━━━━━━━━━━━━━━━━━━━━\u001b[0m\u001b[37m\u001b[0m \u001b[1m2s\u001b[0m 8ms/step - accuracy: 0.9786 - loss: 0.0558 - val_accuracy: 0.9691 - val_loss: 0.1344\n",
      "Epoch 27/50\n",
      "\u001b[1m267/267\u001b[0m \u001b[32m━━━━━━━━━━━━━━━━━━━━\u001b[0m\u001b[37m\u001b[0m \u001b[1m2s\u001b[0m 8ms/step - accuracy: 0.9685 - loss: 0.0888 - val_accuracy: 0.9662 - val_loss: 0.1288\n",
      "Epoch 28/50\n",
      "\u001b[1m267/267\u001b[0m \u001b[32m━━━━━━━━━━━━━━━━━━━━\u001b[0m\u001b[37m\u001b[0m \u001b[1m2s\u001b[0m 9ms/step - accuracy: 0.9759 - loss: 0.0735 - val_accuracy: 0.9672 - val_loss: 0.1203\n",
      "Epoch 29/50\n",
      "\u001b[1m267/267\u001b[0m \u001b[32m━━━━━━━━━━━━━━━━━━━━\u001b[0m\u001b[37m\u001b[0m \u001b[1m2s\u001b[0m 9ms/step - accuracy: 0.9777 - loss: 0.0670 - val_accuracy: 0.9648 - val_loss: 0.1430\n",
      "Epoch 30/50\n",
      "\u001b[1m267/267\u001b[0m \u001b[32m━━━━━━━━━━━━━━━━━━━━\u001b[0m\u001b[37m\u001b[0m \u001b[1m2s\u001b[0m 9ms/step - accuracy: 0.9774 - loss: 0.0695 - val_accuracy: 0.9662 - val_loss: 0.1331\n",
      "Epoch 31/50\n",
      "\u001b[1m267/267\u001b[0m \u001b[32m━━━━━━━━━━━━━━━━━━━━\u001b[0m\u001b[37m\u001b[0m \u001b[1m2s\u001b[0m 9ms/step - accuracy: 0.9824 - loss: 0.0526 - val_accuracy: 0.9672 - val_loss: 0.1393\n",
      "Epoch 32/50\n",
      "\u001b[1m267/267\u001b[0m \u001b[32m━━━━━━━━━━━━━━━━━━━━\u001b[0m\u001b[37m\u001b[0m \u001b[1m2s\u001b[0m 9ms/step - accuracy: 0.9802 - loss: 0.0580 - val_accuracy: 0.9686 - val_loss: 0.1283\n",
      "Epoch 33/50\n",
      "\u001b[1m267/267\u001b[0m \u001b[32m━━━━━━━━━━━━━━━━━━━━\u001b[0m\u001b[37m\u001b[0m \u001b[1m2s\u001b[0m 9ms/step - accuracy: 0.9834 - loss: 0.0510 - val_accuracy: 0.9700 - val_loss: 0.1346\n",
      "Epoch 34/50\n",
      "\u001b[1m267/267\u001b[0m \u001b[32m━━━━━━━━━━━━━━━━━━━━\u001b[0m\u001b[37m\u001b[0m \u001b[1m2s\u001b[0m 8ms/step - accuracy: 0.9834 - loss: 0.0520 - val_accuracy: 0.9686 - val_loss: 0.1392\n",
      "Epoch 35/50\n",
      "\u001b[1m267/267\u001b[0m \u001b[32m━━━━━━━━━━━━━━━━━━━━\u001b[0m\u001b[37m\u001b[0m \u001b[1m2s\u001b[0m 9ms/step - accuracy: 0.9846 - loss: 0.0461 - val_accuracy: 0.9653 - val_loss: 0.1619\n",
      "Epoch 36/50\n",
      "\u001b[1m267/267\u001b[0m \u001b[32m━━━━━━━━━━━━━━━━━━━━\u001b[0m\u001b[37m\u001b[0m \u001b[1m2s\u001b[0m 9ms/step - accuracy: 0.9783 - loss: 0.0686 - val_accuracy: 0.9634 - val_loss: 0.1573\n",
      "Epoch 37/50\n",
      "\u001b[1m267/267\u001b[0m \u001b[32m━━━━━━━━━━━━━━━━━━━━\u001b[0m\u001b[37m\u001b[0m \u001b[1m2s\u001b[0m 9ms/step - accuracy: 0.9853 - loss: 0.0447 - val_accuracy: 0.9639 - val_loss: 0.1621\n",
      "Epoch 38/50\n",
      "\u001b[1m267/267\u001b[0m \u001b[32m━━━━━━━━━━━━━━━━━━━━\u001b[0m\u001b[37m\u001b[0m \u001b[1m2s\u001b[0m 8ms/step - accuracy: 0.9786 - loss: 0.0608 - val_accuracy: 0.9691 - val_loss: 0.1456\n",
      "Epoch 39/50\n",
      "\u001b[1m267/267\u001b[0m \u001b[32m━━━━━━━━━━━━━━━━━━━━\u001b[0m\u001b[37m\u001b[0m \u001b[1m2s\u001b[0m 9ms/step - accuracy: 0.9837 - loss: 0.0491 - val_accuracy: 0.9691 - val_loss: 0.1521\n",
      "Epoch 40/50\n",
      "\u001b[1m267/267\u001b[0m \u001b[32m━━━━━━━━━━━━━━━━━━━━\u001b[0m\u001b[37m\u001b[0m \u001b[1m2s\u001b[0m 8ms/step - accuracy: 0.9819 - loss: 0.0566 - val_accuracy: 0.9737 - val_loss: 0.1156\n",
      "Epoch 41/50\n",
      "\u001b[1m267/267\u001b[0m \u001b[32m━━━━━━━━━━━━━━━━━━━━\u001b[0m\u001b[37m\u001b[0m \u001b[1m2s\u001b[0m 9ms/step - accuracy: 0.9838 - loss: 0.0526 - val_accuracy: 0.9686 - val_loss: 0.1358\n",
      "Epoch 42/50\n",
      "\u001b[1m267/267\u001b[0m \u001b[32m━━━━━━━━━━━━━━━━━━━━\u001b[0m\u001b[37m\u001b[0m \u001b[1m2s\u001b[0m 9ms/step - accuracy: 0.9824 - loss: 0.0506 - val_accuracy: 0.9648 - val_loss: 0.1514\n",
      "Epoch 43/50\n",
      "\u001b[1m267/267\u001b[0m \u001b[32m━━━━━━━━━━━━━━━━━━━━\u001b[0m\u001b[37m\u001b[0m \u001b[1m2s\u001b[0m 9ms/step - accuracy: 0.9835 - loss: 0.0536 - val_accuracy: 0.9677 - val_loss: 0.1404\n",
      "Epoch 44/50\n",
      "\u001b[1m267/267\u001b[0m \u001b[32m━━━━━━━━━━━━━━━━━━━━\u001b[0m\u001b[37m\u001b[0m \u001b[1m2s\u001b[0m 9ms/step - accuracy: 0.9880 - loss: 0.0366 - val_accuracy: 0.9742 - val_loss: 0.1144\n",
      "Epoch 45/50\n",
      "\u001b[1m267/267\u001b[0m \u001b[32m━━━━━━━━━━━━━━━━━━━━\u001b[0m\u001b[37m\u001b[0m \u001b[1m2s\u001b[0m 9ms/step - accuracy: 0.9874 - loss: 0.0343 - val_accuracy: 0.9681 - val_loss: 0.1487\n",
      "Epoch 46/50\n",
      "\u001b[1m267/267\u001b[0m \u001b[32m━━━━━━━━━━━━━━━━━━━━\u001b[0m\u001b[37m\u001b[0m \u001b[1m2s\u001b[0m 9ms/step - accuracy: 0.9842 - loss: 0.0498 - val_accuracy: 0.9695 - val_loss: 0.1216\n",
      "Epoch 47/50\n",
      "\u001b[1m267/267\u001b[0m \u001b[32m━━━━━━━━━━━━━━━━━━━━\u001b[0m\u001b[37m\u001b[0m \u001b[1m2s\u001b[0m 9ms/step - accuracy: 0.9878 - loss: 0.0377 - val_accuracy: 0.9686 - val_loss: 0.1292\n",
      "Epoch 48/50\n",
      "\u001b[1m267/267\u001b[0m \u001b[32m━━━━━━━━━━━━━━━━━━━━\u001b[0m\u001b[37m\u001b[0m \u001b[1m2s\u001b[0m 8ms/step - accuracy: 0.9902 - loss: 0.0307 - val_accuracy: 0.9672 - val_loss: 0.1508\n",
      "Epoch 49/50\n",
      "\u001b[1m267/267\u001b[0m \u001b[32m━━━━━━━━━━━━━━━━━━━━\u001b[0m\u001b[37m\u001b[0m \u001b[1m2s\u001b[0m 7ms/step - accuracy: 0.9787 - loss: 0.0598 - val_accuracy: 0.9780 - val_loss: 0.1026\n",
      "Epoch 50/50\n",
      "\u001b[1m267/267\u001b[0m \u001b[32m━━━━━━━━━━━━━━━━━━━━\u001b[0m\u001b[37m\u001b[0m \u001b[1m2s\u001b[0m 9ms/step - accuracy: 0.9854 - loss: 0.0459 - val_accuracy: 0.9691 - val_loss: 0.1491\n"
     ]
    },
    {
     "data": {
      "text/html": [],
      "text/plain": [
       "<IPython.core.display.HTML object>"
      ]
     },
     "metadata": {},
     "output_type": "display_data"
    },
    {
     "data": {
      "text/html": [
       "<br>    <style><br>        .wandb-row {<br>            display: flex;<br>            flex-direction: row;<br>            flex-wrap: wrap;<br>            justify-content: flex-start;<br>            width: 100%;<br>        }<br>        .wandb-col {<br>            display: flex;<br>            flex-direction: column;<br>            flex-basis: 100%;<br>            flex: 1;<br>            padding: 10px;<br>        }<br>    </style><br><div class=\"wandb-row\"><div class=\"wandb-col\"><h3>Run history:</h3><br/><table class=\"wandb\"><tr><td>train_accuracy</td><td>▁</td></tr><tr><td>train_loss</td><td>▁</td></tr><tr><td>val_accuracy</td><td>▁</td></tr><tr><td>val_loss</td><td>▁</td></tr></table><br/></div><div class=\"wandb-col\"><h3>Run summary:</h3><br/><table class=\"wandb\"><tr><td>train_accuracy</td><td>0.98464</td></tr><tr><td>train_loss</td><td>0.05015</td></tr><tr><td>val_accuracy</td><td>0.96906</td></tr><tr><td>val_loss</td><td>0.14908</td></tr></table><br/></div></div>"
      ],
      "text/plain": [
       "<IPython.core.display.HTML object>"
      ]
     },
     "metadata": {},
     "output_type": "display_data"
    },
    {
     "data": {
      "text/html": [
       " View run <strong style=\"color:#cdcd00\">comic-sweep-3</strong> at: <a href='https://wandb.ai/renan-florencio-unicamp/DriverBehavior/runs/0kvkdc3y' target=\"_blank\">https://wandb.ai/renan-florencio-unicamp/DriverBehavior/runs/0kvkdc3y</a><br> View project at: <a href='https://wandb.ai/renan-florencio-unicamp/DriverBehavior' target=\"_blank\">https://wandb.ai/renan-florencio-unicamp/DriverBehavior</a><br>Synced 5 W&B file(s), 0 media file(s), 0 artifact file(s) and 0 other file(s)"
      ],
      "text/plain": [
       "<IPython.core.display.HTML object>"
      ]
     },
     "metadata": {},
     "output_type": "display_data"
    },
    {
     "data": {
      "text/html": [
       "Find logs at: <code>./wandb/run-20250127_170724-0kvkdc3y/logs</code>"
      ],
      "text/plain": [
       "<IPython.core.display.HTML object>"
      ]
     },
     "metadata": {},
     "output_type": "display_data"
    },
    {
     "name": "stderr",
     "output_type": "stream",
     "text": [
      "\u001b[34m\u001b[1mwandb\u001b[0m: Sweep Agent: Waiting for job.\n",
      "\u001b[34m\u001b[1mwandb\u001b[0m: Job received.\n",
      "\u001b[34m\u001b[1mwandb\u001b[0m: Agent Starting Run: d08g61w2 with config:\n",
      "\u001b[34m\u001b[1mwandb\u001b[0m: \tbatch_size: 64\n",
      "\u001b[34m\u001b[1mwandb\u001b[0m: \tepochs: 10\n"
     ]
    },
    {
     "data": {
      "text/html": [
       "Ignoring project 'DriverBehavior' when running a sweep."
      ],
      "text/plain": [
       "<IPython.core.display.HTML object>"
      ]
     },
     "metadata": {},
     "output_type": "display_data"
    },
    {
     "data": {
      "text/html": [
       "Tracking run with wandb version 0.19.4"
      ],
      "text/plain": [
       "<IPython.core.display.HTML object>"
      ]
     },
     "metadata": {},
     "output_type": "display_data"
    },
    {
     "data": {
      "text/html": [
       "Run data is saved locally in <code>/home/renan/Documents/datasets/dbdataset/wandb/run-20250127_170934-d08g61w2</code>"
      ],
      "text/plain": [
       "<IPython.core.display.HTML object>"
      ]
     },
     "metadata": {},
     "output_type": "display_data"
    },
    {
     "data": {
      "text/html": [
       "Syncing run <strong><a href='https://wandb.ai/renan-florencio-unicamp/DriverBehavior/runs/d08g61w2' target=\"_blank\">avid-sweep-4</a></strong> to <a href='https://wandb.ai/renan-florencio-unicamp/DriverBehavior' target=\"_blank\">Weights & Biases</a> (<a href='https://wandb.me/developer-guide' target=\"_blank\">docs</a>)<br>Sweep page: <a href='https://wandb.ai/renan-florencio-unicamp/DriverBehavior/sweeps/gut8lurp' target=\"_blank\">https://wandb.ai/renan-florencio-unicamp/DriverBehavior/sweeps/gut8lurp</a>"
      ],
      "text/plain": [
       "<IPython.core.display.HTML object>"
      ]
     },
     "metadata": {},
     "output_type": "display_data"
    },
    {
     "data": {
      "text/html": [
       " View project at <a href='https://wandb.ai/renan-florencio-unicamp/DriverBehavior' target=\"_blank\">https://wandb.ai/renan-florencio-unicamp/DriverBehavior</a>"
      ],
      "text/plain": [
       "<IPython.core.display.HTML object>"
      ]
     },
     "metadata": {},
     "output_type": "display_data"
    },
    {
     "data": {
      "text/html": [
       " View sweep at <a href='https://wandb.ai/renan-florencio-unicamp/DriverBehavior/sweeps/gut8lurp' target=\"_blank\">https://wandb.ai/renan-florencio-unicamp/DriverBehavior/sweeps/gut8lurp</a>"
      ],
      "text/plain": [
       "<IPython.core.display.HTML object>"
      ]
     },
     "metadata": {},
     "output_type": "display_data"
    },
    {
     "data": {
      "text/html": [
       " View run at <a href='https://wandb.ai/renan-florencio-unicamp/DriverBehavior/runs/d08g61w2' target=\"_blank\">https://wandb.ai/renan-florencio-unicamp/DriverBehavior/runs/d08g61w2</a>"
      ],
      "text/plain": [
       "<IPython.core.display.HTML object>"
      ]
     },
     "metadata": {},
     "output_type": "display_data"
    },
    {
     "name": "stdout",
     "output_type": "stream",
     "text": [
      "Epoch 1/10\n",
      "\u001b[1m134/134\u001b[0m \u001b[32m━━━━━━━━━━━━━━━━━━━━\u001b[0m\u001b[37m\u001b[0m \u001b[1m3s\u001b[0m 13ms/step - accuracy: 0.5378 - loss: 1.3229 - val_accuracy: 0.8411 - val_loss: 0.4789\n",
      "Epoch 2/10\n",
      "\u001b[1m134/134\u001b[0m \u001b[32m━━━━━━━━━━━━━━━━━━━━\u001b[0m\u001b[37m\u001b[0m \u001b[1m1s\u001b[0m 10ms/step - accuracy: 0.7916 - loss: 0.6135 - val_accuracy: 0.8800 - val_loss: 0.3742\n",
      "Epoch 3/10\n",
      "\u001b[1m134/134\u001b[0m \u001b[32m━━━━━━━━━━━━━━━━━━━━\u001b[0m\u001b[37m\u001b[0m \u001b[1m1s\u001b[0m 10ms/step - accuracy: 0.8456 - loss: 0.4658 - val_accuracy: 0.8940 - val_loss: 0.3051\n",
      "Epoch 4/10\n",
      "\u001b[1m134/134\u001b[0m \u001b[32m━━━━━━━━━━━━━━━━━━━━\u001b[0m\u001b[37m\u001b[0m \u001b[1m2s\u001b[0m 12ms/step - accuracy: 0.8715 - loss: 0.3706 - val_accuracy: 0.9142 - val_loss: 0.2714\n",
      "Epoch 5/10\n",
      "\u001b[1m134/134\u001b[0m \u001b[32m━━━━━━━━━━━━━━━━━━━━\u001b[0m\u001b[37m\u001b[0m \u001b[1m2s\u001b[0m 11ms/step - accuracy: 0.8868 - loss: 0.3160 - val_accuracy: 0.9194 - val_loss: 0.2285\n",
      "Epoch 6/10\n",
      "\u001b[1m134/134\u001b[0m \u001b[32m━━━━━━━━━━━━━━━━━━━━\u001b[0m\u001b[37m\u001b[0m \u001b[1m1s\u001b[0m 10ms/step - accuracy: 0.9072 - loss: 0.2706 - val_accuracy: 0.9264 - val_loss: 0.2345\n",
      "Epoch 7/10\n",
      "\u001b[1m134/134\u001b[0m \u001b[32m━━━━━━━━━━━━━━━━━━━━\u001b[0m\u001b[37m\u001b[0m \u001b[1m1s\u001b[0m 11ms/step - accuracy: 0.9097 - loss: 0.2654 - val_accuracy: 0.9269 - val_loss: 0.2283\n",
      "Epoch 8/10\n",
      "\u001b[1m134/134\u001b[0m \u001b[32m━━━━━━━━━━━━━━━━━━━━\u001b[0m\u001b[37m\u001b[0m \u001b[1m2s\u001b[0m 11ms/step - accuracy: 0.9226 - loss: 0.2317 - val_accuracy: 0.9273 - val_loss: 0.2224\n",
      "Epoch 9/10\n",
      "\u001b[1m134/134\u001b[0m \u001b[32m━━━━━━━━━━━━━━━━━━━━\u001b[0m\u001b[37m\u001b[0m \u001b[1m2s\u001b[0m 11ms/step - accuracy: 0.9333 - loss: 0.2034 - val_accuracy: 0.9409 - val_loss: 0.1752\n",
      "Epoch 10/10\n",
      "\u001b[1m134/134\u001b[0m \u001b[32m━━━━━━━━━━━━━━━━━━━━\u001b[0m\u001b[37m\u001b[0m \u001b[1m2s\u001b[0m 11ms/step - accuracy: 0.9409 - loss: 0.1826 - val_accuracy: 0.9381 - val_loss: 0.2076\n"
     ]
    },
    {
     "data": {
      "text/html": [],
      "text/plain": [
       "<IPython.core.display.HTML object>"
      ]
     },
     "metadata": {},
     "output_type": "display_data"
    },
    {
     "data": {
      "text/html": [
       "<br>    <style><br>        .wandb-row {<br>            display: flex;<br>            flex-direction: row;<br>            flex-wrap: wrap;<br>            justify-content: flex-start;<br>            width: 100%;<br>        }<br>        .wandb-col {<br>            display: flex;<br>            flex-direction: column;<br>            flex-basis: 100%;<br>            flex: 1;<br>            padding: 10px;<br>        }<br>    </style><br><div class=\"wandb-row\"><div class=\"wandb-col\"><h3>Run history:</h3><br/><table class=\"wandb\"><tr><td>train_accuracy</td><td>▁</td></tr><tr><td>train_loss</td><td>▁</td></tr><tr><td>val_accuracy</td><td>▁</td></tr><tr><td>val_loss</td><td>▁</td></tr></table><br/></div><div class=\"wandb-col\"><h3>Run summary:</h3><br/><table class=\"wandb\"><tr><td>train_accuracy</td><td>0.9381</td></tr><tr><td>train_loss</td><td>0.18065</td></tr><tr><td>val_accuracy</td><td>0.93812</td></tr><tr><td>val_loss</td><td>0.20765</td></tr></table><br/></div></div>"
      ],
      "text/plain": [
       "<IPython.core.display.HTML object>"
      ]
     },
     "metadata": {},
     "output_type": "display_data"
    },
    {
     "data": {
      "text/html": [
       " View run <strong style=\"color:#cdcd00\">avid-sweep-4</strong> at: <a href='https://wandb.ai/renan-florencio-unicamp/DriverBehavior/runs/d08g61w2' target=\"_blank\">https://wandb.ai/renan-florencio-unicamp/DriverBehavior/runs/d08g61w2</a><br> View project at: <a href='https://wandb.ai/renan-florencio-unicamp/DriverBehavior' target=\"_blank\">https://wandb.ai/renan-florencio-unicamp/DriverBehavior</a><br>Synced 5 W&B file(s), 0 media file(s), 0 artifact file(s) and 0 other file(s)"
      ],
      "text/plain": [
       "<IPython.core.display.HTML object>"
      ]
     },
     "metadata": {},
     "output_type": "display_data"
    },
    {
     "data": {
      "text/html": [
       "Find logs at: <code>./wandb/run-20250127_170934-d08g61w2/logs</code>"
      ],
      "text/plain": [
       "<IPython.core.display.HTML object>"
      ]
     },
     "metadata": {},
     "output_type": "display_data"
    },
    {
     "name": "stderr",
     "output_type": "stream",
     "text": [
      "\u001b[34m\u001b[1mwandb\u001b[0m: Agent Starting Run: 3znzxxqe with config:\n",
      "\u001b[34m\u001b[1mwandb\u001b[0m: \tbatch_size: 64\n",
      "\u001b[34m\u001b[1mwandb\u001b[0m: \tepochs: 25\n"
     ]
    },
    {
     "data": {
      "text/html": [
       "Ignoring project 'DriverBehavior' when running a sweep."
      ],
      "text/plain": [
       "<IPython.core.display.HTML object>"
      ]
     },
     "metadata": {},
     "output_type": "display_data"
    },
    {
     "data": {
      "text/html": [
       "Tracking run with wandb version 0.19.4"
      ],
      "text/plain": [
       "<IPython.core.display.HTML object>"
      ]
     },
     "metadata": {},
     "output_type": "display_data"
    },
    {
     "data": {
      "text/html": [
       "Run data is saved locally in <code>/home/renan/Documents/datasets/dbdataset/wandb/run-20250127_170956-3znzxxqe</code>"
      ],
      "text/plain": [
       "<IPython.core.display.HTML object>"
      ]
     },
     "metadata": {},
     "output_type": "display_data"
    },
    {
     "data": {
      "text/html": [
       "Syncing run <strong><a href='https://wandb.ai/renan-florencio-unicamp/DriverBehavior/runs/3znzxxqe' target=\"_blank\">honest-sweep-5</a></strong> to <a href='https://wandb.ai/renan-florencio-unicamp/DriverBehavior' target=\"_blank\">Weights & Biases</a> (<a href='https://wandb.me/developer-guide' target=\"_blank\">docs</a>)<br>Sweep page: <a href='https://wandb.ai/renan-florencio-unicamp/DriverBehavior/sweeps/gut8lurp' target=\"_blank\">https://wandb.ai/renan-florencio-unicamp/DriverBehavior/sweeps/gut8lurp</a>"
      ],
      "text/plain": [
       "<IPython.core.display.HTML object>"
      ]
     },
     "metadata": {},
     "output_type": "display_data"
    },
    {
     "data": {
      "text/html": [
       " View project at <a href='https://wandb.ai/renan-florencio-unicamp/DriverBehavior' target=\"_blank\">https://wandb.ai/renan-florencio-unicamp/DriverBehavior</a>"
      ],
      "text/plain": [
       "<IPython.core.display.HTML object>"
      ]
     },
     "metadata": {},
     "output_type": "display_data"
    },
    {
     "data": {
      "text/html": [
       " View sweep at <a href='https://wandb.ai/renan-florencio-unicamp/DriverBehavior/sweeps/gut8lurp' target=\"_blank\">https://wandb.ai/renan-florencio-unicamp/DriverBehavior/sweeps/gut8lurp</a>"
      ],
      "text/plain": [
       "<IPython.core.display.HTML object>"
      ]
     },
     "metadata": {},
     "output_type": "display_data"
    },
    {
     "data": {
      "text/html": [
       " View run at <a href='https://wandb.ai/renan-florencio-unicamp/DriverBehavior/runs/3znzxxqe' target=\"_blank\">https://wandb.ai/renan-florencio-unicamp/DriverBehavior/runs/3znzxxqe</a>"
      ],
      "text/plain": [
       "<IPython.core.display.HTML object>"
      ]
     },
     "metadata": {},
     "output_type": "display_data"
    },
    {
     "name": "stdout",
     "output_type": "stream",
     "text": [
      "Epoch 1/25\n",
      "\u001b[1m134/134\u001b[0m \u001b[32m━━━━━━━━━━━━━━━━━━━━\u001b[0m\u001b[37m\u001b[0m \u001b[1m3s\u001b[0m 12ms/step - accuracy: 0.5303 - loss: 1.3739 - val_accuracy: 0.8284 - val_loss: 0.4927\n",
      "Epoch 2/25\n",
      "\u001b[1m134/134\u001b[0m \u001b[32m━━━━━━━━━━━━━━━━━━━━\u001b[0m\u001b[37m\u001b[0m \u001b[1m1s\u001b[0m 11ms/step - accuracy: 0.7891 - loss: 0.6302 - val_accuracy: 0.8861 - val_loss: 0.3421\n",
      "Epoch 3/25\n",
      "\u001b[1m134/134\u001b[0m \u001b[32m━━━━━━━━━━━━━━━━━━━━\u001b[0m\u001b[37m\u001b[0m \u001b[1m2s\u001b[0m 11ms/step - accuracy: 0.8476 - loss: 0.4627 - val_accuracy: 0.9062 - val_loss: 0.2701\n",
      "Epoch 4/25\n",
      "\u001b[1m134/134\u001b[0m \u001b[32m━━━━━━━━━━━━━━━━━━━━\u001b[0m\u001b[37m\u001b[0m \u001b[1m2s\u001b[0m 12ms/step - accuracy: 0.8704 - loss: 0.3736 - val_accuracy: 0.9128 - val_loss: 0.2540\n",
      "Epoch 5/25\n",
      "\u001b[1m134/134\u001b[0m \u001b[32m━━━━━━━━━━━━━━━━━━━━\u001b[0m\u001b[37m\u001b[0m \u001b[1m1s\u001b[0m 10ms/step - accuracy: 0.8964 - loss: 0.3067 - val_accuracy: 0.9353 - val_loss: 0.2168\n",
      "Epoch 6/25\n",
      "\u001b[1m134/134\u001b[0m \u001b[32m━━━━━━━━━━━━━━━━━━━━\u001b[0m\u001b[37m\u001b[0m \u001b[1m2s\u001b[0m 12ms/step - accuracy: 0.9021 - loss: 0.2856 - val_accuracy: 0.9301 - val_loss: 0.2212\n",
      "Epoch 7/25\n",
      "\u001b[1m134/134\u001b[0m \u001b[32m━━━━━━━━━━━━━━━━━━━━\u001b[0m\u001b[37m\u001b[0m \u001b[1m2s\u001b[0m 11ms/step - accuracy: 0.9150 - loss: 0.2466 - val_accuracy: 0.9344 - val_loss: 0.1897\n",
      "Epoch 8/25\n",
      "\u001b[1m134/134\u001b[0m \u001b[32m━━━━━━━━━━━━━━━━━━━━\u001b[0m\u001b[37m\u001b[0m \u001b[1m2s\u001b[0m 11ms/step - accuracy: 0.9222 - loss: 0.2165 - val_accuracy: 0.9395 - val_loss: 0.1987\n",
      "Epoch 9/25\n",
      "\u001b[1m134/134\u001b[0m \u001b[32m━━━━━━━━━━━━━━━━━━━━\u001b[0m\u001b[37m\u001b[0m \u001b[1m2s\u001b[0m 12ms/step - accuracy: 0.9293 - loss: 0.2072 - val_accuracy: 0.9447 - val_loss: 0.1678\n",
      "Epoch 10/25\n",
      "\u001b[1m134/134\u001b[0m \u001b[32m━━━━━━━━━━━━━━━━━━━━\u001b[0m\u001b[37m\u001b[0m \u001b[1m1s\u001b[0m 10ms/step - accuracy: 0.9380 - loss: 0.1773 - val_accuracy: 0.9484 - val_loss: 0.1582\n",
      "Epoch 11/25\n",
      "\u001b[1m134/134\u001b[0m \u001b[32m━━━━━━━━━━━━━━━━━━━━\u001b[0m\u001b[37m\u001b[0m \u001b[1m2s\u001b[0m 11ms/step - accuracy: 0.9486 - loss: 0.1531 - val_accuracy: 0.9555 - val_loss: 0.1470\n",
      "Epoch 12/25\n",
      "\u001b[1m134/134\u001b[0m \u001b[32m━━━━━━━━━━━━━━━━━━━━\u001b[0m\u001b[37m\u001b[0m \u001b[1m1s\u001b[0m 11ms/step - accuracy: 0.9404 - loss: 0.1670 - val_accuracy: 0.9545 - val_loss: 0.1485\n",
      "Epoch 13/25\n",
      "\u001b[1m134/134\u001b[0m \u001b[32m━━━━━━━━━━━━━━━━━━━━\u001b[0m\u001b[37m\u001b[0m \u001b[1m1s\u001b[0m 10ms/step - accuracy: 0.9451 - loss: 0.1544 - val_accuracy: 0.9545 - val_loss: 0.1434\n",
      "Epoch 14/25\n",
      "\u001b[1m134/134\u001b[0m \u001b[32m━━━━━━━━━━━━━━━━━━━━\u001b[0m\u001b[37m\u001b[0m \u001b[1m2s\u001b[0m 11ms/step - accuracy: 0.9534 - loss: 0.1360 - val_accuracy: 0.9475 - val_loss: 0.1704\n",
      "Epoch 15/25\n",
      "\u001b[1m134/134\u001b[0m \u001b[32m━━━━━━━━━━━━━━━━━━━━\u001b[0m\u001b[37m\u001b[0m \u001b[1m1s\u001b[0m 11ms/step - accuracy: 0.9555 - loss: 0.1275 - val_accuracy: 0.9536 - val_loss: 0.1640\n",
      "Epoch 16/25\n",
      "\u001b[1m134/134\u001b[0m \u001b[32m━━━━━━━━━━━━━━━━━━━━\u001b[0m\u001b[37m\u001b[0m \u001b[1m1s\u001b[0m 10ms/step - accuracy: 0.9579 - loss: 0.1236 - val_accuracy: 0.9526 - val_loss: 0.1496\n",
      "Epoch 17/25\n",
      "\u001b[1m134/134\u001b[0m \u001b[32m━━━━━━━━━━━━━━━━━━━━\u001b[0m\u001b[37m\u001b[0m \u001b[1m2s\u001b[0m 11ms/step - accuracy: 0.9615 - loss: 0.1203 - val_accuracy: 0.9550 - val_loss: 0.1503\n",
      "Epoch 18/25\n",
      "\u001b[1m134/134\u001b[0m \u001b[32m━━━━━━━━━━━━━━━━━━━━\u001b[0m\u001b[37m\u001b[0m \u001b[1m1s\u001b[0m 10ms/step - accuracy: 0.9574 - loss: 0.1238 - val_accuracy: 0.9597 - val_loss: 0.1432\n",
      "Epoch 19/25\n",
      "\u001b[1m134/134\u001b[0m \u001b[32m━━━━━━━━━━━━━━━━━━━━\u001b[0m\u001b[37m\u001b[0m \u001b[1m1s\u001b[0m 10ms/step - accuracy: 0.9664 - loss: 0.0979 - val_accuracy: 0.9559 - val_loss: 0.1527\n",
      "Epoch 20/25\n",
      "\u001b[1m134/134\u001b[0m \u001b[32m━━━━━━━━━━━━━━━━━━━━\u001b[0m\u001b[37m\u001b[0m \u001b[1m1s\u001b[0m 11ms/step - accuracy: 0.9740 - loss: 0.0858 - val_accuracy: 0.9662 - val_loss: 0.1348\n",
      "Epoch 21/25\n",
      "\u001b[1m134/134\u001b[0m \u001b[32m━━━━━━━━━━━━━━━━━━━━\u001b[0m\u001b[37m\u001b[0m \u001b[1m2s\u001b[0m 12ms/step - accuracy: 0.9693 - loss: 0.0891 - val_accuracy: 0.9555 - val_loss: 0.1580\n",
      "Epoch 22/25\n",
      "\u001b[1m134/134\u001b[0m \u001b[32m━━━━━━━━━━━━━━━━━━━━\u001b[0m\u001b[37m\u001b[0m \u001b[1m1s\u001b[0m 11ms/step - accuracy: 0.9713 - loss: 0.0832 - val_accuracy: 0.9616 - val_loss: 0.1320\n",
      "Epoch 23/25\n",
      "\u001b[1m134/134\u001b[0m \u001b[32m━━━━━━━━━━━━━━━━━━━━\u001b[0m\u001b[37m\u001b[0m \u001b[1m1s\u001b[0m 11ms/step - accuracy: 0.9726 - loss: 0.0836 - val_accuracy: 0.9653 - val_loss: 0.1245\n",
      "Epoch 24/25\n",
      "\u001b[1m134/134\u001b[0m \u001b[32m━━━━━━━━━━━━━━━━━━━━\u001b[0m\u001b[37m\u001b[0m \u001b[1m1s\u001b[0m 10ms/step - accuracy: 0.9721 - loss: 0.0826 - val_accuracy: 0.9541 - val_loss: 0.1645\n",
      "Epoch 25/25\n",
      "\u001b[1m134/134\u001b[0m \u001b[32m━━━━━━━━━━━━━━━━━━━━\u001b[0m\u001b[37m\u001b[0m \u001b[1m1s\u001b[0m 10ms/step - accuracy: 0.9702 - loss: 0.0917 - val_accuracy: 0.9550 - val_loss: 0.1595\n"
     ]
    },
    {
     "data": {
      "text/html": [],
      "text/plain": [
       "<IPython.core.display.HTML object>"
      ]
     },
     "metadata": {},
     "output_type": "display_data"
    },
    {
     "data": {
      "text/html": [
       "<br>    <style><br>        .wandb-row {<br>            display: flex;<br>            flex-direction: row;<br>            flex-wrap: wrap;<br>            justify-content: flex-start;<br>            width: 100%;<br>        }<br>        .wandb-col {<br>            display: flex;<br>            flex-direction: column;<br>            flex-basis: 100%;<br>            flex: 1;<br>            padding: 10px;<br>        }<br>    </style><br><div class=\"wandb-row\"><div class=\"wandb-col\"><h3>Run history:</h3><br/><table class=\"wandb\"><tr><td>train_accuracy</td><td>▁</td></tr><tr><td>train_loss</td><td>▁</td></tr><tr><td>val_accuracy</td><td>▁</td></tr><tr><td>val_loss</td><td>▁</td></tr></table><br/></div><div class=\"wandb-col\"><h3>Run summary:</h3><br/><table class=\"wandb\"><tr><td>train_accuracy</td><td>0.97304</td></tr><tr><td>train_loss</td><td>0.08219</td></tr><tr><td>val_accuracy</td><td>0.95499</td></tr><tr><td>val_loss</td><td>0.1595</td></tr></table><br/></div></div>"
      ],
      "text/plain": [
       "<IPython.core.display.HTML object>"
      ]
     },
     "metadata": {},
     "output_type": "display_data"
    },
    {
     "data": {
      "text/html": [
       " View run <strong style=\"color:#cdcd00\">honest-sweep-5</strong> at: <a href='https://wandb.ai/renan-florencio-unicamp/DriverBehavior/runs/3znzxxqe' target=\"_blank\">https://wandb.ai/renan-florencio-unicamp/DriverBehavior/runs/3znzxxqe</a><br> View project at: <a href='https://wandb.ai/renan-florencio-unicamp/DriverBehavior' target=\"_blank\">https://wandb.ai/renan-florencio-unicamp/DriverBehavior</a><br>Synced 5 W&B file(s), 0 media file(s), 0 artifact file(s) and 0 other file(s)"
      ],
      "text/plain": [
       "<IPython.core.display.HTML object>"
      ]
     },
     "metadata": {},
     "output_type": "display_data"
    },
    {
     "data": {
      "text/html": [
       "Find logs at: <code>./wandb/run-20250127_170956-3znzxxqe/logs</code>"
      ],
      "text/plain": [
       "<IPython.core.display.HTML object>"
      ]
     },
     "metadata": {},
     "output_type": "display_data"
    },
    {
     "name": "stderr",
     "output_type": "stream",
     "text": [
      "\u001b[34m\u001b[1mwandb\u001b[0m: Agent Starting Run: fp4pjgab with config:\n",
      "\u001b[34m\u001b[1mwandb\u001b[0m: \tbatch_size: 64\n",
      "\u001b[34m\u001b[1mwandb\u001b[0m: \tepochs: 50\n"
     ]
    },
    {
     "data": {
      "text/html": [
       "Ignoring project 'DriverBehavior' when running a sweep."
      ],
      "text/plain": [
       "<IPython.core.display.HTML object>"
      ]
     },
     "metadata": {},
     "output_type": "display_data"
    },
    {
     "data": {
      "text/html": [
       "Tracking run with wandb version 0.19.4"
      ],
      "text/plain": [
       "<IPython.core.display.HTML object>"
      ]
     },
     "metadata": {},
     "output_type": "display_data"
    },
    {
     "data": {
      "text/html": [
       "Run data is saved locally in <code>/home/renan/Documents/datasets/dbdataset/wandb/run-20250127_171043-fp4pjgab</code>"
      ],
      "text/plain": [
       "<IPython.core.display.HTML object>"
      ]
     },
     "metadata": {},
     "output_type": "display_data"
    },
    {
     "data": {
      "text/html": [
       "Syncing run <strong><a href='https://wandb.ai/renan-florencio-unicamp/DriverBehavior/runs/fp4pjgab' target=\"_blank\">polished-sweep-6</a></strong> to <a href='https://wandb.ai/renan-florencio-unicamp/DriverBehavior' target=\"_blank\">Weights & Biases</a> (<a href='https://wandb.me/developer-guide' target=\"_blank\">docs</a>)<br>Sweep page: <a href='https://wandb.ai/renan-florencio-unicamp/DriverBehavior/sweeps/gut8lurp' target=\"_blank\">https://wandb.ai/renan-florencio-unicamp/DriverBehavior/sweeps/gut8lurp</a>"
      ],
      "text/plain": [
       "<IPython.core.display.HTML object>"
      ]
     },
     "metadata": {},
     "output_type": "display_data"
    },
    {
     "data": {
      "text/html": [
       " View project at <a href='https://wandb.ai/renan-florencio-unicamp/DriverBehavior' target=\"_blank\">https://wandb.ai/renan-florencio-unicamp/DriverBehavior</a>"
      ],
      "text/plain": [
       "<IPython.core.display.HTML object>"
      ]
     },
     "metadata": {},
     "output_type": "display_data"
    },
    {
     "data": {
      "text/html": [
       " View sweep at <a href='https://wandb.ai/renan-florencio-unicamp/DriverBehavior/sweeps/gut8lurp' target=\"_blank\">https://wandb.ai/renan-florencio-unicamp/DriverBehavior/sweeps/gut8lurp</a>"
      ],
      "text/plain": [
       "<IPython.core.display.HTML object>"
      ]
     },
     "metadata": {},
     "output_type": "display_data"
    },
    {
     "data": {
      "text/html": [
       " View run at <a href='https://wandb.ai/renan-florencio-unicamp/DriverBehavior/runs/fp4pjgab' target=\"_blank\">https://wandb.ai/renan-florencio-unicamp/DriverBehavior/runs/fp4pjgab</a>"
      ],
      "text/plain": [
       "<IPython.core.display.HTML object>"
      ]
     },
     "metadata": {},
     "output_type": "display_data"
    },
    {
     "name": "stdout",
     "output_type": "stream",
     "text": [
      "Epoch 1/50\n",
      "\u001b[1m134/134\u001b[0m \u001b[32m━━━━━━━━━━━━━━━━━━━━\u001b[0m\u001b[37m\u001b[0m \u001b[1m3s\u001b[0m 12ms/step - accuracy: 0.5314 - loss: 1.3547 - val_accuracy: 0.8383 - val_loss: 0.4747\n",
      "Epoch 2/50\n",
      "\u001b[1m134/134\u001b[0m \u001b[32m━━━━━━━━━━━━━━━━━━━━\u001b[0m\u001b[37m\u001b[0m \u001b[1m1s\u001b[0m 11ms/step - accuracy: 0.7909 - loss: 0.6286 - val_accuracy: 0.8758 - val_loss: 0.3519\n",
      "Epoch 3/50\n",
      "\u001b[1m134/134\u001b[0m \u001b[32m━━━━━━━━━━━━━━━━━━━━\u001b[0m\u001b[37m\u001b[0m \u001b[1m2s\u001b[0m 11ms/step - accuracy: 0.8467 - loss: 0.4483 - val_accuracy: 0.8987 - val_loss: 0.3067\n",
      "Epoch 4/50\n",
      "\u001b[1m134/134\u001b[0m \u001b[32m━━━━━━━━━━━━━━━━━━━━\u001b[0m\u001b[37m\u001b[0m \u001b[1m2s\u001b[0m 11ms/step - accuracy: 0.8765 - loss: 0.3713 - val_accuracy: 0.9137 - val_loss: 0.2837\n",
      "Epoch 5/50\n",
      "\u001b[1m134/134\u001b[0m \u001b[32m━━━━━━━━━━━━━━━━━━━━\u001b[0m\u001b[37m\u001b[0m \u001b[1m1s\u001b[0m 11ms/step - accuracy: 0.8964 - loss: 0.3163 - val_accuracy: 0.9142 - val_loss: 0.2376\n",
      "Epoch 6/50\n",
      "\u001b[1m134/134\u001b[0m \u001b[32m━━━━━━━━━━━━━━━━━━━━\u001b[0m\u001b[37m\u001b[0m \u001b[1m2s\u001b[0m 12ms/step - accuracy: 0.9013 - loss: 0.2960 - val_accuracy: 0.9241 - val_loss: 0.2351\n",
      "Epoch 7/50\n",
      "\u001b[1m134/134\u001b[0m \u001b[32m━━━━━━━━━━━━━━━━━━━━\u001b[0m\u001b[37m\u001b[0m \u001b[1m1s\u001b[0m 11ms/step - accuracy: 0.9158 - loss: 0.2411 - val_accuracy: 0.9241 - val_loss: 0.2200\n",
      "Epoch 8/50\n",
      "\u001b[1m134/134\u001b[0m \u001b[32m━━━━━━━━━━━━━━━━━━━━\u001b[0m\u001b[37m\u001b[0m \u001b[1m1s\u001b[0m 9ms/step - accuracy: 0.9256 - loss: 0.2233 - val_accuracy: 0.9437 - val_loss: 0.1774\n",
      "Epoch 9/50\n",
      "\u001b[1m134/134\u001b[0m \u001b[32m━━━━━━━━━━━━━━━━━━━━\u001b[0m\u001b[37m\u001b[0m \u001b[1m2s\u001b[0m 11ms/step - accuracy: 0.9367 - loss: 0.1891 - val_accuracy: 0.9423 - val_loss: 0.1757\n",
      "Epoch 10/50\n",
      "\u001b[1m134/134\u001b[0m \u001b[32m━━━━━━━━━━━━━━━━━━━━\u001b[0m\u001b[37m\u001b[0m \u001b[1m1s\u001b[0m 11ms/step - accuracy: 0.9371 - loss: 0.1818 - val_accuracy: 0.9475 - val_loss: 0.1861\n",
      "Epoch 11/50\n",
      "\u001b[1m134/134\u001b[0m \u001b[32m━━━━━━━━━━━━━━━━━━━━\u001b[0m\u001b[37m\u001b[0m \u001b[1m1s\u001b[0m 11ms/step - accuracy: 0.9517 - loss: 0.1436 - val_accuracy: 0.9409 - val_loss: 0.1745\n",
      "Epoch 12/50\n",
      "\u001b[1m134/134\u001b[0m \u001b[32m━━━━━━━━━━━━━━━━━━━━\u001b[0m\u001b[37m\u001b[0m \u001b[1m2s\u001b[0m 11ms/step - accuracy: 0.9504 - loss: 0.1459 - val_accuracy: 0.9526 - val_loss: 0.1615\n",
      "Epoch 13/50\n",
      "\u001b[1m134/134\u001b[0m \u001b[32m━━━━━━━━━━━━━━━━━━━━\u001b[0m\u001b[37m\u001b[0m \u001b[1m1s\u001b[0m 11ms/step - accuracy: 0.9495 - loss: 0.1455 - val_accuracy: 0.9512 - val_loss: 0.1688\n",
      "Epoch 14/50\n",
      "\u001b[1m134/134\u001b[0m \u001b[32m━━━━━━━━━━━━━━━━━━━━\u001b[0m\u001b[37m\u001b[0m \u001b[1m2s\u001b[0m 11ms/step - accuracy: 0.9534 - loss: 0.1312 - val_accuracy: 0.9569 - val_loss: 0.1587\n",
      "Epoch 15/50\n",
      "\u001b[1m134/134\u001b[0m \u001b[32m━━━━━━━━━━━━━━━━━━━━\u001b[0m\u001b[37m\u001b[0m \u001b[1m1s\u001b[0m 11ms/step - accuracy: 0.9522 - loss: 0.1387 - val_accuracy: 0.9503 - val_loss: 0.1807\n",
      "Epoch 16/50\n",
      "\u001b[1m134/134\u001b[0m \u001b[32m━━━━━━━━━━━━━━━━━━━━\u001b[0m\u001b[37m\u001b[0m \u001b[1m1s\u001b[0m 10ms/step - accuracy: 0.9635 - loss: 0.1086 - val_accuracy: 0.9517 - val_loss: 0.1966\n",
      "Epoch 17/50\n",
      "\u001b[1m134/134\u001b[0m \u001b[32m━━━━━━━━━━━━━━━━━━━━\u001b[0m\u001b[37m\u001b[0m \u001b[1m1s\u001b[0m 11ms/step - accuracy: 0.9616 - loss: 0.1113 - val_accuracy: 0.9569 - val_loss: 0.1638\n",
      "Epoch 18/50\n",
      "\u001b[1m134/134\u001b[0m \u001b[32m━━━━━━━━━━━━━━━━━━━━\u001b[0m\u001b[37m\u001b[0m \u001b[1m1s\u001b[0m 11ms/step - accuracy: 0.9649 - loss: 0.1023 - val_accuracy: 0.9545 - val_loss: 0.1643\n",
      "Epoch 19/50\n",
      "\u001b[1m134/134\u001b[0m \u001b[32m━━━━━━━━━━━━━━━━━━━━\u001b[0m\u001b[37m\u001b[0m \u001b[1m1s\u001b[0m 10ms/step - accuracy: 0.9656 - loss: 0.1009 - val_accuracy: 0.9559 - val_loss: 0.1735\n",
      "Epoch 20/50\n",
      "\u001b[1m134/134\u001b[0m \u001b[32m━━━━━━━━━━━━━━━━━━━━\u001b[0m\u001b[37m\u001b[0m \u001b[1m2s\u001b[0m 11ms/step - accuracy: 0.9699 - loss: 0.0984 - val_accuracy: 0.9597 - val_loss: 0.1438\n",
      "Epoch 21/50\n",
      "\u001b[1m134/134\u001b[0m \u001b[32m━━━━━━━━━━━━━━━━━━━━\u001b[0m\u001b[37m\u001b[0m \u001b[1m1s\u001b[0m 11ms/step - accuracy: 0.9638 - loss: 0.1024 - val_accuracy: 0.9644 - val_loss: 0.1348\n",
      "Epoch 22/50\n",
      "\u001b[1m134/134\u001b[0m \u001b[32m━━━━━━━━━━━━━━━━━━━━\u001b[0m\u001b[37m\u001b[0m \u001b[1m1s\u001b[0m 11ms/step - accuracy: 0.9727 - loss: 0.0858 - val_accuracy: 0.9597 - val_loss: 0.1361\n",
      "Epoch 23/50\n",
      "\u001b[1m134/134\u001b[0m \u001b[32m━━━━━━━━━━━━━━━━━━━━\u001b[0m\u001b[37m\u001b[0m \u001b[1m2s\u001b[0m 11ms/step - accuracy: 0.9687 - loss: 0.0870 - val_accuracy: 0.9573 - val_loss: 0.1533\n",
      "Epoch 24/50\n",
      "\u001b[1m134/134\u001b[0m \u001b[32m━━━━━━━━━━━━━━━━━━━━\u001b[0m\u001b[37m\u001b[0m \u001b[1m2s\u001b[0m 11ms/step - accuracy: 0.9714 - loss: 0.0845 - val_accuracy: 0.9653 - val_loss: 0.1429\n",
      "Epoch 25/50\n",
      "\u001b[1m134/134\u001b[0m \u001b[32m━━━━━━━━━━━━━━━━━━━━\u001b[0m\u001b[37m\u001b[0m \u001b[1m1s\u001b[0m 10ms/step - accuracy: 0.9745 - loss: 0.0813 - val_accuracy: 0.9583 - val_loss: 0.1587\n",
      "Epoch 26/50\n",
      "\u001b[1m134/134\u001b[0m \u001b[32m━━━━━━━━━━━━━━━━━━━━\u001b[0m\u001b[37m\u001b[0m \u001b[1m1s\u001b[0m 10ms/step - accuracy: 0.9765 - loss: 0.0685 - val_accuracy: 0.9648 - val_loss: 0.1497\n",
      "Epoch 27/50\n",
      "\u001b[1m134/134\u001b[0m \u001b[32m━━━━━━━━━━━━━━━━━━━━\u001b[0m\u001b[37m\u001b[0m \u001b[1m1s\u001b[0m 10ms/step - accuracy: 0.9695 - loss: 0.0877 - val_accuracy: 0.9658 - val_loss: 0.1356\n",
      "Epoch 28/50\n",
      "\u001b[1m134/134\u001b[0m \u001b[32m━━━━━━━━━━━━━━━━━━━━\u001b[0m\u001b[37m\u001b[0m \u001b[1m1s\u001b[0m 9ms/step - accuracy: 0.9748 - loss: 0.0769 - val_accuracy: 0.9686 - val_loss: 0.1346\n",
      "Epoch 29/50\n",
      "\u001b[1m134/134\u001b[0m \u001b[32m━━━━━━━━━━━━━━━━━━━━\u001b[0m\u001b[37m\u001b[0m \u001b[1m2s\u001b[0m 11ms/step - accuracy: 0.9848 - loss: 0.0539 - val_accuracy: 0.9606 - val_loss: 0.1723\n",
      "Epoch 30/50\n",
      "\u001b[1m134/134\u001b[0m \u001b[32m━━━━━━━━━━━━━━━━━━━━\u001b[0m\u001b[37m\u001b[0m \u001b[1m2s\u001b[0m 12ms/step - accuracy: 0.9799 - loss: 0.0629 - val_accuracy: 0.9555 - val_loss: 0.2017\n",
      "Epoch 31/50\n",
      "\u001b[1m134/134\u001b[0m \u001b[32m━━━━━━━━━━━━━━━━━━━━\u001b[0m\u001b[37m\u001b[0m \u001b[1m2s\u001b[0m 12ms/step - accuracy: 0.9768 - loss: 0.0711 - val_accuracy: 0.9606 - val_loss: 0.1524\n",
      "Epoch 32/50\n",
      "\u001b[1m134/134\u001b[0m \u001b[32m━━━━━━━━━━━━━━━━━━━━\u001b[0m\u001b[37m\u001b[0m \u001b[1m2s\u001b[0m 11ms/step - accuracy: 0.9770 - loss: 0.0750 - val_accuracy: 0.9578 - val_loss: 0.1817\n",
      "Epoch 33/50\n",
      "\u001b[1m134/134\u001b[0m \u001b[32m━━━━━━━━━━━━━━━━━━━━\u001b[0m\u001b[37m\u001b[0m \u001b[1m1s\u001b[0m 10ms/step - accuracy: 0.9811 - loss: 0.0636 - val_accuracy: 0.9695 - val_loss: 0.1320\n",
      "Epoch 34/50\n",
      "\u001b[1m134/134\u001b[0m \u001b[32m━━━━━━━━━━━━━━━━━━━━\u001b[0m\u001b[37m\u001b[0m \u001b[1m2s\u001b[0m 12ms/step - accuracy: 0.9786 - loss: 0.0594 - val_accuracy: 0.9700 - val_loss: 0.1393\n",
      "Epoch 35/50\n",
      "\u001b[1m134/134\u001b[0m \u001b[32m━━━━━━━━━━━━━━━━━━━━\u001b[0m\u001b[37m\u001b[0m \u001b[1m1s\u001b[0m 11ms/step - accuracy: 0.9862 - loss: 0.0452 - val_accuracy: 0.9658 - val_loss: 0.1394\n",
      "Epoch 36/50\n",
      "\u001b[1m134/134\u001b[0m \u001b[32m━━━━━━━━━━━━━━━━━━━━\u001b[0m\u001b[37m\u001b[0m \u001b[1m2s\u001b[0m 12ms/step - accuracy: 0.9827 - loss: 0.0523 - val_accuracy: 0.9681 - val_loss: 0.1332\n",
      "Epoch 37/50\n",
      "\u001b[1m134/134\u001b[0m \u001b[32m━━━━━━━━━━━━━━━━━━━━\u001b[0m\u001b[37m\u001b[0m \u001b[1m2s\u001b[0m 12ms/step - accuracy: 0.9792 - loss: 0.0623 - val_accuracy: 0.9719 - val_loss: 0.1451\n",
      "Epoch 38/50\n",
      "\u001b[1m134/134\u001b[0m \u001b[32m━━━━━━━━━━━━━━━━━━━━\u001b[0m\u001b[37m\u001b[0m \u001b[1m2s\u001b[0m 12ms/step - accuracy: 0.9882 - loss: 0.0379 - val_accuracy: 0.9686 - val_loss: 0.1464\n",
      "Epoch 39/50\n",
      "\u001b[1m134/134\u001b[0m \u001b[32m━━━━━━━━━━━━━━━━━━━━\u001b[0m\u001b[37m\u001b[0m \u001b[1m2s\u001b[0m 12ms/step - accuracy: 0.9838 - loss: 0.0501 - val_accuracy: 0.9761 - val_loss: 0.1342\n",
      "Epoch 40/50\n",
      "\u001b[1m134/134\u001b[0m \u001b[32m━━━━━━━━━━━━━━━━━━━━\u001b[0m\u001b[37m\u001b[0m \u001b[1m1s\u001b[0m 11ms/step - accuracy: 0.9804 - loss: 0.0606 - val_accuracy: 0.9700 - val_loss: 0.1431\n",
      "Epoch 41/50\n",
      "\u001b[1m134/134\u001b[0m \u001b[32m━━━━━━━━━━━━━━━━━━━━\u001b[0m\u001b[37m\u001b[0m \u001b[1m2s\u001b[0m 11ms/step - accuracy: 0.9864 - loss: 0.0462 - val_accuracy: 0.9709 - val_loss: 0.1454\n",
      "Epoch 42/50\n",
      "\u001b[1m134/134\u001b[0m \u001b[32m━━━━━━━━━━━━━━━━━━━━\u001b[0m\u001b[37m\u001b[0m \u001b[1m2s\u001b[0m 11ms/step - accuracy: 0.9871 - loss: 0.0409 - val_accuracy: 0.9733 - val_loss: 0.1318\n",
      "Epoch 43/50\n",
      "\u001b[1m134/134\u001b[0m \u001b[32m━━━━━━━━━━━━━━━━━━━━\u001b[0m\u001b[37m\u001b[0m \u001b[1m2s\u001b[0m 11ms/step - accuracy: 0.9867 - loss: 0.0427 - val_accuracy: 0.9691 - val_loss: 0.1434\n",
      "Epoch 44/50\n",
      "\u001b[1m134/134\u001b[0m \u001b[32m━━━━━━━━━━━━━━━━━━━━\u001b[0m\u001b[37m\u001b[0m \u001b[1m1s\u001b[0m 10ms/step - accuracy: 0.9836 - loss: 0.0502 - val_accuracy: 0.9709 - val_loss: 0.1380\n",
      "Epoch 45/50\n",
      "\u001b[1m134/134\u001b[0m \u001b[32m━━━━━━━━━━━━━━━━━━━━\u001b[0m\u001b[37m\u001b[0m \u001b[1m1s\u001b[0m 11ms/step - accuracy: 0.9851 - loss: 0.0404 - val_accuracy: 0.9691 - val_loss: 0.1281\n",
      "Epoch 46/50\n",
      "\u001b[1m134/134\u001b[0m \u001b[32m━━━━━━━━━━━━━━━━━━━━\u001b[0m\u001b[37m\u001b[0m \u001b[1m1s\u001b[0m 11ms/step - accuracy: 0.9868 - loss: 0.0385 - val_accuracy: 0.9752 - val_loss: 0.1198\n",
      "Epoch 47/50\n",
      "\u001b[1m134/134\u001b[0m \u001b[32m━━━━━━━━━━━━━━━━━━━━\u001b[0m\u001b[37m\u001b[0m \u001b[1m1s\u001b[0m 11ms/step - accuracy: 0.9860 - loss: 0.0394 - val_accuracy: 0.9733 - val_loss: 0.1275\n",
      "Epoch 48/50\n",
      "\u001b[1m134/134\u001b[0m \u001b[32m━━━━━━━━━━━━━━━━━━━━\u001b[0m\u001b[37m\u001b[0m \u001b[1m1s\u001b[0m 11ms/step - accuracy: 0.9889 - loss: 0.0355 - val_accuracy: 0.9714 - val_loss: 0.1500\n",
      "Epoch 49/50\n",
      "\u001b[1m134/134\u001b[0m \u001b[32m━━━━━━━━━━━━━━━━━━━━\u001b[0m\u001b[37m\u001b[0m \u001b[1m1s\u001b[0m 9ms/step - accuracy: 0.9849 - loss: 0.0497 - val_accuracy: 0.9719 - val_loss: 0.1397\n",
      "Epoch 50/50\n",
      "\u001b[1m134/134\u001b[0m \u001b[32m━━━━━━━━━━━━━━━━━━━━\u001b[0m\u001b[37m\u001b[0m \u001b[1m2s\u001b[0m 12ms/step - accuracy: 0.9780 - loss: 0.0590 - val_accuracy: 0.9761 - val_loss: 0.1279\n"
     ]
    },
    {
     "data": {
      "text/html": [],
      "text/plain": [
       "<IPython.core.display.HTML object>"
      ]
     },
     "metadata": {},
     "output_type": "display_data"
    },
    {
     "data": {
      "text/html": [
       "<br>    <style><br>        .wandb-row {<br>            display: flex;<br>            flex-direction: row;<br>            flex-wrap: wrap;<br>            justify-content: flex-start;<br>            width: 100%;<br>        }<br>        .wandb-col {<br>            display: flex;<br>            flex-direction: column;<br>            flex-basis: 100%;<br>            flex: 1;<br>            padding: 10px;<br>        }<br>    </style><br><div class=\"wandb-row\"><div class=\"wandb-col\"><h3>Run history:</h3><br/><table class=\"wandb\"><tr><td>train_accuracy</td><td>▁</td></tr><tr><td>train_loss</td><td>▁</td></tr><tr><td>val_accuracy</td><td>▁</td></tr><tr><td>val_loss</td><td>▁</td></tr></table><br/></div><div class=\"wandb-col\"><h3>Run summary:</h3><br/><table class=\"wandb\"><tr><td>train_accuracy</td><td>0.98124</td></tr><tr><td>train_loss</td><td>0.05425</td></tr><tr><td>val_accuracy</td><td>0.97609</td></tr><tr><td>val_loss</td><td>0.12793</td></tr></table><br/></div></div>"
      ],
      "text/plain": [
       "<IPython.core.display.HTML object>"
      ]
     },
     "metadata": {},
     "output_type": "display_data"
    },
    {
     "data": {
      "text/html": [
       " View run <strong style=\"color:#cdcd00\">polished-sweep-6</strong> at: <a href='https://wandb.ai/renan-florencio-unicamp/DriverBehavior/runs/fp4pjgab' target=\"_blank\">https://wandb.ai/renan-florencio-unicamp/DriverBehavior/runs/fp4pjgab</a><br> View project at: <a href='https://wandb.ai/renan-florencio-unicamp/DriverBehavior' target=\"_blank\">https://wandb.ai/renan-florencio-unicamp/DriverBehavior</a><br>Synced 5 W&B file(s), 0 media file(s), 0 artifact file(s) and 0 other file(s)"
      ],
      "text/plain": [
       "<IPython.core.display.HTML object>"
      ]
     },
     "metadata": {},
     "output_type": "display_data"
    },
    {
     "data": {
      "text/html": [
       "Find logs at: <code>./wandb/run-20250127_171043-fp4pjgab/logs</code>"
      ],
      "text/plain": [
       "<IPython.core.display.HTML object>"
      ]
     },
     "metadata": {},
     "output_type": "display_data"
    },
    {
     "name": "stderr",
     "output_type": "stream",
     "text": [
      "\u001b[34m\u001b[1mwandb\u001b[0m: Agent Starting Run: x95rt9bq with config:\n",
      "\u001b[34m\u001b[1mwandb\u001b[0m: \tbatch_size: 128\n",
      "\u001b[34m\u001b[1mwandb\u001b[0m: \tepochs: 10\n"
     ]
    },
    {
     "data": {
      "text/html": [
       "Ignoring project 'DriverBehavior' when running a sweep."
      ],
      "text/plain": [
       "<IPython.core.display.HTML object>"
      ]
     },
     "metadata": {},
     "output_type": "display_data"
    },
    {
     "data": {
      "text/html": [
       "Tracking run with wandb version 0.19.4"
      ],
      "text/plain": [
       "<IPython.core.display.HTML object>"
      ]
     },
     "metadata": {},
     "output_type": "display_data"
    },
    {
     "data": {
      "text/html": [
       "Run data is saved locally in <code>/home/renan/Documents/datasets/dbdataset/wandb/run-20250127_171206-x95rt9bq</code>"
      ],
      "text/plain": [
       "<IPython.core.display.HTML object>"
      ]
     },
     "metadata": {},
     "output_type": "display_data"
    },
    {
     "data": {
      "text/html": [
       "Syncing run <strong><a href='https://wandb.ai/renan-florencio-unicamp/DriverBehavior/runs/x95rt9bq' target=\"_blank\">usual-sweep-7</a></strong> to <a href='https://wandb.ai/renan-florencio-unicamp/DriverBehavior' target=\"_blank\">Weights & Biases</a> (<a href='https://wandb.me/developer-guide' target=\"_blank\">docs</a>)<br>Sweep page: <a href='https://wandb.ai/renan-florencio-unicamp/DriverBehavior/sweeps/gut8lurp' target=\"_blank\">https://wandb.ai/renan-florencio-unicamp/DriverBehavior/sweeps/gut8lurp</a>"
      ],
      "text/plain": [
       "<IPython.core.display.HTML object>"
      ]
     },
     "metadata": {},
     "output_type": "display_data"
    },
    {
     "data": {
      "text/html": [
       " View project at <a href='https://wandb.ai/renan-florencio-unicamp/DriverBehavior' target=\"_blank\">https://wandb.ai/renan-florencio-unicamp/DriverBehavior</a>"
      ],
      "text/plain": [
       "<IPython.core.display.HTML object>"
      ]
     },
     "metadata": {},
     "output_type": "display_data"
    },
    {
     "data": {
      "text/html": [
       " View sweep at <a href='https://wandb.ai/renan-florencio-unicamp/DriverBehavior/sweeps/gut8lurp' target=\"_blank\">https://wandb.ai/renan-florencio-unicamp/DriverBehavior/sweeps/gut8lurp</a>"
      ],
      "text/plain": [
       "<IPython.core.display.HTML object>"
      ]
     },
     "metadata": {},
     "output_type": "display_data"
    },
    {
     "data": {
      "text/html": [
       " View run at <a href='https://wandb.ai/renan-florencio-unicamp/DriverBehavior/runs/x95rt9bq' target=\"_blank\">https://wandb.ai/renan-florencio-unicamp/DriverBehavior/runs/x95rt9bq</a>"
      ],
      "text/plain": [
       "<IPython.core.display.HTML object>"
      ]
     },
     "metadata": {},
     "output_type": "display_data"
    },
    {
     "name": "stdout",
     "output_type": "stream",
     "text": [
      "Epoch 1/10\n",
      "\u001b[1m67/67\u001b[0m \u001b[32m━━━━━━━━━━━━━━━━━━━━\u001b[0m\u001b[37m\u001b[0m \u001b[1m3s\u001b[0m 17ms/step - accuracy: 0.4989 - loss: 1.4532 - val_accuracy: 0.8228 - val_loss: 0.5362\n",
      "Epoch 2/10\n",
      "\u001b[1m67/67\u001b[0m \u001b[32m━━━━━━━━━━━━━━━━━━━━\u001b[0m\u001b[37m\u001b[0m \u001b[1m1s\u001b[0m 17ms/step - accuracy: 0.7661 - loss: 0.6764 - val_accuracy: 0.8664 - val_loss: 0.4044\n",
      "Epoch 3/10\n",
      "\u001b[1m67/67\u001b[0m \u001b[32m━━━━━━━━━━━━━━━━━━━━\u001b[0m\u001b[37m\u001b[0m \u001b[1m1s\u001b[0m 17ms/step - accuracy: 0.8208 - loss: 0.5339 - val_accuracy: 0.8823 - val_loss: 0.3463\n",
      "Epoch 4/10\n",
      "\u001b[1m67/67\u001b[0m \u001b[32m━━━━━━━━━━━━━━━━━━━━\u001b[0m\u001b[37m\u001b[0m \u001b[1m1s\u001b[0m 14ms/step - accuracy: 0.8493 - loss: 0.4353 - val_accuracy: 0.9109 - val_loss: 0.2698\n",
      "Epoch 5/10\n",
      "\u001b[1m67/67\u001b[0m \u001b[32m━━━━━━━━━━━━━━━━━━━━\u001b[0m\u001b[37m\u001b[0m \u001b[1m1s\u001b[0m 17ms/step - accuracy: 0.8760 - loss: 0.3587 - val_accuracy: 0.9072 - val_loss: 0.2831\n",
      "Epoch 6/10\n",
      "\u001b[1m67/67\u001b[0m \u001b[32m━━━━━━━━━━━━━━━━━━━━\u001b[0m\u001b[37m\u001b[0m \u001b[1m1s\u001b[0m 17ms/step - accuracy: 0.8983 - loss: 0.3140 - val_accuracy: 0.9297 - val_loss: 0.2236\n",
      "Epoch 7/10\n",
      "\u001b[1m67/67\u001b[0m \u001b[32m━━━━━━━━━━━━━━━━━━━━\u001b[0m\u001b[37m\u001b[0m \u001b[1m1s\u001b[0m 16ms/step - accuracy: 0.9082 - loss: 0.2759 - val_accuracy: 0.9278 - val_loss: 0.2219\n",
      "Epoch 8/10\n",
      "\u001b[1m67/67\u001b[0m \u001b[32m━━━━━━━━━━━━━━━━━━━━\u001b[0m\u001b[37m\u001b[0m \u001b[1m1s\u001b[0m 16ms/step - accuracy: 0.9108 - loss: 0.2623 - val_accuracy: 0.9409 - val_loss: 0.1902\n",
      "Epoch 9/10\n",
      "\u001b[1m67/67\u001b[0m \u001b[32m━━━━━━━━━━━━━━━━━━━━\u001b[0m\u001b[37m\u001b[0m \u001b[1m1s\u001b[0m 15ms/step - accuracy: 0.9267 - loss: 0.2201 - val_accuracy: 0.9414 - val_loss: 0.1867\n",
      "Epoch 10/10\n",
      "\u001b[1m67/67\u001b[0m \u001b[32m━━━━━━━━━━━━━━━━━━━━\u001b[0m\u001b[37m\u001b[0m \u001b[1m1s\u001b[0m 16ms/step - accuracy: 0.9320 - loss: 0.2029 - val_accuracy: 0.9362 - val_loss: 0.1991\n"
     ]
    },
    {
     "data": {
      "text/html": [],
      "text/plain": [
       "<IPython.core.display.HTML object>"
      ]
     },
     "metadata": {},
     "output_type": "display_data"
    },
    {
     "data": {
      "text/html": [
       "<br>    <style><br>        .wandb-row {<br>            display: flex;<br>            flex-direction: row;<br>            flex-wrap: wrap;<br>            justify-content: flex-start;<br>            width: 100%;<br>        }<br>        .wandb-col {<br>            display: flex;<br>            flex-direction: column;<br>            flex-basis: 100%;<br>            flex: 1;<br>            padding: 10px;<br>        }<br>    </style><br><div class=\"wandb-row\"><div class=\"wandb-col\"><h3>Run history:</h3><br/><table class=\"wandb\"><tr><td>train_accuracy</td><td>▁</td></tr><tr><td>train_loss</td><td>▁</td></tr><tr><td>val_accuracy</td><td>▁</td></tr><tr><td>val_loss</td><td>▁</td></tr></table><br/></div><div class=\"wandb-col\"><h3>Run summary:</h3><br/><table class=\"wandb\"><tr><td>train_accuracy</td><td>0.93189</td></tr><tr><td>train_loss</td><td>0.20206</td></tr><tr><td>val_accuracy</td><td>0.93624</td></tr><tr><td>val_loss</td><td>0.19907</td></tr></table><br/></div></div>"
      ],
      "text/plain": [
       "<IPython.core.display.HTML object>"
      ]
     },
     "metadata": {},
     "output_type": "display_data"
    },
    {
     "data": {
      "text/html": [
       " View run <strong style=\"color:#cdcd00\">usual-sweep-7</strong> at: <a href='https://wandb.ai/renan-florencio-unicamp/DriverBehavior/runs/x95rt9bq' target=\"_blank\">https://wandb.ai/renan-florencio-unicamp/DriverBehavior/runs/x95rt9bq</a><br> View project at: <a href='https://wandb.ai/renan-florencio-unicamp/DriverBehavior' target=\"_blank\">https://wandb.ai/renan-florencio-unicamp/DriverBehavior</a><br>Synced 5 W&B file(s), 0 media file(s), 0 artifact file(s) and 0 other file(s)"
      ],
      "text/plain": [
       "<IPython.core.display.HTML object>"
      ]
     },
     "metadata": {},
     "output_type": "display_data"
    },
    {
     "data": {
      "text/html": [
       "Find logs at: <code>./wandb/run-20250127_171206-x95rt9bq/logs</code>"
      ],
      "text/plain": [
       "<IPython.core.display.HTML object>"
      ]
     },
     "metadata": {},
     "output_type": "display_data"
    },
    {
     "name": "stderr",
     "output_type": "stream",
     "text": [
      "\u001b[34m\u001b[1mwandb\u001b[0m: Agent Starting Run: huhy15vj with config:\n",
      "\u001b[34m\u001b[1mwandb\u001b[0m: \tbatch_size: 128\n",
      "\u001b[34m\u001b[1mwandb\u001b[0m: \tepochs: 25\n"
     ]
    },
    {
     "data": {
      "text/html": [
       "Ignoring project 'DriverBehavior' when running a sweep."
      ],
      "text/plain": [
       "<IPython.core.display.HTML object>"
      ]
     },
     "metadata": {},
     "output_type": "display_data"
    },
    {
     "data": {
      "text/html": [
       "Tracking run with wandb version 0.19.4"
      ],
      "text/plain": [
       "<IPython.core.display.HTML object>"
      ]
     },
     "metadata": {},
     "output_type": "display_data"
    },
    {
     "data": {
      "text/html": [
       "Run data is saved locally in <code>/home/renan/Documents/datasets/dbdataset/wandb/run-20250127_171227-huhy15vj</code>"
      ],
      "text/plain": [
       "<IPython.core.display.HTML object>"
      ]
     },
     "metadata": {},
     "output_type": "display_data"
    },
    {
     "data": {
      "text/html": [
       "Syncing run <strong><a href='https://wandb.ai/renan-florencio-unicamp/DriverBehavior/runs/huhy15vj' target=\"_blank\">breezy-sweep-8</a></strong> to <a href='https://wandb.ai/renan-florencio-unicamp/DriverBehavior' target=\"_blank\">Weights & Biases</a> (<a href='https://wandb.me/developer-guide' target=\"_blank\">docs</a>)<br>Sweep page: <a href='https://wandb.ai/renan-florencio-unicamp/DriverBehavior/sweeps/gut8lurp' target=\"_blank\">https://wandb.ai/renan-florencio-unicamp/DriverBehavior/sweeps/gut8lurp</a>"
      ],
      "text/plain": [
       "<IPython.core.display.HTML object>"
      ]
     },
     "metadata": {},
     "output_type": "display_data"
    },
    {
     "data": {
      "text/html": [
       " View project at <a href='https://wandb.ai/renan-florencio-unicamp/DriverBehavior' target=\"_blank\">https://wandb.ai/renan-florencio-unicamp/DriverBehavior</a>"
      ],
      "text/plain": [
       "<IPython.core.display.HTML object>"
      ]
     },
     "metadata": {},
     "output_type": "display_data"
    },
    {
     "data": {
      "text/html": [
       " View sweep at <a href='https://wandb.ai/renan-florencio-unicamp/DriverBehavior/sweeps/gut8lurp' target=\"_blank\">https://wandb.ai/renan-florencio-unicamp/DriverBehavior/sweeps/gut8lurp</a>"
      ],
      "text/plain": [
       "<IPython.core.display.HTML object>"
      ]
     },
     "metadata": {},
     "output_type": "display_data"
    },
    {
     "data": {
      "text/html": [
       " View run at <a href='https://wandb.ai/renan-florencio-unicamp/DriverBehavior/runs/huhy15vj' target=\"_blank\">https://wandb.ai/renan-florencio-unicamp/DriverBehavior/runs/huhy15vj</a>"
      ],
      "text/plain": [
       "<IPython.core.display.HTML object>"
      ]
     },
     "metadata": {},
     "output_type": "display_data"
    },
    {
     "name": "stdout",
     "output_type": "stream",
     "text": [
      "Epoch 1/25\n",
      "\u001b[1m67/67\u001b[0m \u001b[32m━━━━━━━━━━━━━━━━━━━━\u001b[0m\u001b[37m\u001b[0m \u001b[1m3s\u001b[0m 17ms/step - accuracy: 0.4712 - loss: 1.5265 - val_accuracy: 0.7979 - val_loss: 0.5860\n",
      "Epoch 2/25\n",
      "\u001b[1m67/67\u001b[0m \u001b[32m━━━━━━━━━━━━━━━━━━━━\u001b[0m\u001b[37m\u001b[0m \u001b[1m1s\u001b[0m 15ms/step - accuracy: 0.7648 - loss: 0.7112 - val_accuracy: 0.8697 - val_loss: 0.3809\n",
      "Epoch 3/25\n",
      "\u001b[1m67/67\u001b[0m \u001b[32m━━━━━━━━━━━━━━━━━━━━\u001b[0m\u001b[37m\u001b[0m \u001b[1m1s\u001b[0m 16ms/step - accuracy: 0.8106 - loss: 0.5406 - val_accuracy: 0.8973 - val_loss: 0.3127\n",
      "Epoch 4/25\n",
      "\u001b[1m67/67\u001b[0m \u001b[32m━━━━━━━━━━━━━━━━━━━━\u001b[0m\u001b[37m\u001b[0m \u001b[1m1s\u001b[0m 15ms/step - accuracy: 0.8418 - loss: 0.4649 - val_accuracy: 0.9090 - val_loss: 0.2755\n",
      "Epoch 5/25\n",
      "\u001b[1m67/67\u001b[0m \u001b[32m━━━━━━━━━━━━━━━━━━━━\u001b[0m\u001b[37m\u001b[0m \u001b[1m1s\u001b[0m 17ms/step - accuracy: 0.8810 - loss: 0.3447 - val_accuracy: 0.9161 - val_loss: 0.2475\n",
      "Epoch 6/25\n",
      "\u001b[1m67/67\u001b[0m \u001b[32m━━━━━━━━━━━━━━━━━━━━\u001b[0m\u001b[37m\u001b[0m \u001b[1m1s\u001b[0m 16ms/step - accuracy: 0.8948 - loss: 0.3079 - val_accuracy: 0.9212 - val_loss: 0.2312\n",
      "Epoch 7/25\n",
      "\u001b[1m67/67\u001b[0m \u001b[32m━━━━━━━━━━━━━━━━━━━━\u001b[0m\u001b[37m\u001b[0m \u001b[1m1s\u001b[0m 16ms/step - accuracy: 0.8988 - loss: 0.2868 - val_accuracy: 0.9348 - val_loss: 0.2044\n",
      "Epoch 8/25\n",
      "\u001b[1m67/67\u001b[0m \u001b[32m━━━━━━━━━━━━━━━━━━━━\u001b[0m\u001b[37m\u001b[0m \u001b[1m1s\u001b[0m 16ms/step - accuracy: 0.9161 - loss: 0.2493 - val_accuracy: 0.9325 - val_loss: 0.2312\n",
      "Epoch 9/25\n",
      "\u001b[1m67/67\u001b[0m \u001b[32m━━━━━━━━━━━━━━━━━━━━\u001b[0m\u001b[37m\u001b[0m \u001b[1m1s\u001b[0m 15ms/step - accuracy: 0.9216 - loss: 0.2381 - val_accuracy: 0.9353 - val_loss: 0.1934\n",
      "Epoch 10/25\n",
      "\u001b[1m67/67\u001b[0m \u001b[32m━━━━━━━━━━━━━━━━━━━━\u001b[0m\u001b[37m\u001b[0m \u001b[1m1s\u001b[0m 17ms/step - accuracy: 0.9345 - loss: 0.1943 - val_accuracy: 0.9466 - val_loss: 0.1683\n",
      "Epoch 11/25\n",
      "\u001b[1m67/67\u001b[0m \u001b[32m━━━━━━━━━━━━━━━━━━━━\u001b[0m\u001b[37m\u001b[0m \u001b[1m1s\u001b[0m 17ms/step - accuracy: 0.9411 - loss: 0.1786 - val_accuracy: 0.9498 - val_loss: 0.1664\n",
      "Epoch 12/25\n",
      "\u001b[1m67/67\u001b[0m \u001b[32m━━━━━━━━━━━━━━━━━━━━\u001b[0m\u001b[37m\u001b[0m \u001b[1m1s\u001b[0m 17ms/step - accuracy: 0.9480 - loss: 0.1668 - val_accuracy: 0.9541 - val_loss: 0.1477\n",
      "Epoch 13/25\n",
      "\u001b[1m67/67\u001b[0m \u001b[32m━━━━━━━━━━━━━━━━━━━━\u001b[0m\u001b[37m\u001b[0m \u001b[1m1s\u001b[0m 15ms/step - accuracy: 0.9408 - loss: 0.1606 - val_accuracy: 0.9503 - val_loss: 0.1530\n",
      "Epoch 14/25\n",
      "\u001b[1m67/67\u001b[0m \u001b[32m━━━━━━━━━━━━━━━━━━━━\u001b[0m\u001b[37m\u001b[0m \u001b[1m1s\u001b[0m 15ms/step - accuracy: 0.9523 - loss: 0.1510 - val_accuracy: 0.9545 - val_loss: 0.1348\n",
      "Epoch 15/25\n",
      "\u001b[1m67/67\u001b[0m \u001b[32m━━━━━━━━━━━━━━━━━━━━\u001b[0m\u001b[37m\u001b[0m \u001b[1m1s\u001b[0m 15ms/step - accuracy: 0.9548 - loss: 0.1316 - val_accuracy: 0.9494 - val_loss: 0.1544\n",
      "Epoch 16/25\n",
      "\u001b[1m67/67\u001b[0m \u001b[32m━━━━━━━━━━━━━━━━━━━━\u001b[0m\u001b[37m\u001b[0m \u001b[1m1s\u001b[0m 14ms/step - accuracy: 0.9541 - loss: 0.1357 - val_accuracy: 0.9578 - val_loss: 0.1422\n",
      "Epoch 17/25\n",
      "\u001b[1m67/67\u001b[0m \u001b[32m━━━━━━━━━━━━━━━━━━━━\u001b[0m\u001b[37m\u001b[0m \u001b[1m1s\u001b[0m 15ms/step - accuracy: 0.9616 - loss: 0.1176 - val_accuracy: 0.9555 - val_loss: 0.1428\n",
      "Epoch 18/25\n",
      "\u001b[1m67/67\u001b[0m \u001b[32m━━━━━━━━━━━━━━━━━━━━\u001b[0m\u001b[37m\u001b[0m \u001b[1m1s\u001b[0m 16ms/step - accuracy: 0.9590 - loss: 0.1165 - val_accuracy: 0.9536 - val_loss: 0.1606\n",
      "Epoch 19/25\n",
      "\u001b[1m67/67\u001b[0m \u001b[32m━━━━━━━━━━━━━━━━━━━━\u001b[0m\u001b[37m\u001b[0m \u001b[1m1s\u001b[0m 16ms/step - accuracy: 0.9610 - loss: 0.1151 - val_accuracy: 0.9531 - val_loss: 0.1603\n",
      "Epoch 20/25\n",
      "\u001b[1m67/67\u001b[0m \u001b[32m━━━━━━━━━━━━━━━━━━━━\u001b[0m\u001b[37m\u001b[0m \u001b[1m1s\u001b[0m 16ms/step - accuracy: 0.9617 - loss: 0.1163 - val_accuracy: 0.9625 - val_loss: 0.1334\n",
      "Epoch 21/25\n",
      "\u001b[1m67/67\u001b[0m \u001b[32m━━━━━━━━━━━━━━━━━━━━\u001b[0m\u001b[37m\u001b[0m \u001b[1m1s\u001b[0m 14ms/step - accuracy: 0.9670 - loss: 0.1030 - val_accuracy: 0.9597 - val_loss: 0.1368\n",
      "Epoch 22/25\n",
      "\u001b[1m67/67\u001b[0m \u001b[32m━━━━━━━━━━━━━━━━━━━━\u001b[0m\u001b[37m\u001b[0m \u001b[1m1s\u001b[0m 16ms/step - accuracy: 0.9676 - loss: 0.0934 - val_accuracy: 0.9630 - val_loss: 0.1297\n",
      "Epoch 23/25\n",
      "\u001b[1m67/67\u001b[0m \u001b[32m━━━━━━━━━━━━━━━━━━━━\u001b[0m\u001b[37m\u001b[0m \u001b[1m1s\u001b[0m 16ms/step - accuracy: 0.9728 - loss: 0.0854 - val_accuracy: 0.9620 - val_loss: 0.1309\n",
      "Epoch 24/25\n",
      "\u001b[1m67/67\u001b[0m \u001b[32m━━━━━━━━━━━━━━━━━━━━\u001b[0m\u001b[37m\u001b[0m \u001b[1m1s\u001b[0m 16ms/step - accuracy: 0.9739 - loss: 0.0855 - val_accuracy: 0.9545 - val_loss: 0.1537\n",
      "Epoch 25/25\n",
      "\u001b[1m67/67\u001b[0m \u001b[32m━━━━━━━━━━━━━━━━━━━━\u001b[0m\u001b[37m\u001b[0m \u001b[1m1s\u001b[0m 17ms/step - accuracy: 0.9705 - loss: 0.0825 - val_accuracy: 0.9630 - val_loss: 0.1376\n"
     ]
    },
    {
     "data": {
      "text/html": [],
      "text/plain": [
       "<IPython.core.display.HTML object>"
      ]
     },
     "metadata": {},
     "output_type": "display_data"
    },
    {
     "data": {
      "text/html": [
       "<br>    <style><br>        .wandb-row {<br>            display: flex;<br>            flex-direction: row;<br>            flex-wrap: wrap;<br>            justify-content: flex-start;<br>            width: 100%;<br>        }<br>        .wandb-col {<br>            display: flex;<br>            flex-direction: column;<br>            flex-basis: 100%;<br>            flex: 1;<br>            padding: 10px;<br>        }<br>    </style><br><div class=\"wandb-row\"><div class=\"wandb-col\"><h3>Run history:</h3><br/><table class=\"wandb\"><tr><td>train_accuracy</td><td>▁</td></tr><tr><td>train_loss</td><td>▁</td></tr><tr><td>val_accuracy</td><td>▁</td></tr><tr><td>val_loss</td><td>▁</td></tr></table><br/></div><div class=\"wandb-col\"><h3>Run summary:</h3><br/><table class=\"wandb\"><tr><td>train_accuracy</td><td>0.97022</td></tr><tr><td>train_loss</td><td>0.08487</td></tr><tr><td>val_accuracy</td><td>0.96296</td></tr><tr><td>val_loss</td><td>0.13763</td></tr></table><br/></div></div>"
      ],
      "text/plain": [
       "<IPython.core.display.HTML object>"
      ]
     },
     "metadata": {},
     "output_type": "display_data"
    },
    {
     "data": {
      "text/html": [
       " View run <strong style=\"color:#cdcd00\">breezy-sweep-8</strong> at: <a href='https://wandb.ai/renan-florencio-unicamp/DriverBehavior/runs/huhy15vj' target=\"_blank\">https://wandb.ai/renan-florencio-unicamp/DriverBehavior/runs/huhy15vj</a><br> View project at: <a href='https://wandb.ai/renan-florencio-unicamp/DriverBehavior' target=\"_blank\">https://wandb.ai/renan-florencio-unicamp/DriverBehavior</a><br>Synced 5 W&B file(s), 0 media file(s), 0 artifact file(s) and 0 other file(s)"
      ],
      "text/plain": [
       "<IPython.core.display.HTML object>"
      ]
     },
     "metadata": {},
     "output_type": "display_data"
    },
    {
     "data": {
      "text/html": [
       "Find logs at: <code>./wandb/run-20250127_171227-huhy15vj/logs</code>"
      ],
      "text/plain": [
       "<IPython.core.display.HTML object>"
      ]
     },
     "metadata": {},
     "output_type": "display_data"
    },
    {
     "name": "stderr",
     "output_type": "stream",
     "text": [
      "\u001b[34m\u001b[1mwandb\u001b[0m: Agent Starting Run: xgjz54bz with config:\n",
      "\u001b[34m\u001b[1mwandb\u001b[0m: \tbatch_size: 128\n",
      "\u001b[34m\u001b[1mwandb\u001b[0m: \tepochs: 50\n"
     ]
    },
    {
     "data": {
      "text/html": [
       "Ignoring project 'DriverBehavior' when running a sweep."
      ],
      "text/plain": [
       "<IPython.core.display.HTML object>"
      ]
     },
     "metadata": {},
     "output_type": "display_data"
    },
    {
     "data": {
      "text/html": [
       "Tracking run with wandb version 0.19.4"
      ],
      "text/plain": [
       "<IPython.core.display.HTML object>"
      ]
     },
     "metadata": {},
     "output_type": "display_data"
    },
    {
     "data": {
      "text/html": [
       "Run data is saved locally in <code>/home/renan/Documents/datasets/dbdataset/wandb/run-20250127_171305-xgjz54bz</code>"
      ],
      "text/plain": [
       "<IPython.core.display.HTML object>"
      ]
     },
     "metadata": {},
     "output_type": "display_data"
    },
    {
     "data": {
      "text/html": [
       "Syncing run <strong><a href='https://wandb.ai/renan-florencio-unicamp/DriverBehavior/runs/xgjz54bz' target=\"_blank\">smart-sweep-9</a></strong> to <a href='https://wandb.ai/renan-florencio-unicamp/DriverBehavior' target=\"_blank\">Weights & Biases</a> (<a href='https://wandb.me/developer-guide' target=\"_blank\">docs</a>)<br>Sweep page: <a href='https://wandb.ai/renan-florencio-unicamp/DriverBehavior/sweeps/gut8lurp' target=\"_blank\">https://wandb.ai/renan-florencio-unicamp/DriverBehavior/sweeps/gut8lurp</a>"
      ],
      "text/plain": [
       "<IPython.core.display.HTML object>"
      ]
     },
     "metadata": {},
     "output_type": "display_data"
    },
    {
     "data": {
      "text/html": [
       " View project at <a href='https://wandb.ai/renan-florencio-unicamp/DriverBehavior' target=\"_blank\">https://wandb.ai/renan-florencio-unicamp/DriverBehavior</a>"
      ],
      "text/plain": [
       "<IPython.core.display.HTML object>"
      ]
     },
     "metadata": {},
     "output_type": "display_data"
    },
    {
     "data": {
      "text/html": [
       " View sweep at <a href='https://wandb.ai/renan-florencio-unicamp/DriverBehavior/sweeps/gut8lurp' target=\"_blank\">https://wandb.ai/renan-florencio-unicamp/DriverBehavior/sweeps/gut8lurp</a>"
      ],
      "text/plain": [
       "<IPython.core.display.HTML object>"
      ]
     },
     "metadata": {},
     "output_type": "display_data"
    },
    {
     "data": {
      "text/html": [
       " View run at <a href='https://wandb.ai/renan-florencio-unicamp/DriverBehavior/runs/xgjz54bz' target=\"_blank\">https://wandb.ai/renan-florencio-unicamp/DriverBehavior/runs/xgjz54bz</a>"
      ],
      "text/plain": [
       "<IPython.core.display.HTML object>"
      ]
     },
     "metadata": {},
     "output_type": "display_data"
    },
    {
     "name": "stdout",
     "output_type": "stream",
     "text": [
      "Epoch 1/50\n",
      "\u001b[1m67/67\u001b[0m \u001b[32m━━━━━━━━━━━━━━━━━━━━\u001b[0m\u001b[37m\u001b[0m \u001b[1m3s\u001b[0m 18ms/step - accuracy: 0.4816 - loss: 1.5145 - val_accuracy: 0.8158 - val_loss: 0.5422\n",
      "Epoch 2/50\n",
      "\u001b[1m67/67\u001b[0m \u001b[32m━━━━━━━━━━━━━━━━━━━━\u001b[0m\u001b[37m\u001b[0m \u001b[1m1s\u001b[0m 16ms/step - accuracy: 0.7641 - loss: 0.6851 - val_accuracy: 0.8805 - val_loss: 0.3798\n",
      "Epoch 3/50\n",
      "\u001b[1m67/67\u001b[0m \u001b[32m━━━━━━━━━━━━━━━━━━━━\u001b[0m\u001b[37m\u001b[0m \u001b[1m1s\u001b[0m 17ms/step - accuracy: 0.8205 - loss: 0.5247 - val_accuracy: 0.8973 - val_loss: 0.3135\n",
      "Epoch 4/50\n",
      "\u001b[1m67/67\u001b[0m \u001b[32m━━━━━━━━━━━━━━━━━━━━\u001b[0m\u001b[37m\u001b[0m \u001b[1m1s\u001b[0m 16ms/step - accuracy: 0.8611 - loss: 0.4233 - val_accuracy: 0.9067 - val_loss: 0.2720\n",
      "Epoch 5/50\n",
      "\u001b[1m67/67\u001b[0m \u001b[32m━━━━━━━━━━━━━━━━━━━━\u001b[0m\u001b[37m\u001b[0m \u001b[1m1s\u001b[0m 17ms/step - accuracy: 0.8782 - loss: 0.3567 - val_accuracy: 0.9203 - val_loss: 0.2335\n",
      "Epoch 6/50\n",
      "\u001b[1m67/67\u001b[0m \u001b[32m━━━━━━━━━━━━━━━━━━━━\u001b[0m\u001b[37m\u001b[0m \u001b[1m1s\u001b[0m 16ms/step - accuracy: 0.8902 - loss: 0.3233 - val_accuracy: 0.9198 - val_loss: 0.2284\n",
      "Epoch 7/50\n",
      "\u001b[1m67/67\u001b[0m \u001b[32m━━━━━━━━━━━━━━━━━━━━\u001b[0m\u001b[37m\u001b[0m \u001b[1m1s\u001b[0m 17ms/step - accuracy: 0.9071 - loss: 0.2794 - val_accuracy: 0.9339 - val_loss: 0.1972\n",
      "Epoch 8/50\n",
      "\u001b[1m67/67\u001b[0m \u001b[32m━━━━━━━━━━━━━━━━━━━━\u001b[0m\u001b[37m\u001b[0m \u001b[1m1s\u001b[0m 17ms/step - accuracy: 0.9188 - loss: 0.2312 - val_accuracy: 0.9395 - val_loss: 0.1936\n",
      "Epoch 9/50\n",
      "\u001b[1m67/67\u001b[0m \u001b[32m━━━━━━━━━━━━━━━━━━━━\u001b[0m\u001b[37m\u001b[0m \u001b[1m1s\u001b[0m 16ms/step - accuracy: 0.9252 - loss: 0.2237 - val_accuracy: 0.9376 - val_loss: 0.1865\n",
      "Epoch 10/50\n",
      "\u001b[1m67/67\u001b[0m \u001b[32m━━━━━━━━━━━━━━━━━━━━\u001b[0m\u001b[37m\u001b[0m \u001b[1m1s\u001b[0m 16ms/step - accuracy: 0.9366 - loss: 0.1984 - val_accuracy: 0.9419 - val_loss: 0.1797\n",
      "Epoch 11/50\n",
      "\u001b[1m67/67\u001b[0m \u001b[32m━━━━━━━━━━━━━━━━━━━━\u001b[0m\u001b[37m\u001b[0m \u001b[1m1s\u001b[0m 16ms/step - accuracy: 0.9388 - loss: 0.1770 - val_accuracy: 0.9451 - val_loss: 0.1850\n",
      "Epoch 12/50\n",
      "\u001b[1m67/67\u001b[0m \u001b[32m━━━━━━━━━━━━━━━━━━━━\u001b[0m\u001b[37m\u001b[0m \u001b[1m1s\u001b[0m 16ms/step - accuracy: 0.9446 - loss: 0.1649 - val_accuracy: 0.9447 - val_loss: 0.1772\n",
      "Epoch 13/50\n",
      "\u001b[1m67/67\u001b[0m \u001b[32m━━━━━━━━━━━━━━━━━━━━\u001b[0m\u001b[37m\u001b[0m \u001b[1m1s\u001b[0m 15ms/step - accuracy: 0.9398 - loss: 0.1689 - val_accuracy: 0.9550 - val_loss: 0.1383\n",
      "Epoch 14/50\n",
      "\u001b[1m67/67\u001b[0m \u001b[32m━━━━━━━━━━━━━━━━━━━━\u001b[0m\u001b[37m\u001b[0m \u001b[1m1s\u001b[0m 16ms/step - accuracy: 0.9469 - loss: 0.1617 - val_accuracy: 0.9536 - val_loss: 0.1445\n",
      "Epoch 15/50\n",
      "\u001b[1m67/67\u001b[0m \u001b[32m━━━━━━━━━━━━━━━━━━━━\u001b[0m\u001b[37m\u001b[0m \u001b[1m1s\u001b[0m 16ms/step - accuracy: 0.9562 - loss: 0.1330 - val_accuracy: 0.9531 - val_loss: 0.1365\n",
      "Epoch 16/50\n",
      "\u001b[1m67/67\u001b[0m \u001b[32m━━━━━━━━━━━━━━━━━━━━\u001b[0m\u001b[37m\u001b[0m \u001b[1m1s\u001b[0m 17ms/step - accuracy: 0.9553 - loss: 0.1327 - val_accuracy: 0.9489 - val_loss: 0.1644\n",
      "Epoch 17/50\n",
      "\u001b[1m67/67\u001b[0m \u001b[32m━━━━━━━━━━━━━━━━━━━━\u001b[0m\u001b[37m\u001b[0m \u001b[1m1s\u001b[0m 16ms/step - accuracy: 0.9599 - loss: 0.1167 - val_accuracy: 0.9555 - val_loss: 0.1408\n",
      "Epoch 18/50\n",
      "\u001b[1m67/67\u001b[0m \u001b[32m━━━━━━━━━━━━━━━━━━━━\u001b[0m\u001b[37m\u001b[0m \u001b[1m1s\u001b[0m 17ms/step - accuracy: 0.9621 - loss: 0.1150 - val_accuracy: 0.9555 - val_loss: 0.1536\n",
      "Epoch 19/50\n",
      "\u001b[1m67/67\u001b[0m \u001b[32m━━━━━━━━━━━━━━━━━━━━\u001b[0m\u001b[37m\u001b[0m \u001b[1m1s\u001b[0m 15ms/step - accuracy: 0.9624 - loss: 0.1166 - val_accuracy: 0.9583 - val_loss: 0.1629\n",
      "Epoch 20/50\n",
      "\u001b[1m67/67\u001b[0m \u001b[32m━━━━━━━━━━━━━━━━━━━━\u001b[0m\u001b[37m\u001b[0m \u001b[1m1s\u001b[0m 16ms/step - accuracy: 0.9648 - loss: 0.1001 - val_accuracy: 0.9541 - val_loss: 0.1552\n",
      "Epoch 21/50\n",
      "\u001b[1m67/67\u001b[0m \u001b[32m━━━━━━━━━━━━━━━━━━━━\u001b[0m\u001b[37m\u001b[0m \u001b[1m1s\u001b[0m 16ms/step - accuracy: 0.9625 - loss: 0.1052 - val_accuracy: 0.9602 - val_loss: 0.1511\n",
      "Epoch 22/50\n",
      "\u001b[1m67/67\u001b[0m \u001b[32m━━━━━━━━━━━━━━━━━━━━\u001b[0m\u001b[37m\u001b[0m \u001b[1m1s\u001b[0m 17ms/step - accuracy: 0.9671 - loss: 0.0988 - val_accuracy: 0.9592 - val_loss: 0.1432\n",
      "Epoch 23/50\n",
      "\u001b[1m67/67\u001b[0m \u001b[32m━━━━━━━━━━━━━━━━━━━━\u001b[0m\u001b[37m\u001b[0m \u001b[1m1s\u001b[0m 15ms/step - accuracy: 0.9675 - loss: 0.0958 - val_accuracy: 0.9536 - val_loss: 0.1733\n",
      "Epoch 24/50\n",
      "\u001b[1m67/67\u001b[0m \u001b[32m━━━━━━━━━━━━━━━━━━━━\u001b[0m\u001b[37m\u001b[0m \u001b[1m1s\u001b[0m 16ms/step - accuracy: 0.9706 - loss: 0.0902 - val_accuracy: 0.9606 - val_loss: 0.1472\n",
      "Epoch 25/50\n",
      "\u001b[1m67/67\u001b[0m \u001b[32m━━━━━━━━━━━━━━━━━━━━\u001b[0m\u001b[37m\u001b[0m \u001b[1m1s\u001b[0m 16ms/step - accuracy: 0.9740 - loss: 0.0829 - val_accuracy: 0.9620 - val_loss: 0.1456\n",
      "Epoch 26/50\n",
      "\u001b[1m67/67\u001b[0m \u001b[32m━━━━━━━━━━━━━━━━━━━━\u001b[0m\u001b[37m\u001b[0m \u001b[1m1s\u001b[0m 15ms/step - accuracy: 0.9745 - loss: 0.0776 - val_accuracy: 0.9667 - val_loss: 0.1256\n",
      "Epoch 27/50\n",
      "\u001b[1m67/67\u001b[0m \u001b[32m━━━━━━━━━━━━━━━━━━━━\u001b[0m\u001b[37m\u001b[0m \u001b[1m1s\u001b[0m 16ms/step - accuracy: 0.9771 - loss: 0.0705 - val_accuracy: 0.9672 - val_loss: 0.1163\n",
      "Epoch 28/50\n",
      "\u001b[1m67/67\u001b[0m \u001b[32m━━━━━━━━━━━━━━━━━━━━\u001b[0m\u001b[37m\u001b[0m \u001b[1m1s\u001b[0m 16ms/step - accuracy: 0.9744 - loss: 0.0735 - val_accuracy: 0.9667 - val_loss: 0.1444\n",
      "Epoch 29/50\n",
      "\u001b[1m67/67\u001b[0m \u001b[32m━━━━━━━━━━━━━━━━━━━━\u001b[0m\u001b[37m\u001b[0m \u001b[1m1s\u001b[0m 15ms/step - accuracy: 0.9782 - loss: 0.0640 - val_accuracy: 0.9583 - val_loss: 0.1667\n",
      "Epoch 30/50\n",
      "\u001b[1m67/67\u001b[0m \u001b[32m━━━━━━━━━━━━━━━━━━━━\u001b[0m\u001b[37m\u001b[0m \u001b[1m1s\u001b[0m 16ms/step - accuracy: 0.9746 - loss: 0.0719 - val_accuracy: 0.9639 - val_loss: 0.1529\n",
      "Epoch 31/50\n",
      "\u001b[1m67/67\u001b[0m \u001b[32m━━━━━━━━━━━━━━━━━━━━\u001b[0m\u001b[37m\u001b[0m \u001b[1m1s\u001b[0m 16ms/step - accuracy: 0.9761 - loss: 0.0703 - val_accuracy: 0.9625 - val_loss: 0.1446\n",
      "Epoch 32/50\n",
      "\u001b[1m67/67\u001b[0m \u001b[32m━━━━━━━━━━━━━━━━━━━━\u001b[0m\u001b[37m\u001b[0m \u001b[1m1s\u001b[0m 16ms/step - accuracy: 0.9762 - loss: 0.0732 - val_accuracy: 0.9672 - val_loss: 0.1277\n",
      "Epoch 33/50\n",
      "\u001b[1m67/67\u001b[0m \u001b[32m━━━━━━━━━━━━━━━━━━━━\u001b[0m\u001b[37m\u001b[0m \u001b[1m1s\u001b[0m 16ms/step - accuracy: 0.9767 - loss: 0.0726 - val_accuracy: 0.9681 - val_loss: 0.1310\n",
      "Epoch 34/50\n",
      "\u001b[1m67/67\u001b[0m \u001b[32m━━━━━━━━━━━━━━━━━━━━\u001b[0m\u001b[37m\u001b[0m \u001b[1m1s\u001b[0m 16ms/step - accuracy: 0.9761 - loss: 0.0687 - val_accuracy: 0.9653 - val_loss: 0.1385\n",
      "Epoch 35/50\n",
      "\u001b[1m67/67\u001b[0m \u001b[32m━━━━━━━━━━━━━━━━━━━━\u001b[0m\u001b[37m\u001b[0m \u001b[1m1s\u001b[0m 16ms/step - accuracy: 0.9813 - loss: 0.0580 - val_accuracy: 0.9648 - val_loss: 0.1434\n",
      "Epoch 36/50\n",
      "\u001b[1m67/67\u001b[0m \u001b[32m━━━━━━━━━━━━━━━━━━━━\u001b[0m\u001b[37m\u001b[0m \u001b[1m1s\u001b[0m 16ms/step - accuracy: 0.9828 - loss: 0.0550 - val_accuracy: 0.9653 - val_loss: 0.1512\n",
      "Epoch 37/50\n",
      "\u001b[1m67/67\u001b[0m \u001b[32m━━━━━━━━━━━━━━━━━━━━\u001b[0m\u001b[37m\u001b[0m \u001b[1m1s\u001b[0m 15ms/step - accuracy: 0.9825 - loss: 0.0482 - val_accuracy: 0.9695 - val_loss: 0.1301\n",
      "Epoch 38/50\n",
      "\u001b[1m67/67\u001b[0m \u001b[32m━━━━━━━━━━━━━━━━━━━━\u001b[0m\u001b[37m\u001b[0m \u001b[1m1s\u001b[0m 15ms/step - accuracy: 0.9839 - loss: 0.0469 - val_accuracy: 0.9709 - val_loss: 0.1321\n",
      "Epoch 39/50\n",
      "\u001b[1m67/67\u001b[0m \u001b[32m━━━━━━━━━━━━━━━━━━━━\u001b[0m\u001b[37m\u001b[0m \u001b[1m1s\u001b[0m 15ms/step - accuracy: 0.9820 - loss: 0.0541 - val_accuracy: 0.9719 - val_loss: 0.1092\n",
      "Epoch 40/50\n",
      "\u001b[1m67/67\u001b[0m \u001b[32m━━━━━━━━━━━━━━━━━━━━\u001b[0m\u001b[37m\u001b[0m \u001b[1m1s\u001b[0m 18ms/step - accuracy: 0.9848 - loss: 0.0503 - val_accuracy: 0.9648 - val_loss: 0.1359\n",
      "Epoch 41/50\n",
      "\u001b[1m67/67\u001b[0m \u001b[32m━━━━━━━━━━━━━━━━━━━━\u001b[0m\u001b[37m\u001b[0m \u001b[1m1s\u001b[0m 15ms/step - accuracy: 0.9787 - loss: 0.0579 - val_accuracy: 0.9662 - val_loss: 0.1405\n",
      "Epoch 42/50\n",
      "\u001b[1m67/67\u001b[0m \u001b[32m━━━━━━━━━━━━━━━━━━━━\u001b[0m\u001b[37m\u001b[0m \u001b[1m1s\u001b[0m 16ms/step - accuracy: 0.9818 - loss: 0.0578 - val_accuracy: 0.9681 - val_loss: 0.1611\n",
      "Epoch 43/50\n",
      "\u001b[1m67/67\u001b[0m \u001b[32m━━━━━━━━━━━━━━━━━━━━\u001b[0m\u001b[37m\u001b[0m \u001b[1m1s\u001b[0m 16ms/step - accuracy: 0.9843 - loss: 0.0460 - val_accuracy: 0.9691 - val_loss: 0.1437\n",
      "Epoch 44/50\n",
      "\u001b[1m67/67\u001b[0m \u001b[32m━━━━━━━━━━━━━━━━━━━━\u001b[0m\u001b[37m\u001b[0m \u001b[1m1s\u001b[0m 16ms/step - accuracy: 0.9841 - loss: 0.0491 - val_accuracy: 0.9695 - val_loss: 0.1297\n",
      "Epoch 45/50\n",
      "\u001b[1m67/67\u001b[0m \u001b[32m━━━━━━━━━━━━━━━━━━━━\u001b[0m\u001b[37m\u001b[0m \u001b[1m1s\u001b[0m 17ms/step - accuracy: 0.9806 - loss: 0.0564 - val_accuracy: 0.9705 - val_loss: 0.1392\n",
      "Epoch 46/50\n",
      "\u001b[1m67/67\u001b[0m \u001b[32m━━━━━━━━━━━━━━━━━━━━\u001b[0m\u001b[37m\u001b[0m \u001b[1m1s\u001b[0m 14ms/step - accuracy: 0.9869 - loss: 0.0419 - val_accuracy: 0.9700 - val_loss: 0.1313\n",
      "Epoch 47/50\n",
      "\u001b[1m67/67\u001b[0m \u001b[32m━━━━━━━━━━━━━━━━━━━━\u001b[0m\u001b[37m\u001b[0m \u001b[1m1s\u001b[0m 15ms/step - accuracy: 0.9881 - loss: 0.0315 - val_accuracy: 0.9728 - val_loss: 0.1257\n",
      "Epoch 48/50\n",
      "\u001b[1m67/67\u001b[0m \u001b[32m━━━━━━━━━━━━━━━━━━━━\u001b[0m\u001b[37m\u001b[0m \u001b[1m1s\u001b[0m 17ms/step - accuracy: 0.9896 - loss: 0.0302 - val_accuracy: 0.9728 - val_loss: 0.1263\n",
      "Epoch 49/50\n",
      "\u001b[1m67/67\u001b[0m \u001b[32m━━━━━━━━━━━━━━━━━━━━\u001b[0m\u001b[37m\u001b[0m \u001b[1m1s\u001b[0m 17ms/step - accuracy: 0.9859 - loss: 0.0440 - val_accuracy: 0.9705 - val_loss: 0.1386\n",
      "Epoch 50/50\n",
      "\u001b[1m67/67\u001b[0m \u001b[32m━━━━━━━━━━━━━━━━━━━━\u001b[0m\u001b[37m\u001b[0m \u001b[1m1s\u001b[0m 15ms/step - accuracy: 0.9839 - loss: 0.0513 - val_accuracy: 0.9766 - val_loss: 0.1063\n"
     ]
    },
    {
     "data": {
      "text/html": [],
      "text/plain": [
       "<IPython.core.display.HTML object>"
      ]
     },
     "metadata": {},
     "output_type": "display_data"
    },
    {
     "data": {
      "text/html": [
       "<br>    <style><br>        .wandb-row {<br>            display: flex;<br>            flex-direction: row;<br>            flex-wrap: wrap;<br>            justify-content: flex-start;<br>            width: 100%;<br>        }<br>        .wandb-col {<br>            display: flex;<br>            flex-direction: column;<br>            flex-basis: 100%;<br>            flex: 1;<br>            padding: 10px;<br>        }<br>    </style><br><div class=\"wandb-row\"><div class=\"wandb-col\"><h3>Run history:</h3><br/><table class=\"wandb\"><tr><td>train_accuracy</td><td>▁</td></tr><tr><td>train_loss</td><td>▁</td></tr><tr><td>val_accuracy</td><td>▁</td></tr><tr><td>val_loss</td><td>▁</td></tr></table><br/></div><div class=\"wandb-col\"><h3>Run summary:</h3><br/><table class=\"wandb\"><tr><td>train_accuracy</td><td>0.98464</td></tr><tr><td>train_loss</td><td>0.04612</td></tr><tr><td>val_accuracy</td><td>0.97656</td></tr><tr><td>val_loss</td><td>0.10633</td></tr></table><br/></div></div>"
      ],
      "text/plain": [
       "<IPython.core.display.HTML object>"
      ]
     },
     "metadata": {},
     "output_type": "display_data"
    },
    {
     "data": {
      "text/html": [
       " View run <strong style=\"color:#cdcd00\">smart-sweep-9</strong> at: <a href='https://wandb.ai/renan-florencio-unicamp/DriverBehavior/runs/xgjz54bz' target=\"_blank\">https://wandb.ai/renan-florencio-unicamp/DriverBehavior/runs/xgjz54bz</a><br> View project at: <a href='https://wandb.ai/renan-florencio-unicamp/DriverBehavior' target=\"_blank\">https://wandb.ai/renan-florencio-unicamp/DriverBehavior</a><br>Synced 5 W&B file(s), 0 media file(s), 0 artifact file(s) and 0 other file(s)"
      ],
      "text/plain": [
       "<IPython.core.display.HTML object>"
      ]
     },
     "metadata": {},
     "output_type": "display_data"
    },
    {
     "data": {
      "text/html": [
       "Find logs at: <code>./wandb/run-20250127_171305-xgjz54bz/logs</code>"
      ],
      "text/plain": [
       "<IPython.core.display.HTML object>"
      ]
     },
     "metadata": {},
     "output_type": "display_data"
    },
    {
     "name": "stderr",
     "output_type": "stream",
     "text": [
      "\u001b[34m\u001b[1mwandb\u001b[0m: Sweep Agent: Waiting for job.\n",
      "\u001b[34m\u001b[1mwandb\u001b[0m: Sweep Agent: Exiting.\n"
     ]
    }
   ],
   "source": [
    "wandb.agent(sweep_id, train_mlp_wandb, count=10)"
   ]
  },
  {
   "attachments": {
    "image.png": {
     "image/png": "[encoded data removed]"
    }
   },
   "cell_type": "markdown",
   "metadata": {},
   "source": [
    "![image.png](attachment:image.png)"
   ]
  },
  {
   "cell_type": "markdown",
   "metadata": {},
   "source": [
    "Seems like a batch size of 128 with 50 epochs is optimal for this problem"
   ]
  },
  {
   "cell_type": "code",
   "execution_count": 48,
   "metadata": {},
   "outputs": [],
   "source": [
    "params = {\n",
    "    'optimizer': 'adam',\n",
    "    'loss': 'sparse_categorical_crossentropy',\n",
    "    'metrics': ['accuracy']\n",
    "}"
   ]
  },
  {
   "cell_type": "code",
   "execution_count": 49,
   "metadata": {},
   "outputs": [
    {
     "name": "stdout",
     "output_type": "stream",
     "text": [
      "Fold 1\n"
     ]
    },
    {
     "name": "stderr",
     "output_type": "stream",
     "text": [
      "W0000 00:00:1740668849.586216    9803 gpu_device.cc:2344] Cannot dlopen some GPU libraries. Please make sure the missing libraries mentioned above are installed properly if you would like to use GPU. Follow the guide at https://www.tensorflow.org/install/gpu for how to download and setup the required libraries for your platform.\n",
      "Skipping registering GPU devices...\n"
     ]
    },
    {
     "name": "stdout",
     "output_type": "stream",
     "text": [
      "\u001b[1m34/34\u001b[0m \u001b[32m━━━━━━━━━━━━━━━━━━━━\u001b[0m\u001b[37m\u001b[0m \u001b[1m0s\u001b[0m 2ms/step\n",
      "\tValidation accuracy: 0.9400187441424555\n",
      "\tValidation precision: 0.9409855143544957\n",
      "\tValidation recall: 0.9400187441424555\n",
      "Fold 2\n",
      "\u001b[1m34/34\u001b[0m \u001b[32m━━━━━━━━━━━━━━━━━━━━\u001b[0m\u001b[37m\u001b[0m \u001b[1m0s\u001b[0m 2ms/step\n",
      "\tValidation accuracy: 0.9447047797563262\n",
      "\tValidation precision: 0.9467001307331676\n",
      "\tValidation recall: 0.9447047797563262\n",
      "Fold 3\n",
      "\u001b[1m34/34\u001b[0m \u001b[32m━━━━━━━━━━━━━━━━━━━━\u001b[0m\u001b[37m\u001b[0m \u001b[1m0s\u001b[0m 2ms/step\n",
      "\tValidation accuracy: 0.9390815370196813\n",
      "\tValidation precision: 0.9391747122599483\n",
      "\tValidation recall: 0.9390815370196813\n",
      "Fold 4\n",
      "\u001b[1m34/34\u001b[0m \u001b[32m━━━━━━━━━━━━━━━━━━━━\u001b[0m\u001b[37m\u001b[0m \u001b[1m0s\u001b[0m 3ms/step\n",
      "\tValidation accuracy: 0.925891181988743\n",
      "\tValidation precision: 0.9278544522872044\n",
      "\tValidation recall: 0.925891181988743\n",
      "Fold 5\n",
      "\u001b[1m34/34\u001b[0m \u001b[32m━━━━━━━━━━━━━━━━━━━━\u001b[0m\u001b[37m\u001b[0m \u001b[1m0s\u001b[0m 2ms/step \n",
      "\tValidation accuracy: 0.9390243902439024\n",
      "\tValidation precision: 0.9418355924699475\n",
      "\tValidation recall: 0.9390243902439024\n",
      "Fold 6\n",
      "\u001b[1m34/34\u001b[0m \u001b[32m━━━━━━━━━━━━━━━━━━━━\u001b[0m\u001b[37m\u001b[0m \u001b[1m0s\u001b[0m 2ms/step\n",
      "\tValidation accuracy: 0.9333958724202627\n",
      "\tValidation precision: 0.9339791247993358\n",
      "\tValidation recall: 0.9333958724202627\n",
      "Fold 7\n",
      "\u001b[1m34/34\u001b[0m \u001b[32m━━━━━━━━━━━━━━━━━━━━\u001b[0m\u001b[37m\u001b[0m \u001b[1m0s\u001b[0m 2ms/step \n",
      "\tValidation accuracy: 0.9371482176360225\n",
      "\tValidation precision: 0.9375176699384112\n",
      "\tValidation recall: 0.9371482176360225\n",
      "Fold 8\n",
      "\u001b[1m34/34\u001b[0m \u001b[32m━━━━━━━━━━━━━━━━━━━━\u001b[0m\u001b[37m\u001b[0m \u001b[1m0s\u001b[0m 2ms/step\n",
      "\tValidation accuracy: 0.9230769230769231\n",
      "\tValidation precision: 0.9238374470534817\n",
      "\tValidation recall: 0.9230769230769231\n",
      "Fold 9\n",
      "\u001b[1m34/34\u001b[0m \u001b[32m━━━━━━━━━━━━━━━━━━━━\u001b[0m\u001b[37m\u001b[0m \u001b[1m0s\u001b[0m 3ms/step\n",
      "\tValidation accuracy: 0.9409005628517824\n",
      "\tValidation precision: 0.9429693023822493\n",
      "\tValidation recall: 0.9409005628517824\n",
      "Fold 10\n",
      "\u001b[1m34/34\u001b[0m \u001b[32m━━━━━━━━━━━━━━━━━━━━\u001b[0m\u001b[37m\u001b[0m \u001b[1m0s\u001b[0m 2ms/step\n",
      "\tValidation accuracy: 0.950281425891182\n",
      "\tValidation precision: 0.9511498486671569\n",
      "\tValidation recall: 0.950281425891182\n"
     ]
    }
   ],
   "source": [
    "report_mlp_tensor, y_pred_mlp_tensor, y_val_mlp_tensor = kfold_cross_validation_TF(create_model, X, y, params, epochs=50, batch_size=128, n_splits=10)"
   ]
  },
  {
   "cell_type": "code",
   "execution_count": 50,
   "metadata": {},
   "outputs": [
    {
     "name": "stdout",
     "output_type": "stream",
     "text": [
      "{'accuracy': {'max': np.float64(0.950281425891182),\n",
      "              'mean': np.float64(0.9373523635027281),\n",
      "              'min': np.float64(0.9230769230769231)},\n",
      " 'precision': {'max': np.float64(0.9511498486671569),\n",
      "               'mean': np.float64(0.9386003794945399),\n",
      "               'min': np.float64(0.9238374470534817)},\n",
      " 'recall': {'max': np.float64(0.950281425891182),\n",
      "            'mean': np.float64(0.9373523635027281),\n",
      "            'min': np.float64(0.9230769230769231)}}\n"
     ]
    }
   ],
   "source": [
    "reports['MLP-Tensor'] = report_mlp_tensor\n",
    "pprint(report_mlp_tensor)"
   ]
  },
  {
   "cell_type": "markdown",
   "metadata": {},
   "source": [
    "# LSTM TensorFlow"
   ]
  },
  {
   "cell_type": "code",
   "execution_count": 174,
   "metadata": {},
   "outputs": [],
   "source": [
    "def create_model_lstm(optimizer='adam', loss='sparse_categorical_crossentropy', metrics=['accuracy']):\n",
    "\n",
    "    model =  Sequential([\n",
    "\n",
    "        # LSTMs require a 3D input in the form of (time steps (window_size), features per sample). The batch size is not required and is automatically set by Keras.\n",
    "        Input(shape=(7, 9)),\n",
    "\n",
    "        LSTM(100, activation='relu', return_sequences=True), # Keeping the return_sequences=True to stack multiple LSTMs\n",
    "        BatchNormalization(),\n",
    "\n",
    "        LSTM(50, activation='relu'),\n",
    "        BatchNormalization(),\n",
    "\n",
    "        Dense(200, activation='relu'),\n",
    "        BatchNormalization(),\n",
    "        Dropout(0.2),\n",
    "\n",
    "        Dense(100, activation='relu'),\n",
    "        BatchNormalization(),\n",
    "        Dropout(0.2),\n",
    "\n",
    "        Dense(len(np.unique(y_train)), activation='softmax')\n",
    "    ])\n",
    "\n",
    "    model.compile(optimizer=optimizer, loss=loss, metrics=metrics)\n",
    "    return model"
   ]
  },
  {
   "cell_type": "markdown",
   "metadata": {},
   "source": [
    "Since the LSTM needs the matrix of features for every timestep, it is necessary to recreate the sliding window ignoring the extra features and avoing the flattening of the window"
   ]
  },
  {
   "cell_type": "code",
   "execution_count": 172,
   "metadata": {},
   "outputs": [
    {
     "data": {
      "text/plain": [
       "((10663, 7, 9), (10663,))"
      ]
     },
     "execution_count": 172,
     "metadata": {},
     "output_type": "execute_result"
    }
   ],
   "source": [
    "window_size = 7\n",
    "step_size = 1\n",
    "X_lstm, y_lstm = create_sliding_windows(data, window_size, step_size, output_3d=True) # This will create the sliding windows with a 3D X and 1D y_lstm\n",
    "X_lstm.shape, y_lstm.shape"
   ]
  },
  {
   "cell_type": "code",
   "execution_count": 175,
   "metadata": {},
   "outputs": [
    {
     "name": "stdout",
     "output_type": "stream",
     "text": [
      "Fold 1\n",
      "\u001b[1m34/34\u001b[0m \u001b[32m━━━━━━━━━━━━━━━━━━━━\u001b[0m\u001b[37m\u001b[0m \u001b[1m1s\u001b[0m 12ms/step\n",
      "\tValidation accuracy: 0.9821930646672915\n",
      "\tValidation precision: 0.9825058843882618\n",
      "\tValidation recall: 0.9821930646672915\n",
      "Fold 2\n",
      "\u001b[1m34/34\u001b[0m \u001b[32m━━━━━━━━━━━━━━━━━━━━\u001b[0m\u001b[37m\u001b[0m \u001b[1m1s\u001b[0m 10ms/step\n",
      "\tValidation accuracy: 0.9681349578256795\n",
      "\tValidation precision: 0.96888527317891\n",
      "\tValidation recall: 0.9681349578256795\n",
      "Fold 3\n",
      "\u001b[1m34/34\u001b[0m \u001b[32m━━━━━━━━━━━━━━━━━━━━\u001b[0m\u001b[37m\u001b[0m \u001b[1m0s\u001b[0m 9ms/step\n",
      "\tValidation accuracy: 0.9765698219306467\n",
      "\tValidation precision: 0.9768870615364562\n",
      "\tValidation recall: 0.9765698219306467\n",
      "Fold 4\n",
      "\u001b[1m34/34\u001b[0m \u001b[32m━━━━━━━━━━━━━━━━━━━━\u001b[0m\u001b[37m\u001b[0m \u001b[1m1s\u001b[0m 12ms/step\n",
      "\tValidation accuracy: 0.9859287054409006\n",
      "\tValidation precision: 0.9861808453044347\n",
      "\tValidation recall: 0.9859287054409006\n",
      "Fold 5\n",
      "\u001b[1m34/34\u001b[0m \u001b[32m━━━━━━━━━━━━━━━━━━━━\u001b[0m\u001b[37m\u001b[0m \u001b[1m1s\u001b[0m 12ms/step\n",
      "\tValidation accuracy: 0.9455909943714822\n",
      "\tValidation precision: 0.9510425600911804\n",
      "\tValidation recall: 0.9455909943714822\n",
      "Fold 6\n",
      "\u001b[1m34/34\u001b[0m \u001b[32m━━━━━━━━━━━━━━━━━━━━\u001b[0m\u001b[37m\u001b[0m \u001b[1m1s\u001b[0m 11ms/step\n",
      "\tValidation accuracy: 0.9455909943714822\n",
      "\tValidation precision: 0.9505562403423984\n",
      "\tValidation recall: 0.9455909943714822\n",
      "Fold 7\n",
      "\u001b[1m34/34\u001b[0m \u001b[32m━━━━━━━━━━━━━━━━━━━━\u001b[0m\u001b[37m\u001b[0m \u001b[1m1s\u001b[0m 11ms/step\n",
      "\tValidation accuracy: 0.9840525328330206\n",
      "\tValidation precision: 0.98448044658255\n",
      "\tValidation recall: 0.9840525328330206\n",
      "Fold 8\n",
      "\u001b[1m34/34\u001b[0m \u001b[32m━━━━━━━━━━━━━━━━━━━━\u001b[0m\u001b[37m\u001b[0m \u001b[1m1s\u001b[0m 11ms/step\n",
      "\tValidation accuracy: 0.950281425891182\n",
      "\tValidation precision: 0.954695300060609\n",
      "\tValidation recall: 0.950281425891182\n",
      "Fold 9\n",
      "\u001b[1m34/34\u001b[0m \u001b[32m━━━━━━━━━━━━━━━━━━━━\u001b[0m\u001b[37m\u001b[0m \u001b[1m1s\u001b[0m 14ms/step\n",
      "\tValidation accuracy: 0.9418386491557224\n",
      "\tValidation precision: 0.945926030092369\n",
      "\tValidation recall: 0.9418386491557224\n",
      "Fold 10\n",
      "\u001b[1m34/34\u001b[0m \u001b[32m━━━━━━━━━━━━━━━━━━━━\u001b[0m\u001b[37m\u001b[0m \u001b[1m1s\u001b[0m 12ms/step\n",
      "\tValidation accuracy: 0.9737335834896811\n",
      "\tValidation precision: 0.9749084746224299\n",
      "\tValidation recall: 0.9737335834896811\n"
     ]
    }
   ],
   "source": [
    "report_lstm, y_pred_lstm, y_val_lstm = kfold_cross_validation_TF(create_model_lstm, X_lstm, y_lstm, params, epochs=50, batch_size=128, n_splits=10)"
   ]
  },
  {
   "cell_type": "code",
   "execution_count": 203,
   "metadata": {},
   "outputs": [
    {
     "name": "stdout",
     "output_type": "stream",
     "text": [
      "{'accuracy': {'max': np.float64(0.9859287054409006),\n",
      "              'mean': np.float64(0.9653914729977089),\n",
      "              'min': np.float64(0.9418386491557224)},\n",
      " 'precision': {'max': np.float64(0.9861808453044347),\n",
      "               'mean': np.float64(0.96760681161996),\n",
      "               'min': np.float64(0.945926030092369)},\n",
      " 'recall': {'max': np.float64(0.9859287054409006),\n",
      "            'mean': np.float64(0.9653914729977089),\n",
      "            'min': np.float64(0.9418386491557224)}}\n"
     ]
    }
   ],
   "source": [
    "reports['LSTM'] = report_lstm\n",
    "pprint(report_lstm)"
   ]
  },
  {
   "cell_type": "markdown",
   "metadata": {},
   "source": [
    "# Comparing Results"
   ]
  },
  {
   "cell_type": "code",
   "execution_count": 51,
   "metadata": {},
   "outputs": [],
   "source": [
    "def compare_models(models_metrics):\n",
    "    # Convert to DataFrame\n",
    "    data = []\n",
    "    for model, metrics in models_metrics.items():\n",
    "        for metric, values in metrics.items():\n",
    "            for stat, value in values.items():\n",
    "                data.append([model, metric, stat, value])\n",
    "\n",
    "    df = pd.DataFrame(data, columns=[\"Model\", \"Metric\", \"Stat\", \"Value\"])\n",
    "\n",
    "    # Pivot to create matrix format\n",
    "    matrix_df = df.pivot(index=[\"Metric\", \"Stat\"], columns=\"Model\", values=\"Value\")\n",
    "\n",
    "    # Function to highlight the maximum value in each row\n",
    "    def highlight_max(s):\n",
    "        is_max = s == s.max()\n",
    "        return ['font-weight: bold' if v else '' for v in is_max]\n",
    "\n",
    "    # Apply the highlight function\n",
    "    styled_matrix_df = matrix_df.style.apply(highlight_max, axis=1)\n",
    "\n",
    "    # Display as a heatmap\n",
    "    plt.figure(figsize=(8, 6))\n",
    "    sns.heatmap(matrix_df, annot=True, cmap=\"coolwarm\", fmt=\".4f\", linewidths=0.5)\n",
    "    plt.title(\"Model Performance Metrics Heatmap\")\n",
    "    plt.show()\n",
    "\n",
    "    # Print table format with highlighted max values\n",
    "    display(styled_matrix_df)"
   ]
  },
  {
   "cell_type": "code",
   "execution_count": 68,
   "metadata": {},
   "outputs": [
    {
     "data": {
      "image/png": "[encoded data removed]",
      "text/plain": [
       "<Figure size 800x600 with 2 Axes>"
      ]
     },
     "metadata": {},
     "output_type": "display_data"
    },
    {
     "data": {
      "text/html": [
       "<style type=\"text/css\">\n",
       "#T_1aaff_row0_col3, #T_1aaff_row1_col3, #T_1aaff_row2_col3, #T_1aaff_row3_col3, #T_1aaff_row4_col3, #T_1aaff_row5_col3, #T_1aaff_row6_col3, #T_1aaff_row7_col3, #T_1aaff_row8_col3 {\n",
       "  font-weight: bold;\n",
       "}\n",
       "</style>\n",
       "<table id=\"T_1aaff\">\n",
       "  <thead>\n",
       "    <tr>\n",
       "      <th class=\"blank\" >&nbsp;</th>\n",
       "      <th class=\"index_name level0\" >Model</th>\n",
       "      <th id=\"T_1aaff_level0_col0\" class=\"col_heading level0 col0\" >MLP</th>\n",
       "      <th id=\"T_1aaff_level0_col1\" class=\"col_heading level0 col1\" >RandomForest</th>\n",
       "      <th id=\"T_1aaff_level0_col2\" class=\"col_heading level0 col2\" >SVM</th>\n",
       "      <th id=\"T_1aaff_level0_col3\" class=\"col_heading level0 col3\" >XGB</th>\n",
       "      <th id=\"T_1aaff_level0_col4\" class=\"col_heading level0 col4\" >kNN</th>\n",
       "    </tr>\n",
       "    <tr>\n",
       "      <th class=\"index_name level0\" >Metric</th>\n",
       "      <th class=\"index_name level1\" >Stat</th>\n",
       "      <th class=\"blank col0\" >&nbsp;</th>\n",
       "      <th class=\"blank col1\" >&nbsp;</th>\n",
       "      <th class=\"blank col2\" >&nbsp;</th>\n",
       "      <th class=\"blank col3\" >&nbsp;</th>\n",
       "      <th class=\"blank col4\" >&nbsp;</th>\n",
       "    </tr>\n",
       "  </thead>\n",
       "  <tbody>\n",
       "    <tr>\n",
       "      <th id=\"T_1aaff_level0_row0\" class=\"row_heading level0 row0\" rowspan=\"3\">accuracy</th>\n",
       "      <th id=\"T_1aaff_level1_row0\" class=\"row_heading level1 row0\" >max</th>\n",
       "      <td id=\"T_1aaff_row0_col0\" class=\"data row0 col0\" >0.968135</td>\n",
       "      <td id=\"T_1aaff_row0_col1\" class=\"data row0 col1\" >0.967167</td>\n",
       "      <td id=\"T_1aaff_row0_col2\" class=\"data row0 col2\" >0.966261</td>\n",
       "      <td id=\"T_1aaff_row0_col3\" class=\"data row0 col3\" >0.990628</td>\n",
       "      <td id=\"T_1aaff_row0_col4\" class=\"data row0 col4\" >0.980319</td>\n",
       "    </tr>\n",
       "    <tr>\n",
       "      <th id=\"T_1aaff_level1_row1\" class=\"row_heading level1 row1\" >mean</th>\n",
       "      <td id=\"T_1aaff_row1_col0\" class=\"data row1 col0\" >0.956109</td>\n",
       "      <td id=\"T_1aaff_row1_col1\" class=\"data row1 col1\" >0.959673</td>\n",
       "      <td id=\"T_1aaff_row1_col2\" class=\"data row1 col2\" >0.952733</td>\n",
       "      <td id=\"T_1aaff_row1_col3\" class=\"data row1 col3\" >0.986307</td>\n",
       "      <td id=\"T_1aaff_row1_col4\" class=\"data row1 col4\" >0.968207</td>\n",
       "    </tr>\n",
       "    <tr>\n",
       "      <th id=\"T_1aaff_level1_row2\" class=\"row_heading level1 row2\" >min</th>\n",
       "      <td id=\"T_1aaff_row2_col0\" class=\"data row2 col0\" >0.940901</td>\n",
       "      <td id=\"T_1aaff_row2_col1\" class=\"data row2 col1\" >0.949343</td>\n",
       "      <td id=\"T_1aaff_row2_col2\" class=\"data row2 col2\" >0.941893</td>\n",
       "      <td id=\"T_1aaff_row2_col3\" class=\"data row2 col3\" >0.983114</td>\n",
       "      <td id=\"T_1aaff_row2_col4\" class=\"data row2 col4\" >0.956848</td>\n",
       "    </tr>\n",
       "    <tr>\n",
       "      <th id=\"T_1aaff_level0_row3\" class=\"row_heading level0 row3\" rowspan=\"3\">precision</th>\n",
       "      <th id=\"T_1aaff_level1_row3\" class=\"row_heading level1 row3\" >max</th>\n",
       "      <td id=\"T_1aaff_row3_col0\" class=\"data row3 col0\" >0.968228</td>\n",
       "      <td id=\"T_1aaff_row3_col1\" class=\"data row3 col1\" >0.967598</td>\n",
       "      <td id=\"T_1aaff_row3_col2\" class=\"data row3 col2\" >0.966486</td>\n",
       "      <td id=\"T_1aaff_row3_col3\" class=\"data row3 col3\" >0.990766</td>\n",
       "      <td id=\"T_1aaff_row3_col4\" class=\"data row3 col4\" >0.980151</td>\n",
       "    </tr>\n",
       "    <tr>\n",
       "      <th id=\"T_1aaff_level1_row4\" class=\"row_heading level1 row4\" >mean</th>\n",
       "      <td id=\"T_1aaff_row4_col0\" class=\"data row4 col0\" >0.956650</td>\n",
       "      <td id=\"T_1aaff_row4_col1\" class=\"data row4 col1\" >0.960637</td>\n",
       "      <td id=\"T_1aaff_row4_col2\" class=\"data row4 col2\" >0.953086</td>\n",
       "      <td id=\"T_1aaff_row4_col3\" class=\"data row4 col3\" >0.986487</td>\n",
       "      <td id=\"T_1aaff_row4_col4\" class=\"data row4 col4\" >0.968756</td>\n",
       "    </tr>\n",
       "    <tr>\n",
       "      <th id=\"T_1aaff_level1_row5\" class=\"row_heading level1 row5\" >min</th>\n",
       "      <td id=\"T_1aaff_row5_col0\" class=\"data row5 col0\" >0.942365</td>\n",
       "      <td id=\"T_1aaff_row5_col1\" class=\"data row5 col1\" >0.949703</td>\n",
       "      <td id=\"T_1aaff_row5_col2\" class=\"data row5 col2\" >0.941573</td>\n",
       "      <td id=\"T_1aaff_row5_col3\" class=\"data row5 col3\" >0.983554</td>\n",
       "      <td id=\"T_1aaff_row5_col4\" class=\"data row5 col4\" >0.957555</td>\n",
       "    </tr>\n",
       "    <tr>\n",
       "      <th id=\"T_1aaff_level0_row6\" class=\"row_heading level0 row6\" rowspan=\"3\">recall</th>\n",
       "      <th id=\"T_1aaff_level1_row6\" class=\"row_heading level1 row6\" >max</th>\n",
       "      <td id=\"T_1aaff_row6_col0\" class=\"data row6 col0\" >0.968135</td>\n",
       "      <td id=\"T_1aaff_row6_col1\" class=\"data row6 col1\" >0.967167</td>\n",
       "      <td id=\"T_1aaff_row6_col2\" class=\"data row6 col2\" >0.966261</td>\n",
       "      <td id=\"T_1aaff_row6_col3\" class=\"data row6 col3\" >0.990628</td>\n",
       "      <td id=\"T_1aaff_row6_col4\" class=\"data row6 col4\" >0.980319</td>\n",
       "    </tr>\n",
       "    <tr>\n",
       "      <th id=\"T_1aaff_level1_row7\" class=\"row_heading level1 row7\" >mean</th>\n",
       "      <td id=\"T_1aaff_row7_col0\" class=\"data row7 col0\" >0.956109</td>\n",
       "      <td id=\"T_1aaff_row7_col1\" class=\"data row7 col1\" >0.959673</td>\n",
       "      <td id=\"T_1aaff_row7_col2\" class=\"data row7 col2\" >0.952733</td>\n",
       "      <td id=\"T_1aaff_row7_col3\" class=\"data row7 col3\" >0.986307</td>\n",
       "      <td id=\"T_1aaff_row7_col4\" class=\"data row7 col4\" >0.968207</td>\n",
       "    </tr>\n",
       "    <tr>\n",
       "      <th id=\"T_1aaff_level1_row8\" class=\"row_heading level1 row8\" >min</th>\n",
       "      <td id=\"T_1aaff_row8_col0\" class=\"data row8 col0\" >0.940901</td>\n",
       "      <td id=\"T_1aaff_row8_col1\" class=\"data row8 col1\" >0.949343</td>\n",
       "      <td id=\"T_1aaff_row8_col2\" class=\"data row8 col2\" >0.941893</td>\n",
       "      <td id=\"T_1aaff_row8_col3\" class=\"data row8 col3\" >0.983114</td>\n",
       "      <td id=\"T_1aaff_row8_col4\" class=\"data row8 col4\" >0.956848</td>\n",
       "    </tr>\n",
       "  </tbody>\n",
       "</table>\n"
      ],
      "text/plain": [
       "<pandas.io.formats.style.Styler at 0x75f79a5602e0>"
      ]
     },
     "metadata": {},
     "output_type": "display_data"
    }
   ],
   "source": [
    "compare_models(reports)"
   ]
  },
  {
   "cell_type": "code",
   "execution_count": null,
   "metadata": {},
   "outputs": [],
   "source": []
  }
 ],
 "metadata": {
  "kernelspec": {
   "display_name": "Python 3",
   "language": "python",
   "name": "python3"
  },
  "language_info": {
   "codemirror_mode": {
    "name": "ipython",
    "version": 3
   },
   "file_extension": ".py",
   "mimetype": "text/x-python",
   "name": "python",
   "nbconvert_exporter": "python",
   "pygments_lexer": "ipython3",
   "version": "3.10.12"
  }
 },
 "nbformat": 4,
 "nbformat_minor": 2
}
